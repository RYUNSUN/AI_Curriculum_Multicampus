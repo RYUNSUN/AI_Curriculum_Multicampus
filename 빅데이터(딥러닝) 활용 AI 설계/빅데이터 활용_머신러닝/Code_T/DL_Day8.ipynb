{
 "cells": [
  {
   "cell_type": "code",
   "execution_count": 2,
   "metadata": {},
   "outputs": [],
   "source": [
    "from keras.models import Sequential"
   ]
  },
  {
   "cell_type": "code",
   "execution_count": 4,
   "metadata": {},
   "outputs": [],
   "source": [
    "model=Sequential()\n",
    "model.add(Embedding(voc, hidden_size, input_length))"
   ]
  },
  {
   "cell_type": "code",
   "execution_count": null,
   "metadata": {},
   "outputs": [],
   "source": [
    "#model.add(Dense(2,inputt_dim=4, init='uniform', activation='linear'))\n",
    "model=Sequential()\n",
    "model.add(Dense(4, input_dim=10, init='normal', acitviation='relu'))\n",
    "model.add(Dense(1, activation='sigmoid'))\n",
    "model.summary():요약정보\n",
    "model.compile():함수설정\n",
    "model.fit():학습\n",
    "model.evalute():모델 평가\n",
    "model.predict():예측\n",
    "model.save(), load_model(): 모델 저장&불러오기"
   ]
  },
  {
   "cell_type": "code",
   "execution_count": 15,
   "metadata": {},
   "outputs": [
    {
     "data": {
      "text/plain": [
       "<tensorflow.python.framework.ops.Graph at 0x210d7480630>"
      ]
     },
     "execution_count": 15,
     "metadata": {},
     "output_type": "execute_result"
    }
   ],
   "source": [
    "import tensorflow as tf\n",
    "tf.__version__\n",
    "tf.get_default_graph() #기본 그래프 정보"
   ]
  },
  {
   "cell_type": "code",
   "execution_count": 16,
   "metadata": {},
   "outputs": [],
   "source": [
    "testGraph=tf.Graph() #사용자 그래프 생성\n",
    "with testGraph.as_default(): #사용자 그래프에 노드 정의\n",
    "    x=tf.constant(10)\n",
    "    y=x+20"
   ]
  },
  {
   "cell_type": "code",
   "execution_count": 7,
   "metadata": {},
   "outputs": [
    {
     "name": "stdout",
     "output_type": "stream",
     "text": [
      "5\n",
      "15\n"
     ]
    }
   ],
   "source": [
    "# Session():세션객체생성, 분산처리환경 노드를 연결\n",
    "# run():연산 수행 -> 결과를 리턴\n",
    "# close():세션 종료\n",
    "x=tf.constant(5)\n",
    "y=x+10\n",
    "sess=tf.Session()\n",
    "print(sess.run(x))\n",
    "print(sess.run(y))\n",
    "sess.close()"
   ]
  },
  {
   "cell_type": "code",
   "execution_count": 10,
   "metadata": {},
   "outputs": [
    {
     "name": "stdout",
     "output_type": "stream",
     "text": [
      "5\n"
     ]
    }
   ],
   "source": [
    "with tf.Session() as sess: #특별히 그래프를 지정하지 않았으므로, 기본그래프를 사용해서 세션을 실행\n",
    "    print(sess.run(x))"
   ]
  },
  {
   "cell_type": "code",
   "execution_count": 17,
   "metadata": {},
   "outputs": [
    {
     "name": "stdout",
     "output_type": "stream",
     "text": [
      "10\n"
     ]
    }
   ],
   "source": [
    "with tf.Session(graph=testGraph) as sess: #특별히 그래프를 지정하지 않았으므로, 기본그래프를 사용해서 세션을 실행\n",
    "    print(sess.run(x))"
   ]
  },
  {
   "cell_type": "code",
   "execution_count": 38,
   "metadata": {},
   "outputs": [],
   "source": [
    "# sess=tf.InteractiveSession()\n",
    "# x.eval()\n",
    "# y.eval()"
   ]
  },
  {
   "cell_type": "code",
   "execution_count": 18,
   "metadata": {},
   "outputs": [
    {
     "data": {
      "text/plain": [
       "'var1'"
      ]
     },
     "execution_count": 18,
     "metadata": {},
     "output_type": "execute_result"
    }
   ],
   "source": [
    "var1=tf.Variable(5, name=\"var1\")\n",
    "var2=tf.add(var1, 5, name=\"var2\")\n",
    "var1.op.name"
   ]
  },
  {
   "cell_type": "code",
   "execution_count": 19,
   "metadata": {},
   "outputs": [
    {
     "name": "stdout",
     "output_type": "stream",
     "text": [
      "ns1/var3\n"
     ]
    }
   ],
   "source": [
    "#이름공간(name space,폴더와 비슷)을 이용한 노드 이름 중복 방지\n",
    "#tf.name_scope():이름 공간 생성\n",
    "with tf.name_scope(\"ns1\"):\n",
    "    v3=tf.Variable(1, name=\"var3\")\n",
    "    v4=tf.add(v3, 2,name=\"var4\")\n",
    "print(v3.op.name)"
   ]
  },
  {
   "cell_type": "code",
   "execution_count": 21,
   "metadata": {},
   "outputs": [
    {
     "name": "stdout",
     "output_type": "stream",
     "text": [
      "step: 0 cost: 1.5971899 prediction: [[3 3 3 3 3 3]] true Y: [[1, 0, 2, 3, 3, 4]]\n",
      "predction str: llllll\n",
      "step: 1 cost: 1.5581645 prediction: [[3 3 3 3 3 3]] true Y: [[1, 0, 2, 3, 3, 4]]\n",
      "predction str: llllll\n",
      "step: 2 cost: 1.4978838 prediction: [[3 3 3 3 3 3]] true Y: [[1, 0, 2, 3, 3, 4]]\n",
      "predction str: llllll\n",
      "step: 3 cost: 1.4852247 prediction: [[3 3 3 3 3 3]] true Y: [[1, 0, 2, 3, 3, 4]]\n",
      "predction str: llllll\n",
      "step: 4 cost: 1.456955 prediction: [[3 3 3 3 3 3]] true Y: [[1, 0, 2, 3, 3, 4]]\n",
      "predction str: llllll\n",
      "step: 5 cost: 1.4037853 prediction: [[3 3 3 3 3 3]] true Y: [[1, 0, 2, 3, 3, 4]]\n",
      "predction str: llllll\n",
      "step: 6 cost: 1.3510952 prediction: [[2 3 2 3 3 3]] true Y: [[1, 0, 2, 3, 3, 4]]\n",
      "predction str: elelll\n",
      "step: 7 cost: 1.3070742 prediction: [[2 2 2 3 3 3]] true Y: [[1, 0, 2, 3, 3, 4]]\n",
      "predction str: eeelll\n",
      "step: 8 cost: 1.2655395 prediction: [[2 2 2 3 3 3]] true Y: [[1, 0, 2, 3, 3, 4]]\n",
      "predction str: eeelll\n",
      "step: 9 cost: 1.2210883 prediction: [[2 2 2 3 3 3]] true Y: [[1, 0, 2, 3, 3, 4]]\n",
      "predction str: eeelll\n",
      "step: 10 cost: 1.1710961 prediction: [[2 2 2 3 3 3]] true Y: [[1, 0, 2, 3, 3, 4]]\n",
      "predction str: eeelll\n",
      "step: 11 cost: 1.1211759 prediction: [[1 2 2 3 3 3]] true Y: [[1, 0, 2, 3, 3, 4]]\n",
      "predction str: ieelll\n",
      "step: 12 cost: 1.0765258 prediction: [[1 2 2 3 3 3]] true Y: [[1, 0, 2, 3, 3, 4]]\n",
      "predction str: ieelll\n",
      "step: 13 cost: 1.0322205 prediction: [[1 2 2 3 3 3]] true Y: [[1, 0, 2, 3, 3, 4]]\n",
      "predction str: ieelll\n",
      "step: 14 cost: 0.9863097 prediction: [[1 3 2 3 3 3]] true Y: [[1, 0, 2, 3, 3, 4]]\n",
      "predction str: ilelll\n",
      "step: 15 cost: 0.9417239 prediction: [[1 3 2 3 3 3]] true Y: [[1, 0, 2, 3, 3, 4]]\n",
      "predction str: ilelll\n",
      "step: 16 cost: 0.9006822 prediction: [[1 3 2 3 3 2]] true Y: [[1, 0, 2, 3, 3, 4]]\n",
      "predction str: ilelle\n",
      "step: 17 cost: 0.8732257 prediction: [[1 3 2 3 3 0]] true Y: [[1, 0, 2, 3, 3, 4]]\n",
      "predction str: ilellh\n",
      "step: 18 cost: 0.834815 prediction: [[1 3 2 3 3 3]] true Y: [[1, 0, 2, 3, 3, 4]]\n",
      "predction str: ilelll\n",
      "step: 19 cost: 0.80271983 prediction: [[1 3 2 3 3 3]] true Y: [[1, 0, 2, 3, 3, 4]]\n",
      "predction str: ilelll\n",
      "step: 20 cost: 0.77665496 prediction: [[1 3 2 3 3 0]] true Y: [[1, 0, 2, 3, 3, 4]]\n",
      "predction str: ilellh\n",
      "step: 21 cost: 0.75012463 prediction: [[1 0 2 3 3 0]] true Y: [[1, 0, 2, 3, 3, 4]]\n",
      "predction str: ihellh\n",
      "step: 22 cost: 0.7285431 prediction: [[1 0 2 3 3 0]] true Y: [[1, 0, 2, 3, 3, 4]]\n",
      "predction str: ihellh\n",
      "step: 23 cost: 0.70656747 prediction: [[1 0 2 3 3 0]] true Y: [[1, 0, 2, 3, 3, 4]]\n",
      "predction str: ihellh\n",
      "step: 24 cost: 0.6842335 prediction: [[1 2 2 3 3 0]] true Y: [[1, 0, 2, 3, 3, 4]]\n",
      "predction str: ieellh\n",
      "step: 25 cost: 0.66211826 prediction: [[1 0 2 3 3 0]] true Y: [[1, 0, 2, 3, 3, 4]]\n",
      "predction str: ihellh\n",
      "step: 26 cost: 0.6408465 prediction: [[1 0 2 3 3 3]] true Y: [[1, 0, 2, 3, 3, 4]]\n",
      "predction str: ihelll\n",
      "step: 27 cost: 0.6375706 prediction: [[1 0 2 3 3 0]] true Y: [[1, 0, 2, 3, 3, 4]]\n",
      "predction str: ihellh\n",
      "step: 28 cost: 0.61163723 prediction: [[1 0 2 3 3 2]] true Y: [[1, 0, 2, 3, 3, 4]]\n",
      "predction str: ihelle\n",
      "step: 29 cost: 0.6294696 prediction: [[1 0 2 3 3 0]] true Y: [[1, 0, 2, 3, 3, 4]]\n",
      "predction str: ihellh\n",
      "step: 30 cost: 0.58878803 prediction: [[1 0 2 3 3 0]] true Y: [[1, 0, 2, 3, 3, 4]]\n",
      "predction str: ihellh\n",
      "step: 31 cost: 0.5786775 prediction: [[1 0 2 3 3 0]] true Y: [[1, 0, 2, 3, 3, 4]]\n",
      "predction str: ihellh\n",
      "step: 32 cost: 0.57496315 prediction: [[1 0 2 3 3 3]] true Y: [[1, 0, 2, 3, 3, 4]]\n",
      "predction str: ihelll\n",
      "step: 33 cost: 0.59707874 prediction: [[1 0 2 3 3 0]] true Y: [[1, 0, 2, 3, 3, 4]]\n",
      "predction str: ihellh\n",
      "step: 34 cost: 0.56677586 prediction: [[1 0 2 3 3 0]] true Y: [[1, 0, 2, 3, 3, 4]]\n",
      "predction str: ihellh\n",
      "step: 35 cost: 0.5615348 prediction: [[1 0 2 3 3 0]] true Y: [[1, 0, 2, 3, 3, 4]]\n",
      "predction str: ihellh\n",
      "step: 36 cost: 0.5581307 prediction: [[1 3 2 3 3 0]] true Y: [[1, 0, 2, 3, 3, 4]]\n",
      "predction str: ilellh\n",
      "step: 37 cost: 0.5568873 prediction: [[1 0 2 3 3 0]] true Y: [[1, 0, 2, 3, 3, 4]]\n",
      "predction str: ihellh\n",
      "step: 38 cost: 0.55523133 prediction: [[1 0 2 3 3 0]] true Y: [[1, 0, 2, 3, 3, 4]]\n",
      "predction str: ihellh\n",
      "step: 39 cost: 0.553732 prediction: [[1 0 2 3 3 0]] true Y: [[1, 0, 2, 3, 3, 4]]\n",
      "predction str: ihellh\n",
      "step: 40 cost: 0.5516817 prediction: [[1 0 2 3 3 0]] true Y: [[1, 0, 2, 3, 3, 4]]\n",
      "predction str: ihellh\n",
      "step: 41 cost: 0.5495041 prediction: [[1 0 2 3 3 0]] true Y: [[1, 0, 2, 3, 3, 4]]\n",
      "predction str: ihellh\n",
      "step: 42 cost: 0.5475876 prediction: [[1 0 2 3 3 0]] true Y: [[1, 0, 2, 3, 3, 4]]\n",
      "predction str: ihellh\n",
      "step: 43 cost: 0.54605925 prediction: [[1 0 2 3 3 0]] true Y: [[1, 0, 2, 3, 3, 4]]\n",
      "predction str: ihellh\n",
      "step: 44 cost: 0.54488015 prediction: [[1 0 2 3 3 0]] true Y: [[1, 0, 2, 3, 3, 4]]\n",
      "predction str: ihellh\n",
      "step: 45 cost: 0.5439653 prediction: [[1 2 2 3 3 0]] true Y: [[1, 0, 2, 3, 3, 4]]\n",
      "predction str: ieellh\n",
      "step: 46 cost: 0.54331905 prediction: [[1 0 2 3 3 0]] true Y: [[1, 0, 2, 3, 3, 4]]\n",
      "predction str: ihellh\n",
      "step: 47 cost: 0.5426554 prediction: [[1 0 2 3 3 0]] true Y: [[1, 0, 2, 3, 3, 4]]\n",
      "predction str: ihellh\n",
      "step: 48 cost: 0.54216814 prediction: [[1 0 2 3 3 0]] true Y: [[1, 0, 2, 3, 3, 4]]\n",
      "predction str: ihellh\n",
      "step: 49 cost: 0.5417538 prediction: [[1 0 2 3 3 0]] true Y: [[1, 0, 2, 3, 3, 4]]\n",
      "predction str: ihellh\n",
      "step: 50 cost: 0.541396 prediction: [[1 0 2 3 3 0]] true Y: [[1, 0, 2, 3, 3, 4]]\n",
      "predction str: ihellh\n",
      "step: 51 cost: 0.54108334 prediction: [[1 0 2 3 3 0]] true Y: [[1, 0, 2, 3, 3, 4]]\n",
      "predction str: ihellh\n",
      "step: 52 cost: 0.5408072 prediction: [[1 0 2 3 3 1]] true Y: [[1, 0, 2, 3, 3, 4]]\n",
      "predction str: ihelli\n",
      "step: 53 cost: 0.54232305 prediction: [[1 0 2 3 3 0]] true Y: [[1, 0, 2, 3, 3, 4]]\n",
      "predction str: ihellh\n",
      "step: 54 cost: 0.54049206 prediction: [[1 0 2 3 3 0]] true Y: [[1, 0, 2, 3, 3, 4]]\n",
      "predction str: ihellh\n",
      "step: 55 cost: 0.540457 prediction: [[1 0 2 3 3 0]] true Y: [[1, 0, 2, 3, 3, 4]]\n",
      "predction str: ihellh\n",
      "step: 56 cost: 0.5404474 prediction: [[1 0 2 3 3 0]] true Y: [[1, 0, 2, 3, 3, 4]]\n",
      "predction str: ihellh\n",
      "step: 57 cost: 0.5404521 prediction: [[1 0 2 3 3 0]] true Y: [[1, 0, 2, 3, 3, 4]]\n",
      "predction str: ihellh\n",
      "step: 58 cost: 0.54046017 prediction: [[1 0 2 3 3 0]] true Y: [[1, 0, 2, 3, 3, 4]]\n",
      "predction str: ihellh\n",
      "step: 59 cost: 0.54046303 prediction: [[1 0 2 3 3 0]] true Y: [[1, 0, 2, 3, 3, 4]]\n",
      "predction str: ihellh\n",
      "step: 60 cost: 0.54045564 prediction: [[1 0 2 3 3 0]] true Y: [[1, 0, 2, 3, 3, 4]]\n",
      "predction str: ihellh\n",
      "step: 61 cost: 0.5404354 prediction: [[1 3 2 3 3 0]] true Y: [[1, 0, 2, 3, 3, 4]]\n",
      "predction str: ilellh\n",
      "step: 62 cost: 0.54083747 prediction: [[1 0 2 3 3 0]] true Y: [[1, 0, 2, 3, 3, 4]]\n",
      "predction str: ihellh\n",
      "step: 63 cost: 0.5404244 prediction: [[1 0 2 3 3 0]] true Y: [[1, 0, 2, 3, 3, 4]]\n",
      "predction str: ihellh\n",
      "step: 64 cost: 0.54043335 prediction: [[1 0 2 3 3 0]] true Y: [[1, 0, 2, 3, 3, 4]]\n",
      "predction str: ihellh\n",
      "step: 65 cost: 0.540428 prediction: [[1 0 2 3 3 0]] true Y: [[1, 0, 2, 3, 3, 4]]\n",
      "predction str: ihellh\n",
      "step: 66 cost: 0.5404087 prediction: [[1 0 2 3 3 0]] true Y: [[1, 0, 2, 3, 3, 4]]\n",
      "predction str: ihellh\n",
      "step: 67 cost: 0.54037625 prediction: [[1 0 2 3 3 0]] true Y: [[1, 0, 2, 3, 3, 4]]\n",
      "predction str: ihellh\n",
      "step: 68 cost: 0.54033154 prediction: [[1 0 2 3 3 0]] true Y: [[1, 0, 2, 3, 3, 4]]\n",
      "predction str: ihellh\n",
      "step: 69 cost: 0.54027605 prediction: [[1 0 2 3 3 0]] true Y: [[1, 0, 2, 3, 3, 4]]\n",
      "predction str: ihellh\n",
      "step: 70 cost: 0.54021126 prediction: [[1 0 2 3 3 0]] true Y: [[1, 0, 2, 3, 3, 4]]\n",
      "predction str: ihellh\n",
      "step: 71 cost: 0.5401388 prediction: [[1 0 2 3 3 0]] true Y: [[1, 0, 2, 3, 3, 4]]\n",
      "predction str: ihellh\n",
      "step: 72 cost: 0.54006004 prediction: [[1 0 2 3 3 0]] true Y: [[1, 0, 2, 3, 3, 4]]\n",
      "predction str: ihellh\n",
      "step: 73 cost: 0.53997684 prediction: [[1 0 2 3 3 0]] true Y: [[1, 0, 2, 3, 3, 4]]\n",
      "predction str: ihellh\n",
      "step: 74 cost: 0.5398902 prediction: [[1 0 2 3 3 0]] true Y: [[1, 0, 2, 3, 3, 4]]\n",
      "predction str: ihellh\n",
      "step: 75 cost: 0.5398016 prediction: [[1 0 2 3 3 0]] true Y: [[1, 0, 2, 3, 3, 4]]\n",
      "predction str: ihellh\n",
      "step: 76 cost: 0.539712 prediction: [[1 0 2 3 3 0]] true Y: [[1, 0, 2, 3, 3, 4]]\n",
      "predction str: ihellh\n",
      "step: 77 cost: 0.53962237 prediction: [[1 0 2 3 3 0]] true Y: [[1, 0, 2, 3, 3, 4]]\n",
      "predction str: ihellh\n",
      "step: 78 cost: 0.53953356 prediction: [[1 0 2 3 3 0]] true Y: [[1, 0, 2, 3, 3, 4]]\n",
      "predction str: ihellh\n",
      "step: 79 cost: 0.53944606 prediction: [[1 0 2 3 3 0]] true Y: [[1, 0, 2, 3, 3, 4]]\n",
      "predction str: ihellh\n",
      "step: 80 cost: 0.5393605 prediction: [[1 0 2 3 3 0]] true Y: [[1, 0, 2, 3, 3, 4]]\n",
      "predction str: ihellh\n",
      "step: 81 cost: 0.5392772 prediction: [[1 0 2 3 3 0]] true Y: [[1, 0, 2, 3, 3, 4]]\n",
      "predction str: ihellh\n",
      "step: 82 cost: 0.5391965 prediction: [[1 0 2 3 3 0]] true Y: [[1, 0, 2, 3, 3, 4]]\n",
      "predction str: ihellh\n",
      "step: 83 cost: 0.53911847 prediction: [[1 0 2 3 3 0]] true Y: [[1, 0, 2, 3, 3, 4]]\n",
      "predction str: ihellh\n",
      "step: 84 cost: 0.53904325 prediction: [[1 0 2 3 3 0]] true Y: [[1, 0, 2, 3, 3, 4]]\n",
      "predction str: ihellh\n",
      "step: 85 cost: 0.53897095 prediction: [[1 0 2 3 3 0]] true Y: [[1, 0, 2, 3, 3, 4]]\n",
      "predction str: ihellh\n",
      "step: 86 cost: 0.5389016 prediction: [[1 0 2 3 3 0]] true Y: [[1, 0, 2, 3, 3, 4]]\n",
      "predction str: ihellh\n",
      "step: 87 cost: 0.5388351 prediction: [[1 0 2 3 3 0]] true Y: [[1, 0, 2, 3, 3, 4]]\n",
      "predction str: ihellh\n",
      "step: 88 cost: 0.53877157 prediction: [[1 0 2 3 3 0]] true Y: [[1, 0, 2, 3, 3, 4]]\n",
      "predction str: ihellh\n",
      "step: 89 cost: 0.53871065 prediction: [[1 0 2 3 3 0]] true Y: [[1, 0, 2, 3, 3, 4]]\n",
      "predction str: ihellh\n",
      "step: 90 cost: 0.5386525 prediction: [[1 0 2 3 3 0]] true Y: [[1, 0, 2, 3, 3, 4]]\n",
      "predction str: ihellh\n",
      "step: 91 cost: 0.5385968 prediction: [[1 0 2 3 3 0]] true Y: [[1, 0, 2, 3, 3, 4]]\n",
      "predction str: ihellh\n",
      "step: 92 cost: 0.53854376 prediction: [[1 0 2 3 3 0]] true Y: [[1, 0, 2, 3, 3, 4]]\n",
      "predction str: ihellh\n",
      "step: 93 cost: 0.538493 prediction: [[1 0 2 3 3 0]] true Y: [[1, 0, 2, 3, 3, 4]]\n",
      "predction str: ihellh\n",
      "step: 94 cost: 0.5384445 prediction: [[1 0 2 3 3 0]] true Y: [[1, 0, 2, 3, 3, 4]]\n",
      "predction str: ihellh\n",
      "step: 95 cost: 0.53839815 prediction: [[1 0 2 3 3 0]] true Y: [[1, 0, 2, 3, 3, 4]]\n",
      "predction str: ihellh\n",
      "step: 96 cost: 0.53835386 prediction: [[1 0 2 3 3 0]] true Y: [[1, 0, 2, 3, 3, 4]]\n",
      "predction str: ihellh\n",
      "step: 97 cost: 0.5383114 prediction: [[1 0 2 3 3 0]] true Y: [[1, 0, 2, 3, 3, 4]]\n",
      "predction str: ihellh\n",
      "step: 98 cost: 0.5382709 prediction: [[1 0 2 3 3 0]] true Y: [[1, 0, 2, 3, 3, 4]]\n",
      "predction str: ihellh\n",
      "step: 99 cost: 0.538232 prediction: [[1 0 2 3 3 0]] true Y: [[1, 0, 2, 3, 3, 4]]\n",
      "predction str: ihellh\n",
      "step: 100 cost: 0.53819484 prediction: [[1 0 2 3 3 0]] true Y: [[1, 0, 2, 3, 3, 4]]\n",
      "predction str: ihellh\n"
     ]
    }
   ],
   "source": [
    "import numpy as np\n",
    "#입력 4개 -> 출력 2개(hidden_size)\n",
    "\n",
    "#\"hihello\"\n",
    "# \"hihell\" => 입력\n",
    "# \"ihello\" => 출력\n",
    "#time_step:6, input_dim:5, hidden_size:5\n",
    "\n",
    "idx2char=['h', 'i', 'e', 'l', 'o']\n",
    "xdata=[[0,1,0,2,3,3]] # xdata=\"hihell\"\n",
    "                     #        \"ihello\"\n",
    "        #   cell -> ihello\n",
    "x_onehot=[[\n",
    "     [1,0,0,0,0],\n",
    "     [0,1,0,0,0],\n",
    "     [1,0,0,0,0],\n",
    "     [0,0,1,0,0],\n",
    "     [0,0,0,1,0],\n",
    "     [0,0,0,1,0]]]\n",
    "ydata=[[1,0,2,3,3,4]] #\"ihello\"\n",
    "\n",
    "tf.reset_default_graph()\n",
    "\n",
    "num_classes=5\n",
    "input_dim=5 #입력데이터의 차원(단어벡터의 길이)\n",
    "hidden_size=5\n",
    "batch_size=1\n",
    "sequence_length=6 #hihell\n",
    "learning_rate=0.1\n",
    "\n",
    "x=tf.placeholder(tf.float32, [None,sequence_length,input_dim])\n",
    "y=tf.placeholder(tf.int32, [None,sequence_length])\n",
    "\n",
    "cell=tf.contrib.rnn.BasicLSTMCell(num_units=hidden_size)\n",
    "ini_state=cell.zero_state(batch_size, tf.float32)\n",
    "outputs, _states=tf.nn.dynamic_rnn(cell, x, initial_state=ini_state, dtype=tf.float32)\n",
    "\n",
    "x_fc=tf.reshape(outputs, [-1, hidden_size])\n",
    "outputs=tf.contrib.layers.fully_connected(inputs=x_fc, num_outputs=num_classes)\n",
    "outputs=tf.reshape(outputs, [batch_size,sequence_length,num_classes])\n",
    "#                           [1, 6, 5] =>[[[0.1,0.2,0.5,0.1,0.1] ],[ ],...,[ ]]\n",
    "\n",
    "weights=tf.ones([batch_size, sequence_length])\n",
    "sequence_loss=tf.contrib.seq2seq.sequence_loss(logits=outputs,targets=y, weights=weights)\n",
    "loss=tf.reduce_mean(sequence_loss)\n",
    "\n",
    "prediction=  tf.argmax(outputs,axis=2)\n",
    "\n",
    "train=tf.train.AdamOptimizer(learning_rate=learning_rate).minimize(loss)\n",
    "with tf.Session() as sess:\n",
    "    sess.run(tf.global_variables_initializer())\n",
    "    for i in range(101):\n",
    "        lv, _=sess.run([loss, train], \n",
    "                       feed_dict={x:x_onehot, y:ydata})\n",
    "        res=sess.run(prediction,feed_dict={x:x_onehot})\n",
    "        print(\"step:\",i,\"cost:\",lv, \"prediction:\", res, \n",
    "              \"true Y:\", ydata)\n",
    "        resStr=[idx2char[c] for c in np.squeeze(res)]\n",
    "        print(\"predction str:\",\"\".join(resStr))\n",
    "        # prediction:[[1 0 2 2 3 1]]  true Y: [[1 0 2 3 3 4]]\n",
    "        #....\n",
    "        # prediction:[[1 0 2 3 3 4]]  true Y: [[1 0 2 3 3 4]]\n",
    "        \n",
    "        \n",
    "\n",
    "\n",
    "#num_units는 출력개수\n",
    "\n",
    "\n",
    "\n",
    "\n",
    "#학습 hihell -> ihello\n",
    "\n",
    "# hihell -> elhill\n",
    "# ...\n",
    "# hihell -> ihehho\n",
    "# ...\n",
    "# hihell -> ihello\n"
   ]
  },
  {
   "cell_type": "code",
   "execution_count": null,
   "metadata": {},
   "outputs": [],
   "source": [
    "#\"honggildong\""
   ]
  },
  {
   "cell_type": "code",
   "execution_count": 134,
   "metadata": {},
   "outputs": [
    {
     "data": {
      "text/plain": [
       "['l', 'i', 'h', 'e', 'i']"
      ]
     },
     "execution_count": 134,
     "metadata": {},
     "output_type": "execute_result"
    }
   ],
   "source": [
    "test=[[3,1,0,2,1]]\n",
    "#np.squeeze(test)\n",
    "test2=[idx2char[c] for c in np.squeeze(test)]\n",
    "test2"
   ]
  },
  {
   "cell_type": "code",
   "execution_count": 24,
   "metadata": {},
   "outputs": [],
   "source": [
    "import numpy as np\n",
    "from tensorflow.contrib import rnn\n",
    "import pprint\n",
    "\n",
    "tf.reset_default_graph()\n",
    "pp=pprint.PrettyPrinter(indent=4)\n",
    "sess=tf.InteractiveSession()\n"
   ]
  },
  {
   "cell_type": "code",
   "execution_count": 25,
   "metadata": {},
   "outputs": [],
   "source": [
    "h=[1,0,0,0] #hello => 4글자\n",
    "e=[0,1,0,0]\n",
    "l=[0,0,1,0]\n",
    "o=[0,0,0,1]"
   ]
  },
  {
   "cell_type": "code",
   "execution_count": 97,
   "metadata": {},
   "outputs": [
    {
     "name": "stdout",
     "output_type": "stream",
     "text": [
      "2 2\n",
      "array([[[-0.59038234, -0.32656184]]], dtype=float32)\n",
      "array([[-0.59038234, -0.32656184]], dtype=float32)\n"
     ]
    }
   ],
   "source": [
    "with tf.variable_scope('first_cell') as scope:\n",
    "    hidden_size=2\n",
    "    cell=tf.contrib.rnn.BasicRNNCell(num_units=hidden_size)\n",
    "    print(cell.output_size, cell.state_size)\n",
    "    xdata=np.array([[h]], dtype=np.float32)\n",
    "    outputs, _states=tf.nn.dynamic_rnn(cell,xdata, dtype=tf.float32)\n",
    "    sess.run(tf.global_variables_initializer())\n",
    "    pp.pprint(outputs.eval())\n",
    "    pp.pprint(_states.eval())\n",
    "    \n",
    "    "
   ]
  },
  {
   "cell_type": "code",
   "execution_count": 104,
   "metadata": {},
   "outputs": [
    {
     "name": "stdout",
     "output_type": "stream",
     "text": [
      "(1, 5, 4)\n",
      "array([[[1., 0., 0., 0.],\n",
      "        [0., 1., 0., 0.],\n",
      "        [0., 0., 1., 0.],\n",
      "        [0., 0., 1., 0.],\n",
      "        [0., 0., 0., 1.]]], dtype=float32)\n",
      "array([[[ 0.39774477,  0.5468991 ],\n",
      "        [ 0.8928871 , -0.04237348],\n",
      "        [-0.01551964, -0.12247499],\n",
      "        [-0.57187355, -0.40627557],\n",
      "        [-0.80547315, -0.36207783]]], dtype=float32)\n"
     ]
    }
   ],
   "source": [
    "with tf.variable_scope('sec_cell') as scope:\n",
    "    hidden_size=6\n",
    "    cell=tf.contrib.rnn.BasicRNNCell(num_units=hidden_size)\n",
    "    xdata=np.array([[h,e,l,l,o]], dtype=np.float32)\n",
    "    print(xdata.shape)\n",
    "#(1,5,4)\n",
    "#(batch_size,seq_len,input_dim)\n",
    "    pp.pprint(xdata)\n",
    "    outputs, _states=tf.nn.dynamic_rnn(cell,xdata, dtype=tf.float32)\n",
    "    sess.run(tf.global_variables_initializer())\n",
    "    pp.pprint(outputs.eval())   \n",
    "    "
   ]
  },
  {
   "cell_type": "code",
   "execution_count": 26,
   "metadata": {},
   "outputs": [
    {
     "name": "stdout",
     "output_type": "stream",
     "text": [
      "array([[[1., 0., 0., 0.],\n",
      "        [0., 1., 0., 0.],\n",
      "        [0., 0., 1., 0.],\n",
      "        [0., 0., 1., 0.],\n",
      "        [0., 0., 0., 1.]],\n",
      "\n",
      "       [[0., 1., 0., 0.],\n",
      "        [0., 0., 0., 1.],\n",
      "        [0., 0., 1., 0.],\n",
      "        [0., 0., 1., 0.],\n",
      "        [0., 0., 1., 0.]],\n",
      "\n",
      "       [[0., 0., 1., 0.],\n",
      "        [0., 0., 1., 0.],\n",
      "        [0., 1., 0., 0.],\n",
      "        [0., 1., 0., 0.],\n",
      "        [0., 0., 1., 0.]]], dtype=float32)\n",
      "array([[[-0.39375564, -0.5873945 ],\n",
      "        [ 0.00597444,  0.49083036],\n",
      "        [-0.17689216,  0.6062218 ],\n",
      "        [-0.30921763,  0.6682989 ],\n",
      "        [-0.6976783 ,  0.5821603 ]],\n",
      "\n",
      "       [[-0.12492587,  0.49101534],\n",
      "        [-0.59735054,  0.49578145],\n",
      "        [-0.42035908,  0.73841625],\n",
      "        [-0.45906648,  0.73582715],\n",
      "        [-0.47142133,  0.742573  ]],\n",
      "\n",
      "       [[ 0.07386865,  0.5173804 ],\n",
      "        [-0.16115002,  0.59332556],\n",
      "        [-0.46650487,  0.64253986],\n",
      "        [-0.5824919 ,  0.7156291 ],\n",
      "        [-0.5049752 ,  0.76175827]]], dtype=float32)\n"
     ]
    }
   ],
   "source": [
    "with tf.variable_scope('thr_cell') as scope:    \n",
    "    hidden_size=2\n",
    "    cell=tf.contrib.rnn.BasicRNNCell(num_units=hidden_size)\n",
    "    xdata=np.array([[h,e,l,l,o],\n",
    "                   [e,o,l,l,l],\n",
    "                   [l,l,e,e,l]], dtype=np.float32)\n",
    "    pp.pprint(xdata)    \n",
    "    outputs, _states=tf.nn.dynamic_rnn(cell,xdata, dtype=tf.float32)\n",
    "    sess.run(tf.global_variables_initializer())\n",
    "    pp.pprint(outputs.eval())   \n",
    "    "
   ]
  },
  {
   "cell_type": "code",
   "execution_count": 110,
   "metadata": {},
   "outputs": [
    {
     "name": "stderr",
     "output_type": "stream",
     "text": [
      "W0816 14:47:28.700894  9792 deprecation.py:323] From <ipython-input-110-2a466152e999>:5: BasicLSTMCell.__init__ (from tensorflow.python.ops.rnn_cell_impl) is deprecated and will be removed in a future version.\n",
      "Instructions for updating:\n",
      "This class is equivalent as tf.keras.layers.LSTMCell, and will be replaced by that in Tensorflow 2.0.\n"
     ]
    },
    {
     "name": "stdout",
     "output_type": "stream",
     "text": [
      "array([[[1., 0., 0., 0.],\n",
      "        [0., 1., 0., 0.],\n",
      "        [0., 0., 1., 0.],\n",
      "        [0., 0., 1., 0.],\n",
      "        [0., 0., 0., 1.]],\n",
      "\n",
      "       [[0., 1., 0., 0.],\n",
      "        [0., 0., 0., 1.],\n",
      "        [0., 0., 1., 0.],\n",
      "        [0., 0., 1., 0.],\n",
      "        [0., 0., 1., 0.]],\n",
      "\n",
      "       [[0., 0., 1., 0.],\n",
      "        [0., 0., 1., 0.],\n",
      "        [0., 1., 0., 0.],\n",
      "        [0., 1., 0., 0.],\n",
      "        [0., 0., 1., 0.]]], dtype=float32)\n",
      "array([[[-0.1322009 ,  0.04252621],\n",
      "        [-0.16804105, -0.04627199],\n",
      "        [-0.01589115, -0.12874529],\n",
      "        [ 0.15109849, -0.18411236],\n",
      "        [ 0.10181877, -0.20873772]],\n",
      "\n",
      "       [[-0.09788718, -0.06387524],\n",
      "        [-0.02616269, -0.14750491],\n",
      "        [ 0.13693146, -0.21632285],\n",
      "        [ 0.26180714, -0.24035087],\n",
      "        [ 0.34520617, -0.2489305 ]],\n",
      "\n",
      "       [[ 0.1574434 , -0.0753042 ],\n",
      "        [ 0.26998237, -0.12255721],\n",
      "        [ 0.09413569, -0.15500641],\n",
      "        [-0.02562424, -0.18844967],\n",
      "        [ 0.14212008, -0.22042999]]], dtype=float32)\n"
     ]
    }
   ],
   "source": [
    "#M(시트),V(그래프),C(컨트롤러(막대)) 분리\n",
    "\n",
    "with tf.variable_scope('lstm_thr_cell') as scope:    \n",
    "    hidden_size=2\n",
    "    cell=tf.contrib.rnn.BasicLSTMCell(num_units=hidden_size)\n",
    "    xdata=np.array([[h,e,l,l,o],\n",
    "                   [e,o,l,l,l],\n",
    "                   [l,l,e,e,l]], dtype=np.float32)\n",
    "    pp.pprint(xdata)    \n",
    "    outputs, _states=tf.nn.dynamic_rnn(cell,xdata, dtype=tf.float32)\n",
    "    sess.run(tf.global_variables_initializer())\n",
    "    pp.pprint(outputs.eval())   \n",
    "    "
   ]
  },
  {
   "cell_type": "code",
   "execution_count": null,
   "metadata": {},
   "outputs": [],
   "source": [
    "with tf.variable_scope('lstm_thr_cell_2') as scope:    \n",
    "    hidden_size=2\n",
    "    cell=tf.contrib.rnn.BasicLSTMCell(num_units=hidden_size)\n",
    "    xdata=np.array([[h,e,l,l,o],\n",
    "                   [e,o,l,l,l],\n",
    "                   [l,l,e,e,l]], dtype=np.float32)\n",
    "    pp.pprint(xdata)    \n",
    "    outputs, _states=tf.nn.dynamic_rnn(cell,xdata,sequence_length=[5,3,4], dtype=tf.float32)\n",
    "    sess.run(tf.global_variables_initializer())\n",
    "    pp.pprint(outputs.eval())   \n",
    "    "
   ]
  },
  {
   "cell_type": "code",
   "execution_count": null,
   "metadata": {},
   "outputs": [],
   "source": [
    "\n",
    "with tf.variable_scope('init_lstm_thr_cell') as scope:    \n",
    "    hidden_size=2\n",
    "    batch_size=3\n",
    "    cell=tf.contrib.rnn.BasicLSTMCell(num_units=hidden_size)\n",
    "    xdata=np.array([[h,e,l,l,o],\n",
    "                   [e,o,l,l,l],\n",
    "                   [l,l,e,e,l]], dtype=np.float32)\n",
    "    pp.pprint(xdata)    \n",
    "    init_state=cell.zero_state(batch_size, tf.float32)\n",
    "    outputs, _states=tf.nn.dynamic_rnn(cell,xdata,initial_state=init_state ,dtype=tf.float32)\n",
    "    sess.run(tf.global_variables_initializer())\n",
    "    pp.pprint(outputs.eval())   \n",
    "    \n",
    "    \n",
    "#     데이터:100개\n",
    "#         1에폭:100개 데이터를 학습\n",
    "#     batch_size:1개, batch_length:100/20=5번\n",
    "#             (20개 단위로 학습(forward,backward))\n",
    "        \n",
    "    \n",
    "    "
   ]
  },
  {
   "cell_type": "code",
   "execution_count": 28,
   "metadata": {},
   "outputs": [
    {
     "name": "stdout",
     "output_type": "stream",
     "text": [
      "[[[ 0.  1.  2.]\n",
      "  [ 3.  4.  5.]\n",
      "  [ 6.  7.  8.]\n",
      "  [ 9. 10. 11.]\n",
      "  [12. 13. 14.]]\n",
      "\n",
      " [[15. 16. 17.]\n",
      "  [18. 19. 20.]\n",
      "  [21. 22. 23.]\n",
      "  [24. 25. 26.]\n",
      "  [27. 28. 29.]]\n",
      "\n",
      " [[30. 31. 32.]\n",
      "  [33. 34. 35.]\n",
      "  [36. 37. 38.]\n",
      "  [39. 40. 41.]\n",
      "  [42. 43. 44.]]]\n"
     ]
    }
   ],
   "source": [
    "batch_size=3\n",
    "seq_len=5\n",
    "in_dim=3\n",
    "xdata=np.arange(45,dtype=np.float32).reshape(batch_size,seq_len,in_dim)\n",
    "print(xdata)\n",
    "tf.reset_default_graph()"
   ]
  },
  {
   "cell_type": "code",
   "execution_count": 29,
   "metadata": {},
   "outputs": [
    {
     "ename": "ValueError",
     "evalue": "in converted code:\n    relative to C:\\Users\\user\\Anaconda3\\lib\\site-packages\\tensorflow\\python:\n\n    ops\\rnn_cell_impl.py:1719 call *\n        cur_inp, new_state = cell(cur_inp, cur_state)\n    ops\\rnn_cell_impl.py:385 __call__\n        self, inputs, state, scope=scope, *args, **kwargs)\n    ops\\rnn_cell_impl.py:766 call *\n        gate_inputs = math_ops.matmul(\n    util\\dispatch.py:180 wrapper\n        return target(*args, **kwargs)\n    ops\\math_ops.py:2647 matmul\n        a, b, transpose_a=transpose_a, transpose_b=transpose_b, name=name)\n    ops\\gen_math_ops.py:6294 mat_mul\n        name=name)\n    framework\\op_def_library.py:788 _apply_op_helper\n        op_def=op_def)\n    util\\deprecation.py:507 new_func\n        return func(*args, **kwargs)\n    framework\\ops.py:3616 create_op\n        op_def=op_def)\n    framework\\ops.py:2027 __init__\n        control_input_ops)\n    framework\\ops.py:1867 _create_c_op\n        raise ValueError(str(e))\n\n    ValueError: Dimensions must be equal, but are 10 and 8 for 'multi_rnn_cell/rnn/while/rnn/multi_rnn_cell/cell_0/basic_lstm_cell/MatMul_1' (op: 'MatMul') with input shapes: [3,10], [8,20].\n",
     "output_type": "error",
     "traceback": [
      "\u001b[1;31m---------------------------------------------------------------------------\u001b[0m",
      "\u001b[1;31mValueError\u001b[0m                                Traceback (most recent call last)",
      "\u001b[1;32m<ipython-input-29-c129fa356877>\u001b[0m in \u001b[0;36m<module>\u001b[1;34m\u001b[0m\n\u001b[0;32m      4\u001b[0m     \u001b[0mcell\u001b[0m\u001b[1;33m=\u001b[0m\u001b[0mtf\u001b[0m\u001b[1;33m.\u001b[0m\u001b[0mcontrib\u001b[0m\u001b[1;33m.\u001b[0m\u001b[0mrnn\u001b[0m\u001b[1;33m.\u001b[0m\u001b[0mBasicLSTMCell\u001b[0m\u001b[1;33m(\u001b[0m\u001b[0mnum_units\u001b[0m\u001b[1;33m=\u001b[0m\u001b[1;36m5\u001b[0m\u001b[1;33m)\u001b[0m\u001b[1;33m\u001b[0m\u001b[1;33m\u001b[0m\u001b[0m\n\u001b[0;32m      5\u001b[0m     \u001b[0mcell\u001b[0m\u001b[1;33m=\u001b[0m\u001b[0mtf\u001b[0m\u001b[1;33m.\u001b[0m\u001b[0mcontrib\u001b[0m\u001b[1;33m.\u001b[0m\u001b[0mrnn\u001b[0m\u001b[1;33m.\u001b[0m\u001b[0mMultiRNNCell\u001b[0m\u001b[1;33m(\u001b[0m\u001b[1;33m[\u001b[0m\u001b[0mcell\u001b[0m\u001b[1;33m]\u001b[0m\u001b[1;33m*\u001b[0m\u001b[1;36m3\u001b[0m\u001b[1;33m)\u001b[0m\u001b[1;31m#layer 3개\u001b[0m\u001b[1;33m\u001b[0m\u001b[1;33m\u001b[0m\u001b[0m\n\u001b[1;32m----> 6\u001b[1;33m     \u001b[0moutputs\u001b[0m\u001b[1;33m,\u001b[0m \u001b[0m_states\u001b[0m\u001b[1;33m=\u001b[0m\u001b[0mtf\u001b[0m\u001b[1;33m.\u001b[0m\u001b[0mnn\u001b[0m\u001b[1;33m.\u001b[0m\u001b[0mdynamic_rnn\u001b[0m\u001b[1;33m(\u001b[0m\u001b[0mcell\u001b[0m\u001b[1;33m,\u001b[0m \u001b[0mxdata\u001b[0m\u001b[1;33m,\u001b[0m\u001b[0mdtype\u001b[0m\u001b[1;33m=\u001b[0m\u001b[0mtf\u001b[0m\u001b[1;33m.\u001b[0m\u001b[0mfloat32\u001b[0m\u001b[1;33m)\u001b[0m\u001b[1;33m\u001b[0m\u001b[1;33m\u001b[0m\u001b[0m\n\u001b[0m\u001b[0;32m      7\u001b[0m     \u001b[0msess\u001b[0m\u001b[1;33m.\u001b[0m\u001b[0mrun\u001b[0m\u001b[1;33m(\u001b[0m\u001b[0mtf\u001b[0m\u001b[1;33m.\u001b[0m\u001b[0mglobal_variables_initializer\u001b[0m\u001b[1;33m(\u001b[0m\u001b[1;33m)\u001b[0m\u001b[1;33m)\u001b[0m\u001b[1;33m\u001b[0m\u001b[1;33m\u001b[0m\u001b[0m\n\u001b[0;32m      8\u001b[0m     \u001b[0mpp\u001b[0m\u001b[1;33m.\u001b[0m\u001b[0mprint\u001b[0m\u001b[1;33m(\u001b[0m\u001b[0moutputs\u001b[0m\u001b[1;33m.\u001b[0m\u001b[0meval\u001b[0m\u001b[1;33m(\u001b[0m\u001b[1;33m)\u001b[0m\u001b[1;33m)\u001b[0m\u001b[1;33m\u001b[0m\u001b[1;33m\u001b[0m\u001b[0m\n",
      "\u001b[1;32m~\\Anaconda3\\lib\\site-packages\\tensorflow\\python\\util\\deprecation.py\u001b[0m in \u001b[0;36mnew_func\u001b[1;34m(*args, **kwargs)\u001b[0m\n\u001b[0;32m    322\u001b[0m               \u001b[1;34m'in a future version'\u001b[0m \u001b[1;32mif\u001b[0m \u001b[0mdate\u001b[0m \u001b[1;32mis\u001b[0m \u001b[1;32mNone\u001b[0m \u001b[1;32melse\u001b[0m \u001b[1;33m(\u001b[0m\u001b[1;34m'after %s'\u001b[0m \u001b[1;33m%\u001b[0m \u001b[0mdate\u001b[0m\u001b[1;33m)\u001b[0m\u001b[1;33m,\u001b[0m\u001b[1;33m\u001b[0m\u001b[1;33m\u001b[0m\u001b[0m\n\u001b[0;32m    323\u001b[0m               instructions)\n\u001b[1;32m--> 324\u001b[1;33m       \u001b[1;32mreturn\u001b[0m \u001b[0mfunc\u001b[0m\u001b[1;33m(\u001b[0m\u001b[1;33m*\u001b[0m\u001b[0margs\u001b[0m\u001b[1;33m,\u001b[0m \u001b[1;33m**\u001b[0m\u001b[0mkwargs\u001b[0m\u001b[1;33m)\u001b[0m\u001b[1;33m\u001b[0m\u001b[1;33m\u001b[0m\u001b[0m\n\u001b[0m\u001b[0;32m    325\u001b[0m     return tf_decorator.make_decorator(\n\u001b[0;32m    326\u001b[0m         \u001b[0mfunc\u001b[0m\u001b[1;33m,\u001b[0m \u001b[0mnew_func\u001b[0m\u001b[1;33m,\u001b[0m \u001b[1;34m'deprecated'\u001b[0m\u001b[1;33m,\u001b[0m\u001b[1;33m\u001b[0m\u001b[1;33m\u001b[0m\u001b[0m\n",
      "\u001b[1;32m~\\Anaconda3\\lib\\site-packages\\tensorflow\\python\\ops\\rnn.py\u001b[0m in \u001b[0;36mdynamic_rnn\u001b[1;34m(cell, inputs, sequence_length, initial_state, dtype, parallel_iterations, swap_memory, time_major, scope)\u001b[0m\n\u001b[0;32m    705\u001b[0m         \u001b[0mswap_memory\u001b[0m\u001b[1;33m=\u001b[0m\u001b[0mswap_memory\u001b[0m\u001b[1;33m,\u001b[0m\u001b[1;33m\u001b[0m\u001b[1;33m\u001b[0m\u001b[0m\n\u001b[0;32m    706\u001b[0m         \u001b[0msequence_length\u001b[0m\u001b[1;33m=\u001b[0m\u001b[0msequence_length\u001b[0m\u001b[1;33m,\u001b[0m\u001b[1;33m\u001b[0m\u001b[1;33m\u001b[0m\u001b[0m\n\u001b[1;32m--> 707\u001b[1;33m         dtype=dtype)\n\u001b[0m\u001b[0;32m    708\u001b[0m \u001b[1;33m\u001b[0m\u001b[0m\n\u001b[0;32m    709\u001b[0m     \u001b[1;31m# Outputs of _dynamic_rnn_loop are always shaped [time, batch, depth].\u001b[0m\u001b[1;33m\u001b[0m\u001b[1;33m\u001b[0m\u001b[1;33m\u001b[0m\u001b[0m\n",
      "\u001b[1;32m~\\Anaconda3\\lib\\site-packages\\tensorflow\\python\\ops\\rnn.py\u001b[0m in \u001b[0;36m_dynamic_rnn_loop\u001b[1;34m(cell, inputs, initial_state, parallel_iterations, swap_memory, sequence_length, dtype)\u001b[0m\n\u001b[0;32m    914\u001b[0m       \u001b[0mparallel_iterations\u001b[0m\u001b[1;33m=\u001b[0m\u001b[0mparallel_iterations\u001b[0m\u001b[1;33m,\u001b[0m\u001b[1;33m\u001b[0m\u001b[1;33m\u001b[0m\u001b[0m\n\u001b[0;32m    915\u001b[0m       \u001b[0mmaximum_iterations\u001b[0m\u001b[1;33m=\u001b[0m\u001b[0mtime_steps\u001b[0m\u001b[1;33m,\u001b[0m\u001b[1;33m\u001b[0m\u001b[1;33m\u001b[0m\u001b[0m\n\u001b[1;32m--> 916\u001b[1;33m       swap_memory=swap_memory)\n\u001b[0m\u001b[0;32m    917\u001b[0m \u001b[1;33m\u001b[0m\u001b[0m\n\u001b[0;32m    918\u001b[0m   \u001b[1;31m# Unpack final output if not using output tuples.\u001b[0m\u001b[1;33m\u001b[0m\u001b[1;33m\u001b[0m\u001b[1;33m\u001b[0m\u001b[0m\n",
      "\u001b[1;32m~\\Anaconda3\\lib\\site-packages\\tensorflow\\python\\ops\\control_flow_ops.py\u001b[0m in \u001b[0;36mwhile_loop\u001b[1;34m(cond, body, loop_vars, shape_invariants, parallel_iterations, back_prop, swap_memory, name, maximum_iterations, return_same_structure)\u001b[0m\n\u001b[0;32m   3499\u001b[0m       \u001b[0mops\u001b[0m\u001b[1;33m.\u001b[0m\u001b[0madd_to_collection\u001b[0m\u001b[1;33m(\u001b[0m\u001b[0mops\u001b[0m\u001b[1;33m.\u001b[0m\u001b[0mGraphKeys\u001b[0m\u001b[1;33m.\u001b[0m\u001b[0mWHILE_CONTEXT\u001b[0m\u001b[1;33m,\u001b[0m \u001b[0mloop_context\u001b[0m\u001b[1;33m)\u001b[0m\u001b[1;33m\u001b[0m\u001b[1;33m\u001b[0m\u001b[0m\n\u001b[0;32m   3500\u001b[0m     result = loop_context.BuildLoop(cond, body, loop_vars, shape_invariants,\n\u001b[1;32m-> 3501\u001b[1;33m                                     return_same_structure)\n\u001b[0m\u001b[0;32m   3502\u001b[0m     \u001b[1;32mif\u001b[0m \u001b[0mmaximum_iterations\u001b[0m \u001b[1;32mis\u001b[0m \u001b[1;32mnot\u001b[0m \u001b[1;32mNone\u001b[0m\u001b[1;33m:\u001b[0m\u001b[1;33m\u001b[0m\u001b[1;33m\u001b[0m\u001b[0m\n\u001b[0;32m   3503\u001b[0m       \u001b[1;32mreturn\u001b[0m \u001b[0mresult\u001b[0m\u001b[1;33m[\u001b[0m\u001b[1;36m1\u001b[0m\u001b[1;33m]\u001b[0m\u001b[1;33m\u001b[0m\u001b[1;33m\u001b[0m\u001b[0m\n",
      "\u001b[1;32m~\\Anaconda3\\lib\\site-packages\\tensorflow\\python\\ops\\control_flow_ops.py\u001b[0m in \u001b[0;36mBuildLoop\u001b[1;34m(self, pred, body, loop_vars, shape_invariants, return_same_structure)\u001b[0m\n\u001b[0;32m   3010\u001b[0m       \u001b[1;32mwith\u001b[0m \u001b[0mops\u001b[0m\u001b[1;33m.\u001b[0m\u001b[0mget_default_graph\u001b[0m\u001b[1;33m(\u001b[0m\u001b[1;33m)\u001b[0m\u001b[1;33m.\u001b[0m\u001b[0m_mutation_lock\u001b[0m\u001b[1;33m(\u001b[0m\u001b[1;33m)\u001b[0m\u001b[1;33m:\u001b[0m  \u001b[1;31m# pylint: disable=protected-access\u001b[0m\u001b[1;33m\u001b[0m\u001b[1;33m\u001b[0m\u001b[0m\n\u001b[0;32m   3011\u001b[0m         original_body_result, exit_vars = self._BuildLoop(\n\u001b[1;32m-> 3012\u001b[1;33m             pred, body, original_loop_vars, loop_vars, shape_invariants)\n\u001b[0m\u001b[0;32m   3013\u001b[0m     \u001b[1;32mfinally\u001b[0m\u001b[1;33m:\u001b[0m\u001b[1;33m\u001b[0m\u001b[1;33m\u001b[0m\u001b[0m\n\u001b[0;32m   3014\u001b[0m       \u001b[0mself\u001b[0m\u001b[1;33m.\u001b[0m\u001b[0mExit\u001b[0m\u001b[1;33m(\u001b[0m\u001b[1;33m)\u001b[0m\u001b[1;33m\u001b[0m\u001b[1;33m\u001b[0m\u001b[0m\n",
      "\u001b[1;32m~\\Anaconda3\\lib\\site-packages\\tensorflow\\python\\ops\\control_flow_ops.py\u001b[0m in \u001b[0;36m_BuildLoop\u001b[1;34m(self, pred, body, original_loop_vars, loop_vars, shape_invariants)\u001b[0m\n\u001b[0;32m   2935\u001b[0m         expand_composites=True)\n\u001b[0;32m   2936\u001b[0m     \u001b[0mpre_summaries\u001b[0m \u001b[1;33m=\u001b[0m \u001b[0mops\u001b[0m\u001b[1;33m.\u001b[0m\u001b[0mget_collection\u001b[0m\u001b[1;33m(\u001b[0m\u001b[0mops\u001b[0m\u001b[1;33m.\u001b[0m\u001b[0mGraphKeys\u001b[0m\u001b[1;33m.\u001b[0m\u001b[0m_SUMMARY_COLLECTION\u001b[0m\u001b[1;33m)\u001b[0m  \u001b[1;31m# pylint: disable=protected-access\u001b[0m\u001b[1;33m\u001b[0m\u001b[1;33m\u001b[0m\u001b[0m\n\u001b[1;32m-> 2937\u001b[1;33m     \u001b[0mbody_result\u001b[0m \u001b[1;33m=\u001b[0m \u001b[0mbody\u001b[0m\u001b[1;33m(\u001b[0m\u001b[1;33m*\u001b[0m\u001b[0mpacked_vars_for_body\u001b[0m\u001b[1;33m)\u001b[0m\u001b[1;33m\u001b[0m\u001b[1;33m\u001b[0m\u001b[0m\n\u001b[0m\u001b[0;32m   2938\u001b[0m     \u001b[0mpost_summaries\u001b[0m \u001b[1;33m=\u001b[0m \u001b[0mops\u001b[0m\u001b[1;33m.\u001b[0m\u001b[0mget_collection\u001b[0m\u001b[1;33m(\u001b[0m\u001b[0mops\u001b[0m\u001b[1;33m.\u001b[0m\u001b[0mGraphKeys\u001b[0m\u001b[1;33m.\u001b[0m\u001b[0m_SUMMARY_COLLECTION\u001b[0m\u001b[1;33m)\u001b[0m  \u001b[1;31m# pylint: disable=protected-access\u001b[0m\u001b[1;33m\u001b[0m\u001b[1;33m\u001b[0m\u001b[0m\n\u001b[0;32m   2939\u001b[0m     \u001b[1;32mif\u001b[0m \u001b[1;32mnot\u001b[0m \u001b[0mnest\u001b[0m\u001b[1;33m.\u001b[0m\u001b[0mis_sequence_or_composite\u001b[0m\u001b[1;33m(\u001b[0m\u001b[0mbody_result\u001b[0m\u001b[1;33m)\u001b[0m\u001b[1;33m:\u001b[0m\u001b[1;33m\u001b[0m\u001b[1;33m\u001b[0m\u001b[0m\n",
      "\u001b[1;32m~\\Anaconda3\\lib\\site-packages\\tensorflow\\python\\ops\\control_flow_ops.py\u001b[0m in \u001b[0;36m<lambda>\u001b[1;34m(i, lv)\u001b[0m\n\u001b[0;32m   3454\u001b[0m         cond = lambda i, lv: (  # pylint: disable=g-long-lambda\n\u001b[0;32m   3455\u001b[0m             math_ops.logical_and(i < maximum_iterations, orig_cond(*lv)))\n\u001b[1;32m-> 3456\u001b[1;33m         \u001b[0mbody\u001b[0m \u001b[1;33m=\u001b[0m \u001b[1;32mlambda\u001b[0m \u001b[0mi\u001b[0m\u001b[1;33m,\u001b[0m \u001b[0mlv\u001b[0m\u001b[1;33m:\u001b[0m \u001b[1;33m(\u001b[0m\u001b[0mi\u001b[0m \u001b[1;33m+\u001b[0m \u001b[1;36m1\u001b[0m\u001b[1;33m,\u001b[0m \u001b[0morig_body\u001b[0m\u001b[1;33m(\u001b[0m\u001b[1;33m*\u001b[0m\u001b[0mlv\u001b[0m\u001b[1;33m)\u001b[0m\u001b[1;33m)\u001b[0m\u001b[1;33m\u001b[0m\u001b[1;33m\u001b[0m\u001b[0m\n\u001b[0m\u001b[0;32m   3457\u001b[0m \u001b[1;33m\u001b[0m\u001b[0m\n\u001b[0;32m   3458\u001b[0m     \u001b[1;32mif\u001b[0m \u001b[0mexecuting_eagerly\u001b[0m\u001b[1;33m:\u001b[0m\u001b[1;33m\u001b[0m\u001b[1;33m\u001b[0m\u001b[0m\n",
      "\u001b[1;32m~\\Anaconda3\\lib\\site-packages\\tensorflow\\python\\ops\\rnn.py\u001b[0m in \u001b[0;36m_time_step\u001b[1;34m(time, output_ta_t, state)\u001b[0m\n\u001b[0;32m    882\u001b[0m           skip_conditionals=True)\n\u001b[0;32m    883\u001b[0m     \u001b[1;32melse\u001b[0m\u001b[1;33m:\u001b[0m\u001b[1;33m\u001b[0m\u001b[1;33m\u001b[0m\u001b[0m\n\u001b[1;32m--> 884\u001b[1;33m       \u001b[1;33m(\u001b[0m\u001b[0moutput\u001b[0m\u001b[1;33m,\u001b[0m \u001b[0mnew_state\u001b[0m\u001b[1;33m)\u001b[0m \u001b[1;33m=\u001b[0m \u001b[0mcall_cell\u001b[0m\u001b[1;33m(\u001b[0m\u001b[1;33m)\u001b[0m\u001b[1;33m\u001b[0m\u001b[1;33m\u001b[0m\u001b[0m\n\u001b[0m\u001b[0;32m    885\u001b[0m \u001b[1;33m\u001b[0m\u001b[0m\n\u001b[0;32m    886\u001b[0m     \u001b[1;31m# Keras cells always wrap state as list, even if it's a single tensor.\u001b[0m\u001b[1;33m\u001b[0m\u001b[1;33m\u001b[0m\u001b[1;33m\u001b[0m\u001b[0m\n",
      "\u001b[1;32m~\\Anaconda3\\lib\\site-packages\\tensorflow\\python\\ops\\rnn.py\u001b[0m in \u001b[0;36m<lambda>\u001b[1;34m()\u001b[0m\n\u001b[0;32m    868\u001b[0m     \u001b[1;32mif\u001b[0m \u001b[0mis_keras_rnn_cell\u001b[0m \u001b[1;32mand\u001b[0m \u001b[1;32mnot\u001b[0m \u001b[0mnest\u001b[0m\u001b[1;33m.\u001b[0m\u001b[0mis_sequence\u001b[0m\u001b[1;33m(\u001b[0m\u001b[0mstate\u001b[0m\u001b[1;33m)\u001b[0m\u001b[1;33m:\u001b[0m\u001b[1;33m\u001b[0m\u001b[1;33m\u001b[0m\u001b[0m\n\u001b[0;32m    869\u001b[0m       \u001b[0mstate\u001b[0m \u001b[1;33m=\u001b[0m \u001b[1;33m[\u001b[0m\u001b[0mstate\u001b[0m\u001b[1;33m]\u001b[0m\u001b[1;33m\u001b[0m\u001b[1;33m\u001b[0m\u001b[0m\n\u001b[1;32m--> 870\u001b[1;33m     \u001b[0mcall_cell\u001b[0m \u001b[1;33m=\u001b[0m \u001b[1;32mlambda\u001b[0m\u001b[1;33m:\u001b[0m \u001b[0mcell\u001b[0m\u001b[1;33m(\u001b[0m\u001b[0minput_t\u001b[0m\u001b[1;33m,\u001b[0m \u001b[0mstate\u001b[0m\u001b[1;33m)\u001b[0m\u001b[1;33m\u001b[0m\u001b[1;33m\u001b[0m\u001b[0m\n\u001b[0m\u001b[0;32m    871\u001b[0m \u001b[1;33m\u001b[0m\u001b[0m\n\u001b[0;32m    872\u001b[0m     \u001b[1;32mif\u001b[0m \u001b[0msequence_length\u001b[0m \u001b[1;32mis\u001b[0m \u001b[1;32mnot\u001b[0m \u001b[1;32mNone\u001b[0m\u001b[1;33m:\u001b[0m\u001b[1;33m\u001b[0m\u001b[1;33m\u001b[0m\u001b[0m\n",
      "\u001b[1;32m~\\Anaconda3\\lib\\site-packages\\tensorflow\\python\\ops\\rnn_cell_impl.py\u001b[0m in \u001b[0;36m__call__\u001b[1;34m(self, inputs, state, scope)\u001b[0m\n\u001b[0;32m    246\u001b[0m         \u001b[0msetattr\u001b[0m\u001b[1;33m(\u001b[0m\u001b[0mself\u001b[0m\u001b[1;33m,\u001b[0m \u001b[0mscope_attrname\u001b[0m\u001b[1;33m,\u001b[0m \u001b[0mscope\u001b[0m\u001b[1;33m)\u001b[0m\u001b[1;33m\u001b[0m\u001b[1;33m\u001b[0m\u001b[0m\n\u001b[0;32m    247\u001b[0m       \u001b[1;32mwith\u001b[0m \u001b[0mscope\u001b[0m\u001b[1;33m:\u001b[0m\u001b[1;33m\u001b[0m\u001b[1;33m\u001b[0m\u001b[0m\n\u001b[1;32m--> 248\u001b[1;33m         \u001b[1;32mreturn\u001b[0m \u001b[0msuper\u001b[0m\u001b[1;33m(\u001b[0m\u001b[0mRNNCell\u001b[0m\u001b[1;33m,\u001b[0m \u001b[0mself\u001b[0m\u001b[1;33m)\u001b[0m\u001b[1;33m.\u001b[0m\u001b[0m__call__\u001b[0m\u001b[1;33m(\u001b[0m\u001b[0minputs\u001b[0m\u001b[1;33m,\u001b[0m \u001b[0mstate\u001b[0m\u001b[1;33m)\u001b[0m\u001b[1;33m\u001b[0m\u001b[1;33m\u001b[0m\u001b[0m\n\u001b[0m\u001b[0;32m    249\u001b[0m \u001b[1;33m\u001b[0m\u001b[0m\n\u001b[0;32m    250\u001b[0m   \u001b[1;32mdef\u001b[0m \u001b[0m_rnn_get_variable\u001b[0m\u001b[1;33m(\u001b[0m\u001b[0mself\u001b[0m\u001b[1;33m,\u001b[0m \u001b[0mgetter\u001b[0m\u001b[1;33m,\u001b[0m \u001b[1;33m*\u001b[0m\u001b[0margs\u001b[0m\u001b[1;33m,\u001b[0m \u001b[1;33m**\u001b[0m\u001b[0mkwargs\u001b[0m\u001b[1;33m)\u001b[0m\u001b[1;33m:\u001b[0m\u001b[1;33m\u001b[0m\u001b[1;33m\u001b[0m\u001b[0m\n",
      "\u001b[1;32m~\\Anaconda3\\lib\\site-packages\\tensorflow\\python\\layers\\base.py\u001b[0m in \u001b[0;36m__call__\u001b[1;34m(self, inputs, *args, **kwargs)\u001b[0m\n\u001b[0;32m    535\u001b[0m \u001b[1;33m\u001b[0m\u001b[0m\n\u001b[0;32m    536\u001b[0m       \u001b[1;31m# Actually call layer\u001b[0m\u001b[1;33m\u001b[0m\u001b[1;33m\u001b[0m\u001b[1;33m\u001b[0m\u001b[0m\n\u001b[1;32m--> 537\u001b[1;33m       \u001b[0moutputs\u001b[0m \u001b[1;33m=\u001b[0m \u001b[0msuper\u001b[0m\u001b[1;33m(\u001b[0m\u001b[0mLayer\u001b[0m\u001b[1;33m,\u001b[0m \u001b[0mself\u001b[0m\u001b[1;33m)\u001b[0m\u001b[1;33m.\u001b[0m\u001b[0m__call__\u001b[0m\u001b[1;33m(\u001b[0m\u001b[0minputs\u001b[0m\u001b[1;33m,\u001b[0m \u001b[1;33m*\u001b[0m\u001b[0margs\u001b[0m\u001b[1;33m,\u001b[0m \u001b[1;33m**\u001b[0m\u001b[0mkwargs\u001b[0m\u001b[1;33m)\u001b[0m\u001b[1;33m\u001b[0m\u001b[1;33m\u001b[0m\u001b[0m\n\u001b[0m\u001b[0;32m    538\u001b[0m \u001b[1;33m\u001b[0m\u001b[0m\n\u001b[0;32m    539\u001b[0m     \u001b[1;32mif\u001b[0m \u001b[1;32mnot\u001b[0m \u001b[0mcontext\u001b[0m\u001b[1;33m.\u001b[0m\u001b[0mexecuting_eagerly\u001b[0m\u001b[1;33m(\u001b[0m\u001b[1;33m)\u001b[0m\u001b[1;33m:\u001b[0m\u001b[1;33m\u001b[0m\u001b[1;33m\u001b[0m\u001b[0m\n",
      "\u001b[1;32m~\\Anaconda3\\lib\\site-packages\\tensorflow\\python\\keras\\engine\\base_layer.py\u001b[0m in \u001b[0;36m__call__\u001b[1;34m(self, inputs, *args, **kwargs)\u001b[0m\n\u001b[0;32m    632\u001b[0m                     \u001b[0moutputs\u001b[0m \u001b[1;33m=\u001b[0m \u001b[0mbase_layer_utils\u001b[0m\u001b[1;33m.\u001b[0m\u001b[0mmark_as_return\u001b[0m\u001b[1;33m(\u001b[0m\u001b[0moutputs\u001b[0m\u001b[1;33m,\u001b[0m \u001b[0macd\u001b[0m\u001b[1;33m)\u001b[0m\u001b[1;33m\u001b[0m\u001b[1;33m\u001b[0m\u001b[0m\n\u001b[0;32m    633\u001b[0m                 \u001b[1;32melse\u001b[0m\u001b[1;33m:\u001b[0m\u001b[1;33m\u001b[0m\u001b[1;33m\u001b[0m\u001b[0m\n\u001b[1;32m--> 634\u001b[1;33m                   \u001b[0moutputs\u001b[0m \u001b[1;33m=\u001b[0m \u001b[0mcall_fn\u001b[0m\u001b[1;33m(\u001b[0m\u001b[0minputs\u001b[0m\u001b[1;33m,\u001b[0m \u001b[1;33m*\u001b[0m\u001b[0margs\u001b[0m\u001b[1;33m,\u001b[0m \u001b[1;33m**\u001b[0m\u001b[0mkwargs\u001b[0m\u001b[1;33m)\u001b[0m\u001b[1;33m\u001b[0m\u001b[1;33m\u001b[0m\u001b[0m\n\u001b[0m\u001b[0;32m    635\u001b[0m \u001b[1;33m\u001b[0m\u001b[0m\n\u001b[0;32m    636\u001b[0m             \u001b[1;32mexcept\u001b[0m \u001b[0mTypeError\u001b[0m \u001b[1;32mas\u001b[0m \u001b[0me\u001b[0m\u001b[1;33m:\u001b[0m\u001b[1;33m\u001b[0m\u001b[1;33m\u001b[0m\u001b[0m\n",
      "\u001b[1;32m~\\Anaconda3\\lib\\site-packages\\tensorflow\\python\\autograph\\impl\\api.py\u001b[0m in \u001b[0;36mwrapper\u001b[1;34m(*args, **kwargs)\u001b[0m\n\u001b[0;32m    147\u001b[0m       \u001b[1;32mexcept\u001b[0m \u001b[0mException\u001b[0m \u001b[1;32mas\u001b[0m \u001b[0me\u001b[0m\u001b[1;33m:\u001b[0m  \u001b[1;31m# pylint:disable=broad-except\u001b[0m\u001b[1;33m\u001b[0m\u001b[1;33m\u001b[0m\u001b[0m\n\u001b[0;32m    148\u001b[0m         \u001b[1;32mif\u001b[0m \u001b[0mhasattr\u001b[0m\u001b[1;33m(\u001b[0m\u001b[0me\u001b[0m\u001b[1;33m,\u001b[0m \u001b[1;34m'ag_error_metadata'\u001b[0m\u001b[1;33m)\u001b[0m\u001b[1;33m:\u001b[0m\u001b[1;33m\u001b[0m\u001b[1;33m\u001b[0m\u001b[0m\n\u001b[1;32m--> 149\u001b[1;33m           \u001b[1;32mraise\u001b[0m \u001b[0me\u001b[0m\u001b[1;33m.\u001b[0m\u001b[0mag_error_metadata\u001b[0m\u001b[1;33m.\u001b[0m\u001b[0mto_exception\u001b[0m\u001b[1;33m(\u001b[0m\u001b[0mtype\u001b[0m\u001b[1;33m(\u001b[0m\u001b[0me\u001b[0m\u001b[1;33m)\u001b[0m\u001b[1;33m)\u001b[0m\u001b[1;33m\u001b[0m\u001b[1;33m\u001b[0m\u001b[0m\n\u001b[0m\u001b[0;32m    150\u001b[0m         \u001b[1;32melse\u001b[0m\u001b[1;33m:\u001b[0m\u001b[1;33m\u001b[0m\u001b[1;33m\u001b[0m\u001b[0m\n\u001b[0;32m    151\u001b[0m           \u001b[1;32mraise\u001b[0m\u001b[1;33m\u001b[0m\u001b[1;33m\u001b[0m\u001b[0m\n",
      "\u001b[1;31mValueError\u001b[0m: in converted code:\n    relative to C:\\Users\\user\\Anaconda3\\lib\\site-packages\\tensorflow\\python:\n\n    ops\\rnn_cell_impl.py:1719 call *\n        cur_inp, new_state = cell(cur_inp, cur_state)\n    ops\\rnn_cell_impl.py:385 __call__\n        self, inputs, state, scope=scope, *args, **kwargs)\n    ops\\rnn_cell_impl.py:766 call *\n        gate_inputs = math_ops.matmul(\n    util\\dispatch.py:180 wrapper\n        return target(*args, **kwargs)\n    ops\\math_ops.py:2647 matmul\n        a, b, transpose_a=transpose_a, transpose_b=transpose_b, name=name)\n    ops\\gen_math_ops.py:6294 mat_mul\n        name=name)\n    framework\\op_def_library.py:788 _apply_op_helper\n        op_def=op_def)\n    util\\deprecation.py:507 new_func\n        return func(*args, **kwargs)\n    framework\\ops.py:3616 create_op\n        op_def=op_def)\n    framework\\ops.py:2027 __init__\n        control_input_ops)\n    framework\\ops.py:1867 _create_c_op\n        raise ValueError(str(e))\n\n    ValueError: Dimensions must be equal, but are 10 and 8 for 'multi_rnn_cell/rnn/while/rnn/multi_rnn_cell/cell_0/basic_lstm_cell/MatMul_1' (op: 'MatMul') with input shapes: [3,10], [8,20].\n"
     ]
    }
   ],
   "source": [
    "with tf.variable_scope('multi_rnn_cell') as scope:    \n",
    "\n",
    "    cell=tf.contrib.rnn.BasicLSTMCell(num_units=5)\n",
    "    cell=tf.contrib.rnn.MultiRNNCell([cell]*3)#layer 3개\n",
    "    outputs, _states=tf.nn.dynamic_rnn(cell, xdata,dtype=tf.float32)\n",
    "    sess.run(tf.global_variables_initializer())\n",
    "    pp.print(outputs.eval())  \n",
    "    "
   ]
  },
  {
   "cell_type": "code",
   "execution_count": 30,
   "metadata": {},
   "outputs": [
    {
     "ename": "TypeError",
     "evalue": "sequence_loss() missing 1 required positional argument: 'weights'",
     "output_type": "error",
     "traceback": [
      "\u001b[1;31m---------------------------------------------------------------------------\u001b[0m",
      "\u001b[1;31mTypeError\u001b[0m                                 Traceback (most recent call last)",
      "\u001b[1;32m<ipython-input-30-1cea9ba98138>\u001b[0m in \u001b[0;36m<module>\u001b[1;34m\u001b[0m\n\u001b[0;32m      3\u001b[0m \u001b[0mprediction2\u001b[0m\u001b[1;33m=\u001b[0m\u001b[0mtf\u001b[0m\u001b[1;33m.\u001b[0m\u001b[0mconstant\u001b[0m\u001b[1;33m(\u001b[0m\u001b[1;33m[\u001b[0m\u001b[1;33m[\u001b[0m\u001b[1;33m[\u001b[0m\u001b[1;36m0.4\u001b[0m\u001b[1;33m,\u001b[0m \u001b[1;36m0.6\u001b[0m\u001b[1;33m]\u001b[0m\u001b[1;33m,\u001b[0m \u001b[1;33m[\u001b[0m\u001b[1;36m0.4\u001b[0m\u001b[1;33m,\u001b[0m \u001b[1;36m0.6\u001b[0m\u001b[1;33m]\u001b[0m\u001b[1;33m,\u001b[0m \u001b[1;33m[\u001b[0m\u001b[1;36m0.6\u001b[0m\u001b[1;33m,\u001b[0m \u001b[1;36m0.4\u001b[0m\u001b[1;33m]\u001b[0m\u001b[1;33m]\u001b[0m\u001b[1;33m]\u001b[0m\u001b[1;33m)\u001b[0m\u001b[1;33m\u001b[0m\u001b[1;33m\u001b[0m\u001b[0m\n\u001b[0;32m      4\u001b[0m \u001b[1;33m\u001b[0m\u001b[0m\n\u001b[1;32m----> 5\u001b[1;33m \u001b[0mloss1\u001b[0m\u001b[1;33m=\u001b[0m\u001b[0mtf\u001b[0m\u001b[1;33m.\u001b[0m\u001b[0mcontrib\u001b[0m\u001b[1;33m.\u001b[0m\u001b[0mseq2seq\u001b[0m\u001b[1;33m.\u001b[0m\u001b[0msequence_loss\u001b[0m\u001b[1;33m(\u001b[0m\u001b[0mprediction1\u001b[0m\u001b[1;33m,\u001b[0m \u001b[0mydata\u001b[0m\u001b[1;33m)\u001b[0m\u001b[1;33m\u001b[0m\u001b[1;33m\u001b[0m\u001b[0m\n\u001b[0m\u001b[0;32m      6\u001b[0m \u001b[0msess\u001b[0m\u001b[1;33m.\u001b[0m\u001b[0mrun\u001b[0m\u001b[1;33m(\u001b[0m\u001b[0mtf\u001b[0m\u001b[1;33m.\u001b[0m\u001b[0mglobal_variables_initializer\u001b[0m\u001b[1;33m(\u001b[0m\u001b[1;33m)\u001b[0m\u001b[1;33m)\u001b[0m\u001b[1;33m\u001b[0m\u001b[1;33m\u001b[0m\u001b[0m\n\u001b[0;32m      7\u001b[0m \u001b[0mloss1\u001b[0m\u001b[1;33m.\u001b[0m\u001b[0meval\u001b[0m\u001b[1;33m(\u001b[0m\u001b[1;33m)\u001b[0m\u001b[1;33m\u001b[0m\u001b[1;33m\u001b[0m\u001b[0m\n",
      "\u001b[1;31mTypeError\u001b[0m: sequence_loss() missing 1 required positional argument: 'weights'"
     ]
    }
   ],
   "source": [
    "ydata=tf.constant([[1,1,1]])\n",
    "prediction1=tf.constant([[[0.3, 0.7], [0.1, 0.9], [0.3, 0.7]]])\n",
    "prediction2=tf.constant([[[0.4, 0.6], [0.4, 0.6], [0.6, 0.4]]])                         \n",
    "                         \n",
    "loss1=tf.contrib.seq2seq.sequence_loss(prediction1, ydata)\n",
    "sess.run(tf.global_variables_initializer())\n",
    "loss1.eval()                         \n",
    "                                     "
   ]
  },
  {
   "cell_type": "code",
   "execution_count": null,
   "metadata": {},
   "outputs": [],
   "source": []
  },
  {
   "cell_type": "code",
   "execution_count": null,
   "metadata": {},
   "outputs": [],
   "source": []
  },
  {
   "cell_type": "code",
   "execution_count": null,
   "metadata": {},
   "outputs": [],
   "source": []
  }
 ],
 "metadata": {
  "kernelspec": {
   "display_name": "Python 3",
   "language": "python",
   "name": "python3"
  },
  "language_info": {
   "codemirror_mode": {
    "name": "ipython",
    "version": 3
   },
   "file_extension": ".py",
   "mimetype": "text/x-python",
   "name": "python",
   "nbconvert_exporter": "python",
   "pygments_lexer": "ipython3",
   "version": "3.7.3"
  }
 },
 "nbformat": 4,
 "nbformat_minor": 2
}
