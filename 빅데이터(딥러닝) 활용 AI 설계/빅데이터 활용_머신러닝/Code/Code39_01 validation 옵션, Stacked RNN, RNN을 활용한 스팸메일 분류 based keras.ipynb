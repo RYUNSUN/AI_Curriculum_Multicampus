{
  "nbformat": 4,
  "nbformat_minor": 0,
  "metadata": {
    "colab": {
      "name": "Code39-01 validation 옵션, Stacked RNN, RNN을 활용한 스팸메일 분류 based keras .ipynb",
      "version": "0.3.2",
      "provenance": [],
      "collapsed_sections": []
    },
    "kernelspec": {
      "name": "python3",
      "display_name": "Python 3"
    },
    "accelerator": "GPU"
  },
  "cells": [
    {
      "cell_type": "markdown",
      "metadata": {
        "id": "ODCd5ZP6Z8nc",
        "colab_type": "text"
      },
      "source": [
        "## 드라이브 연결"
      ]
    },
    {
      "cell_type": "code",
      "metadata": {
        "id": "wQjc8_cdZ8Fp",
        "colab_type": "code",
        "colab": {
          "base_uri": "https://localhost:8080/",
          "height": 125
        },
        "outputId": "46ced1fb-23a4-4041-9bcf-4b634aad2f1c"
      },
      "source": [
        "from google.colab import drive\n",
        "drive.mount('/content/drive')"
      ],
      "execution_count": 1,
      "outputs": [
        {
          "output_type": "stream",
          "text": [
            "Go to this URL in a browser: https://accounts.google.com/o/oauth2/auth?client_id=947318989803-6bn6qk8qdgf4n4g3pfee6491hc0brc4i.apps.googleusercontent.com&redirect_uri=urn%3Aietf%3Awg%3Aoauth%3A2.0%3Aoob&scope=email%20https%3A%2F%2Fwww.googleapis.com%2Fauth%2Fdocs.test%20https%3A%2F%2Fwww.googleapis.com%2Fauth%2Fdrive%20https%3A%2F%2Fwww.googleapis.com%2Fauth%2Fdrive.photos.readonly%20https%3A%2F%2Fwww.googleapis.com%2Fauth%2Fpeopleapi.readonly&response_type=code\n",
            "\n",
            "Enter your authorization code:\n",
            "··········\n",
            "Mounted at /content/drive\n"
          ],
          "name": "stdout"
        }
      ]
    },
    {
      "cell_type": "markdown",
      "metadata": {
        "id": "3Z2KVCVCBWUD",
        "colab_type": "text"
      },
      "source": [
        "## 검증 옵션"
      ]
    },
    {
      "cell_type": "code",
      "metadata": {
        "id": "v_ysCwoFZ_IM",
        "colab_type": "code",
        "colab": {
          "base_uri": "https://localhost:8080/",
          "height": 1000
        },
        "outputId": "cff5398e-bfca-4e0e-fbce-ac108c3722b2"
      },
      "source": [
        "from keras.utils import np_utils\n",
        "from keras.datasets import mnist\n",
        "from keras.models import Sequential\n",
        "from keras.layers import Dense, Activation\n",
        "import numpy as np\n",
        "\n",
        "np.random.seed(3)\n",
        "\n",
        "# 1. 데이터셋 준비하기\n",
        "\n",
        "# 훈련셋과 시험셋 로딩\n",
        "(X_train, Y_train), (X_test, Y_test) = mnist.load_data()\n",
        "\n",
        "# 훈련셋과 검증셋 분리\n",
        "X_val = X_train[50000:]\n",
        "Y_val = Y_train[50000:]\n",
        "X_train = X_train[:50000]\n",
        "Y_train = Y_train[:50000]\n",
        "\n",
        "X_train = X_train.reshape(50000, 784).astype('float32') / 255.0\n",
        "X_val = X_val.reshape(10000, 784).astype('float32') / 255.0\n",
        "X_test = X_test.reshape(10000, 784).astype('float32') / 255.0\n",
        "\n",
        "# 훈련셋, 검증셋 고르기\n",
        "train_rand_idxs = np.random.choice(50000, 700)\n",
        "val_rand_idxs = np.random.choice(10000, 300)\n",
        "\n",
        "X_train = X_train[train_rand_idxs]\n",
        "Y_train = Y_train[train_rand_idxs]\n",
        "X_val = X_val[val_rand_idxs]\n",
        "Y_val = Y_val[val_rand_idxs]\n",
        "\n",
        "# 라벨링 전환\n",
        "Y_train = np_utils.to_categorical(Y_train)\n",
        "Y_val = np_utils.to_categorical(Y_val)\n",
        "Y_test = np_utils.to_categorical(Y_test)\n",
        "\n",
        "# 2. 모델 구성하기\n",
        "model = Sequential()\n",
        "model.add(Dense(units=2, input_dim=28*28, activation='relu'))\n",
        "model.add(Dense(units=10, activation='softmax'))\n",
        "\n",
        "# 3. 모델 엮기\n",
        "model.compile(loss='categorical_crossentropy', optimizer='sgd', metrics=['accuracy'])\n",
        "\n",
        "# 4. 모델 학습시키기\n",
        "from keras.callbacks import EarlyStopping\n",
        "es=EarlyStopping(patience=20) # 조기 종료 콜백함수 객체\n",
        "hist = model.fit(X_train, Y_train, epochs=1000, batch_size=10, validation_data=(X_val, Y_val), callbacks=[es]) # validation data가 오버핏팅 되기전에 종료\n",
        "\n",
        "# 5. 모델 학습 과정 표시하기\n",
        "%matplotlib inline\n",
        "import matplotlib.pyplot as plt\n",
        "\n",
        "fig, loss_ax = plt.subplots()\n",
        "\n",
        "acc_ax = loss_ax.twinx()\n",
        "\n",
        "loss_ax.plot(hist.history['loss'], 'y', label='train loss')\n",
        "loss_ax.plot(hist.history['val_loss'], 'r', label='val loss')\n",
        "\n",
        "acc_ax.plot(hist.history['acc'], 'b', label='train acc')\n",
        "acc_ax.plot(hist.history['val_acc'], 'g', label='val acc')\n",
        "\n",
        "loss_ax.set_xlabel('epoch')\n",
        "loss_ax.set_ylabel('loss')\n",
        "acc_ax.set_ylabel('accuray')\n",
        "\n",
        "loss_ax.legend(loc='upper left')\n",
        "acc_ax.legend(loc='lower left')\n",
        "\n",
        "plt.show()"
      ],
      "execution_count": 3,
      "outputs": [
        {
          "output_type": "stream",
          "text": [
            "Downloading data from https://s3.amazonaws.com/img-datasets/mnist.npz\n",
            "11493376/11490434 [==============================] - 1s 0us/step\n"
          ],
          "name": "stdout"
        },
        {
          "output_type": "stream",
          "text": [
            "WARNING: Logging before flag parsing goes to stderr.\n",
            "W0827 12:25:38.292765 140255129610112 deprecation_wrapper.py:119] From /usr/local/lib/python3.6/dist-packages/keras/backend/tensorflow_backend.py:74: The name tf.get_default_graph is deprecated. Please use tf.compat.v1.get_default_graph instead.\n",
            "\n",
            "W0827 12:25:38.332387 140255129610112 deprecation_wrapper.py:119] From /usr/local/lib/python3.6/dist-packages/keras/backend/tensorflow_backend.py:517: The name tf.placeholder is deprecated. Please use tf.compat.v1.placeholder instead.\n",
            "\n",
            "W0827 12:25:38.341901 140255129610112 deprecation_wrapper.py:119] From /usr/local/lib/python3.6/dist-packages/keras/backend/tensorflow_backend.py:4138: The name tf.random_uniform is deprecated. Please use tf.random.uniform instead.\n",
            "\n",
            "W0827 12:25:38.373875 140255129610112 deprecation_wrapper.py:119] From /usr/local/lib/python3.6/dist-packages/keras/optimizers.py:790: The name tf.train.Optimizer is deprecated. Please use tf.compat.v1.train.Optimizer instead.\n",
            "\n",
            "W0827 12:25:38.399073 140255129610112 deprecation_wrapper.py:119] From /usr/local/lib/python3.6/dist-packages/keras/backend/tensorflow_backend.py:3295: The name tf.log is deprecated. Please use tf.math.log instead.\n",
            "\n",
            "W0827 12:25:38.527823 140255129610112 deprecation.py:323] From /usr/local/lib/python3.6/dist-packages/tensorflow/python/ops/math_grad.py:1250: add_dispatch_support.<locals>.wrapper (from tensorflow.python.ops.array_ops) is deprecated and will be removed in a future version.\n",
            "Instructions for updating:\n",
            "Use tf.where in 2.0, which has the same broadcast rule as np.where\n",
            "W0827 12:25:38.580985 140255129610112 deprecation_wrapper.py:119] From /usr/local/lib/python3.6/dist-packages/keras/backend/tensorflow_backend.py:986: The name tf.assign_add is deprecated. Please use tf.compat.v1.assign_add instead.\n",
            "\n"
          ],
          "name": "stderr"
        },
        {
          "output_type": "stream",
          "text": [
            "Train on 700 samples, validate on 300 samples\n",
            "Epoch 1/1000\n",
            "700/700 [==============================] - 4s 6ms/step - loss: 2.2576 - acc: 0.1643 - val_loss: 2.2272 - val_acc: 0.1633\n",
            "Epoch 2/1000\n",
            "700/700 [==============================] - 0s 372us/step - loss: 2.2072 - acc: 0.1657 - val_loss: 2.1908 - val_acc: 0.1800\n",
            "Epoch 3/1000\n",
            "700/700 [==============================] - 0s 334us/step - loss: 2.1730 - acc: 0.1729 - val_loss: 2.1631 - val_acc: 0.1867\n",
            "Epoch 4/1000\n",
            "700/700 [==============================] - 0s 362us/step - loss: 2.1441 - acc: 0.1786 - val_loss: 2.1372 - val_acc: 0.1867\n",
            "Epoch 5/1000\n",
            "700/700 [==============================] - 0s 388us/step - loss: 2.1177 - acc: 0.1900 - val_loss: 2.1141 - val_acc: 0.1867\n",
            "Epoch 6/1000\n",
            "700/700 [==============================] - 0s 351us/step - loss: 2.0940 - acc: 0.2029 - val_loss: 2.0931 - val_acc: 0.2033\n",
            "Epoch 7/1000\n",
            "700/700 [==============================] - 0s 384us/step - loss: 2.0721 - acc: 0.2071 - val_loss: 2.0727 - val_acc: 0.2067\n",
            "Epoch 8/1000\n",
            "700/700 [==============================] - 0s 357us/step - loss: 2.0520 - acc: 0.2129 - val_loss: 2.0564 - val_acc: 0.2067\n",
            "Epoch 9/1000\n",
            "700/700 [==============================] - 0s 379us/step - loss: 2.0342 - acc: 0.2157 - val_loss: 2.0410 - val_acc: 0.2033\n",
            "Epoch 10/1000\n",
            "700/700 [==============================] - 0s 386us/step - loss: 2.0190 - acc: 0.2143 - val_loss: 2.0269 - val_acc: 0.2067\n",
            "Epoch 11/1000\n",
            "700/700 [==============================] - 0s 405us/step - loss: 2.0041 - acc: 0.2186 - val_loss: 2.0125 - val_acc: 0.2100\n",
            "Epoch 12/1000\n",
            "700/700 [==============================] - 0s 393us/step - loss: 1.9911 - acc: 0.2200 - val_loss: 2.0037 - val_acc: 0.2100\n",
            "Epoch 13/1000\n",
            "700/700 [==============================] - 0s 384us/step - loss: 1.9789 - acc: 0.2286 - val_loss: 1.9955 - val_acc: 0.2100\n",
            "Epoch 14/1000\n",
            "700/700 [==============================] - 0s 391us/step - loss: 1.9685 - acc: 0.2329 - val_loss: 1.9833 - val_acc: 0.2067\n",
            "Epoch 15/1000\n",
            "700/700 [==============================] - 0s 371us/step - loss: 1.9582 - acc: 0.2214 - val_loss: 1.9753 - val_acc: 0.2100\n",
            "Epoch 16/1000\n",
            "700/700 [==============================] - 0s 388us/step - loss: 1.9484 - acc: 0.2357 - val_loss: 1.9686 - val_acc: 0.2000\n",
            "Epoch 17/1000\n",
            "700/700 [==============================] - 0s 423us/step - loss: 1.9393 - acc: 0.2343 - val_loss: 1.9612 - val_acc: 0.2033\n",
            "Epoch 18/1000\n",
            "700/700 [==============================] - 0s 413us/step - loss: 1.9309 - acc: 0.2314 - val_loss: 1.9537 - val_acc: 0.2100\n",
            "Epoch 19/1000\n",
            "700/700 [==============================] - 0s 399us/step - loss: 1.9232 - acc: 0.2286 - val_loss: 1.9452 - val_acc: 0.2100\n",
            "Epoch 20/1000\n",
            "700/700 [==============================] - 0s 388us/step - loss: 1.9156 - acc: 0.2386 - val_loss: 1.9392 - val_acc: 0.2100\n",
            "Epoch 21/1000\n",
            "700/700 [==============================] - 0s 400us/step - loss: 1.9085 - acc: 0.2343 - val_loss: 1.9363 - val_acc: 0.2100\n",
            "Epoch 22/1000\n",
            "700/700 [==============================] - 0s 438us/step - loss: 1.9011 - acc: 0.2386 - val_loss: 1.9289 - val_acc: 0.2033\n",
            "Epoch 23/1000\n",
            "700/700 [==============================] - 0s 386us/step - loss: 1.8954 - acc: 0.2357 - val_loss: 1.9234 - val_acc: 0.2100\n",
            "Epoch 24/1000\n",
            "700/700 [==============================] - 0s 375us/step - loss: 1.8895 - acc: 0.2314 - val_loss: 1.9201 - val_acc: 0.2067\n",
            "Epoch 25/1000\n",
            "700/700 [==============================] - 0s 392us/step - loss: 1.8830 - acc: 0.2343 - val_loss: 1.9178 - val_acc: 0.2167\n",
            "Epoch 26/1000\n",
            "700/700 [==============================] - 0s 373us/step - loss: 1.8769 - acc: 0.2300 - val_loss: 1.9105 - val_acc: 0.2167\n",
            "Epoch 27/1000\n",
            "700/700 [==============================] - 0s 376us/step - loss: 1.8715 - acc: 0.2357 - val_loss: 1.9098 - val_acc: 0.2167\n",
            "Epoch 28/1000\n",
            "700/700 [==============================] - 0s 379us/step - loss: 1.8662 - acc: 0.2400 - val_loss: 1.9094 - val_acc: 0.2000\n",
            "Epoch 29/1000\n",
            "700/700 [==============================] - 0s 402us/step - loss: 1.8615 - acc: 0.2400 - val_loss: 1.9041 - val_acc: 0.1900\n",
            "Epoch 30/1000\n",
            "700/700 [==============================] - 0s 382us/step - loss: 1.8565 - acc: 0.2243 - val_loss: 1.8976 - val_acc: 0.2167\n",
            "Epoch 31/1000\n",
            "700/700 [==============================] - 0s 401us/step - loss: 1.8513 - acc: 0.2471 - val_loss: 1.8971 - val_acc: 0.1933\n",
            "Epoch 32/1000\n",
            "700/700 [==============================] - 0s 403us/step - loss: 1.8463 - acc: 0.2371 - val_loss: 1.8925 - val_acc: 0.1900\n",
            "Epoch 33/1000\n",
            "700/700 [==============================] - 0s 384us/step - loss: 1.8423 - acc: 0.2229 - val_loss: 1.8874 - val_acc: 0.2067\n",
            "Epoch 34/1000\n",
            "700/700 [==============================] - 0s 409us/step - loss: 1.8382 - acc: 0.2371 - val_loss: 1.8808 - val_acc: 0.1933\n",
            "Epoch 35/1000\n",
            "700/700 [==============================] - 0s 373us/step - loss: 1.8335 - acc: 0.2471 - val_loss: 1.8836 - val_acc: 0.1900\n",
            "Epoch 36/1000\n",
            "700/700 [==============================] - 0s 421us/step - loss: 1.8299 - acc: 0.2343 - val_loss: 1.8756 - val_acc: 0.1967\n",
            "Epoch 37/1000\n",
            "700/700 [==============================] - 0s 395us/step - loss: 1.8257 - acc: 0.2486 - val_loss: 1.8745 - val_acc: 0.1800\n",
            "Epoch 38/1000\n",
            "700/700 [==============================] - 0s 379us/step - loss: 1.8220 - acc: 0.2371 - val_loss: 1.8700 - val_acc: 0.1933\n",
            "Epoch 39/1000\n",
            "700/700 [==============================] - 0s 413us/step - loss: 1.8184 - acc: 0.2457 - val_loss: 1.8706 - val_acc: 0.1767\n",
            "Epoch 40/1000\n",
            "700/700 [==============================] - 0s 383us/step - loss: 1.8144 - acc: 0.2314 - val_loss: 1.8677 - val_acc: 0.2000\n",
            "Epoch 41/1000\n",
            "700/700 [==============================] - 0s 384us/step - loss: 1.8105 - acc: 0.2400 - val_loss: 1.8668 - val_acc: 0.1833\n",
            "Epoch 42/1000\n",
            "700/700 [==============================] - 0s 365us/step - loss: 1.8075 - acc: 0.2471 - val_loss: 1.8635 - val_acc: 0.1800\n",
            "Epoch 43/1000\n",
            "700/700 [==============================] - 0s 415us/step - loss: 1.8046 - acc: 0.2429 - val_loss: 1.8611 - val_acc: 0.1700\n",
            "Epoch 44/1000\n",
            "700/700 [==============================] - 0s 383us/step - loss: 1.8001 - acc: 0.2371 - val_loss: 1.8566 - val_acc: 0.1967\n",
            "Epoch 45/1000\n",
            "700/700 [==============================] - 0s 377us/step - loss: 1.7970 - acc: 0.2429 - val_loss: 1.8564 - val_acc: 0.1700\n",
            "Epoch 46/1000\n",
            "700/700 [==============================] - 0s 392us/step - loss: 1.7939 - acc: 0.2271 - val_loss: 1.8528 - val_acc: 0.1933\n",
            "Epoch 47/1000\n",
            "700/700 [==============================] - 0s 397us/step - loss: 1.7913 - acc: 0.2600 - val_loss: 1.8551 - val_acc: 0.1833\n",
            "Epoch 48/1000\n",
            "700/700 [==============================] - 0s 375us/step - loss: 1.7886 - acc: 0.2471 - val_loss: 1.8543 - val_acc: 0.1867\n",
            "Epoch 49/1000\n",
            "700/700 [==============================] - 0s 391us/step - loss: 1.7858 - acc: 0.2486 - val_loss: 1.8504 - val_acc: 0.1867\n",
            "Epoch 50/1000\n",
            "700/700 [==============================] - 0s 379us/step - loss: 1.7819 - acc: 0.2471 - val_loss: 1.8443 - val_acc: 0.2267\n",
            "Epoch 51/1000\n",
            "700/700 [==============================] - 0s 390us/step - loss: 1.7794 - acc: 0.2643 - val_loss: 1.8468 - val_acc: 0.1900\n",
            "Epoch 52/1000\n",
            "700/700 [==============================] - 0s 370us/step - loss: 1.7762 - acc: 0.2486 - val_loss: 1.8411 - val_acc: 0.1933\n",
            "Epoch 53/1000\n",
            "700/700 [==============================] - 0s 372us/step - loss: 1.7744 - acc: 0.2514 - val_loss: 1.8486 - val_acc: 0.2000\n",
            "Epoch 54/1000\n",
            "700/700 [==============================] - 0s 387us/step - loss: 1.7716 - acc: 0.2700 - val_loss: 1.8472 - val_acc: 0.1800\n",
            "Epoch 55/1000\n",
            "700/700 [==============================] - 0s 386us/step - loss: 1.7687 - acc: 0.2500 - val_loss: 1.8364 - val_acc: 0.2033\n",
            "Epoch 56/1000\n",
            "700/700 [==============================] - 0s 388us/step - loss: 1.7672 - acc: 0.2543 - val_loss: 1.8430 - val_acc: 0.2200\n",
            "Epoch 57/1000\n",
            "700/700 [==============================] - 0s 392us/step - loss: 1.7641 - acc: 0.2714 - val_loss: 1.8390 - val_acc: 0.2167\n",
            "Epoch 58/1000\n",
            "700/700 [==============================] - 0s 394us/step - loss: 1.7616 - acc: 0.2557 - val_loss: 1.8347 - val_acc: 0.2267\n",
            "Epoch 59/1000\n",
            "700/700 [==============================] - 0s 398us/step - loss: 1.7590 - acc: 0.2671 - val_loss: 1.8329 - val_acc: 0.2233\n",
            "Epoch 60/1000\n",
            "700/700 [==============================] - 0s 412us/step - loss: 1.7552 - acc: 0.2614 - val_loss: 1.8256 - val_acc: 0.2500\n",
            "Epoch 61/1000\n",
            "700/700 [==============================] - 0s 396us/step - loss: 1.7566 - acc: 0.2814 - val_loss: 1.8336 - val_acc: 0.2400\n",
            "Epoch 62/1000\n",
            "700/700 [==============================] - 0s 392us/step - loss: 1.7531 - acc: 0.2729 - val_loss: 1.8312 - val_acc: 0.2267\n",
            "Epoch 63/1000\n",
            "700/700 [==============================] - 0s 395us/step - loss: 1.7505 - acc: 0.2857 - val_loss: 1.8299 - val_acc: 0.2000\n",
            "Epoch 64/1000\n",
            "700/700 [==============================] - 0s 380us/step - loss: 1.7484 - acc: 0.2800 - val_loss: 1.8268 - val_acc: 0.2200\n",
            "Epoch 65/1000\n",
            "700/700 [==============================] - 0s 377us/step - loss: 1.7457 - acc: 0.2814 - val_loss: 1.8298 - val_acc: 0.2033\n",
            "Epoch 66/1000\n",
            "700/700 [==============================] - 0s 396us/step - loss: 1.7439 - acc: 0.2786 - val_loss: 1.8296 - val_acc: 0.2067\n",
            "Epoch 67/1000\n",
            "700/700 [==============================] - 0s 387us/step - loss: 1.7419 - acc: 0.2700 - val_loss: 1.8299 - val_acc: 0.2067\n",
            "Epoch 68/1000\n",
            "700/700 [==============================] - 0s 363us/step - loss: 1.7405 - acc: 0.2729 - val_loss: 1.8238 - val_acc: 0.2000\n",
            "Epoch 69/1000\n",
            "700/700 [==============================] - 0s 416us/step - loss: 1.7376 - acc: 0.2814 - val_loss: 1.8298 - val_acc: 0.2167\n",
            "Epoch 70/1000\n",
            "700/700 [==============================] - 0s 397us/step - loss: 1.7356 - acc: 0.2857 - val_loss: 1.8269 - val_acc: 0.2433\n",
            "Epoch 71/1000\n",
            "700/700 [==============================] - 0s 384us/step - loss: 1.7345 - acc: 0.2800 - val_loss: 1.8214 - val_acc: 0.2167\n",
            "Epoch 72/1000\n",
            "700/700 [==============================] - 0s 371us/step - loss: 1.7328 - acc: 0.2857 - val_loss: 1.8226 - val_acc: 0.2133\n",
            "Epoch 73/1000\n",
            "700/700 [==============================] - 0s 396us/step - loss: 1.7298 - acc: 0.2800 - val_loss: 1.8252 - val_acc: 0.2467\n",
            "Epoch 74/1000\n",
            "700/700 [==============================] - 0s 412us/step - loss: 1.7283 - acc: 0.2857 - val_loss: 1.8257 - val_acc: 0.1967\n",
            "Epoch 75/1000\n",
            "700/700 [==============================] - 0s 368us/step - loss: 1.7268 - acc: 0.2786 - val_loss: 1.8190 - val_acc: 0.2267\n",
            "Epoch 76/1000\n",
            "700/700 [==============================] - 0s 392us/step - loss: 1.7255 - acc: 0.2857 - val_loss: 1.8196 - val_acc: 0.2233\n",
            "Epoch 77/1000\n",
            "700/700 [==============================] - 0s 385us/step - loss: 1.7228 - acc: 0.3057 - val_loss: 1.8232 - val_acc: 0.2033\n",
            "Epoch 78/1000\n",
            "700/700 [==============================] - 0s 397us/step - loss: 1.7212 - acc: 0.2857 - val_loss: 1.8187 - val_acc: 0.1933\n",
            "Epoch 79/1000\n",
            "700/700 [==============================] - 0s 381us/step - loss: 1.7199 - acc: 0.2829 - val_loss: 1.8203 - val_acc: 0.2433\n",
            "Epoch 80/1000\n",
            "700/700 [==============================] - 0s 387us/step - loss: 1.7188 - acc: 0.2929 - val_loss: 1.8197 - val_acc: 0.2067\n",
            "Epoch 81/1000\n",
            "700/700 [==============================] - 0s 409us/step - loss: 1.7165 - acc: 0.2843 - val_loss: 1.8256 - val_acc: 0.2067\n",
            "Epoch 82/1000\n",
            "700/700 [==============================] - 0s 378us/step - loss: 1.7142 - acc: 0.2829 - val_loss: 1.8144 - val_acc: 0.2667\n",
            "Epoch 83/1000\n",
            "700/700 [==============================] - 0s 373us/step - loss: 1.7132 - acc: 0.2857 - val_loss: 1.8190 - val_acc: 0.2400\n",
            "Epoch 84/1000\n",
            "700/700 [==============================] - 0s 394us/step - loss: 1.7127 - acc: 0.2986 - val_loss: 1.8220 - val_acc: 0.2167\n",
            "Epoch 85/1000\n",
            "700/700 [==============================] - 0s 400us/step - loss: 1.7097 - acc: 0.2971 - val_loss: 1.8159 - val_acc: 0.2267\n",
            "Epoch 86/1000\n",
            "700/700 [==============================] - 0s 380us/step - loss: 1.7082 - acc: 0.2800 - val_loss: 1.8136 - val_acc: 0.2633\n",
            "Epoch 87/1000\n",
            "700/700 [==============================] - 0s 392us/step - loss: 1.7051 - acc: 0.3100 - val_loss: 1.8191 - val_acc: 0.2733\n",
            "Epoch 88/1000\n",
            "700/700 [==============================] - 0s 415us/step - loss: 1.7062 - acc: 0.3043 - val_loss: 1.8125 - val_acc: 0.2433\n",
            "Epoch 89/1000\n",
            "700/700 [==============================] - 0s 394us/step - loss: 1.7043 - acc: 0.3043 - val_loss: 1.8167 - val_acc: 0.2167\n",
            "Epoch 90/1000\n",
            "700/700 [==============================] - 0s 400us/step - loss: 1.7027 - acc: 0.2843 - val_loss: 1.8151 - val_acc: 0.2233\n",
            "Epoch 91/1000\n",
            "700/700 [==============================] - 0s 378us/step - loss: 1.7017 - acc: 0.3086 - val_loss: 1.8185 - val_acc: 0.2167\n",
            "Epoch 92/1000\n",
            "700/700 [==============================] - 0s 416us/step - loss: 1.6987 - acc: 0.3129 - val_loss: 1.8215 - val_acc: 0.2067\n",
            "Epoch 93/1000\n",
            "700/700 [==============================] - 0s 375us/step - loss: 1.6980 - acc: 0.3071 - val_loss: 1.8173 - val_acc: 0.2767\n",
            "Epoch 94/1000\n",
            "700/700 [==============================] - 0s 419us/step - loss: 1.6970 - acc: 0.3157 - val_loss: 1.8176 - val_acc: 0.2100\n",
            "Epoch 95/1000\n",
            "700/700 [==============================] - 0s 404us/step - loss: 1.6943 - acc: 0.2986 - val_loss: 1.8194 - val_acc: 0.2833\n",
            "Epoch 96/1000\n",
            "700/700 [==============================] - 0s 402us/step - loss: 1.6948 - acc: 0.3014 - val_loss: 1.8095 - val_acc: 0.2233\n",
            "Epoch 97/1000\n",
            "700/700 [==============================] - 0s 385us/step - loss: 1.6930 - acc: 0.3057 - val_loss: 1.8228 - val_acc: 0.2300\n",
            "Epoch 98/1000\n",
            "700/700 [==============================] - 0s 406us/step - loss: 1.6921 - acc: 0.3043 - val_loss: 1.8117 - val_acc: 0.2200\n",
            "Epoch 99/1000\n",
            "700/700 [==============================] - 0s 415us/step - loss: 1.6901 - acc: 0.3129 - val_loss: 1.8252 - val_acc: 0.2233\n",
            "Epoch 100/1000\n",
            "700/700 [==============================] - 0s 374us/step - loss: 1.6890 - acc: 0.3129 - val_loss: 1.8210 - val_acc: 0.2267\n",
            "Epoch 101/1000\n",
            "700/700 [==============================] - 0s 390us/step - loss: 1.6878 - acc: 0.3143 - val_loss: 1.8190 - val_acc: 0.2200\n",
            "Epoch 102/1000\n",
            "700/700 [==============================] - 0s 403us/step - loss: 1.6877 - acc: 0.3014 - val_loss: 1.8219 - val_acc: 0.2300\n",
            "Epoch 103/1000\n",
            "700/700 [==============================] - 0s 391us/step - loss: 1.6843 - acc: 0.3000 - val_loss: 1.8102 - val_acc: 0.2500\n",
            "Epoch 104/1000\n",
            "700/700 [==============================] - 0s 381us/step - loss: 1.6842 - acc: 0.3200 - val_loss: 1.8122 - val_acc: 0.2200\n",
            "Epoch 105/1000\n",
            "700/700 [==============================] - 0s 393us/step - loss: 1.6821 - acc: 0.3071 - val_loss: 1.8063 - val_acc: 0.2067\n",
            "Epoch 106/1000\n",
            "700/700 [==============================] - 0s 399us/step - loss: 1.6814 - acc: 0.3114 - val_loss: 1.8173 - val_acc: 0.2200\n",
            "Epoch 107/1000\n",
            "700/700 [==============================] - 0s 399us/step - loss: 1.6805 - acc: 0.3071 - val_loss: 1.8228 - val_acc: 0.2367\n",
            "Epoch 108/1000\n",
            "700/700 [==============================] - 0s 384us/step - loss: 1.6784 - acc: 0.3071 - val_loss: 1.8167 - val_acc: 0.2767\n",
            "Epoch 109/1000\n",
            "700/700 [==============================] - 0s 382us/step - loss: 1.6782 - acc: 0.3143 - val_loss: 1.8178 - val_acc: 0.2300\n",
            "Epoch 110/1000\n",
            "700/700 [==============================] - 0s 414us/step - loss: 1.6775 - acc: 0.3171 - val_loss: 1.8147 - val_acc: 0.2133\n",
            "Epoch 111/1000\n",
            "700/700 [==============================] - 0s 380us/step - loss: 1.6775 - acc: 0.3043 - val_loss: 1.8173 - val_acc: 0.2233\n",
            "Epoch 112/1000\n",
            "700/700 [==============================] - 0s 381us/step - loss: 1.6745 - acc: 0.3129 - val_loss: 1.8193 - val_acc: 0.2267\n",
            "Epoch 113/1000\n",
            "700/700 [==============================] - 0s 378us/step - loss: 1.6737 - acc: 0.3100 - val_loss: 1.8196 - val_acc: 0.2300\n",
            "Epoch 114/1000\n",
            "700/700 [==============================] - 0s 391us/step - loss: 1.6724 - acc: 0.3014 - val_loss: 1.8221 - val_acc: 0.2300\n",
            "Epoch 115/1000\n",
            "700/700 [==============================] - 0s 387us/step - loss: 1.6711 - acc: 0.3071 - val_loss: 1.8128 - val_acc: 0.2333\n",
            "Epoch 116/1000\n",
            "700/700 [==============================] - 0s 374us/step - loss: 1.6703 - acc: 0.3157 - val_loss: 1.8255 - val_acc: 0.2300\n",
            "Epoch 117/1000\n",
            "700/700 [==============================] - 0s 398us/step - loss: 1.6694 - acc: 0.3100 - val_loss: 1.8228 - val_acc: 0.2333\n",
            "Epoch 118/1000\n",
            "700/700 [==============================] - 0s 444us/step - loss: 1.6682 - acc: 0.3114 - val_loss: 1.8262 - val_acc: 0.2333\n",
            "Epoch 119/1000\n",
            "700/700 [==============================] - 0s 396us/step - loss: 1.6670 - acc: 0.3257 - val_loss: 1.8216 - val_acc: 0.2200\n",
            "Epoch 120/1000\n",
            "700/700 [==============================] - 0s 399us/step - loss: 1.6661 - acc: 0.3129 - val_loss: 1.8219 - val_acc: 0.2200\n",
            "Epoch 121/1000\n",
            "700/700 [==============================] - 0s 397us/step - loss: 1.6646 - acc: 0.3071 - val_loss: 1.8132 - val_acc: 0.2233\n",
            "Epoch 122/1000\n",
            "700/700 [==============================] - 0s 372us/step - loss: 1.6637 - acc: 0.3229 - val_loss: 1.8194 - val_acc: 0.2200\n",
            "Epoch 123/1000\n",
            "700/700 [==============================] - 0s 365us/step - loss: 1.6629 - acc: 0.3100 - val_loss: 1.8139 - val_acc: 0.2200\n",
            "Epoch 124/1000\n",
            "700/700 [==============================] - 0s 383us/step - loss: 1.6619 - acc: 0.3143 - val_loss: 1.8187 - val_acc: 0.2267\n",
            "Epoch 125/1000\n",
            "700/700 [==============================] - 0s 400us/step - loss: 1.6606 - acc: 0.3257 - val_loss: 1.8212 - val_acc: 0.2333\n"
          ],
          "name": "stdout"
        },
        {
          "output_type": "display_data",
          "data": {
            "image/png": "[encoded data removed]",
            "text/plain": [
              "<Figure size 432x288 with 2 Axes>"
            ]
          },
          "metadata": {
            "tags": []
          }
        }
      ]
    },
    {
      "cell_type": "markdown",
      "metadata": {
        "id": "xtddLBtti-6m",
        "colab_type": "text"
      },
      "source": [
        "## stacked rnn"
      ]
    },
    {
      "cell_type": "code",
      "metadata": {
        "id": "lSv3GJADehVa",
        "colab_type": "code",
        "colab": {
          "base_uri": "https://localhost:8080/",
          "height": 34
        },
        "outputId": "e3112b64-8c27-4dc5-868e-15ea3c65a1ce"
      },
      "source": [
        "sentence= (\"The regret after not doing something is bigger than that of doing something \"\n",
        "            \"Ability is decided by one's own effort \"\n",
        "            \"The difficulty in life is the choice.\")\n",
        "sentence"
      ],
      "execution_count": 163,
      "outputs": [
        {
          "output_type": "execute_result",
          "data": {
            "text/plain": [
              "\"The regret after not doing something is bigger than that of doing something Ability is decided by one's own effort The difficulty in life is the choice.\""
            ]
          },
          "metadata": {
            "tags": []
          },
          "execution_count": 163
        }
      ]
    },
    {
      "cell_type": "code",
      "metadata": {
        "id": "6VvMC-KmjIXs",
        "colab_type": "code",
        "colab": {}
      },
      "source": [
        "import tensorflow as tf\n",
        "import numpy as np\n",
        "from tensorflow.contrib import rnn"
      ],
      "execution_count": 0,
      "outputs": []
    },
    {
      "cell_type": "code",
      "metadata": {
        "id": "CObNEtUKnn-w",
        "colab_type": "code",
        "colab": {}
      },
      "source": [
        "tf.reset_default_graph()"
      ],
      "execution_count": 0,
      "outputs": []
    },
    {
      "cell_type": "code",
      "metadata": {
        "id": "EWJBjDZlns5l",
        "colab_type": "code",
        "colab": {}
      },
      "source": [
        "charSet=list(set(sentence)) # 중복되는 문자 없이 집합을 얻어낼 수 잇음\n",
        "charDic={w:i for i, w in enumerate(charSet)}"
      ],
      "execution_count": 0,
      "outputs": []
    },
    {
      "cell_type": "code",
      "metadata": {
        "id": "A7IG0JAInt-6",
        "colab_type": "code",
        "colab": {
          "base_uri": "https://localhost:8080/",
          "height": 439
        },
        "outputId": "531f9fbf-9972-4c1d-976d-72de3482824b"
      },
      "source": [
        "charDic"
      ],
      "execution_count": 170,
      "outputs": [
        {
          "output_type": "execute_result",
          "data": {
            "text/plain": [
              "{' ': 13,\n",
              " \"'\": 15,\n",
              " '.': 16,\n",
              " 'A': 12,\n",
              " 'T': 5,\n",
              " 'a': 20,\n",
              " 'b': 10,\n",
              " 'c': 1,\n",
              " 'd': 21,\n",
              " 'e': 8,\n",
              " 'f': 18,\n",
              " 'g': 9,\n",
              " 'h': 11,\n",
              " 'i': 0,\n",
              " 'l': 23,\n",
              " 'm': 3,\n",
              " 'n': 4,\n",
              " 'o': 7,\n",
              " 'r': 6,\n",
              " 's': 22,\n",
              " 't': 17,\n",
              " 'u': 19,\n",
              " 'w': 2,\n",
              " 'y': 14}"
            ]
          },
          "metadata": {
            "tags": []
          },
          "execution_count": 170
        }
      ]
    },
    {
      "cell_type": "code",
      "metadata": {
        "id": "EQ5Tg3PNoJci",
        "colab_type": "code",
        "colab": {}
      },
      "source": [
        "data_dim=len(charDic) # input_dim = 24차원\n",
        "num_classes=hidden_size=data_dim\n",
        "sequence_length=10\n",
        "learning_rate=0.1"
      ],
      "execution_count": 0,
      "outputs": []
    },
    {
      "cell_type": "code",
      "metadata": {
        "id": "Ymoqrshooe97",
        "colab_type": "code",
        "colab": {}
      },
      "source": [
        "datax=[]\n",
        "datay=[]\n",
        "# len(sentence) # 글자수 152\n",
        "for i in range(0, len(sentence)-sequence_length): #(0~152-10) => (0,142)\n",
        "  xstr=sentence[i:i+sequence_length] # 0~9\n",
        "  ystr=sentence[i+1:i+sequence_length+1] # 1~10\n",
        "  # print(i,xstr,\"->\",ystr)\n",
        "  x=[charDic[c] for c in xstr] # c를 수치화\n",
        "  y=[charDic[c] for c in ystr]\n",
        "#   print(x)\n",
        "#   print(y)\n",
        "  datax.append(x)\n",
        "  datay.append(y)\n",
        "  \n",
        "batch_size=len(datax) # 142\n"
      ],
      "execution_count": 0,
      "outputs": []
    },
    {
      "cell_type": "code",
      "metadata": {
        "id": "VMXuGkouo9q6",
        "colab_type": "code",
        "colab": {
          "base_uri": "https://localhost:8080/",
          "height": 34
        },
        "outputId": "008c9144-7bab-46a3-dd43-d5f1b6461a10"
      },
      "source": [
        "x=tf.placeholder(tf.int32, shape=[None,sequence_length])\n",
        "y=tf.placeholder(tf.int32, shape=[None,sequence_length])\n",
        "\n",
        "x_one_hot=tf.one_hot(x, num_classes) \n",
        "print(x_one_hot)\n",
        "\n",
        "def lstm_cell():\n",
        "  cell=rnn.BasicLSTMCell(hidden_size)\n",
        "  return cell\n",
        "\n",
        "multi_cells=rnn.MultiRNNCell([lstm_cell() for _ in range(2)])\n",
        "outputs, _states=tf.nn.dynamic_rnn(multi_cells, x_one_hot, dtype=tf.float32)\n",
        "\n",
        "# fully conneted 하기 위해 출력 결과를 hidden_size 길이 만큼 쭉 펼치기\n",
        "xforfc=tf.reshape(outputs,[-1, hidden_size])\n",
        "outputs=tf.contrib.layers.fully_connected(xforfc, num_classes, activation_fn=None)\n",
        "outputs=tf.reshape(outputs, [batch_size, sequence_length, num_classes])\n",
        "weights=tf.ones([batch_size, sequence_length])\n",
        "sequence_loss=tf.contrib.seq2seq.sequence_loss(\n",
        "logits=outputs, targets=y, weights=weights)\n",
        "meanLoss=tf.reduce_mean(sequence_loss)\n",
        "train=tf.train.AdamOptimizer(learning_rate=learning_rate).minimize(meanLoss)"
      ],
      "execution_count": 173,
      "outputs": [
        {
          "output_type": "stream",
          "text": [
            "Tensor(\"one_hot:0\", shape=(?, 10, 24), dtype=float32)\n"
          ],
          "name": "stdout"
        }
      ]
    },
    {
      "cell_type": "code",
      "metadata": {
        "id": "jqlT3xvCrkrh",
        "colab_type": "code",
        "colab": {
          "base_uri": "https://localhost:8080/",
          "height": 34
        },
        "outputId": "a149f4f6-e98f-402d-af03-84dd8eefef75"
      },
      "source": [
        "sess=tf.Session()\n",
        "sess.run(tf.global_variables_initializer())\n",
        "for i in range(500):\n",
        "  _, cv, res=sess.run([train, meanLoss, outputs], feed_dict={x:datax,y:datay})\n",
        "  for j, result in enumerate(res):\n",
        "    index=np.argmax(result, axis=1)\n",
        "#     print(i,j,\" \".join([charSet[t] for t in index]), cv)\n",
        "\n",
        "res=sess.run(outputs, feed_dict={x:datax})\n",
        "# print(res)\n",
        "for j, result in enumerate(res):\n",
        "  index=np.argmax(result, 1)\n",
        "  if j is 0:\n",
        "    print(\"\".join([charSet[t] for t in index]), end=\"\")\n",
        "  print(charSet[index[-1]],end=\"\")"
      ],
      "execution_count": 174,
      "outputs": [
        {
          "output_type": "stream",
          "text": [
            "he regret  after not doing something As bigger than that of doing something Ability is decided by one's own effort The difficulty in life is the choice."
          ],
          "name": "stdout"
        }
      ]
    },
    {
      "cell_type": "markdown",
      "metadata": {
        "id": "3no9Jln04Nn_",
        "colab_type": "text"
      },
      "source": [
        "## rnn을 활용한 스팸메일 분류 based keras"
      ]
    },
    {
      "cell_type": "code",
      "metadata": {
        "id": "QNCue3AZ24cA",
        "colab_type": "code",
        "colab": {}
      },
      "source": [
        "import pandas as pd\n",
        "data=pd.read_csv(\"/content/drive/My Drive/빅데이터(딥러닝) 활용 AI 설계/빅데이터 활용_머신러닝/Data/data/spam.csv\", encoding=\"latin1\")"
      ],
      "execution_count": 0,
      "outputs": []
    },
    {
      "cell_type": "code",
      "metadata": {
        "id": "owPQEjcz24Y4",
        "colab_type": "code",
        "colab": {
          "base_uri": "https://localhost:8080/",
          "height": 195
        },
        "outputId": "2c922e0a-056c-42aa-e471-c8b2ebf5314a"
      },
      "source": [
        "data.head()"
      ],
      "execution_count": 216,
      "outputs": [
        {
          "output_type": "execute_result",
          "data": {
            "text/html": [
              "<div>\n",
              "<style scoped>\n",
              "    .dataframe tbody tr th:only-of-type {\n",
              "        vertical-align: middle;\n",
              "    }\n",
              "\n",
              "    .dataframe tbody tr th {\n",
              "        vertical-align: top;\n",
              "    }\n",
              "\n",
              "    .dataframe thead th {\n",
              "        text-align: right;\n",
              "    }\n",
              "</style>\n",
              "<table border=\"1\" class=\"dataframe\">\n",
              "  <thead>\n",
              "    <tr style=\"text-align: right;\">\n",
              "      <th></th>\n",
              "      <th>v1</th>\n",
              "      <th>v2</th>\n",
              "      <th>Unnamed: 2</th>\n",
              "      <th>Unnamed: 3</th>\n",
              "      <th>Unnamed: 4</th>\n",
              "    </tr>\n",
              "  </thead>\n",
              "  <tbody>\n",
              "    <tr>\n",
              "      <th>0</th>\n",
              "      <td>ham</td>\n",
              "      <td>Go until jurong point, crazy.. Available only ...</td>\n",
              "      <td>NaN</td>\n",
              "      <td>NaN</td>\n",
              "      <td>NaN</td>\n",
              "    </tr>\n",
              "    <tr>\n",
              "      <th>1</th>\n",
              "      <td>ham</td>\n",
              "      <td>Ok lar... Joking wif u oni...</td>\n",
              "      <td>NaN</td>\n",
              "      <td>NaN</td>\n",
              "      <td>NaN</td>\n",
              "    </tr>\n",
              "    <tr>\n",
              "      <th>2</th>\n",
              "      <td>spam</td>\n",
              "      <td>Free entry in 2 a wkly comp to win FA Cup fina...</td>\n",
              "      <td>NaN</td>\n",
              "      <td>NaN</td>\n",
              "      <td>NaN</td>\n",
              "    </tr>\n",
              "    <tr>\n",
              "      <th>3</th>\n",
              "      <td>ham</td>\n",
              "      <td>U dun say so early hor... U c already then say...</td>\n",
              "      <td>NaN</td>\n",
              "      <td>NaN</td>\n",
              "      <td>NaN</td>\n",
              "    </tr>\n",
              "    <tr>\n",
              "      <th>4</th>\n",
              "      <td>ham</td>\n",
              "      <td>Nah I don't think he goes to usf, he lives aro...</td>\n",
              "      <td>NaN</td>\n",
              "      <td>NaN</td>\n",
              "      <td>NaN</td>\n",
              "    </tr>\n",
              "  </tbody>\n",
              "</table>\n",
              "</div>"
            ],
            "text/plain": [
              "     v1  ... Unnamed: 4\n",
              "0   ham  ...        NaN\n",
              "1   ham  ...        NaN\n",
              "2  spam  ...        NaN\n",
              "3   ham  ...        NaN\n",
              "4   ham  ...        NaN\n",
              "\n",
              "[5 rows x 5 columns]"
            ]
          },
          "metadata": {
            "tags": []
          },
          "execution_count": 216
        }
      ]
    },
    {
      "cell_type": "code",
      "metadata": {
        "id": "r1yujiNr24Vy",
        "colab_type": "code",
        "colab": {
          "base_uri": "https://localhost:8080/",
          "height": 193
        },
        "outputId": "6141808b-d057-407f-f28f-b667edb50e91"
      },
      "source": [
        "data.info()\n",
        "del data['Unnamed: 2']\n",
        "del data['Unnamed: 3']\n",
        "del data['Unnamed: 4']"
      ],
      "execution_count": 217,
      "outputs": [
        {
          "output_type": "stream",
          "text": [
            "<class 'pandas.core.frame.DataFrame'>\n",
            "RangeIndex: 5572 entries, 0 to 5571\n",
            "Data columns (total 5 columns):\n",
            "v1            5572 non-null object\n",
            "v2            5572 non-null object\n",
            "Unnamed: 2    50 non-null object\n",
            "Unnamed: 3    12 non-null object\n",
            "Unnamed: 4    6 non-null object\n",
            "dtypes: object(5)\n",
            "memory usage: 217.7+ KB\n"
          ],
          "name": "stdout"
        }
      ]
    },
    {
      "cell_type": "code",
      "metadata": {
        "id": "g3drHDmy24Px",
        "colab_type": "code",
        "colab": {
          "base_uri": "https://localhost:8080/",
          "height": 1000
        },
        "outputId": "d958b983-7b9c-4ad2-e0c9-1d82a2c8af46"
      },
      "source": [
        "# ham->0 , spam->1 변경\n",
        "data['v1']=data['v1'].replace(['ham','spam'],[0,1])\n",
        "data "
      ],
      "execution_count": 218,
      "outputs": [
        {
          "output_type": "execute_result",
          "data": {
            "text/html": [
              "<div>\n",
              "<style scoped>\n",
              "    .dataframe tbody tr th:only-of-type {\n",
              "        vertical-align: middle;\n",
              "    }\n",
              "\n",
              "    .dataframe tbody tr th {\n",
              "        vertical-align: top;\n",
              "    }\n",
              "\n",
              "    .dataframe thead th {\n",
              "        text-align: right;\n",
              "    }\n",
              "</style>\n",
              "<table border=\"1\" class=\"dataframe\">\n",
              "  <thead>\n",
              "    <tr style=\"text-align: right;\">\n",
              "      <th></th>\n",
              "      <th>v1</th>\n",
              "      <th>v2</th>\n",
              "    </tr>\n",
              "  </thead>\n",
              "  <tbody>\n",
              "    <tr>\n",
              "      <th>0</th>\n",
              "      <td>0</td>\n",
              "      <td>Go until jurong point, crazy.. Available only ...</td>\n",
              "    </tr>\n",
              "    <tr>\n",
              "      <th>1</th>\n",
              "      <td>0</td>\n",
              "      <td>Ok lar... Joking wif u oni...</td>\n",
              "    </tr>\n",
              "    <tr>\n",
              "      <th>2</th>\n",
              "      <td>1</td>\n",
              "      <td>Free entry in 2 a wkly comp to win FA Cup fina...</td>\n",
              "    </tr>\n",
              "    <tr>\n",
              "      <th>3</th>\n",
              "      <td>0</td>\n",
              "      <td>U dun say so early hor... U c already then say...</td>\n",
              "    </tr>\n",
              "    <tr>\n",
              "      <th>4</th>\n",
              "      <td>0</td>\n",
              "      <td>Nah I don't think he goes to usf, he lives aro...</td>\n",
              "    </tr>\n",
              "    <tr>\n",
              "      <th>5</th>\n",
              "      <td>1</td>\n",
              "      <td>FreeMsg Hey there darling it's been 3 week's n...</td>\n",
              "    </tr>\n",
              "    <tr>\n",
              "      <th>6</th>\n",
              "      <td>0</td>\n",
              "      <td>Even my brother is not like to speak with me. ...</td>\n",
              "    </tr>\n",
              "    <tr>\n",
              "      <th>7</th>\n",
              "      <td>0</td>\n",
              "      <td>As per your request 'Melle Melle (Oru Minnamin...</td>\n",
              "    </tr>\n",
              "    <tr>\n",
              "      <th>8</th>\n",
              "      <td>1</td>\n",
              "      <td>WINNER!! As a valued network customer you have...</td>\n",
              "    </tr>\n",
              "    <tr>\n",
              "      <th>9</th>\n",
              "      <td>1</td>\n",
              "      <td>Had your mobile 11 months or more? U R entitle...</td>\n",
              "    </tr>\n",
              "    <tr>\n",
              "      <th>10</th>\n",
              "      <td>0</td>\n",
              "      <td>I'm gonna be home soon and i don't want to tal...</td>\n",
              "    </tr>\n",
              "    <tr>\n",
              "      <th>11</th>\n",
              "      <td>1</td>\n",
              "      <td>SIX chances to win CASH! From 100 to 20,000 po...</td>\n",
              "    </tr>\n",
              "    <tr>\n",
              "      <th>12</th>\n",
              "      <td>1</td>\n",
              "      <td>URGENT! You have won a 1 week FREE membership ...</td>\n",
              "    </tr>\n",
              "    <tr>\n",
              "      <th>13</th>\n",
              "      <td>0</td>\n",
              "      <td>I've been searching for the right words to tha...</td>\n",
              "    </tr>\n",
              "    <tr>\n",
              "      <th>14</th>\n",
              "      <td>0</td>\n",
              "      <td>I HAVE A DATE ON SUNDAY WITH WILL!!</td>\n",
              "    </tr>\n",
              "    <tr>\n",
              "      <th>15</th>\n",
              "      <td>1</td>\n",
              "      <td>XXXMobileMovieClub: To use your credit, click ...</td>\n",
              "    </tr>\n",
              "    <tr>\n",
              "      <th>16</th>\n",
              "      <td>0</td>\n",
              "      <td>Oh k...i'm watching here:)</td>\n",
              "    </tr>\n",
              "    <tr>\n",
              "      <th>17</th>\n",
              "      <td>0</td>\n",
              "      <td>Eh u remember how 2 spell his name... Yes i di...</td>\n",
              "    </tr>\n",
              "    <tr>\n",
              "      <th>18</th>\n",
              "      <td>0</td>\n",
              "      <td>Fine if thatåÕs the way u feel. ThatåÕs the wa...</td>\n",
              "    </tr>\n",
              "    <tr>\n",
              "      <th>19</th>\n",
              "      <td>1</td>\n",
              "      <td>England v Macedonia - dont miss the goals/team...</td>\n",
              "    </tr>\n",
              "    <tr>\n",
              "      <th>20</th>\n",
              "      <td>0</td>\n",
              "      <td>Is that seriously how you spell his name?</td>\n",
              "    </tr>\n",
              "    <tr>\n",
              "      <th>21</th>\n",
              "      <td>0</td>\n",
              "      <td>IÛ÷m going to try for 2 months ha ha only joking</td>\n",
              "    </tr>\n",
              "    <tr>\n",
              "      <th>22</th>\n",
              "      <td>0</td>\n",
              "      <td>So Ì_ pay first lar... Then when is da stock c...</td>\n",
              "    </tr>\n",
              "    <tr>\n",
              "      <th>23</th>\n",
              "      <td>0</td>\n",
              "      <td>Aft i finish my lunch then i go str down lor. ...</td>\n",
              "    </tr>\n",
              "    <tr>\n",
              "      <th>24</th>\n",
              "      <td>0</td>\n",
              "      <td>Ffffffffff. Alright no way I can meet up with ...</td>\n",
              "    </tr>\n",
              "    <tr>\n",
              "      <th>25</th>\n",
              "      <td>0</td>\n",
              "      <td>Just forced myself to eat a slice. I'm really ...</td>\n",
              "    </tr>\n",
              "    <tr>\n",
              "      <th>26</th>\n",
              "      <td>0</td>\n",
              "      <td>Lol your always so convincing.</td>\n",
              "    </tr>\n",
              "    <tr>\n",
              "      <th>27</th>\n",
              "      <td>0</td>\n",
              "      <td>Did you catch the bus ? Are you frying an egg ...</td>\n",
              "    </tr>\n",
              "    <tr>\n",
              "      <th>28</th>\n",
              "      <td>0</td>\n",
              "      <td>I'm back &amp;amp; we're packing the car now, I'll...</td>\n",
              "    </tr>\n",
              "    <tr>\n",
              "      <th>29</th>\n",
              "      <td>0</td>\n",
              "      <td>Ahhh. Work. I vaguely remember that! What does...</td>\n",
              "    </tr>\n",
              "    <tr>\n",
              "      <th>...</th>\n",
              "      <td>...</td>\n",
              "      <td>...</td>\n",
              "    </tr>\n",
              "    <tr>\n",
              "      <th>5542</th>\n",
              "      <td>0</td>\n",
              "      <td>Armand says get your ass over to epsilon</td>\n",
              "    </tr>\n",
              "    <tr>\n",
              "      <th>5543</th>\n",
              "      <td>0</td>\n",
              "      <td>U still havent got urself a jacket ah?</td>\n",
              "    </tr>\n",
              "    <tr>\n",
              "      <th>5544</th>\n",
              "      <td>0</td>\n",
              "      <td>I'm taking derek &amp;amp; taylor to walmart, if I...</td>\n",
              "    </tr>\n",
              "    <tr>\n",
              "      <th>5545</th>\n",
              "      <td>0</td>\n",
              "      <td>Hi its in durban are you still on this number</td>\n",
              "    </tr>\n",
              "    <tr>\n",
              "      <th>5546</th>\n",
              "      <td>0</td>\n",
              "      <td>Ic. There are a lotta childporn cars then.</td>\n",
              "    </tr>\n",
              "    <tr>\n",
              "      <th>5547</th>\n",
              "      <td>1</td>\n",
              "      <td>Had your contract mobile 11 Mnths? Latest Moto...</td>\n",
              "    </tr>\n",
              "    <tr>\n",
              "      <th>5548</th>\n",
              "      <td>0</td>\n",
              "      <td>No, I was trying it all weekend ;V</td>\n",
              "    </tr>\n",
              "    <tr>\n",
              "      <th>5549</th>\n",
              "      <td>0</td>\n",
              "      <td>You know, wot people wear. T shirts, jumpers, ...</td>\n",
              "    </tr>\n",
              "    <tr>\n",
              "      <th>5550</th>\n",
              "      <td>0</td>\n",
              "      <td>Cool, what time you think you can get here?</td>\n",
              "    </tr>\n",
              "    <tr>\n",
              "      <th>5551</th>\n",
              "      <td>0</td>\n",
              "      <td>Wen did you get so spiritual and deep. That's ...</td>\n",
              "    </tr>\n",
              "    <tr>\n",
              "      <th>5552</th>\n",
              "      <td>0</td>\n",
              "      <td>Have a safe trip to Nigeria. Wish you happines...</td>\n",
              "    </tr>\n",
              "    <tr>\n",
              "      <th>5553</th>\n",
              "      <td>0</td>\n",
              "      <td>Hahaha..use your brain dear</td>\n",
              "    </tr>\n",
              "    <tr>\n",
              "      <th>5554</th>\n",
              "      <td>0</td>\n",
              "      <td>Well keep in mind I've only got enough gas for...</td>\n",
              "    </tr>\n",
              "    <tr>\n",
              "      <th>5555</th>\n",
              "      <td>0</td>\n",
              "      <td>Yeh. Indians was nice. Tho it did kane me off ...</td>\n",
              "    </tr>\n",
              "    <tr>\n",
              "      <th>5556</th>\n",
              "      <td>0</td>\n",
              "      <td>Yes i have. So that's why u texted. Pshew...mi...</td>\n",
              "    </tr>\n",
              "    <tr>\n",
              "      <th>5557</th>\n",
              "      <td>0</td>\n",
              "      <td>No. I meant the calculation is the same. That ...</td>\n",
              "    </tr>\n",
              "    <tr>\n",
              "      <th>5558</th>\n",
              "      <td>0</td>\n",
              "      <td>Sorry, I'll call later</td>\n",
              "    </tr>\n",
              "    <tr>\n",
              "      <th>5559</th>\n",
              "      <td>0</td>\n",
              "      <td>if you aren't here in the next  &amp;lt;#&amp;gt;  hou...</td>\n",
              "    </tr>\n",
              "    <tr>\n",
              "      <th>5560</th>\n",
              "      <td>0</td>\n",
              "      <td>Anything lor. Juz both of us lor.</td>\n",
              "    </tr>\n",
              "    <tr>\n",
              "      <th>5561</th>\n",
              "      <td>0</td>\n",
              "      <td>Get me out of this dump heap. My mom decided t...</td>\n",
              "    </tr>\n",
              "    <tr>\n",
              "      <th>5562</th>\n",
              "      <td>0</td>\n",
              "      <td>Ok lor... Sony ericsson salesman... I ask shuh...</td>\n",
              "    </tr>\n",
              "    <tr>\n",
              "      <th>5563</th>\n",
              "      <td>0</td>\n",
              "      <td>Ard 6 like dat lor.</td>\n",
              "    </tr>\n",
              "    <tr>\n",
              "      <th>5564</th>\n",
              "      <td>0</td>\n",
              "      <td>Why don't you wait 'til at least wednesday to ...</td>\n",
              "    </tr>\n",
              "    <tr>\n",
              "      <th>5565</th>\n",
              "      <td>0</td>\n",
              "      <td>Huh y lei...</td>\n",
              "    </tr>\n",
              "    <tr>\n",
              "      <th>5566</th>\n",
              "      <td>1</td>\n",
              "      <td>REMINDER FROM O2: To get 2.50 pounds free call...</td>\n",
              "    </tr>\n",
              "    <tr>\n",
              "      <th>5567</th>\n",
              "      <td>1</td>\n",
              "      <td>This is the 2nd time we have tried 2 contact u...</td>\n",
              "    </tr>\n",
              "    <tr>\n",
              "      <th>5568</th>\n",
              "      <td>0</td>\n",
              "      <td>Will Ì_ b going to esplanade fr home?</td>\n",
              "    </tr>\n",
              "    <tr>\n",
              "      <th>5569</th>\n",
              "      <td>0</td>\n",
              "      <td>Pity, * was in mood for that. So...any other s...</td>\n",
              "    </tr>\n",
              "    <tr>\n",
              "      <th>5570</th>\n",
              "      <td>0</td>\n",
              "      <td>The guy did some bitching but I acted like i'd...</td>\n",
              "    </tr>\n",
              "    <tr>\n",
              "      <th>5571</th>\n",
              "      <td>0</td>\n",
              "      <td>Rofl. Its true to its name</td>\n",
              "    </tr>\n",
              "  </tbody>\n",
              "</table>\n",
              "<p>5572 rows × 2 columns</p>\n",
              "</div>"
            ],
            "text/plain": [
              "      v1                                                 v2\n",
              "0      0  Go until jurong point, crazy.. Available only ...\n",
              "1      0                      Ok lar... Joking wif u oni...\n",
              "2      1  Free entry in 2 a wkly comp to win FA Cup fina...\n",
              "3      0  U dun say so early hor... U c already then say...\n",
              "4      0  Nah I don't think he goes to usf, he lives aro...\n",
              "5      1  FreeMsg Hey there darling it's been 3 week's n...\n",
              "6      0  Even my brother is not like to speak with me. ...\n",
              "7      0  As per your request 'Melle Melle (Oru Minnamin...\n",
              "8      1  WINNER!! As a valued network customer you have...\n",
              "9      1  Had your mobile 11 months or more? U R entitle...\n",
              "10     0  I'm gonna be home soon and i don't want to tal...\n",
              "11     1  SIX chances to win CASH! From 100 to 20,000 po...\n",
              "12     1  URGENT! You have won a 1 week FREE membership ...\n",
              "13     0  I've been searching for the right words to tha...\n",
              "14     0                I HAVE A DATE ON SUNDAY WITH WILL!!\n",
              "15     1  XXXMobileMovieClub: To use your credit, click ...\n",
              "16     0                         Oh k...i'm watching here:)\n",
              "17     0  Eh u remember how 2 spell his name... Yes i di...\n",
              "18     0  Fine if thatåÕs the way u feel. ThatåÕs the wa...\n",
              "19     1  England v Macedonia - dont miss the goals/team...\n",
              "20     0          Is that seriously how you spell his name?\n",
              "21     0  IÛ÷m going to try for 2 months ha ha only joking\n",
              "22     0  So Ì_ pay first lar... Then when is da stock c...\n",
              "23     0  Aft i finish my lunch then i go str down lor. ...\n",
              "24     0  Ffffffffff. Alright no way I can meet up with ...\n",
              "25     0  Just forced myself to eat a slice. I'm really ...\n",
              "26     0                     Lol your always so convincing.\n",
              "27     0  Did you catch the bus ? Are you frying an egg ...\n",
              "28     0  I'm back &amp; we're packing the car now, I'll...\n",
              "29     0  Ahhh. Work. I vaguely remember that! What does...\n",
              "...   ..                                                ...\n",
              "5542   0           Armand says get your ass over to epsilon\n",
              "5543   0             U still havent got urself a jacket ah?\n",
              "5544   0  I'm taking derek &amp; taylor to walmart, if I...\n",
              "5545   0      Hi its in durban are you still on this number\n",
              "5546   0         Ic. There are a lotta childporn cars then.\n",
              "5547   1  Had your contract mobile 11 Mnths? Latest Moto...\n",
              "5548   0                 No, I was trying it all weekend ;V\n",
              "5549   0  You know, wot people wear. T shirts, jumpers, ...\n",
              "5550   0        Cool, what time you think you can get here?\n",
              "5551   0  Wen did you get so spiritual and deep. That's ...\n",
              "5552   0  Have a safe trip to Nigeria. Wish you happines...\n",
              "5553   0                        Hahaha..use your brain dear\n",
              "5554   0  Well keep in mind I've only got enough gas for...\n",
              "5555   0  Yeh. Indians was nice. Tho it did kane me off ...\n",
              "5556   0  Yes i have. So that's why u texted. Pshew...mi...\n",
              "5557   0  No. I meant the calculation is the same. That ...\n",
              "5558   0                             Sorry, I'll call later\n",
              "5559   0  if you aren't here in the next  &lt;#&gt;  hou...\n",
              "5560   0                  Anything lor. Juz both of us lor.\n",
              "5561   0  Get me out of this dump heap. My mom decided t...\n",
              "5562   0  Ok lor... Sony ericsson salesman... I ask shuh...\n",
              "5563   0                                Ard 6 like dat lor.\n",
              "5564   0  Why don't you wait 'til at least wednesday to ...\n",
              "5565   0                                       Huh y lei...\n",
              "5566   1  REMINDER FROM O2: To get 2.50 pounds free call...\n",
              "5567   1  This is the 2nd time we have tried 2 contact u...\n",
              "5568   0              Will Ì_ b going to esplanade fr home?\n",
              "5569   0  Pity, * was in mood for that. So...any other s...\n",
              "5570   0  The guy did some bitching but I acted like i'd...\n",
              "5571   0                         Rofl. Its true to its name\n",
              "\n",
              "[5572 rows x 2 columns]"
            ]
          },
          "metadata": {
            "tags": []
          },
          "execution_count": 218
        }
      ]
    },
    {
      "cell_type": "code",
      "metadata": {
        "id": "-7LzAc4c24Ay",
        "colab_type": "code",
        "colab": {
          "base_uri": "https://localhost:8080/",
          "height": 34
        },
        "outputId": "df8d21dc-8130-4ec5-b217-578384963201"
      },
      "source": [
        "data.isnull().values.any()"
      ],
      "execution_count": 219,
      "outputs": [
        {
          "output_type": "execute_result",
          "data": {
            "text/plain": [
              "False"
            ]
          },
          "metadata": {
            "tags": []
          },
          "execution_count": 219
        }
      ]
    },
    {
      "cell_type": "code",
      "metadata": {
        "id": "57KP3Rp37Wgs",
        "colab_type": "code",
        "colab": {
          "base_uri": "https://localhost:8080/",
          "height": 282
        },
        "outputId": "2bf26bff-98ce-4c8c-e5b1-19843901228c"
      },
      "source": [
        "%matplotlib inline\n",
        "import matplotlib.pyplot as plt\n",
        "data['v1'].value_counts().plot(kind='bar')"
      ],
      "execution_count": 220,
      "outputs": [
        {
          "output_type": "execute_result",
          "data": {
            "text/plain": [
              "<matplotlib.axes._subplots.AxesSubplot at 0x7f6aa5389e48>"
            ]
          },
          "metadata": {
            "tags": []
          },
          "execution_count": 220
        },
        {
          "output_type": "display_data",
          "data": {
            "image/png": "[encoded data removed]",
            "text/plain": [
              "<Figure size 432x288 with 1 Axes>"
            ]
          },
          "metadata": {
            "tags": []
          }
        }
      ]
    },
    {
      "cell_type": "code",
      "metadata": {
        "id": "LTZV42xb7eSY",
        "colab_type": "code",
        "colab": {
          "base_uri": "https://localhost:8080/",
          "height": 34
        },
        "outputId": "2e3e0546-918f-4056-ef5a-affb26802409"
      },
      "source": [
        "ydata=data['v1']\n",
        "xdata=data['v2']\n",
        "len(xdata)"
      ],
      "execution_count": 221,
      "outputs": [
        {
          "output_type": "execute_result",
          "data": {
            "text/plain": [
              "5572"
            ]
          },
          "metadata": {
            "tags": []
          },
          "execution_count": 221
        }
      ]
    },
    {
      "cell_type": "markdown",
      "metadata": {
        "id": "hCRwjrnc78M9",
        "colab_type": "text"
      },
      "source": [
        "### 작업 순서\n",
        "1. 문장을 단어 단위로 토큰화 (토큰:텍스트 의미의 최소 단위)\n",
        "2. 단어 토큰 -> 정수로 인코딩\n",
        "\n"
      ]
    },
    {
      "cell_type": "code",
      "metadata": {
        "id": "4je6HTin7yI7",
        "colab_type": "code",
        "colab": {}
      },
      "source": [
        "from keras.preprocessing.text import Tokenizer"
      ],
      "execution_count": 0,
      "outputs": []
    },
    {
      "cell_type": "code",
      "metadata": {
        "id": "NfwXxcR3-DRF",
        "colab_type": "code",
        "colab": {}
      },
      "source": [
        "tokenizer=Tokenizer()\n",
        "tokenizer.fit_on_texts(xdata) # 각 행에 대한 토큰화 수행 => xdata에 대한 코퍼스 생성, 중복 X\n",
        "word_index=tokenizer.word_index # 단어의 인덱스 확인(1부터 시작)\n",
        "sequences=tokenizer.texts_to_sequences(xdata) # 정수로 저장(원본 데이터 단어를 코퍼스에 따라 정수로 변환)"
      ],
      "execution_count": 0,
      "outputs": []
    },
    {
      "cell_type": "code",
      "metadata": {
        "id": "--_iNg9V-PmG",
        "colab_type": "code",
        "colab": {
          "base_uri": "https://localhost:8080/",
          "height": 34
        },
        "outputId": "77791987-535f-4842-c7c3-a0ac48f97a4e"
      },
      "source": [
        "sequences[:5] # 단어의 인덱스를 가지고 모델 생성\n",
        "len(word_index) # 8920(voc의 크기)"
      ],
      "execution_count": 224,
      "outputs": [
        {
          "output_type": "execute_result",
          "data": {
            "text/plain": [
              "8920"
            ]
          },
          "metadata": {
            "tags": []
          },
          "execution_count": 224
        }
      ]
    },
    {
      "cell_type": "code",
      "metadata": {
        "id": "byPV0hX6-vh4",
        "colab_type": "code",
        "colab": {
          "base_uri": "https://localhost:8080/",
          "height": 34
        },
        "outputId": "7c24f86b-73f1-4ee3-a273-2bf4dcd0dcf9"
      },
      "source": [
        "len(sequences) # 5572(원본 데이터 행의 개수)"
      ],
      "execution_count": 225,
      "outputs": [
        {
          "output_type": "execute_result",
          "data": {
            "text/plain": [
              "5572"
            ]
          },
          "metadata": {
            "tags": []
          },
          "execution_count": 225
        }
      ]
    },
    {
      "cell_type": "code",
      "metadata": {
        "id": "y5WnYHyoAN2X",
        "colab_type": "code",
        "colab": {
          "base_uri": "https://localhost:8080/",
          "height": 34
        },
        "outputId": "05b17749-dfd8-4069-ee6b-05775d3a9112"
      },
      "source": [
        "trainData=int(len(sequences)*0.8)\n",
        "testData=int(len(sequences)-trainData)\n",
        "trainData  # 4457\n",
        "testData # 1115"
      ],
      "execution_count": 226,
      "outputs": [
        {
          "output_type": "execute_result",
          "data": {
            "text/plain": [
              "1115"
            ]
          },
          "metadata": {
            "tags": []
          },
          "execution_count": 226
        }
      ]
    },
    {
      "cell_type": "code",
      "metadata": {
        "id": "F3jBkBaUAgiZ",
        "colab_type": "code",
        "colab": {
          "base_uri": "https://localhost:8080/",
          "height": 34
        },
        "outputId": "0e37b9cd-88f2-40e2-d9c7-e9170657a127"
      },
      "source": [
        "# 메일의 최대 길이 출력(xdata)\n",
        "max(len(d) for d in sequences)\n",
        "# 메일의 평균 길이\n",
        "sum(map(len, sequences))/len(sequences) #15.79 : 메일의 평균 길이가 15개 단어로 구성되어 있음"
      ],
      "execution_count": 227,
      "outputs": [
        {
          "output_type": "execute_result",
          "data": {
            "text/plain": [
              "15.794867193108399"
            ]
          },
          "metadata": {
            "tags": []
          },
          "execution_count": 227
        }
      ]
    },
    {
      "cell_type": "code",
      "metadata": {
        "id": "q208zBCkAuA4",
        "colab_type": "code",
        "colab": {
          "base_uri": "https://localhost:8080/",
          "height": 568
        },
        "outputId": "3bdf4f95-5908-487b-f058-8ff65e20d5ec"
      },
      "source": [
        "xdata=sequences\n",
        "plt.hist([len(s) for s in xdata], bins=50)"
      ],
      "execution_count": 228,
      "outputs": [
        {
          "output_type": "execute_result",
          "data": {
            "text/plain": [
              "(array([1.390e+02, 1.327e+03, 1.164e+03, 6.900e+02, 3.690e+02, 3.990e+02,\n",
              "        4.950e+02, 5.130e+02, 2.810e+02, 6.000e+01, 3.900e+01, 1.400e+01,\n",
              "        1.200e+01, 7.000e+00, 1.700e+01, 7.000e+00, 9.000e+00, 3.000e+00,\n",
              "        6.000e+00, 2.000e+00, 3.000e+00, 4.000e+00, 0.000e+00, 4.000e+00,\n",
              "        0.000e+00, 3.000e+00, 0.000e+00, 0.000e+00, 0.000e+00, 0.000e+00,\n",
              "        1.000e+00, 0.000e+00, 2.000e+00, 0.000e+00, 0.000e+00, 0.000e+00,\n",
              "        0.000e+00, 0.000e+00, 0.000e+00, 0.000e+00, 0.000e+00, 0.000e+00,\n",
              "        1.000e+00, 0.000e+00, 0.000e+00, 0.000e+00, 0.000e+00, 0.000e+00,\n",
              "        0.000e+00, 1.000e+00]),\n",
              " array([  0.  ,   3.78,   7.56,  11.34,  15.12,  18.9 ,  22.68,  26.46,\n",
              "         30.24,  34.02,  37.8 ,  41.58,  45.36,  49.14,  52.92,  56.7 ,\n",
              "         60.48,  64.26,  68.04,  71.82,  75.6 ,  79.38,  83.16,  86.94,\n",
              "         90.72,  94.5 ,  98.28, 102.06, 105.84, 109.62, 113.4 , 117.18,\n",
              "        120.96, 124.74, 128.52, 132.3 , 136.08, 139.86, 143.64, 147.42,\n",
              "        151.2 , 154.98, 158.76, 162.54, 166.32, 170.1 , 173.88, 177.66,\n",
              "        181.44, 185.22, 189.  ]),\n",
              " <a list of 50 Patch objects>)"
            ]
          },
          "metadata": {
            "tags": []
          },
          "execution_count": 228
        },
        {
          "output_type": "display_data",
          "data": {
            "image/png": "[encoded data removed]",
            "text/plain": [
              "<Figure size 432x288 with 1 Axes>"
            ]
          },
          "metadata": {
            "tags": []
          }
        }
      ]
    },
    {
      "cell_type": "code",
      "metadata": {
        "id": "aLvjSA1uULP1",
        "colab_type": "code",
        "colab": {}
      },
      "source": [
        "# 가장 긴 메일의 길이:189,\n",
        "# 50미만이 대부분(업데이트)"
      ],
      "execution_count": 0,
      "outputs": []
    },
    {
      "cell_type": "code",
      "metadata": {
        "id": "FC6xcZ0rULNV",
        "colab_type": "code",
        "colab": {}
      },
      "source": [
        "from keras.layers import *\n",
        "from keras.models import Sequential\n",
        "from keras.preprocessing.sequence import pad_sequences"
      ],
      "execution_count": 0,
      "outputs": []
    },
    {
      "cell_type": "code",
      "metadata": {
        "id": "3qNSFuO3ULKq",
        "colab_type": "code",
        "colab": {}
      },
      "source": [
        "vocab_size=len(word_index)+1 #8920 + 1 => 8921"
      ],
      "execution_count": 0,
      "outputs": []
    },
    {
      "cell_type": "code",
      "metadata": {
        "id": "bbkzlea5ULIB",
        "colab_type": "code",
        "colab": {
          "base_uri": "https://localhost:8080/",
          "height": 34
        },
        "outputId": "86a47a7e-b6da-48db-acb5-298ee869f4f7"
      },
      "source": [
        "# 전체 데이터셋의 길이를 189로 통일\n",
        "max_len=189\n",
        "data=pad_sequences(xdata, maxlen=max_len) # pre padding\n",
        "data.shape # (5572, 189)"
      ],
      "execution_count": 232,
      "outputs": [
        {
          "output_type": "execute_result",
          "data": {
            "text/plain": [
              "(5572, 189)"
            ]
          },
          "metadata": {
            "tags": []
          },
          "execution_count": 232
        }
      ]
    },
    {
      "cell_type": "code",
      "metadata": {
        "id": "oxbEyLQ2ULF7",
        "colab_type": "code",
        "colab": {}
      },
      "source": [
        "data[:5]\n",
        "xtest=data[trainData:]  # 뒤쪽 1115개\n",
        "ytest=ydata[trainData:]\n",
        "xtrain=data[:trainData] # 앞쪽 4457개\n",
        "ytrain=ydata[:trainData]"
      ],
      "execution_count": 0,
      "outputs": []
    },
    {
      "cell_type": "code",
      "metadata": {
        "id": "78LAak8ddvru",
        "colab_type": "code",
        "colab": {
          "base_uri": "https://localhost:8080/",
          "height": 480
        },
        "outputId": "f7bbc0be-9e6c-4459-dbe3-1f319a4e7124"
      },
      "source": [
        "session = tf.Session()\n",
        "\n",
        "with session.as_default():\n",
        "    with session.graph.as_default():\n",
        "        model = Sequential()\n",
        "        model.add(Embedding(vocab_size, 32)) # 고차원의 데이터를 저차원으로 \n",
        "        model.add(SimpleRNN(32)) # hidden_size = 32\n",
        "        model.add(Dense(1, activation=\"sigmoid\"))\n",
        "        \n",
        "        model.compile(optimizer=\"rmsprop\", \n",
        "              loss=\"binary_crossentropy\", \n",
        "              metrics=[\"acc\"])\n",
        "        \n",
        "        history = model.fit(xtrain, ytrain, epochs=5, batch_size=60, validation_split=0.2)\n",
        "        model.evaluate(xtest, ytest)[1]\n",
        "        \n",
        "\n",
        "epchs = range(1, len(history.history[\"acc\"])+1)\n",
        "plt.plot(epchs, history.history[\"loss\"])\n",
        "plt.plot(epchs, history.history[\"val_loss\"])\n",
        "plt.show()"
      ],
      "execution_count": 250,
      "outputs": [
        {
          "output_type": "stream",
          "text": [
            "Train on 3565 samples, validate on 892 samples\n",
            "Epoch 1/5\n",
            "3565/3565 [==============================] - 6s 2ms/step - loss: 0.3253 - acc: 0.8906 - val_loss: 0.2951 - val_acc: 0.8744\n",
            "Epoch 2/5\n",
            "3565/3565 [==============================] - 5s 1ms/step - loss: 0.0975 - acc: 0.9728 - val_loss: 0.0644 - val_acc: 0.9821\n",
            "Epoch 3/5\n",
            "3565/3565 [==============================] - 5s 1ms/step - loss: 0.0443 - acc: 0.9888 - val_loss: 0.0645 - val_acc: 0.9787\n",
            "Epoch 4/5\n",
            "3565/3565 [==============================] - 5s 1ms/step - loss: 0.1399 - acc: 0.9445 - val_loss: 0.2142 - val_acc: 0.9126\n",
            "Epoch 5/5\n",
            "3565/3565 [==============================] - 5s 1ms/step - loss: 0.1047 - acc: 0.9585 - val_loss: 0.0672 - val_acc: 0.9776\n",
            "1115/1115 [==============================] - 1s 459us/step\n"
          ],
          "name": "stdout"
        },
        {
          "output_type": "display_data",
          "data": {
            "image/png": "[encoded data removed]",
            "text/plain": [
              "<Figure size 432x288 with 1 Axes>"
            ]
          },
          "metadata": {
            "tags": []
          }
        }
      ]
    }
  ]
}