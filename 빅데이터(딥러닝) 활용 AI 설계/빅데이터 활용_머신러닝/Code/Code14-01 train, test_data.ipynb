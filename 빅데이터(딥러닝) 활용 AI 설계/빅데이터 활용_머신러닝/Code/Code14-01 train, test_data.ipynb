{
 "cells": [
  {
   "cell_type": "code",
   "execution_count": 58,
   "metadata": {},
   "outputs": [
    {
     "data": {
      "text/plain": [
       "('mushdata.csv', <http.client.HTTPMessage at 0x21d0d5a9710>)"
      ]
     },
     "execution_count": 58,
     "metadata": {},
     "output_type": "execute_result"
    }
   ],
   "source": [
    "import pandas as pd\n",
    "import numpy as np\n",
    "import urllib.request as req\n",
    "url = \"https://archive.ics.uci.edu/ml/machine-learning-databases/mushroom/agaricus-lepiota.data\"\n",
    "req.urlretrieve(url,\"mushdata.csv\")"
   ]
  },
  {
   "cell_type": "code",
   "execution_count": 59,
   "metadata": {},
   "outputs": [
    {
     "data": {
      "text/plain": [
       "(8124, 23)"
      ]
     },
     "execution_count": 59,
     "metadata": {},
     "output_type": "execute_result"
    }
   ],
   "source": [
    "mr=pd.read_csv(\"data/agaricus-lepiota.data\", header=None)\n",
    "mr.shape"
   ]
  },
  {
   "cell_type": "code",
   "execution_count": 60,
   "metadata": {},
   "outputs": [
    {
     "name": "stderr",
     "output_type": "stream",
     "text": [
      "C:\\Users\\user\\Anaconda3\\lib\\site-packages\\ipykernel_launcher.py:10: DeprecationWarning: \n",
      ".ix is deprecated. Please use\n",
      ".loc for label based indexing or\n",
      ".iloc for positional indexing\n",
      "\n",
      "See the documentation here:\n",
      "http://pandas.pydata.org/pandas-docs/stable/indexing.html#ix-indexer-is-deprecated\n",
      "  # Remove the CWD from sys.path while we load stuff.\n",
      "C:\\Users\\user\\Anaconda3\\lib\\site-packages\\ipykernel_launcher.py:12: DeprecationWarning: \n",
      ".ix is deprecated. Please use\n",
      ".loc for label based indexing or\n",
      ".iloc for positional indexing\n",
      "\n",
      "See the documentation here:\n",
      "http://pandas.pydata.org/pandas-docs/stable/indexing.html#ix-indexer-is-deprecated\n",
      "  if sys.path[0] == '':\n"
     ]
    }
   ],
   "source": [
    "# 데이터를 숫자로 변환\n",
    "#print(ord('a')) # 아스키코드 출력\n",
    "#print(chr(97))\n",
    "# 문자를 숫자로 변환할 때, ord 함수를 적절히 활용하고자 함\n",
    "from sklearn.model_selection import train_test_split # train, test data 분리\n",
    "\n",
    "label=[]\n",
    "data=[]\n",
    "for row_index, row in mr.iterrows(): #데이터 프레임의 행을 반복하며 행 자체를 포함하는 객체에 덧붙여 각 행의 색인을 반환하는 제너레이터\n",
    "    label.append(row.ix[0]) # 독버섯인지 아닌지를 판단하는 y 레이블 추출\n",
    "    row_data=[]\n",
    "    for v in row.ix[1:]:\n",
    "        row_data.append(ord(v)) #ascii:a-97,b-98,... , 한행에 해당하는 데이터가 아스키 코드로 변환되어 저장되어 리스트에 저장\n",
    "    data.append(row_data) # 모든 행을 담기 위해 append 해줌\n",
    "\n",
    "# label # y레이블이 저장된 것을 확인할 수 있음\n",
    "# data # 아스키 코드로 변환되어 저장된 것을 확인 할 수 있음\n",
    "\n",
    "data_train,data_test, label_train, label_test=train_test_split(data,label)\n",
    "# data와 label도 분리해줌"
   ]
  },
  {
   "cell_type": "code",
   "execution_count": 61,
   "metadata": {},
   "outputs": [
    {
     "data": {
      "text/plain": [
       "2031"
      ]
     },
     "execution_count": 61,
     "metadata": {},
     "output_type": "execute_result"
    }
   ],
   "source": [
    "#(8124, 23)\n",
    "len(data_train) #6093\n",
    "len(data_test) #2031\n",
    "# 데이터를 train과 test를 알아서 나눠줌"
   ]
  },
  {
   "cell_type": "code",
   "execution_count": 62,
   "metadata": {},
   "outputs": [],
   "source": [
    "from sklearn.ensemble import RandomForestClassifier\n",
    "from sklearn import metrics"
   ]
  },
  {
   "cell_type": "code",
   "execution_count": 63,
   "metadata": {},
   "outputs": [
    {
     "name": "stderr",
     "output_type": "stream",
     "text": [
      "C:\\Users\\user\\Anaconda3\\lib\\site-packages\\sklearn\\ensemble\\forest.py:246: FutureWarning: The default value of n_estimators will change from 10 in version 0.20 to 100 in 0.22.\n",
      "  \"10 in version 0.20 to 100 in 0.22.\", FutureWarning)\n"
     ]
    },
    {
     "data": {
      "text/plain": [
       "RandomForestClassifier(bootstrap=True, class_weight=None, criterion='gini',\n",
       "            max_depth=None, max_features='auto', max_leaf_nodes=None,\n",
       "            min_impurity_decrease=0.0, min_impurity_split=None,\n",
       "            min_samples_leaf=1, min_samples_split=2,\n",
       "            min_weight_fraction_leaf=0.0, n_estimators=10, n_jobs=None,\n",
       "            oob_score=False, random_state=None, verbose=0,\n",
       "            warm_start=False)"
      ]
     },
     "execution_count": 63,
     "metadata": {},
     "output_type": "execute_result"
    }
   ],
   "source": [
    "# 데이터 학습 => 모델 생성\n",
    "clf=RandomForestClassifier()\n",
    "clf.fit(data_train, label_train) "
   ]
  },
  {
   "cell_type": "code",
   "execution_count": 64,
   "metadata": {},
   "outputs": [
    {
     "data": {
      "text/plain": [
       "array(['e', 'p', 'e', ..., 'e', 'e', 'e'], dtype='<U1')"
      ]
     },
     "execution_count": 64,
     "metadata": {},
     "output_type": "execute_result"
    }
   ],
   "source": [
    "predict=clf.predict(data_test)\n",
    "predict\n",
    "# 예측 : array(['e', 'e', 'e', ..., 'e', 'e', 'p'], dtype='<U1')\n",
    "# 실제 : label_test 변수에 저장되어있는 값\n",
    "# 실제와 예측을 비교해서 얼마나 정확하게 예측되었는지 확인"
   ]
  },
  {
   "cell_type": "code",
   "execution_count": 65,
   "metadata": {},
   "outputs": [
    {
     "data": {
      "text/plain": [
       "1.0"
      ]
     },
     "execution_count": 65,
     "metadata": {},
     "output_type": "execute_result"
    }
   ],
   "source": [
    "# 실제와 예측간 정확도\n",
    "as_score=metrics.accuracy_score(label_test, predict)\n",
    "as_score"
   ]
  },
  {
   "cell_type": "code",
   "execution_count": 66,
   "metadata": {},
   "outputs": [
    {
     "name": "stdout",
     "output_type": "stream",
     "text": [
      "              precision    recall  f1-score   support\n",
      "\n",
      "           e       1.00      1.00      1.00      1031\n",
      "           p       1.00      1.00      1.00      1000\n",
      "\n",
      "   micro avg       1.00      1.00      1.00      2031\n",
      "   macro avg       1.00      1.00      1.00      2031\n",
      "weighted avg       1.00      1.00      1.00      2031\n",
      "\n"
     ]
    }
   ],
   "source": [
    "# 정확도를 확인할 수 있는 여러 방법\n",
    "rep=metrics.classification_report(label_test, predict) \n",
    "# 정밀도(precision), 재현율(recall), F1점수(f1-score) 출력하는 함수, support는 데이터 개수\n",
    "print(rep) "
   ]
  },
  {
   "cell_type": "markdown",
   "metadata": {},
   "source": [
    "빨강 = 1, 파랑 = 2, 초록 = 3, 흰색 =4  \n",
    "빨강 = 1 => 1000  \n",
    "파랑 = 2 => 0100  \n",
    "....  \n",
    "위와 같이 수치값이 분류를 하기 위한 변수인 경우 원핫인코딩으로 나타내야함  \n",
    "하지만 온도처럼 의미가 있는 연속 변수인 경우 연속된 값으로 나타내면 됨 "
   ]
  },
  {
   "cell_type": "code",
   "execution_count": 67,
   "metadata": {},
   "outputs": [],
   "source": [
    "label=[]\n",
    "new_data=[]\n",
    "attr_list=[]"
   ]
  },
  {
   "cell_type": "code",
   "execution_count": 68,
   "metadata": {},
   "outputs": [
    {
     "name": "stderr",
     "output_type": "stream",
     "text": [
      "C:\\Users\\user\\Anaconda3\\lib\\site-packages\\ipykernel_launcher.py:3: DeprecationWarning: \n",
      ".ix is deprecated. Please use\n",
      ".loc for label based indexing or\n",
      ".iloc for positional indexing\n",
      "\n",
      "See the documentation here:\n",
      "http://pandas.pydata.org/pandas-docs/stable/indexing.html#ix-indexer-is-deprecated\n",
      "  This is separate from the ipykernel package so we can avoid doing imports until\n",
      "C:\\Users\\user\\Anaconda3\\lib\\site-packages\\ipykernel_launcher.py:5: DeprecationWarning: \n",
      ".ix is deprecated. Please use\n",
      ".loc for label based indexing or\n",
      ".iloc for positional indexing\n",
      "\n",
      "See the documentation here:\n",
      "http://pandas.pydata.org/pandas-docs/stable/indexing.html#ix-indexer-is-deprecated\n",
      "  \"\"\"\n"
     ]
    }
   ],
   "source": [
    "# train, test data 분리를 직접 쾨딩해보기\n",
    "for row_index, row in mr.iterrows():\n",
    "    label.append(row.ix[0])\n",
    "    exdata=[]\n",
    "    for col,v in enumerate(row.ix[1:]): # 열거형 형태(해당 번호와 값)로 출력, col:인덱스(0부터 시작)와 v:해당 값 출력\n",
    "        #print(v)\n",
    "        if row_index==0:\n",
    "            attr={\"dic\":{}, \"cnt\":0} # 딕셔너리 안에 딕셔너리가 중첩되어있는 구조\n",
    "            # attr={\"dic\":{    }, \"cnt\" : 0 } => 딕셔너리 초기화 작업 \n",
    "            attr_list.append(attr)\n",
    "            # attr_list=[ attr={\"dic\":{    }, \"cnt\" : 0 } ]\n",
    "        else : \n",
    "            attr=attr_list[col]\n",
    "        d=[0,0,0,0,0,0,0,0,0,0,0,0]\n",
    "        if v in attr[\"dic\"] : # 비어있는는 딕셔너리와 리스트를 false로 출력 \n",
    "            idx=attr[\"dic\"][v]\n",
    "        else:\n",
    "            idx=attr[\"cnt\"] # 0출력\n",
    "            attr[\"dic\"][v]=idx\n",
    "            attr[\"cnt\"] += 1\n",
    "        d[idx] =1\n",
    "        exdata += d #2차원\n",
    "    new_data.append(exdata)\n",
    "# 버섯의 특징을 표현하는 변수의 종류가 최대 12개라고 전체        \n",
    "# x1 (모양 3가지) : [0,0,0]\n",
    "# x2 (색상 5가지) : [0,0,0,0,0]\n",
    "# ...\n",
    "# [0,0,0,0,0,0,0,0]\n",
    "\n",
    "# train, test 분리 함수 사용\n",
    "data_train,data_test, label_train, label_test=train_test_split(data,label)"
   ]
  }
 ],
 "metadata": {
  "kernelspec": {
   "display_name": "Python 3",
   "language": "python",
   "name": "python3"
  },
  "language_info": {
   "codemirror_mode": {
    "name": "ipython",
    "version": 3
   },
   "file_extension": ".py",
   "mimetype": "text/x-python",
   "name": "python",
   "nbconvert_exporter": "python",
   "pygments_lexer": "ipython3",
   "version": "3.7.3"
  }
 },
 "nbformat": 4,
 "nbformat_minor": 2
}
