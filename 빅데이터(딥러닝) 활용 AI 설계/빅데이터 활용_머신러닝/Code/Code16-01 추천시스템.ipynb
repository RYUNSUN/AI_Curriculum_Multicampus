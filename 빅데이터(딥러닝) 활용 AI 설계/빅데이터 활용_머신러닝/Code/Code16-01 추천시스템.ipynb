{
 "cells": [
  {
   "cell_type": "code",
   "execution_count": 90,
   "metadata": {},
   "outputs": [],
   "source": [
    "import numpy as np\n",
    "import pandas as pd\n",
    "import seaborn as sns\n",
    "sns.set(rc={\"axes.facecolor\":\"white\", \"axes.edgecolor\":\"black\"})\n",
    "plt.style.use([\"default\"])"
   ]
  },
  {
   "cell_type": "code",
   "execution_count": 3,
   "metadata": {},
   "outputs": [
    {
     "data": {
      "text/plain": [
       "2.23606797749979"
      ]
     },
     "execution_count": 3,
     "metadata": {},
     "output_type": "execute_result"
    }
   ],
   "source": [
    "x=np.array([2,1])\n",
    "np.linalg.norm(x)"
   ]
  },
  {
   "cell_type": "code",
   "execution_count": 5,
   "metadata": {},
   "outputs": [
    {
     "data": {
      "text/plain": [
       "0"
      ]
     },
     "execution_count": 5,
     "metadata": {},
     "output_type": "execute_result"
    }
   ],
   "source": [
    "a=np.array([1,1])\n",
    "b=np.array([-1,1])\n",
    "a @ b #0\n",
    "# 값이 0으로 직교한다는 것을 알 수 있음"
   ]
  },
  {
   "cell_type": "markdown",
   "metadata": {},
   "source": [
    "## 추천시스템(CF 기반)\n",
    "    - CF : 유사도 기반 평점 예측, 영화 추천, 음악 추천,....등에 활용할 수 있음\n",
    "    - 사용자 기반/아이템(하이브리드)기반 CF\n",
    "    - 아이템 기반 : 사용자 정보가 부족할 때, \n",
    "    - 여러 트랜잭션에서 중복 아이템이 적은 경우(의미 있는 데이터 추출이 어려운 경우)\n",
    "        - 홍길동(트랜잭션):A,B(아이템)  \n",
    "        - 임꺽정:C,D\n",
    "        - 이순신:E,F\n",
    "    - 트랜잭션끼리 중복이 많이 될수록 좋음. \n",
    "    - 중복이 많으면 아이템을 추천해줄 때, 중복이 많이 된 아이템을 추천해주고, 중복이 많지 않으면, 어떤 트랙잭션의 비슷한 성향의 트랙잭션의 아이템을 추천해줌 \n"
   ]
  },
  {
   "cell_type": "code",
   "execution_count": 238,
   "metadata": {},
   "outputs": [],
   "source": [
    "critics={\n",
    "    'BTS':{'암수살인':5, '바울':4, '할로윈':1.5},\n",
    "    '손흥민':{'바울':5, '할로윈':2},\n",
    "    '조용필':{'암수살인':2.5, '바울':2, '할로윈':1},\n",
    "    '나훈아':{'암수살인':3.5, '바울':4, '할로윈':5}\n",
    "}"
   ]
  },
  {
   "cell_type": "code",
   "execution_count": 239,
   "metadata": {},
   "outputs": [
    {
     "name": "stdout",
     "output_type": "stream",
     "text": [
      "{'암수살인': 5, '바울': 4, '할로윈': 1.5}\n",
      "{'암수살인': 5, '바울': 4, '할로윈': 1.5}\n"
     ]
    }
   ],
   "source": [
    "print(critics.get('BTS'))\n",
    "print(critics['BTS'])"
   ]
  },
  {
   "cell_type": "code",
   "execution_count": 240,
   "metadata": {},
   "outputs": [],
   "source": [
    "# print(critics.get('BTS2')) #None, if문 쓸 때, None을 쓰면 false로 출력\n",
    "# print(critics['BTS2']) #에러"
   ]
  },
  {
   "cell_type": "code",
   "execution_count": 241,
   "metadata": {},
   "outputs": [
    {
     "name": "stdout",
     "output_type": "stream",
     "text": [
      "5\n"
     ]
    }
   ],
   "source": [
    "print(critics.get('BTS').get('암수살인'))"
   ]
  },
  {
   "cell_type": "code",
   "execution_count": 242,
   "metadata": {},
   "outputs": [
    {
     "data": {
      "text/plain": [
       "3.1622776601683795"
      ]
     },
     "execution_count": 242,
     "metadata": {},
     "output_type": "execute_result"
    }
   ],
   "source": [
    "# 피타고라스(2차원) => 거리를 구해 유사도 ㅎ확인\n",
    "from math import sqrt\n",
    "sqrt(pow(1,2)+pow(3,2)) #pow는 제곱을 나타냄 (1^2+3^2)"
   ]
  },
  {
   "cell_type": "code",
   "execution_count": 243,
   "metadata": {},
   "outputs": [],
   "source": [
    "def sim(i,j):\n",
    "    return sqrt(pow(i,2)+pow(j,2))"
   ]
  },
  {
   "cell_type": "code",
   "execution_count": 244,
   "metadata": {},
   "outputs": [
    {
     "data": {
      "text/plain": [
       "3.1622776601683795"
      ]
     },
     "execution_count": 244,
     "metadata": {},
     "output_type": "execute_result"
    }
   ],
   "source": [
    "var1=critics['손흥민']['바울']-critics['조용필']['바울']\n",
    "var2=critics['손흥민']['할로윈']-critics['조용필']['할로윈']\n",
    "sim(var1,var2) # 두 사람 사이의 거리"
   ]
  },
  {
   "cell_type": "code",
   "execution_count": 245,
   "metadata": {},
   "outputs": [
    {
     "name": "stdout",
     "output_type": "stream",
     "text": [
      "BTS : 1.118033988749895\n",
      "조용필 : 3.1622776601683795\n",
      "나훈아 : 3.1622776601683795\n"
     ]
    }
   ],
   "source": [
    "# 손흥민과 다른 사람과의 거리 구하는 for문\n",
    "for i in critics: #i:키\n",
    "    #손흥민과 다른 사람과의 거리\n",
    "    if i != '손흥민':\n",
    "        var1=critics['손흥민']['바울']-critics[i]['바울']\n",
    "        var2=critics['손흥민']['할로윈']-critics[i]['할로윈']\n",
    "        print(i, \":\", sim(var1,var2))\n",
    "# 문제점 : 특정 영화 평점에 의해서 전체 거리가 크게 영향을 받을 수 있음\n",
    "# 10편 영화, 100점 만점 평점\n",
    "# 9편의 영화, 손, BTS : 동일한 평점\n",
    "# 1편의 영화, 손:0점, BTS:100점\n",
    "# 영화 평점에 의해서 전체 거리가 영향을 크게 받아 1편의 영화의 의해 거리가 멀어질 수 있음.\n",
    "# 이를 보완하고자 표준화, 정균화 등을 통해 데이터를 전처리할 수 있음"
   ]
  },
  {
   "cell_type": "code",
   "execution_count": 246,
   "metadata": {},
   "outputs": [
    {
     "name": "stdout",
     "output_type": "stream",
     "text": [
      "BTS : 0.4721359549995794\n",
      "조용필 : 0.2402530733520421\n",
      "나훈아 : 0.2402530733520421\n"
     ]
    }
   ],
   "source": [
    "# 정규화\n",
    "for i in critics: #i:키\n",
    "    #손흥민과 다른 사람과의 거리\n",
    "    if i != '손흥민':\n",
    "        var1=critics['손흥민']['바울']-critics[i]['바울']\n",
    "        var2=critics['손흥민']['할로윈']-critics[i]['할로윈']\n",
    "        print(i, \":\", 1/(1+sim(var1,var2)))\n",
    "# 유사도가 높을 수록 값이 크게 나옴"
   ]
  },
  {
   "cell_type": "code",
   "execution_count": 247,
   "metadata": {},
   "outputs": [
    {
     "data": {
      "text/plain": [
       "0.4721359549995794"
      ]
     },
     "execution_count": 247,
     "metadata": {},
     "output_type": "execute_result"
    }
   ],
   "source": [
    "def sim_distance(data,user1,user2):\n",
    "    # 유클리디안 기반 거리(같은 영화 본 것에 대한)\n",
    "    rsum=0\n",
    "    for i in data[user1]: # i:손흥민이 본 영화 중 한편\n",
    "        if i in data[user2]: # 손흥민이 본 영화 중 bts가 본 영화\n",
    "            rsum+=pow(data[user1][i]-data[user2][i],2)\n",
    "    return 1/(1+sqrt(rsum))\n",
    "    \n",
    "sim_distance(critics,'손흥민','BTS')\n",
    "# 거리가 가까울수록 값이 크게 나옴"
   ]
  },
  {
   "cell_type": "code",
   "execution_count": 237,
   "metadata": {},
   "outputs": [],
   "source": [
    "# 인원에 상관없이\n",
    "# 정렬 -> 가장 유사한 상위 n명 추출하는 기능 \n",
    "# prototype\n",
    "# top_match(영화평점 딕셔너리, 기준이 되는 사람(손흥민), 상위 N명, 적용하고자 하는 함수)"
   ]
  },
  {
   "cell_type": "code",
   "execution_count": 58,
   "metadata": {
    "scrolled": true
   },
   "outputs": [
    {
     "data": {
      "text/plain": [
       "[(0.4721359549995794, 'BTS'), (0.2402530733520421, '조용필')]"
      ]
     },
     "execution_count": 58,
     "metadata": {},
     "output_type": "execute_result"
    }
   ],
   "source": [
    "def top_match(data,name,n=2, sim_f=sim_distance): # default가 2이라는 의미\n",
    "        myList=[]\n",
    "        for i in data:\n",
    "            if name !=i:\n",
    "                myList.append((sim_f(data,name,i),i))\n",
    "\n",
    "        myList.sort()\n",
    "        myList.reverse()\n",
    "        return myList[:n]\n",
    "    \n",
    "\n",
    "top_match(critics, \"손흥민\")\n",
    "# 출력예시\n",
    "# 유사도, 이름\n",
    "# 유사도, 이름"
   ]
  },
  {
   "cell_type": "code",
   "execution_count": 69,
   "metadata": {},
   "outputs": [],
   "source": [
    "# 솽관관계\n",
    "critics = {\n",
    "    '조용필': {\n",
    "        '택시운전사': 2.5,\n",
    "        '겨울왕국': 3.5,\n",
    "        '리빙라스베가스': 3.0,\n",
    "        '넘버3': 3.5,\n",
    "        '사랑과전쟁': 2.5,\n",
    "        '세계대전': 3.0,\n",
    "    },\n",
    "    'BTS': {\n",
    "        '택시운전사': 1.0,\n",
    "        '겨울왕국': 4.5,\n",
    "        '리빙라스베가스': 0.5,\n",
    "        '넘버3': 1.5,\n",
    "        '사랑과전쟁': 4.5,\n",
    "        '세계대전': 5.0,\n",
    "    },\n",
    "    '강감찬': {\n",
    "        '택시운전사': 3.0,\n",
    "        '겨울왕국': 3.5,\n",
    "        '리빙라스베가스': 1.5,\n",
    "        '넘버3': 5.0,\n",
    "        '세계대전': 3.0,\n",
    "        '사랑과전쟁': 3.5,\n",
    "    },\n",
    "    '을지문덕': {\n",
    "        '택시운전사': 2.5,\n",
    "        '겨울왕국': 3.0,\n",
    "        '넘버3': 3.5,\n",
    "        '세계대전': 4.0,\n",
    "    },\n",
    "    '김유신': {\n",
    "        '겨울왕국': 3.5,\n",
    "        '리빙라스베가스': 3.0,\n",
    "        '세계대전': 4.5,\n",
    "        '넘버3': 4.0,\n",
    "        '사랑과전쟁': 2.5,\n",
    "    },\n",
    "    '유성룡': {\n",
    "        '택시운전사': 3.0,\n",
    "        '겨울왕국': 4.0,\n",
    "        '리빙라스베가스': 2.0,\n",
    "        '넘버3': 3.0,\n",
    "        '세계대전': 3.5,\n",
    "        '사랑과전쟁': 2.0,\n",
    "    },\n",
    "    '이황': {\n",
    "        '택시운전사': 3.0,\n",
    "        '겨울왕국': 4.0,\n",
    "        '세계대전': 3.0,\n",
    "        '넘버3': 5.0,\n",
    "        '사랑과전쟁': 3.5,\n",
    "    },\n",
    "    '이이': {'겨울왕국': 4.5, '사랑과전쟁': 1.0,\n",
    "             '넘버3': 4.0},\n",
    "}"
   ]
  },
  {
   "cell_type": "code",
   "execution_count": 92,
   "metadata": {},
   "outputs": [],
   "source": [
    "import matplotlib\n",
    "from matplotlib import font_manager, rc\n",
    "import platform\n",
    "if platform.system()==\"Windows\":\n",
    "    font_name=font_manager.FontProperties(fname=\"c:/Windows/Fonts/malgun.ttf\").get_name()\n",
    "    rc('font', family=font_name)\n",
    "matplotlib.rcParams['axes.unicode_minus']=False\n",
    "\n",
    "import warnings\n",
    "warnings.filterwarnings(\"ignore\")"
   ]
  },
  {
   "cell_type": "code",
   "execution_count": 93,
   "metadata": {},
   "outputs": [],
   "source": [
    "import matplotlib.pyplot as plt"
   ]
  },
  {
   "cell_type": "code",
   "execution_count": 94,
   "metadata": {},
   "outputs": [
    {
     "data": {
      "text/plain": [
       "[0, 5, 0, 5]"
      ]
     },
     "execution_count": 94,
     "metadata": {},
     "output_type": "execute_result"
    },
    {
     "data": {
      "image/png": "[encoded data removed]",
      "text/plain": [
       "<Figure size 1400x800 with 1 Axes>"
      ]
     },
     "metadata": {},
     "output_type": "display_data"
    }
   ],
   "source": [
    "plt.figure(figsize=(14,8))\n",
    "plt.plot([1,2,3],[1,2,3],'g^')\n",
    "#   plot [손흥민 평점],[이순신 평점],)\n",
    "plt.text(1,1,\"사과\")\n",
    "plt.axis([0,5,0,5])"
   ]
  },
  {
   "cell_type": "code",
   "execution_count": 95,
   "metadata": {},
   "outputs": [
    {
     "data": {
      "image/png": "[encoded data removed]",
      "text/plain": [
       "<Figure size 1400x800 with 1 Axes>"
      ]
     },
     "metadata": {},
     "output_type": "display_data"
    }
   ],
   "source": [
    "# 각 사람의 평점을 축으로 하고, 두 사람이 동시에 본 영화에 대해서 그래프에 출력\n",
    "def drawGraph(data,name1,name2):\n",
    "    li1=[]\n",
    "    li2=[]\n",
    "    plt.figure(figsize=(14,8))\n",
    "#    print(data[name1][\"겨울왕국\"]) #4.5\n",
    "#    print(data[name2][\"겨울왕국\"]) #3.5\n",
    "    for i in data[name1]:\n",
    "#         print(i) : bts 본 영화제목 출력\n",
    "        if i in data[name2]:\n",
    "            li1.append(data[name1][i])\n",
    "            li2.append(data[name2][i])\n",
    "            plt.text(data[name1][i],data[name2][i],i) # 영화제목 추가 \n",
    "    plt.plot(li1,li2,'ro')\n",
    "    plt.xlabel(name1)\n",
    "    plt.ylabel(name2)\n",
    "    \n",
    "drawGraph(critics,\"BTS\",\"강감찬\")"
   ]
  },
  {
   "cell_type": "code",
   "execution_count": 172,
   "metadata": {},
   "outputs": [],
   "source": [
    "# 두 사람의 상관계수가 출력\n",
    "# 'BTS'와 나머지 전체 사람들과의 상관계수\n",
    "# 함수를 만들때 어떤 변수들이 있는지 생각해볼 것!\n",
    "def sim_pearson(data,name1,name2):\n",
    "    sumX=0 # X의 합\n",
    "    sumY=0 # Y의 합\n",
    "    sumPowX=0 # X 제곱의 합\n",
    "    sumPowY=0 # Y 제곱의 합\n",
    "    sumXY=0 # X*Y의 합\n",
    "    count=0 #영화 개수\n",
    "    \n",
    "    for i in data[name1]: # i = key\n",
    "        if i in data[name2]: # 같은 영화를 평가했을때만\n",
    "            sumX+=data[name1][i]\n",
    "            sumY+=data[name2][i]\n",
    "            sumPowX+=pow(data[name1][i],2)\n",
    "            sumPowY+=pow(data[name2][i],2)\n",
    "            sumXY+=data[name1][i]*data[name2][i]\n",
    "            count+=1\n",
    "    \n",
    "    return ( sumXY- ((sumX*sumY)/count) )/ sqrt( (sumPowX - (pow(sumX,2) / count)) * (sumPowY - (pow(sumY,2)/count)))"
   ]
  },
  {
   "cell_type": "code",
   "execution_count": 173,
   "metadata": {},
   "outputs": [
    {
     "data": {
      "text/plain": [
       "0.21693045781865616"
      ]
     },
     "execution_count": 173,
     "metadata": {},
     "output_type": "execute_result"
    }
   ],
   "source": [
    "sim_pearson(critics,'BTS','강감찬')\n",
    "# 두 사람의 상관계수가 출력\n",
    "# 'BTS'와 나머지 전체 사람들과의 상관계수\n",
    "# 전체에 대해 상관계수(상위 n개 상관계수 리스트 출력)"
   ]
  },
  {
   "cell_type": "code",
   "execution_count": 174,
   "metadata": {},
   "outputs": [],
   "source": [
    "def top_match(data,name,n=3, sim_f=sim_pearson): # default가 3이라는 의미\n",
    "        myList=[]\n",
    "        for i in data:\n",
    "            if name !=i:\n",
    "                myList.append((sim_f(data,name,i),i))\n",
    "        myList.sort()\n",
    "        myList.reverse()\n",
    "        return myList[:n]"
   ]
  },
  {
   "cell_type": "code",
   "execution_count": 176,
   "metadata": {},
   "outputs": [
    {
     "data": {
      "text/plain": [
       "[(0.963795681875635, '이황'),\n",
       " (0.39605901719066977, '조용필'),\n",
       " (0.38124642583151164, '이이')]"
      ]
     },
     "execution_count": 176,
     "metadata": {},
     "output_type": "execute_result"
    }
   ],
   "source": [
    "top_match(critics, \"강감찬\",3)"
   ]
  },
  {
   "cell_type": "markdown",
   "metadata": {},
   "source": [
    "### 1. 추천시스템 (연습문제)\n",
    "    1) 예상평점 구해보자\n",
    "    - 예상점수 : 유사도 * (상대방의) 평점\n",
    "    ex) '강감찬'이 안본 영화 중 'A' 영화를 다른 사람들과 각각 4,3,2점 평점 줬다고 가정.\n",
    "    유사도를 구해보니 0.9, 0.3, 0.7로 나왔다면,\n",
    "    0.9*4점 => 3.6점 예상\n",
    "    0.3*3점 => 0.9점 예상\n",
    "    0.7.2점 => 1.4점 예상\n",
    "    예상점수 총합 = 5.9점(예상점수합) / 1.9점(유사도합)\n",
    "    => 약 3점\n",
    "    ...\n",
    "    만약 A영화 3점, B영화 2점, C영화 4점으로 예상됐다면 강감찬에게 'C' 영화를 추천"
   ]
  },
  {
   "cell_type": "code",
   "execution_count": 178,
   "metadata": {},
   "outputs": [
    {
     "ename": "SyntaxError",
     "evalue": "unexpected EOF while parsing (<ipython-input-178-3a3bbec2bd2f>, line 2)",
     "output_type": "error",
     "traceback": [
      "\u001b[1;36m  File \u001b[1;32m\"<ipython-input-178-3a3bbec2bd2f>\"\u001b[1;36m, line \u001b[1;32m2\u001b[0m\n\u001b[1;33m    #구현\u001b[0m\n\u001b[1;37m       ^\u001b[0m\n\u001b[1;31mSyntaxError\u001b[0m\u001b[1;31m:\u001b[0m unexpected EOF while parsing\n"
     ]
    }
   ],
   "source": [
    "def getRec():\n",
    "    #구현"
   ]
  },
  {
   "cell_type": "code",
   "execution_count": 180,
   "metadata": {},
   "outputs": [],
   "source": [
    "train=pd.read_csv(\"data/house-prices-advanced-regression-techniques/train.csv\")\n",
    "test=pd.read_csv(\"data/house-prices-advanced-regression-techniques/test.csv\")"
   ]
  },
  {
   "cell_type": "code",
   "execution_count": 183,
   "metadata": {},
   "outputs": [],
   "source": [
    "train.head()\n",
    "test.head()\n",
    "train_id=train['Id'] \n",
    "test_id=test['Id']"
   ]
  },
  {
   "cell_type": "code",
   "execution_count": 184,
   "metadata": {},
   "outputs": [],
   "source": [
    "train.drop(\"Id\",axis=1, inplace=True) # 분석 시, id 열은 안쓸 것 같아서 제외\n",
    "test.drop(\"Id\",axis=1, inplace=True)"
   ]
  },
  {
   "cell_type": "code",
   "execution_count": 186,
   "metadata": {},
   "outputs": [],
   "source": [
    "train.head()\n",
    "import matplotlib.pyplot as plt\n",
    "import seaborn as sns"
   ]
  },
  {
   "cell_type": "code",
   "execution_count": 187,
   "metadata": {},
   "outputs": [
    {
     "data": {
      "text/plain": [
       "Index(['MSSubClass', 'MSZoning', 'LotFrontage', 'LotArea', 'Street', 'Alley',\n",
       "       'LotShape', 'LandContour', 'Utilities', 'LotConfig', 'LandSlope',\n",
       "       'Neighborhood', 'Condition1', 'Condition2', 'BldgType', 'HouseStyle',\n",
       "       'OverallQual', 'OverallCond', 'YearBuilt', 'YearRemodAdd', 'RoofStyle',\n",
       "       'RoofMatl', 'Exterior1st', 'Exterior2nd', 'MasVnrType', 'MasVnrArea',\n",
       "       'ExterQual', 'ExterCond', 'Foundation', 'BsmtQual', 'BsmtCond',\n",
       "       'BsmtExposure', 'BsmtFinType1', 'BsmtFinSF1', 'BsmtFinType2',\n",
       "       'BsmtFinSF2', 'BsmtUnfSF', 'TotalBsmtSF', 'Heating', 'HeatingQC',\n",
       "       'CentralAir', 'Electrical', '1stFlrSF', '2ndFlrSF', 'LowQualFinSF',\n",
       "       'GrLivArea', 'BsmtFullBath', 'BsmtHalfBath', 'FullBath', 'HalfBath',\n",
       "       'BedroomAbvGr', 'KitchenAbvGr', 'KitchenQual', 'TotRmsAbvGrd',\n",
       "       'Functional', 'Fireplaces', 'FireplaceQu', 'GarageType', 'GarageYrBlt',\n",
       "       'GarageFinish', 'GarageCars', 'GarageArea', 'GarageQual', 'GarageCond',\n",
       "       'PavedDrive', 'WoodDeckSF', 'OpenPorchSF', 'EnclosedPorch', '3SsnPorch',\n",
       "       'ScreenPorch', 'PoolArea', 'PoolQC', 'Fence', 'MiscFeature', 'MiscVal',\n",
       "       'MoSold', 'YrSold', 'SaleType', 'SaleCondition', 'SalePrice'],\n",
       "      dtype='object')"
      ]
     },
     "execution_count": 187,
     "metadata": {},
     "output_type": "execute_result"
    }
   ],
   "source": [
    "train.columns"
   ]
  },
  {
   "cell_type": "code",
   "execution_count": 188,
   "metadata": {},
   "outputs": [
    {
     "data": {
      "text/plain": [
       "<matplotlib.axes._subplots.AxesSubplot at 0x16bfd427518>"
      ]
     },
     "execution_count": 188,
     "metadata": {},
     "output_type": "execute_result"
    },
    {
     "data": {
      "image/png": "[encoded data removed]",
      "text/plain": [
       "<Figure size 640x480 with 1 Axes>"
      ]
     },
     "metadata": {},
     "output_type": "display_data"
    }
   ],
   "source": [
    "sns.distplot(train[\"SalePrice\"])"
   ]
  },
  {
   "cell_type": "code",
   "execution_count": 193,
   "metadata": {},
   "outputs": [],
   "source": [
    "ntrain=train.shape[0] #(1460, 80)  train 데이터 건수 저장\n",
    "ntest=test.shape[0] #(1459, 79) test 데이터 건수 저장\n",
    "ytrain=train.SalePrice.values"
   ]
  },
  {
   "cell_type": "code",
   "execution_count": 194,
   "metadata": {},
   "outputs": [],
   "source": [
    "# 트레이닝 + 테스트 => null 처리"
   ]
  },
  {
   "cell_type": "code",
   "execution_count": 200,
   "metadata": {},
   "outputs": [],
   "source": [
    "# 각 데이터의 index 무시\n",
    "# pd.concat((train,test), ignore_index=True)"
   ]
  },
  {
   "cell_type": "code",
   "execution_count": 204,
   "metadata": {},
   "outputs": [
    {
     "data": {
      "text/plain": [
       "(2919, 80)"
      ]
     },
     "execution_count": 204,
     "metadata": {},
     "output_type": "execute_result"
    }
   ],
   "source": [
    "allData=pd.concat((train,test)).reset_index(drop=True)\n",
    "allData.head()\n",
    "allData.shape # null 처리를 한꺼번에 하기 위해 데이터 합치기"
   ]
  },
  {
   "cell_type": "code",
   "execution_count": 209,
   "metadata": {},
   "outputs": [
    {
     "data": {
      "text/plain": [
       "1stFlrSF          0.000000\n",
       "2ndFlrSF          0.000000\n",
       "3SsnPorch         0.000000\n",
       "Alley            93.216855\n",
       "BedroomAbvGr      0.000000\n",
       "BldgType          0.000000\n",
       "BsmtCond          2.809181\n",
       "BsmtExposure      2.809181\n",
       "BsmtFinSF1        0.034258\n",
       "BsmtFinSF2        0.034258\n",
       "BsmtFinType1      2.706406\n",
       "BsmtFinType2      2.740665\n",
       "BsmtFullBath      0.068517\n",
       "BsmtHalfBath      0.068517\n",
       "BsmtQual          2.774923\n",
       "BsmtUnfSF         0.034258\n",
       "CentralAir        0.000000\n",
       "Condition1        0.000000\n",
       "Condition2        0.000000\n",
       "Electrical        0.034258\n",
       "EnclosedPorch     0.000000\n",
       "ExterCond         0.000000\n",
       "ExterQual         0.000000\n",
       "Exterior1st       0.034258\n",
       "Exterior2nd       0.034258\n",
       "Fence            80.438506\n",
       "FireplaceQu      48.646797\n",
       "Fireplaces        0.000000\n",
       "Foundation        0.000000\n",
       "FullBath          0.000000\n",
       "                   ...    \n",
       "LotShape          0.000000\n",
       "LowQualFinSF      0.000000\n",
       "MSSubClass        0.000000\n",
       "MSZoning          0.137033\n",
       "MasVnrArea        0.787941\n",
       "MasVnrType        0.822199\n",
       "MiscFeature      96.402878\n",
       "MiscVal           0.000000\n",
       "MoSold            0.000000\n",
       "Neighborhood      0.000000\n",
       "OpenPorchSF       0.000000\n",
       "OverallCond       0.000000\n",
       "OverallQual       0.000000\n",
       "PavedDrive        0.000000\n",
       "PoolArea          0.000000\n",
       "PoolQC           99.657417\n",
       "RoofMatl          0.000000\n",
       "RoofStyle         0.000000\n",
       "SaleCondition     0.000000\n",
       "SalePrice        49.982871\n",
       "SaleType          0.034258\n",
       "ScreenPorch       0.000000\n",
       "Street            0.000000\n",
       "TotRmsAbvGrd      0.000000\n",
       "TotalBsmtSF       0.034258\n",
       "Utilities         0.068517\n",
       "WoodDeckSF        0.000000\n",
       "YearBuilt         0.000000\n",
       "YearRemodAdd      0.000000\n",
       "YrSold            0.000000\n",
       "Length: 80, dtype: float64"
      ]
     },
     "execution_count": 209,
     "metadata": {},
     "output_type": "execute_result"
    }
   ],
   "source": [
    "# null 개수 확인\n",
    "allData.isnull().sum()\n",
    "allNa=(allData.isnull().sum()/len(allData))*100 # null값을 전체 데이터의 차지하는 비율\n",
    "allNa # na 비율"
   ]
  },
  {
   "cell_type": "code",
   "execution_count": 235,
   "metadata": {},
   "outputs": [
    {
     "data": {
      "text/plain": [
       "<matplotlib.axes._subplots.AxesSubplot at 0x16b82c56860>"
      ]
     },
     "execution_count": 235,
     "metadata": {},
     "output_type": "execute_result"
    },
    {
     "data": {
      "image/png": "[encoded data removed]",
      "text/plain": [
       "<Figure size 640x480 with 1 Axes>"
      ]
     },
     "metadata": {},
     "output_type": "display_data"
    }
   ],
   "source": [
    "# 문제\n",
    "# na 비율을 기준으로 내림차순 정렬\n",
    "# na비율이 0인 컬럼들은 제외\n",
    "\n",
    "# 출력\n",
    "# Poolqc       99.8657528\n",
    "# MiscFeature  96.402878\n",
    "# ....\n",
    "# 값이 0인 행을 빼기 위해서 index 값으로 제거해야함\n",
    "allNa=allNa.drop(allNa[allNa==0].index).sort_values(ascending=False)\n",
    "allNa\n",
    "missingData=pd.DataFrame({\"NA Ratio\":allNa})\n",
    "missingData\n",
    "plt.xticks(rotation=\"90\")\n",
    "sns.barplot(x=allNa.index, y=allNa)"
   ]
  }
 ],
 "metadata": {
  "kernelspec": {
   "display_name": "Python 3",
   "language": "python",
   "name": "python3"
  },
  "language_info": {
   "codemirror_mode": {
    "name": "ipython",
    "version": 3
   },
   "file_extension": ".py",
   "mimetype": "text/x-python",
   "name": "python",
   "nbconvert_exporter": "python",
   "pygments_lexer": "ipython3",
   "version": "3.7.3"
  }
 },
 "nbformat": 4,
 "nbformat_minor": 2
}
