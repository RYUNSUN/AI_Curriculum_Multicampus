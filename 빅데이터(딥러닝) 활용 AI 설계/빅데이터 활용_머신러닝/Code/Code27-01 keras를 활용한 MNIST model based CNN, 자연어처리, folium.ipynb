{
 "cells": [
  {
   "cell_type": "markdown",
   "metadata": {},
   "source": [
    "### keras를 활용한 MNIST model based CNN\n",
    "keras로 신경망 구성하는 순서  \n",
    "1) Sequential 클래스 -> 객체 생성  \n",
    "2) add 메서드 -> 층(레이어)을 추가  \n",
    "  - 입력부터 순서대로 추가\n",
    "  - shape 체크\n",
    "  - activation 활성화 설정  \n",
    "  - 2개 변수 -> 4개입, 10개출 -> 10개입, 20개출 -> 20개입\n",
    "  \n",
    "  \n",
    "3) compile 메서드 -> 모델 생성\n",
    "  - loss, optimizer (알고리즘), 성능기준설정\n",
    "  \n",
    "  \n",
    "4) fit 메서드 -> 트레이닝\n",
    "  - 에폭 설정(6만개 data가 있다면 1에폭=6만개 training)\n",
    "  - 배치설정(분할 모델링, 큐러너 등 사용)"
   ]
  },
  {
   "cell_type": "code",
   "execution_count": 40,
   "metadata": {},
   "outputs": [],
   "source": [
    "from keras.datasets import mnist"
   ]
  },
  {
   "cell_type": "code",
   "execution_count": 41,
   "metadata": {},
   "outputs": [
    {
     "data": {
      "text/plain": [
       "array([7, 2, 1, ..., 4, 5, 6], dtype=uint8)"
      ]
     },
     "execution_count": 41,
     "metadata": {},
     "output_type": "execute_result"
    }
   ],
   "source": [
    "(train_images, train_labels), (test_images, test_labels) = mnist.load_data()\n",
    "train_images.shape\n",
    "test_labels"
   ]
  },
  {
   "cell_type": "code",
   "execution_count": 42,
   "metadata": {},
   "outputs": [],
   "source": [
    "from keras import *"
   ]
  },
  {
   "cell_type": "code",
   "execution_count": 43,
   "metadata": {},
   "outputs": [],
   "source": [
    "network=models.Sequential() # 하나의 신경망\n",
    "# 계층(layers.Dense(출력개수, 활성화함수, 입력)) 1개 추가 (입력(input_shape), 활성화함수(activation)를 명시해줘함)\n",
    "network.add(layers.Dense(512, activation='relu', input_shape=(28*28,)))\n",
    "# 출력일 경우 층이 분류기가 10개이므로 노드를 10개로 써주기\n",
    "network.add(layers.Dense(10, activation='softmax'))"
   ]
  },
  {
   "cell_type": "code",
   "execution_count": 44,
   "metadata": {},
   "outputs": [],
   "source": [
    "# 훈련(컴파일)\n",
    "# optimizer, cost 함수, 성능 기준을 어떤걸 쓸지 명시해줘야함\n",
    "network.compile(loss='categorical_crossentropy', optimizer='rmsprop', metrics=['accuracy'])"
   ]
  },
  {
   "cell_type": "markdown",
   "metadata": {},
   "source": [
    "#### 최적화 : cost를 최소화하는 방향으로 파라미터를 업데이트 하는 것\n",
    "1) 경사하강법(SGD) : 기울기 * 학습률(learning rate) => 가중치 갱신\n",
    "  - 대부분 기울어진 방향으로 하강하므로 모델이 복잡할때는 성능이 떨어짐  \n",
    "  \n",
    "2) 모멘텀 : 운동량, 속도 크면 -> 기울기 크게 업데이트 \n",
    "\n",
    "3) AdaGrad(RMSProp:새로운 기울기만 학습률에 반영)\n",
    "\n",
    "4) Adam(모멘텀+AdaGrad)  \n",
    "=> 주로 Adam의 성능이 좋은 편"
   ]
  },
  {
   "cell_type": "code",
   "execution_count": 45,
   "metadata": {},
   "outputs": [],
   "source": [
    "train_images.shape\n",
    "train_images=train_images.reshape((60000,28*28))\n",
    "train_images=train_images.astype('float32')/255 # 정규화 작업(0~255)까지 들어가므로 255로 나눠주기\n",
    "\n",
    "test_images.shape\n",
    "test_images=test_images.reshape((10000,28*28))\n",
    "test_images=test_images.astype('float32')/255 # 정규화 작업"
   ]
  },
  {
   "cell_type": "code",
   "execution_count": 46,
   "metadata": {},
   "outputs": [],
   "source": [
    "# train,test labels를 원핫인코딩로 변환해주기 \n",
    "from keras.utils import to_categorical"
   ]
  },
  {
   "cell_type": "code",
   "execution_count": 47,
   "metadata": {},
   "outputs": [
    {
     "name": "stderr",
     "output_type": "stream",
     "text": [
      "W0807 11:11:16.133645  8664 deprecation.py:323] From C:\\Users\\user\\Anaconda3\\lib\\site-packages\\tensorflow\\python\\ops\\math_grad.py:1250: add_dispatch_support.<locals>.wrapper (from tensorflow.python.ops.array_ops) is deprecated and will be removed in a future version.\n",
      "Instructions for updating:\n",
      "Use tf.where in 2.0, which has the same broadcast rule as np.where\n",
      "W0807 11:11:16.185479  8664 deprecation_wrapper.py:119] From C:\\Users\\user\\Anaconda3\\lib\\site-packages\\keras\\backend\\tensorflow_backend.py:986: The name tf.assign_add is deprecated. Please use tf.compat.v1.assign_add instead.\n",
      "\n"
     ]
    },
    {
     "name": "stdout",
     "output_type": "stream",
     "text": [
      "Epoch 1/5\n",
      "60000/60000 [==============================] - 4s 64us/step - loss: 0.2553 - acc: 0.9259\n",
      "Epoch 2/5\n",
      "60000/60000 [==============================] - 3s 56us/step - loss: 0.1048 - acc: 0.9692\n",
      "Epoch 3/5\n",
      "60000/60000 [==============================] - 3s 57us/step - loss: 0.0691 - acc: 0.9792\n",
      "Epoch 4/5\n",
      "60000/60000 [==============================] - 4s 58us/step - loss: 0.0498 - acc: 0.9851\n",
      "Epoch 5/5\n",
      "60000/60000 [==============================] - 3s 57us/step - loss: 0.0377 - acc: 0.9885\n"
     ]
    },
    {
     "data": {
      "text/plain": [
       "<keras.callbacks.History at 0x1dac5c129b0>"
      ]
     },
     "execution_count": 47,
     "metadata": {},
     "output_type": "execute_result"
    }
   ],
   "source": [
    "train_labels=to_categorical(train_labels)\n",
    "test_labels=to_categorical(test_labels)\n",
    "network.fit(train_images, train_labels, epochs=5, batch_size=128)\n",
    "# epochs, batch_size는 적절하게 조정해서 쓸 수 있음"
   ]
  },
  {
   "cell_type": "code",
   "execution_count": 49,
   "metadata": {},
   "outputs": [
    {
     "name": "stdout",
     "output_type": "stream",
     "text": [
      "10000/10000 [==============================] - 0s 42us/step\n"
     ]
    }
   ],
   "source": [
    "test_cost, test_acc=network.evaluate(test_images,test_labels)"
   ]
  },
  {
   "cell_type": "code",
   "execution_count": 50,
   "metadata": {},
   "outputs": [
    {
     "name": "stdout",
     "output_type": "stream",
     "text": [
      "0.9744\n"
     ]
    }
   ],
   "source": [
    "print(test_acc)"
   ]
  },
  {
   "cell_type": "markdown",
   "metadata": {},
   "source": [
    "### 자연어 처리"
   ]
  },
  {
   "cell_type": "code",
   "execution_count": 2,
   "metadata": {},
   "outputs": [
    {
     "name": "stdout",
     "output_type": "stream",
     "text": [
      "showing info https://raw.githubusercontent.com/nltk/nltk_data/gh-pages/index.xml\n"
     ]
    },
    {
     "data": {
      "text/plain": [
       "True"
      ]
     },
     "execution_count": 2,
     "metadata": {},
     "output_type": "execute_result"
    }
   ],
   "source": [
    "import nltk\n",
    "nltk.download() "
   ]
  },
  {
   "cell_type": "code",
   "execution_count": 51,
   "metadata": {},
   "outputs": [],
   "source": [
    "# pip install konlpy\n",
    "# from konlpy.tag import Twitter"
   ]
  },
  {
   "cell_type": "code",
   "execution_count": 10,
   "metadata": {},
   "outputs": [
    {
     "name": "stdout",
     "output_type": "stream",
     "text": [
      "['How', 'are', 'you', '?']\n",
      "['Do', \"n't\", ',', 'touch', ',', 'me']\n",
      "['Don', \"'\", 't', ',', 'touch', ',', 'me']\n"
     ]
    }
   ],
   "source": [
    "# 영문 \n",
    "# 한글:konlpy\n",
    "from nltk.tokenize import word_tokenize # 단어 토큰 단위로 나눠주는 함수\n",
    "print(word_tokenize(\"How are you?\"))\n",
    "print(word_tokenize(\"Don't, touch, me\"))\n",
    "\n",
    "from nltk.tokenize import WordPunctTokenizer\n",
    "print(WordPunctTokenizer().tokenize(\"Don't, touch, me\"))\n",
    "\n"
   ]
  },
  {
   "cell_type": "code",
   "execution_count": 4,
   "metadata": {},
   "outputs": [
    {
     "name": "stderr",
     "output_type": "stream",
     "text": [
      "C:\\Users\\user\\Anaconda3\\lib\\site-packages\\jpype\\_core.py:210: UserWarning: \n",
      "-------------------------------------------------------------------------------\n",
      "Deprecated: convertStrings was not specified when starting the JVM. The default\n",
      "behavior in JPype will be False starting in JPype 0.8. The recommended setting\n",
      "for new code is convertStrings=False.  The legacy value of True was assumed for\n",
      "this session. If you are a user of an application that reported this warning,\n",
      "please file a ticket with the developer.\n",
      "-------------------------------------------------------------------------------\n",
      "\n",
      "  \"\"\")\n"
     ]
    },
    {
     "data": {
      "text/plain": [
       "[('아버지', 'Noun'), ('가방', 'Noun'), ('에', 'Josa'), ('들어가신다', 'Verb')]"
      ]
     },
     "execution_count": 4,
     "metadata": {},
     "output_type": "execute_result"
    }
   ],
   "source": [
    "from konlpy.tag import Okt\n",
    "okt=Okt()\n",
    "okt.pos(\"아버지 가방에 들어가신다\")"
   ]
  },
  {
   "cell_type": "code",
   "execution_count": 13,
   "metadata": {},
   "outputs": [],
   "source": [
    "from konlpy.tag import Hannanum"
   ]
  },
  {
   "cell_type": "code",
   "execution_count": 14,
   "metadata": {},
   "outputs": [
    {
     "name": "stdout",
     "output_type": "stream",
     "text": [
      "[[[('롯데마트', 'ncn'), ('의', 'jcm')], [('롯데마트의', 'ncn')], [('롯데마트', 'nqq'), ('의', 'jcm')], [('롯데마트의', 'nqq')]], [[('흑마늘', 'ncn')], [('흑마늘', 'nqq')]], [[('양념', 'ncn')]], [[('치킨', 'ncn'), ('이', 'jcc')], [('치킨', 'ncn'), ('이', 'jcs')], [('치킨', 'ncn'), ('이', 'ncn')]], [[('논란', 'ncpa'), ('이', 'jcc')], [('논란', 'ncpa'), ('이', 'jcs')], [('논란', 'ncpa'), ('이', 'ncn')]], [[('되', 'nbu'), ('고', 'jcj')], [('되', 'nbu'), ('이', 'jp'), ('고', 'ecc')], [('되', 'nbu'), ('이', 'jp'), ('고', 'ecs')], [('되', 'nbu'), ('이', 'jp'), ('고', 'ecx')], [('되', 'paa'), ('고', 'ecc')], [('되', 'paa'), ('고', 'ecs')], [('되', 'paa'), ('고', 'ecx')], [('되', 'pvg'), ('고', 'ecc')], [('되', 'pvg'), ('고', 'ecs')], [('되', 'pvg'), ('고', 'ecx')], [('되', 'px'), ('고', 'ecc')], [('되', 'px'), ('고', 'ecs')], [('되', 'px'), ('고', 'ecx')]], [[('있', 'paa'), ('다', 'ef')], [('있', 'px'), ('다', 'ef')]], [[('.', 'sf')], [('.', 'sy')]]]\n"
     ]
    }
   ],
   "source": [
    "hannanum=Hannanum()\n",
    "print(hannanum.analyze(u'롯데마트의 흑마늘 양념 치킨이 논란이 되고 있다.'))"
   ]
  },
  {
   "cell_type": "code",
   "execution_count": 23,
   "metadata": {
    "scrolled": true
   },
   "outputs": [
    {
     "name": "stdout",
     "output_type": "stream",
     "text": [
      "['Python is an interpreted, high-level, general-purpose programming language.', \"Created by Guido van Rossum and first released in 1991, Python's design philosophy emphasizes code readability with its notable use of significant whitespace.\", 'Its language constructs and object-oriented approach aim to help programmers write clear, logical code for small and large-scale projects.', '[27] Python is dynamically typed and garbage-collected.', 'It supports multiple programming paradigms, including procedural, object-oriented, and functional programming.', 'Python is often described as a batteries included language due to its comprehensive standard library.', '[28]']\n",
      "==================================================\n",
      "['Python', 'is', 'an', 'interpreted', ',', 'high-level', ',', 'general-purpose', 'programming', 'language', '.', 'Created', 'by', 'Guido', 'van', 'Rossum', 'and', 'first', 'released', 'in', '1991', ',', 'Python', \"'s\", 'design', 'philosophy', 'emphasizes', 'code', 'readability', 'with', 'its', 'notable', 'use', 'of', 'significant', 'whitespace', '.', 'Its', 'language', 'constructs', 'and', 'object-oriented', 'approach', 'aim', 'to', 'help', 'programmers', 'write', 'clear', ',', 'logical', 'code', 'for', 'small', 'and', 'large-scale', 'projects', '.', '[', '27', ']', 'Python', 'is', 'dynamically', 'typed', 'and', 'garbage-collected', '.', 'It', 'supports', 'multiple', 'programming', 'paradigms', ',', 'including', 'procedural', ',', 'object-oriented', ',', 'and', 'functional', 'programming', '.', 'Python', 'is', 'often', 'described', 'as', 'a', 'batteries', 'included', 'language', 'due', 'to', 'its', 'comprehensive', 'standard', 'library', '.', '[', '28', ']']\n",
      "==================================================\n",
      "[('Python', 'NNP'), ('is', 'VBZ'), ('an', 'DT'), ('interpreted', 'JJ'), (',', ','), ('high-level', 'JJ'), (',', ','), ('general-purpose', 'JJ'), ('programming', 'NN'), ('language', 'NN'), ('.', '.'), ('Created', 'VBN'), ('by', 'IN'), ('Guido', 'NNP'), ('van', 'NN'), ('Rossum', 'NNP'), ('and', 'CC'), ('first', 'RB'), ('released', 'VBN'), ('in', 'IN'), ('1991', 'CD'), (',', ','), ('Python', 'NNP'), (\"'s\", 'POS'), ('design', 'NN'), ('philosophy', 'NN'), ('emphasizes', 'VBZ'), ('code', 'JJ'), ('readability', 'NN'), ('with', 'IN'), ('its', 'PRP$'), ('notable', 'JJ'), ('use', 'NN'), ('of', 'IN'), ('significant', 'JJ'), ('whitespace', 'NN'), ('.', '.'), ('Its', 'PRP$'), ('language', 'NN'), ('constructs', 'NNS'), ('and', 'CC'), ('object-oriented', 'JJ'), ('approach', 'NN'), ('aim', 'NN'), ('to', 'TO'), ('help', 'VB'), ('programmers', 'NNS'), ('write', 'VB'), ('clear', 'JJ'), (',', ','), ('logical', 'JJ'), ('code', 'NN'), ('for', 'IN'), ('small', 'JJ'), ('and', 'CC'), ('large-scale', 'JJ'), ('projects', 'NNS'), ('.', '.'), ('[', '$'), ('27', 'CD'), (']', 'NNP'), ('Python', 'NNP'), ('is', 'VBZ'), ('dynamically', 'RB'), ('typed', 'JJ'), ('and', 'CC'), ('garbage-collected', 'JJ'), ('.', '.'), ('It', 'PRP'), ('supports', 'VBZ'), ('multiple', 'JJ'), ('programming', 'NN'), ('paradigms', 'NN'), (',', ','), ('including', 'VBG'), ('procedural', 'JJ'), (',', ','), ('object-oriented', 'JJ'), (',', ','), ('and', 'CC'), ('functional', 'JJ'), ('programming', 'NN'), ('.', '.'), ('Python', 'NNP'), ('is', 'VBZ'), ('often', 'RB'), ('described', 'VBN'), ('as', 'IN'), ('a', 'DT'), ('batteries', 'NNS'), ('included', 'VBN'), ('language', 'NN'), ('due', 'JJ'), ('to', 'TO'), ('its', 'PRP$'), ('comprehensive', 'JJ'), ('standard', 'NN'), ('library', 'NN'), ('.', '.'), ('[', 'CC'), ('28', 'CD'), (']', 'NN')]\n"
     ]
    }
   ],
   "source": [
    "from nltk.tokenize import *\n",
    "from nltk.tag import *\n",
    "text=\"Python is an interpreted, high-level, general-purpose programming language. Created by Guido van Rossum and first released in 1991, Python's design philosophy emphasizes code readability with its notable use of significant whitespace. Its language constructs and object-oriented approach aim to help programmers write clear, logical code for small and large-scale projects.[27] Python is dynamically typed and garbage-collected. It supports multiple programming paradigms, including procedural, object-oriented, and functional programming. Python is often described as a batteries included language due to its comprehensive standard library.[28]\"\n",
    "print(sent_tokenize(text))\n",
    "print(\"=\"*50)\n",
    "print(word_tokenize(text))\n",
    "print(\"=\"*50)\n",
    "print(pos_tag(word_tokenize(text)))"
   ]
  },
  {
   "cell_type": "code",
   "execution_count": 32,
   "metadata": {},
   "outputs": [],
   "source": [
    "from konlpy.tag import Kkma\n",
    "kma=Kkma()"
   ]
  },
  {
   "cell_type": "code",
   "execution_count": 34,
   "metadata": {},
   "outputs": [
    {
     "name": "stdout",
     "output_type": "stream",
     "text": [
      "['오늘', '도', '지각', '하지', '않고', '열심히', '공부', '한', '여러분', ',', '이번', '주도', '힘냅시다', '.']\n",
      "==============================\n",
      "['오늘', '도', '지각', '하', '지', '않', '고', '열심히', '공부', '하', 'ㄴ', '여러분', ',', '이번', '주도', '힘내', 'ㅂ시다', '.']\n",
      "==============================\n",
      "[('오늘', 'Noun'), ('도', 'Josa'), ('지각', 'Noun'), ('하지', 'Verb'), ('않고', 'Verb'), ('열심히', 'Adverb'), ('공부', 'Noun'), ('한', 'Josa'), ('여러분', 'Noun'), (',', 'Punctuation'), ('이번', 'Noun'), ('주도', 'Noun'), ('힘냅시다', 'Verb'), ('.', 'Punctuation')]\n",
      "==============================\n",
      "['오늘', '지각', '공부', '여러분', '이번', '주도']\n",
      "==============================\n"
     ]
    }
   ],
   "source": [
    "print(okt.morphs(\"오늘도 지각하지 않고 열심히 공부한 여러분, 이번주도 힘냅시다.\"))\n",
    "print(\"=\"*30)\n",
    "print(kma.morphs(\"오늘도 지각하지 않고 열심히 공부한 여러분, 이번주도 힘냅시다.\"))\n",
    "print(\"=\"*30)\n",
    "print(okt.pos(\"오늘도 지각하지 않고 열심히 공부한 여러분, 이번주도 힘냅시다.\"))\n",
    "print(\"=\"*30)\n",
    "print(okt.nouns(\"오늘도 지각하지 않고 열심히 공부한 여러분, 이번주도 힘냅시다.\"))\n",
    "print(\"=\"*30)"
   ]
  },
  {
   "cell_type": "markdown",
   "metadata": {},
   "source": [
    "#### 자연어처리 전처리\n",
    "- 대소문자 통합, 불용어 제거(대체), 특수문자 처리(공백,문장보호)\n",
    "- train, training, trains,... => train\n",
    "- are/is/was/were => be\n",
    "- 정규표현식\n",
    "- 형태소 : 어간(stem) + 접사, 말뜻의 최소단위"
   ]
  },
  {
   "cell_type": "code",
   "execution_count": 35,
   "metadata": {},
   "outputs": [],
   "source": [
    "from nltk.stem import WordNetLemmatizer"
   ]
  },
  {
   "cell_type": "code",
   "execution_count": 38,
   "metadata": {},
   "outputs": [
    {
     "name": "stdout",
     "output_type": "stream",
     "text": [
      "have\n",
      "be\n",
      "be\n"
     ]
    }
   ],
   "source": [
    "# 단어 통일할 때 쓰면 편한 함수\n",
    "wnl=WordNetLemmatizer()\n",
    "print(wnl.lemmatize(\"has\",\"v\"))\n",
    "print(wnl.lemmatize(\"were\",\"v\"))\n",
    "print(wnl.lemmatize(\"was\",\"v\"))"
   ]
  },
  {
   "cell_type": "code",
   "execution_count": 63,
   "metadata": {},
   "outputs": [],
   "source": [
    "text=\"Python is an interpreted, high-level, general-purpose programming language. Created by Guido van Rossum and first released in 1991, Python's design philosophy emphasizes code readability with its notable use of significant whitespace. Its language constructs and object-oriented approach aim to help programmers write clear, logical code for small and large-scale projects.[27] Python is dynamically typed and garbage-collected. It supports multiple programming paradigms, including procedural, object-oriented, and functional programming. Python is often described as a batteries included language due to its comprehensive standard library.[28]\""
   ]
  },
  {
   "cell_type": "code",
   "execution_count": 43,
   "metadata": {},
   "outputs": [
    {
     "name": "stdout",
     "output_type": "stream",
     "text": [
      "['Python', 'is', 'an', 'interpreted', ',', 'high-level', ',', 'general-purpose', 'programming', 'language', '.', 'Created', 'by', 'Guido', 'van', 'Rossum', 'and', 'first', 'released', 'in', '1991', ',', 'Python', \"'s\", 'design', 'philosophy', 'emphasizes', 'code', 'readability', 'with', 'its', 'notable', 'use', 'of', 'significant', 'whitespace', '.', 'Its', 'language', 'constructs', 'and', 'object-oriented', 'approach', 'aim', 'to', 'help', 'programmers', 'write', 'clear', ',', 'logical', 'code', 'for', 'small', 'and', 'large-scale', 'projects', '.', '[', '27', ']', 'Python', 'is', 'dynamically', 'typed', 'and', 'garbage-collected', '.', 'It', 'supports', 'multiple', 'programming', 'paradigms', ',', 'including', 'procedural', ',', 'object-oriented', ',', 'and', 'functional', 'programming', '.', 'Python', 'is', 'often', 'described', 'as', 'a', 'batteries', 'included', 'language', 'due', 'to', 'its', 'comprehensive', 'standard', 'library', '.', '[', '28', ']']\n",
      "==============================\n",
      "['python', 'is', 'an', 'interpret', ',', 'high-level', ',', 'general-purpos', 'program', 'languag', '.', 'creat', 'by', 'guido', 'van', 'rossum', 'and', 'first', 'releas', 'in', '1991', ',', 'python', \"'s\", 'design', 'philosophi', 'emphas', 'code', 'readabl', 'with', 'it', 'notabl', 'use', 'of', 'signific', 'whitespac', '.', 'it', 'languag', 'construct', 'and', 'object-ori', 'approach', 'aim', 'to', 'help', 'programm', 'write', 'clear', ',', 'logic', 'code', 'for', 'small', 'and', 'large-scal', 'project', '.', '[', '27', ']', 'python', 'is', 'dynam', 'type', 'and', 'garbage-collect', '.', 'It', 'support', 'multipl', 'program', 'paradigm', ',', 'includ', 'procedur', ',', 'object-ori', ',', 'and', 'function', 'program', '.', 'python', 'is', 'often', 'describ', 'as', 'a', 'batteri', 'includ', 'languag', 'due', 'to', 'it', 'comprehens', 'standard', 'librari', '.', '[', '28', ']']\n"
     ]
    }
   ],
   "source": [
    "#포터알고리즘(어간추출)\n",
    "from nltk.stem import PorterStemmer\n",
    "ps=PorterStemmer()\n",
    "words=word_tokenize(text)\n",
    "print(words)\n",
    "print(\"=\"*30)\n",
    "\n",
    "# 어간 추출\n",
    "ps_words=[ps.stem(w) for w in words]\n",
    "print(ps_words)"
   ]
  },
  {
   "cell_type": "code",
   "execution_count": 48,
   "metadata": {},
   "outputs": [
    {
     "name": "stdout",
     "output_type": "stream",
     "text": [
      "['need', 'help', '.', 'like', 'coding', '.', \"'s\", 'hobby', '.']\n"
     ]
    }
   ],
   "source": [
    "# 불용어로 등록된 단어들 \n",
    "from nltk.corpus import stopwords\n",
    "len(stopwords.words('english')) \n",
    "sw=stopwords.words('english')\n",
    "test=\"i need you to help me. i like coding. what's your hobby.\"\n",
    "test=word_tokenize(test) # 단어로 나뉘어서 리스트로 저장\n",
    "test\n",
    "res=[]\n",
    "for w in test :\n",
    "    if w not in sw:\n",
    "        res.append(w)\n",
    "print(res)"
   ]
  },
  {
   "cell_type": "code",
   "execution_count": 54,
   "metadata": {},
   "outputs": [
    {
     "name": "stdout",
     "output_type": "stream",
     "text": [
      "['파이썬', '코딩을', '해야', '합니다', '.', '하기싫어도', '해요', '.', '그래도', '하세요']\n"
     ]
    }
   ],
   "source": [
    "sw=\"열심히 하기싫어 싫거든 안해\"\n",
    "test=\"파이썬 코딩을 열심히 해야 합니다. 하기싫어도 해요. 그래도 싫거든 하세요 안해 안해 안해\"\n",
    "sw=sw.split(\" \")\n",
    "sw #불용어\n",
    "test=word_tokenize(test)\n",
    "res2=[]\n",
    "for w in test :\n",
    "    if w not in sw:\n",
    "        res2.append(w)\n",
    "print(res2)"
   ]
  },
  {
   "cell_type": "code",
   "execution_count": 75,
   "metadata": {},
   "outputs": [
    {
     "data": {
      "text/plain": [
       "\"Python is an interpreted, high-level, general-purpose programming language. Created by Guido van Rossum and first released in 1991, Python's design philosophy emphasizes code readability with its notable use of significant whitespace. Its language constructs and object-oriented approach aim to help programmers write clear, logical code for small and large-scale projects.[27] Python is dynamically typed and garbage-collected. It supports multiple programming paradigms, including procedural, object-oriented, and functional programming. Python is often described as a batteries included language due to its comprehensive standard library.[28]\""
      ]
     },
     "execution_count": 75,
     "metadata": {},
     "output_type": "execute_result"
    }
   ],
   "source": [
    "# 정수 인코딩\n",
    "text=\"Python is an interpreted, high-level, general-purpose programming language. Created by Guido van Rossum and first released in 1991, Python's design philosophy emphasizes code readability with its notable use of significant whitespace. Its language constructs and object-oriented approach aim to help programmers write clear, logical code for small and large-scale projects.[27] Python is dynamically typed and garbage-collected. It supports multiple programming paradigms, including procedural, object-oriented, and functional programming. Python is often described as a batteries included language due to its comprehensive standard library.[28]\"\n",
    "text\n",
    "# 각 단어에 대한 등장횟수 출력\n",
    "# 단어의 길이가 2이하인 경우 제외\n",
    "# 불용어 사전 단어 제거 \n",
    "# 대소문자 구분 없음 (모두 소문자로 변환)"
   ]
  },
  {
   "cell_type": "code",
   "execution_count": 83,
   "metadata": {},
   "outputs": [],
   "source": [
    "def word_encode(text):\n",
    "    line = text.lower()\n",
    "    word = word_tokenize(line)\n",
    "    sw=stopwords.words('english')\n",
    "    res=[]\n",
    "    counts={}\n",
    "    for w in word:\n",
    "        if w not in sw:\n",
    "            res.append(w)\n",
    "            for word in res:\n",
    "                if word in counts:\n",
    "                    counts[word] += 1 \n",
    "                else:\n",
    "                    counts[word]=1\n",
    "    return counts\n",
    "    "
   ]
  },
  {
   "cell_type": "code",
   "execution_count": 84,
   "metadata": {},
   "outputs": [
    {
     "data": {
      "text/plain": [
       "{'python': 189,\n",
       " 'interpreted': 79,\n",
       " ',': 321,\n",
       " 'high-level': 77,\n",
       " 'general-purpose': 75,\n",
       " 'programming': 115,\n",
       " 'language': 133,\n",
       " '.': 207,\n",
       " 'created': 71,\n",
       " 'guido': 70,\n",
       " 'van': 69,\n",
       " 'rossum': 68,\n",
       " 'first': 67,\n",
       " 'released': 66,\n",
       " '1991': 65,\n",
       " \"'s\": 62,\n",
       " 'design': 61,\n",
       " 'philosophy': 60,\n",
       " 'emphasizes': 59,\n",
       " 'code': 98,\n",
       " 'readability': 57,\n",
       " 'notable': 56,\n",
       " 'use': 55,\n",
       " 'significant': 54,\n",
       " 'whitespace': 53,\n",
       " 'constructs': 50,\n",
       " 'object-oriented': 68,\n",
       " 'approach': 48,\n",
       " 'aim': 47,\n",
       " 'help': 46,\n",
       " 'programmers': 45,\n",
       " 'write': 44,\n",
       " 'clear': 43,\n",
       " 'logical': 41,\n",
       " 'small': 39,\n",
       " 'large-scale': 38,\n",
       " 'projects': 37,\n",
       " '[': 38,\n",
       " '27': 34,\n",
       " ']': 34,\n",
       " 'dynamically': 31,\n",
       " 'typed': 30,\n",
       " 'garbage-collected': 29,\n",
       " 'supports': 27,\n",
       " 'multiple': 26,\n",
       " 'paradigms': 24,\n",
       " 'including': 22,\n",
       " 'procedural': 21,\n",
       " 'functional': 17,\n",
       " 'often': 13,\n",
       " 'described': 12,\n",
       " 'batteries': 11,\n",
       " 'included': 10,\n",
       " 'due': 8,\n",
       " 'comprehensive': 7,\n",
       " 'standard': 6,\n",
       " 'library': 5,\n",
       " '28': 2}"
      ]
     },
     "execution_count": 84,
     "metadata": {},
     "output_type": "execute_result"
    }
   ],
   "source": [
    "text=sent_tokenize(text)\n",
    "word_encode(text)"
   ]
  },
  {
   "cell_type": "code",
   "execution_count": 92,
   "metadata": {},
   "outputs": [],
   "source": [
    "text=\"Python is an interpreted, high-level, general-purpose programming language. Created by Guido van Rossum and first released in 1991, Python's design philosophy emphasizes code readability with its notable use of significant whitespace. Its language constructs and object-oriented approach aim to help programmers write clear, logical code for small and large-scale projects.[27] Python is dynamically typed and garbage-collected. It supports multiple programming paradigms, including procedural, object-oriented, and functional programming. Python is often described as a batteries included language due to its comprehensive standard library.[28]\"\n",
    "text=sent_tokenize(text)"
   ]
  },
  {
   "cell_type": "code",
   "execution_count": 96,
   "metadata": {},
   "outputs": [
    {
     "name": "stdout",
     "output_type": "stream",
     "text": [
      "[['python', 'interpreted', 'high-level', 'general-purpose', 'programming', 'language'], ['created', 'guido', 'van', 'rossum', 'first', 'released', '1991', 'python', 'design', 'philosophy', 'emphasizes', 'code', 'readability', 'notable', 'use', 'significant', 'whitespace'], ['language', 'constructs', 'object-oriented', 'approach', 'aim', 'help', 'programmers', 'write', 'clear', 'logical', 'code', 'small', 'large-scale', 'projects'], ['python', 'dynamically', 'typed', 'garbage-collected'], ['supports', 'multiple', 'programming', 'paradigms', 'including', 'procedural', 'object-oriented', 'functional', 'programming'], ['python', 'often', 'described', 'batteries', 'included', 'language', 'due', 'comprehensive', 'standard', 'library'], []]\n"
     ]
    }
   ],
   "source": [
    "from nltk.tokenize import word_tokenize \n",
    "from nltk.corpus import stopwords\n",
    "from collections import Counter\n",
    "voc=Counter()\n",
    "sentences=[]\n",
    "stop_words=stopwords.words('english')\n",
    "for i in text:\n",
    "    sentence=word_tokenize(i)\n",
    "    res=[]\n",
    "    for word in sentence:\n",
    "        word=word.lower()\n",
    "        if word not in stop_words:\n",
    "            if len(word) > 2:\n",
    "                res.append(word)\n",
    "                voc[word]=voc[word]+1\n",
    "    sentences.append(res)\n",
    "print(sentences)"
   ]
  },
  {
   "cell_type": "code",
   "execution_count": 104,
   "metadata": {},
   "outputs": [
    {
     "data": {
      "text/html": [
       "<div style=\"width:100%;\"><div style=\"position:relative;width:100%;height:0;padding-bottom:60%;\"><iframe src=\"data:text/html;charset=utf-8;base64,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\" style=\"position:absolute;width:100%;height:100%;left:0;top:0;border:none !important;\" allowfullscreen webkitallowfullscreen mozallowfullscreen></iframe></div></div>"
      ],
      "text/plain": [
       "<folium.folium.Map at 0x21110d65710>"
      ]
     },
     "execution_count": 104,
     "metadata": {},
     "output_type": "execute_result"
    }
   ],
   "source": [
    "import folium\n",
    "# myMap=folium.Map(location=[36.123,127.123],zoom_start=13,tiles='Stamen Terrain')\n",
    "myMap=folium.Map(location=[36.123,127.123],zoom_start=13)\n",
    "folium.Marker([36.123,127.123],popup=\"우리집\").add_to(myMap)\n",
    "myMap"
   ]
  }
 ],
 "metadata": {
  "kernelspec": {
   "display_name": "Python 3",
   "language": "python",
   "name": "python3"
  },
  "language_info": {
   "codemirror_mode": {
    "name": "ipython",
    "version": 3
   },
   "file_extension": ".py",
   "mimetype": "text/x-python",
   "name": "python",
   "nbconvert_exporter": "python",
   "pygments_lexer": "ipython3",
   "version": "3.7.3"
  }
 },
 "nbformat": 4,
 "nbformat_minor": 2
}
