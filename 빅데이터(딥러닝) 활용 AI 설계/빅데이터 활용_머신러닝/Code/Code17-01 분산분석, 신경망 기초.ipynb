{
 "cells": [
  {
   "cell_type": "markdown",
   "metadata": {},
   "source": [
    "### AB테스트 \n",
    "    - 예) 광고배너 : A안, B안 준비 -> 랜덤하게 사용자에게 노출시킨 뒤 사람들의 반응을 분석하는  테스트 => 어떤 광고가 더 효과가 좋은지 판단하기 위한 테스트\n",
    "    - 예) 화합물의 원료 비율 \n",
    "    ==> \"분산분석(ANOVA)\" 이론이 등장하게 된 분석이론\n",
    "    - 알파 테스트 : 실무자가 진행하는 테스트\n",
    "    - 베타 테스트 : 고객들이 진행하는 테스트\n",
    "\n",
    "### 분산분석 (ANOVA)\n",
    "    - 그룹간 비교\n",
    "    - 2016년 6명 학생 수능시험 -> 6명 모두 400점 (분산:0) \n",
    "    - 2017년 6명 학생 수능시험 -> 평균 : 370점, 분산 != 0\n",
    "    - 분산 : 변수가 가지고 있는 차이의 양 \n",
    "    - 평균 : 370점 \n",
    "    - 수능 시험을 본 학생들을 2그룹으로 분리 후 평균점수(독학 : 370점, 학원 : 370점)\n",
    "    - 평균점수(독학 : 380점, 학원 : 360점) -> 공부방법에 따라 점수가 달라진다는 것을 알 수 있고, '공부 방법'이라는 조건부가 붙게됨 ==> 이런 상황에서 진행하는 방법이 분산분석 \n",
    "    - 분산분석은 그룹 간의 차이는 알 수 있지만, 그룹 내 각각의 값에 대해서는 알 수 없음\n",
    "    ==> 관심 변수의 분산이 어떻게 분해되는지 확인하는 분석, 그룹에 따라 차이를 분석하고자 하는 방법"
   ]
  },
  {
   "cell_type": "code",
   "execution_count": 3,
   "metadata": {},
   "outputs": [
    {
     "name": "stdout",
     "output_type": "stream",
     "text": [
      "[0.5 1. ]\n",
      "1.5\n"
     ]
    }
   ],
   "source": [
    "import numpy as np\n",
    "x1=np.array([1,2])\n",
    "x2=np.array([0.5,0.5])\n",
    "print(x1*x2)\n",
    "print(np.sum(x1*x2)) # 곱의 합이 구해짐"
   ]
  },
  {
   "cell_type": "code",
   "execution_count": 6,
   "metadata": {},
   "outputs": [
    {
     "name": "stdout",
     "output_type": "stream",
     "text": [
      "(0, 0)->0\n",
      "(0, 1)->0\n",
      "(1, 0)->0\n",
      "(1, 1)->1\n"
     ]
    }
   ],
   "source": [
    "# AND 회로 함수 \n",
    "def AND(x1,x2):\n",
    "    # 모델(hf=ws+b)\n",
    "    x=np.array([x1,x2])\n",
    "    w=np.array([0.5,0.5]) # 학습에 의해 얻어진 값들\n",
    "    b=-0.7 # 합습하는 과정에서 얻어진 값\n",
    "    hf=np.sum(x*w)+b\n",
    "    #모델(hf=w1x2+w2x2+b)\n",
    "    #조건1\n",
    "    if hf <=0:\n",
    "        return 0    \n",
    "    else :\n",
    "        return 1\n",
    "\n",
    "for xs in [(0,0),(0,1),(1,0),(1,1)]:\n",
    "    y = AND(xs[0],xs[1]) # 튜플의 원소 1번쨰 값, 2번째 값 전달, y는 모델이 예측힌 값\n",
    "    print(str(xs)+ \"->\" +str(y))\n",
    "# AND 회로와 같이 동작해야하는 시스템은 위의 코드를 그대로 쓸 수 있음."
   ]
  },
  {
   "cell_type": "code",
   "execution_count": 20,
   "metadata": {},
   "outputs": [
    {
     "name": "stdout",
     "output_type": "stream",
     "text": [
      "(0, 0)->0\n",
      "(0, 1)->1\n",
      "(1, 0)->1\n",
      "(1, 1)->1\n"
     ]
    }
   ],
   "source": [
    "# OR 회로 함수 \n",
    "def OR(x1,x2):\n",
    "    # 모델(hf=ws+b)\n",
    "    x=np.array([x1,x2])\n",
    "    w=np.array([0.5,0.5]) # 학습에 의해 얻어진 값들\n",
    "    b=-0.2 # 합습하는 과정에서 얻어진 값\n",
    "    hf=np.sum(x*w)+b\n",
    "    #모델(hf=w1x2+w2x2+b)\n",
    "    #조건1\n",
    "    if hf <= 0:\n",
    "        return 0    \n",
    "    else :\n",
    "        return 1\n",
    "\n",
    "for xs in [(0,0),(0,1),(1,0),(1,1)]:\n",
    "    y = OR(xs[0],xs[1]) # 튜플의 원소 1번쨰 값, 2번째 값 전달, y는 모델이 예측힌 값\n",
    "    print(str(xs)+ \"->\" +str(y))"
   ]
  },
  {
   "cell_type": "code",
   "execution_count": 27,
   "metadata": {},
   "outputs": [
    {
     "name": "stdout",
     "output_type": "stream",
     "text": [
      "(0, 0)->1\n",
      "(0, 1)->1\n",
      "(1, 0)->1\n",
      "(1, 1)->0\n"
     ]
    }
   ],
   "source": [
    "# NAND 회로 함수 \n",
    "def NAND(x1,x2):\n",
    "    # 모델(hf=ws+b)\n",
    "    x=np.array([x1,x2])\n",
    "    w=np.array([0.5,0.5]) # 학습에 의해 얻어진 값들\n",
    "    b=-0.7 # 합습하는 과정에서 얻어진 값\n",
    "    hf=np.sum(x*w)+b\n",
    "    #모델(hf=w1x2+w2x2+b)\n",
    "    #조건1\n",
    "    if hf >= 0:\n",
    "        return 0    \n",
    "    else :\n",
    "        return 1\n",
    "\n",
    "for xs in [(0,0),(0,1),(1,0),(1,1)]:\n",
    "    y = NAND(xs[0],xs[1]) # 튜플의 원소 1번쨰 값, 2번째 값 전달, y는 모델이 예측힌 값\n",
    "    print(str(xs)+ \"->\" +str(y))"
   ]
  },
  {
   "cell_type": "code",
   "execution_count": 29,
   "metadata": {},
   "outputs": [
    {
     "name": "stdout",
     "output_type": "stream",
     "text": [
      "0\n",
      "1\n",
      "1\n",
      "0\n"
     ]
    }
   ],
   "source": [
    "def XOR(x1,x2):\n",
    "    s1=NAND(x1,x2)\n",
    "    s2=OR(x1,x2)\n",
    "    y=AND(s1,s2)\n",
    "    return y #y는 x1,x2 입력\n",
    "print(XOR(0,0)) #0 출력\n",
    "print(XOR(0,1)) #1 출력\n",
    "print(XOR(1,0)) #1 출력\n",
    "print(XOR(1,1)) #0 출력"
   ]
  },
  {
   "cell_type": "code",
   "execution_count": null,
   "metadata": {},
   "outputs": [],
   "source": []
  }
 ],
 "metadata": {
  "kernelspec": {
   "display_name": "Python 3",
   "language": "python",
   "name": "python3"
  },
  "language_info": {
   "codemirror_mode": {
    "name": "ipython",
    "version": 3
   },
   "file_extension": ".py",
   "mimetype": "text/x-python",
   "name": "python",
   "nbconvert_exporter": "python",
   "pygments_lexer": "ipython3",
   "version": "3.7.3"
  }
 },
 "nbformat": 4,
 "nbformat_minor": 2
}
