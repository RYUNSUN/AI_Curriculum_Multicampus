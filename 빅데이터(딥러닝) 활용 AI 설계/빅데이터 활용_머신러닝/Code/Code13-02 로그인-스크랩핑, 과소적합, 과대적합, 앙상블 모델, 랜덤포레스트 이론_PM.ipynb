{
 "cells": [
  {
   "cell_type": "code",
   "execution_count": 1,
   "metadata": {},
   "outputs": [],
   "source": [
    "import numpy as np\n",
    "from numpy.linalg import norm\n",
    "import pandas as pd\n",
    "from sklearn.feature_extraction.text import TfidfVectorizer"
   ]
  },
  {
   "cell_type": "markdown",
   "metadata": {},
   "source": [
    "get방식은 로그인 페이지 주소가 다음과 같은데 아이디나 비밀번호가 노출될 수 있음  \n",
    "http://www.hanbit.co.kr/member/login_proc.php?m_id='test'&m_password='password'  \n",
    "post 방식은 아이디와 비밀번호를 블랙박스로 감춰 로그인한다.  \n",
    "http://www.hanbit.co.kr/member/login_proc.php  \n",
    "블랙박스(m_id='test'&m_password='password')  \n",
    "\n",
    "1.로그인  \n",
    "http://www.hanbit.co.kr/member/login_proc:php    \n",
    "블랙박스(m_id='test'&m_password='password')  \n",
    "\n",
    "2. 개인정보 페이지로 이동  \n",
    "http://www.hanbit.co.kr/myhanbit/myhanbit.html  \n",
    "\n",
    "3. 스크래핑  \n",
    "코인출력  "
   ]
  },
  {
   "cell_type": "code",
   "execution_count": 26,
   "metadata": {},
   "outputs": [],
   "source": [
    "import requests\n",
    "from bs4 import BeautifulSoup\n",
    "login_info={'m_id':\"lyunsun\",\n",
    "          'm_passwd':\"!dbs145466\"}\n",
    "url_login=\"http://www.hanbit.co.kr/member/login_proc.php\"\n",
    "#post방식으로 서버에 연결\n",
    "session=requests.session()\n",
    "res=session.post(url_login, data=login_info) # post 방식, get 방식 등 선택할 수 있음\n",
    "res #<Response [200]> 정상 접속, <Response [404]> : 주소가 잘못됐을 때\n",
    "url_mypage=\"http://www.hanbit.co.kr/myhanbit/myhanbit.html\""
   ]
  },
  {
   "cell_type": "code",
   "execution_count": 27,
   "metadata": {},
   "outputs": [
    {
     "name": "stdout",
     "output_type": "stream",
     "text": [
      "마일리지:2,000 이코인:0\n"
     ]
    }
   ],
   "source": [
    "res=session.get(url_mypage) #get 방식으로 접속\n",
    "soup=BeautifulSoup(res.text, 'html.parser')# 해당 페이지 출력\n",
    "#soup.select_one(\"#container > div > div.sm_mymileage > dl.mileage_section2 > dd > span\").get_text()\n",
    "# soup.select_one(\"#container > div > div.sm_mymileage > dl.mileage_section2 > dd > span\").get_text()\n",
    "mi=soup.select_one(\".mileage_section1 span\").get_text()\n",
    "ec=soup.select_one(\"#container > div > div.sm_mymileage > dl.mileage_section2 > dd > span\").get_text()\n",
    "print(\"마일리지:\"+mi, \"이코인:\"+ec)\n"
   ]
  },
  {
   "cell_type": "markdown",
   "metadata": {},
   "source": [
    "### 과소적합, 과대적합\n",
    "과소적합(Underfitting) : 모델이 너무 단순해서 데이터의 내재된 구조를 학습하지 못할 때 발생  \n",
    "bias가 너무 높으면 과소적합(Underfitting) 이라고 함  \n",
    "bias를 낮추려면 더 많은 변수를 동원해야함  \n",
    "\n",
    "과대적합(Overfitting) :  모델이 훈련 데이터에 너무 잘 맞지만 일반성이 떨어진다는 의미  \n",
    "variance과 너무 높으면 과대적합(Overfitting) 이라고 함  \n",
    "훈련 데이터에 너무 맞추어져 있기 때문에 훈련 데이터 이외의 다양한 변수에는 대응하기 힘듬  \n",
    "\n",
    "모델 적합할 때 목표는 Low Variance, Low Bias 이다.\n",
    "\n",
    "### 앙상블 학습과 랜덤 포레스트\n",
    "핸즈온 머신러닝 p.241~\n",
    "\n",
    "### bias, variance\n",
    "학습모델이 주어진 데이터에 대해서 얼마나 의존적인지를 나타내는 개념  \n",
    "bias : 편견, 선입견  \n",
    "variance : 분산  \n",
    "\n",
    "#### archive.ics.uci.edu/ml : 연습할 데이터가 있음"
   ]
  },
  {
   "cell_type": "markdown",
   "metadata": {},
   "source": [
    "#### 연습문제\n",
    "1. 로그인 -> 스크래핑  \n",
    "2. 유사도(그림판에 1,2 그리고 png로 저장(총 2개씩)  \n",
    "각 벡터 내적을 구해서 수치값 구하기 "
   ]
  },
  {
   "cell_type": "code",
   "execution_count": null,
   "metadata": {},
   "outputs": [],
   "source": []
  },
  {
   "cell_type": "code",
   "execution_count": null,
   "metadata": {},
   "outputs": [],
   "source": []
  },
  {
   "cell_type": "code",
   "execution_count": null,
   "metadata": {},
   "outputs": [],
   "source": []
  },
  {
   "cell_type": "code",
   "execution_count": null,
   "metadata": {},
   "outputs": [],
   "source": []
  },
  {
   "cell_type": "code",
   "execution_count": null,
   "metadata": {},
   "outputs": [],
   "source": []
  },
  {
   "cell_type": "code",
   "execution_count": null,
   "metadata": {},
   "outputs": [],
   "source": []
  },
  {
   "cell_type": "code",
   "execution_count": null,
   "metadata": {},
   "outputs": [],
   "source": []
  }
 ],
 "metadata": {
  "kernelspec": {
   "display_name": "Python 3",
   "language": "python",
   "name": "python3"
  },
  "language_info": {
   "codemirror_mode": {
    "name": "ipython",
    "version": 3
   },
   "file_extension": ".py",
   "mimetype": "text/x-python",
   "name": "python",
   "nbconvert_exporter": "python",
   "pygments_lexer": "ipython3",
   "version": "3.7.3"
  }
 },
 "nbformat": 4,
 "nbformat_minor": 2
}
