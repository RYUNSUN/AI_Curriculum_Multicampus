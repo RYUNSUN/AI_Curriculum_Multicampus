{
 "cells": [
  {
   "cell_type": "markdown",
   "metadata": {},
   "source": [
    "1. 위키피디아에서 '윤동주' 시인의\n",
    "'하늘과 바람과 별과 시' 시집에 수록된\n",
    "모든 시 제목을 추출\n",
    "\n",
    "2. 네이버 환율 페이지에서 현재 원/달러\n",
    "환율을 추출\n",
    "\n",
    "3. stackoverflow 사이트에서 'python'\n",
    "키워드로 검색했을 때 출력되는 질문 및\n",
    "답변을 추출"
   ]
  },
  {
   "cell_type": "code",
   "execution_count": 14,
   "metadata": {},
   "outputs": [],
   "source": [
    "import numpy as np\n",
    "import pandas as pd\n",
    "import seaborn as sns\n",
    "import matplotlib.pyplot as plt\n",
    "sns.set(rc={\"axes.facecolor\":\"white\", \"axes.edgecolor\":\"black\"})\n",
    "import re\n",
    "from plotnine import *\n",
    "import urllib.parse\n",
    "import requests\n",
    "from bs4 import BeautifulSoup"
   ]
  },
  {
   "cell_type": "code",
   "execution_count": 15,
   "metadata": {},
   "outputs": [],
   "source": [
    "# 1.위키피디아에서 '윤동주' 시인의 '하늘과 바람과 별과 시' 시집에 수록된 모든 시 제목을 추출\n",
    "url=\"https://ko.wikipedia.org/wiki/하늘과_바람과_별과_시\"\n",
    "data=requests.get(url)\n",
    "data=data.text"
   ]
  },
  {
   "cell_type": "code",
   "execution_count": 58,
   "metadata": {},
   "outputs": [
    {
     "name": "stdout",
     "output_type": "stream",
     "text": [
      "자화상\n",
      "새로운 길\n",
      "슬픈 족속\n",
      "소년\n",
      "병원\n",
      "무서운 시간\n",
      "눈 오는 지도\n",
      "태초의 아침\n",
      "또 태초의 아침\n",
      "새벽이 올 때까지\n",
      "십자가\n",
      "눈 감고 간다\n",
      "돌아와 보는 밤\n",
      "간판 없는 거리\n",
      "바람이 불어\n",
      "또 다른 고향\n",
      "길\n",
      "별 헤는 밤\n",
      "서시\n"
     ]
    }
   ],
   "source": [
    "soup=BeautifulSoup(data,\"html.parser\")\n",
    "links=soup.select(\"div#mw-content-text div.mw-parser-output li a.extiw\")\n",
    "for link in links:\n",
    "    print(link.string)"
   ]
  },
  {
   "cell_type": "code",
   "execution_count": 83,
   "metadata": {},
   "outputs": [],
   "source": [
    "# 2.네이버 환율 페이지에서 현재 원/달러 환율을 추출\n",
    "url=\"https://finance.naver.com/marketindex/?tabSel=exchange#tab_section\"\n",
    "data=requests.get(url)\n",
    "data=data.text"
   ]
  },
  {
   "cell_type": "code",
   "execution_count": 94,
   "metadata": {},
   "outputs": [
    {
     "name": "stdout",
     "output_type": "stream",
     "text": [
      "1,178.30\n"
     ]
    }
   ],
   "source": [
    "soup = BeautifulSoup(data, \"html.parser\")\n",
    "print(soup.select_one(\"div.tbl_area > table tbody tr td.sale\").text)"
   ]
  }
 ],
 "metadata": {
  "kernelspec": {
   "display_name": "Python 3",
   "language": "python",
   "name": "python3"
  },
  "language_info": {
   "codemirror_mode": {
    "name": "ipython",
    "version": 3
   },
   "file_extension": ".py",
   "mimetype": "text/x-python",
   "name": "python",
   "nbconvert_exporter": "python",
   "pygments_lexer": "ipython3",
   "version": "3.7.3"
  }
 },
 "nbformat": 4,
 "nbformat_minor": 2
}
