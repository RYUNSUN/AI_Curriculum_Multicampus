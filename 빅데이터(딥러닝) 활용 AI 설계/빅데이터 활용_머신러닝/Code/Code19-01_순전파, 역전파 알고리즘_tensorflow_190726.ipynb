{
 "cells": [
  {
   "cell_type": "code",
   "execution_count": 13,
   "metadata": {},
   "outputs": [],
   "source": [
    "# 클래스: 함수와 변수로 구성\n",
    "class MulLayer:\n",
    "    def __init__(self):\n",
    "        self.x=None\n",
    "        self.y=None\n",
    "        \n",
    "    def forward(self,x,y):\n",
    "        self.x=x\n",
    "        self.y=y\n",
    "        out=x*y\n",
    "        return out\n",
    "    \n",
    "    def backward(self,dout):\n",
    "        dx=dout*self.y\n",
    "        dy=dout*self.x\n",
    "        return dx,dy"
   ]
  },
  {
   "cell_type": "code",
   "execution_count": 14,
   "metadata": {},
   "outputs": [],
   "source": [
    "# 객체 생성\n",
    "# 객체를 생성할 때, 초기화해주기 위해서 선언\n",
    "# 이때는 def __init__(self)가 불려져 나옴\n",
    "mal=MulLayer()\n",
    "mtl=MulLayer()"
   ]
  },
  {
   "cell_type": "code",
   "execution_count": 15,
   "metadata": {},
   "outputs": [
    {
     "name": "stdout",
     "output_type": "stream",
     "text": [
      "price: 220\n"
     ]
    }
   ],
   "source": [
    "# 순전파\n",
    "apple=100\n",
    "apple_num=2\n",
    "tax=1.1\n",
    "apple_price=mal.forward(apple,apple_num) # mal 객체의 x변수:100, mal 객체의 y 변수:2 저장\n",
    "price=mtl.forward(apple_price, tax)  # mtl 객체의 x변수:200, mal 객체의 y 변수:1.1 저장\n",
    "print(\"price:\", int(price))"
   ]
  },
  {
   "cell_type": "code",
   "execution_count": 17,
   "metadata": {
    "scrolled": true
   },
   "outputs": [
    {
     "name": "stdout",
     "output_type": "stream",
     "text": [
      "2.2 110.00000000000001 1.1\n"
     ]
    }
   ],
   "source": [
    "# 역전파\n",
    "dprice=1\n",
    "dapple_price,dtax=mtl.backward(dprice) \n",
    "# print(dapple_price,dtax)\n",
    "dapple, dapple_num=mal.backward(dapple_price)\n",
    "print(dapple,dapple_num,dapple_price)"
   ]
  },
  {
   "cell_type": "markdown",
   "metadata": {},
   "source": [
    "### 상수형(constant)"
   ]
  },
  {
   "cell_type": "code",
   "execution_count": 18,
   "metadata": {},
   "outputs": [],
   "source": [
    "# 상수형(constant)\n",
    "import tensorflow as tf"
   ]
  },
  {
   "cell_type": "code",
   "execution_count": 26,
   "metadata": {},
   "outputs": [
    {
     "data": {
      "text/plain": [
       "<tf.Tensor 'add_4:0' shape=(1,) dtype=float32>"
      ]
     },
     "execution_count": 26,
     "metadata": {},
     "output_type": "execute_result"
    }
   ],
   "source": [
    "a=tf.constant([5],dtype=tf.float32) # 주로 float 타입이 쓰임, tf.constant([5.])\n",
    "b=tf.constant([10],dtype=tf.float32) \n",
    "c=tf.constant([2],dtype=tf.float32) \n",
    "c # 정보 출력\n",
    "d=a*b+c\n",
    "d # d에 대한 정보만 출력\n",
    "# tf.constant는 노드를 의미하고 a,b,c는 노드의 이름을 나타내고 tf.value는 엣지를 의미\n",
    "# 노드는 연산을 하는데 데이터를 보관하고 있는 것도 연산으로 봄\n",
    "# 뉴런에서 신호(tensor)가 엣지이고 뉴런 자체가 노드를 나타냄\n",
    "# 코딩한 것도 그래프를 그렸다고 할 수 있음\n",
    "# 그래프를 실행하면 순차적으로 진행됨"
   ]
  },
  {
   "cell_type": "code",
   "execution_count": 27,
   "metadata": {},
   "outputs": [
    {
     "name": "stdout",
     "output_type": "stream",
     "text": [
      "[5.]\n",
      "[52.]\n"
     ]
    }
   ],
   "source": [
    "# 세션을 생성해서 그래프 실행\n",
    "# 세션:그래프를 실행시켜주는 runner\n",
    "sess=tf.Session() # 세션 생성, Session은 클래스 \n",
    "sess.run(a) # array([5.], dtype=float32)\n",
    "print(sess.run(a)) # [5.] => print로 묶여줘야 보기에 편함\n",
    "print(sess.run(d))\n",
    "# 실행을 하게 되면 바로 a*b+c로 계산되는 것이 아니라, \n",
    "#a*b 부터 진행하기 위해 역으로 돌아가 a,b를 가져와 수식을 진행하고, 그 다음 c를 가져와 a*b와 c를 가져와 더하기 연산을 진행한다. "
   ]
  },
  {
   "cell_type": "markdown",
   "metadata": {},
   "source": [
    "### 플레이스 홀더 : 학습용 데이터를 임시로 보관하는 저장소\n",
    "    - y=x*2\n",
    "    - 그래프를 실행시키는 이유는 모델을 만들기 위해서이고(모델을 만드는 것을 training 이라 함)\n",
    "    - 그래프가 실행되어야만 training 되고 최종적으로 모델을 만들 수 있음\n",
    "    - 그래프 실행을 위해서는 데이터가 있어야하고, 데이터를 임시로 보관하는 곳이 '플레이스 홀더' 라고함\n",
    "    - y=x*2 모델을 실행시키려면 x라는 플레이스 홀더에 훈련하고자하는 데이터를 전달해줘야함"
   ]
  },
  {
   "cell_type": "code",
   "execution_count": 36,
   "metadata": {},
   "outputs": [
    {
     "name": "stdout",
     "output_type": "stream",
     "text": [
      "[2. 4. 6. 8.]\n"
     ]
    }
   ],
   "source": [
    "x=tf.placeholder(dtype=tf.float32) # 플레이스 홀더 \n",
    "data=[1,2,3,4]\n",
    "y=x*2 # 브로드캐스팅 \n",
    "print(sess.run(y,feed_dict={x:data})) # 그래프를 실행하는 코드\n",
    "# 피딩(feeding):학습용 데이터를 딕셔너리 형태로 전달하는 행위(그래프를 실행하는 시점에 전달해줘함)\n",
    "# 학습용 데이터는 딕셔너리 형태로 전달해줘야함 {전달받는 플레이스 홀더: 값(리스트,배열 등 )}"
   ]
  },
  {
   "cell_type": "markdown",
   "metadata": {},
   "source": [
    "### 변수(Variable)\n",
    "    - 훈련(트레이닝, 모델링)과정에서 변화하는 기울기, 절편 등을 의미\n",
    "    - hf=wx+b\n",
    "    - hf=0.5x+2\n",
    "    - w,b는 변수\n",
    "    - 변수는 초기화해줘야함"
   ]
  },
  {
   "cell_type": "code",
   "execution_count": 43,
   "metadata": {},
   "outputs": [
    {
     "data": {
      "text/plain": [
       "array([2., 4., 6.], dtype=float32)"
      ]
     },
     "execution_count": 43,
     "metadata": {},
     "output_type": "execute_result"
    }
   ],
   "source": [
    "inputData=[1,2,3]\n",
    "x=tf.placeholder(dtype=tf.float32)\n",
    "w=tf.Variable([2],dtype=tf.float32) # 초기값 2, w는 계속 갱신될 것이므로 변수로 설정해줘야함\n",
    "yhat=w*x\n",
    "\n",
    "sess=tf.Session()\n",
    "sess.run(tf.global_variables_initializer()) # 변수를 쓸 때는 반드시 초기화를 해줘야함\n",
    "# 변수가 있을 때 세션 객체를 생성 후 항상 써줘야함\n",
    "# init=tf.global_variables_initializer()\n",
    "# sess.run(init) # 초기화 해주는 것과 똑같은 형태\n",
    "\n",
    "sess.run(yhat,feed_dict={x:inputData})"
   ]
  },
  {
   "cell_type": "code",
   "execution_count": 57,
   "metadata": {},
   "outputs": [
    {
     "name": "stdout",
     "output_type": "stream",
     "text": [
      "12\n"
     ]
    }
   ],
   "source": [
    "# tf.matmul(행렬,행렬) : 행렬의 곱셈을 하는 함수, 행렬의 내적을 한 결과가 나옴\n",
    "# [1 2 3]*[2 2 2].T =[12]\n",
    "x=tf.constant([[1,2,3]])\n",
    "w=tf.constant([[2],[2],[2]])\n",
    "y=tf.matmul(x,w)\n",
    "print(sess.run(y)[0][0]) # 2차원으로 출력되므로 [0][0]이면 대괄호가 벗겨지고 숫자만 출력"
   ]
  },
  {
   "cell_type": "code",
   "execution_count": 61,
   "metadata": {},
   "outputs": [
    {
     "data": {
      "text/plain": [
       "array([[12]])"
      ]
     },
     "execution_count": 61,
     "metadata": {},
     "output_type": "execute_result"
    }
   ],
   "source": [
    "x=tf.Variable([[1,2,3]])\n",
    "w=tf.constant([[2],[2],[2]])\n",
    "y=tf.matmul(x,w)\n",
    "init=tf.global_variables_initializer()\n",
    "sess.run(init) \n",
    "sess.run(y)"
   ]
  },
  {
   "cell_type": "code",
   "execution_count": 62,
   "metadata": {},
   "outputs": [
    {
     "data": {
      "text/plain": [
       "array([[12],\n",
       "       [12],\n",
       "       [18]])"
      ]
     },
     "execution_count": 62,
     "metadata": {},
     "output_type": "execute_result"
    }
   ],
   "source": [
    "x=tf.Variable([[1,2,3],[1,2,3],[2,3,4]])\n",
    "w=tf.constant([[2],[2],[2]])\n",
    "y=tf.matmul(x,w)\n",
    "init=tf.global_variables_initializer()\n",
    "sess.run(init) \n",
    "sess.run(y)"
   ]
  },
  {
   "cell_type": "code",
   "execution_count": 64,
   "metadata": {},
   "outputs": [
    {
     "data": {
      "text/plain": [
       "array([[12.],\n",
       "       [12.],\n",
       "       [18.]], dtype=float32)"
      ]
     },
     "execution_count": 64,
     "metadata": {},
     "output_type": "execute_result"
    }
   ],
   "source": [
    "# tensorflow에서 None은 아직 결정되지 않은 상태를 의미\n",
    "indata=[[1,2,3],[1,2,3],[2,3,4]]\n",
    "x=tf.placeholder(dtype=tf.float32, shape=[None,3]) \n",
    "# shape=[None,3]:열은 3개로 고정되어 있는데 행은 잘 아직 결정된게 없다는 의미, 보통 None으로 쓰는게 일반적\n",
    "# 그럼 알아서 데이터를 읽으면서 행 자리를 대체해줌\n",
    "w=tf.constant([[2],[2],[2]],dtype=tf.float32)\n",
    "y=tf.matmul(x,w) #3*3 . 3*1 => 3*1\n",
    "init=tf.global_variables_initializer()\n",
    "sess.run(init) \n",
    "sess.run(y,feed_dict={x:indata}) # 3행 3열"
   ]
  },
  {
   "cell_type": "code",
   "execution_count": 67,
   "metadata": {},
   "outputs": [
    {
     "data": {
      "text/plain": [
       "array([[10.],\n",
       "       [16.]], dtype=float32)"
      ]
     },
     "execution_count": 67,
     "metadata": {},
     "output_type": "execute_result"
    }
   ],
   "source": [
    "# 브로드캐스팅 : tensortflow에서도 가능\n",
    "data=[[1,1,1],[2,2,2]]\n",
    "x=tf.placeholder(dtype=tf.float32, shape=[None,3])\n",
    "w=tf.Variable([[2],[2],[2]], dtype=tf.float32)\n",
    "b=tf.Variable([4],dtype=tf.float32)\n",
    "y=tf.matmul(x,w)+b # 2*3 3*1=> 2*1\n",
    "# 1 1 1  2\n",
    "# 2 2 2  2   => 6+4  10\n",
    "#        2   => 12+4 16\n",
    "sess=tf.Session()\n",
    "sess.run(tf.global_variables_initializer())\n",
    "sess.run(y,feed_dict={x:data})"
   ]
  },
  {
   "cell_type": "code",
   "execution_count": 68,
   "metadata": {},
   "outputs": [],
   "source": [
    "# 연습문제\n",
    "apple=100\n",
    "appleNum=2\n",
    "orange=150\n",
    "orangeNum=3\n",
    "tax=1.1\n",
    "# forward: 값 출력 /backward : 5개의 변수들의 영향력 출력\n",
    "# price 출력:(100*2+150*3)*1.1\n",
    "# dapple : apple 영향력\n",
    "# dappleNum : \n",
    "# dorange\n",
    "# dorangeNum\n",
    "# dtax"
   ]
  },
  {
   "cell_type": "code",
   "execution_count": null,
   "metadata": {},
   "outputs": [],
   "source": [
    "def googoo(dan):\n",
    "    5*1=5\n",
    "    5*9=45"
   ]
  }
 ],
 "metadata": {
  "kernelspec": {
   "display_name": "Python 3",
   "language": "python",
   "name": "python3"
  },
  "language_info": {
   "codemirror_mode": {
    "name": "ipython",
    "version": 3
   },
   "file_extension": ".py",
   "mimetype": "text/x-python",
   "name": "python",
   "nbconvert_exporter": "python",
   "pygments_lexer": "ipython3",
   "version": "3.7.3"
  }
 },
 "nbformat": 4,
 "nbformat_minor": 2
}
