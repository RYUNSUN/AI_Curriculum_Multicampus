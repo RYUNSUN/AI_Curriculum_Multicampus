{
  "nbformat": 4,
  "nbformat_minor": 0,
  "metadata": {
    "colab": {
      "name": "Code40-01.ipynb",
      "version": "0.3.2",
      "provenance": [],
      "collapsed_sections": [],
      "include_colab_link": true
    },
    "kernelspec": {
      "name": "python3",
      "display_name": "Python 3"
    },
    "accelerator": "GPU"
  },
  "cells": [
    {
      "cell_type": "markdown",
      "metadata": {
        "id": "view-in-github",
        "colab_type": "text"
      },
      "source": [
        "<a href=\"https://colab.research.google.com/github/RYUNSUN/TIL_/blob/master/%EB%B9%85%EB%8D%B0%EC%9D%B4%ED%84%B0(%EB%94%A5%EB%9F%AC%EB%8B%9D)%20%ED%99%9C%EC%9A%A9%20AI%20%EC%84%A4%EA%B3%84/%EB%B9%85%EB%8D%B0%EC%9D%B4%ED%84%B0%20%ED%99%9C%EC%9A%A9_%EB%A8%B8%EC%8B%A0%EB%9F%AC%EB%8B%9D/Code/Code40_01%20%ED%86%A0%ED%81%B0%ED%99%94%2C%20%ED%92%88%EC%82%AC%ED%83%9C%EA%B9%85%2C%20%20LSTM%20%EA%B8%B0%EB%B0%98%20%EB%89%B4%EC%8A%A4%20%EC%B9%B4%ED%85%8C%EA%B3%A0%EB%A6%AC%20%EB%B6%84%EB%A5%98%20%EB%B0%8F%20%20%EB%84%A4%EC%9D%B4%EB%B2%84%20%EC%98%81%ED%99%94%20%EB%A6%AC%EB%B7%B0%20%EA%B0%90%EC%84%B1%20%EB%B6%84%EB%A5%98%EA%B8%B0.ipynb\" target=\"_parent\"><img src=\"https://colab.research.google.com/assets/colab-badge.svg\" alt=\"Open In Colab\"/></a>"
      ]
    },
    {
      "cell_type": "code",
      "metadata": {
        "id": "2-TEzY-4kTb1",
        "colab_type": "code",
        "outputId": "50d1ae89-5e8c-4606-a232-cfa61cd016ae",
        "colab": {
          "base_uri": "https://localhost:8080/",
          "height": 127
        }
      },
      "source": [
        "from google.colab import drive\n",
        "drive.mount('/content/drive')"
      ],
      "execution_count": 1,
      "outputs": [
        {
          "output_type": "stream",
          "text": [
            "Go to this URL in a browser: https://accounts.google.com/o/oauth2/auth?client_id=947318989803-6bn6qk8qdgf4n4g3pfee6491hc0brc4i.apps.googleusercontent.com&redirect_uri=urn%3Aietf%3Awg%3Aoauth%3A2.0%3Aoob&scope=email%20https%3A%2F%2Fwww.googleapis.com%2Fauth%2Fdocs.test%20https%3A%2F%2Fwww.googleapis.com%2Fauth%2Fdrive%20https%3A%2F%2Fwww.googleapis.com%2Fauth%2Fdrive.photos.readonly%20https%3A%2F%2Fwww.googleapis.com%2Fauth%2Fpeopleapi.readonly&response_type=code\n",
            "\n",
            "Enter your authorization code:\n",
            "··········\n",
            "Mounted at /content/drive\n"
          ],
          "name": "stdout"
        }
      ]
    },
    {
      "cell_type": "markdown",
      "metadata": {
        "id": "nWQrxXAu2gRX",
        "colab_type": "text"
      },
      "source": [
        "## 토큰화, 품사 태깅"
      ]
    },
    {
      "cell_type": "code",
      "metadata": {
        "id": "6QiJuEgRkWJY",
        "colab_type": "code",
        "colab": {}
      },
      "source": [
        "from nltk import word_tokenize, pos_tag, ne_chunk"
      ],
      "execution_count": 0,
      "outputs": []
    },
    {
      "cell_type": "code",
      "metadata": {
        "id": "5F68lYC7zuJC",
        "colab_type": "code",
        "outputId": "dac7c393-6b44-4c25-ab17-19fefc70f469",
        "colab": {
          "base_uri": "https://localhost:8080/",
          "height": 143
        }
      },
      "source": [
        "import nltk\n",
        "nltk.download('punkt')\n",
        "nltk.download('averaged_perceptron_tagger')"
      ],
      "execution_count": 72,
      "outputs": [
        {
          "output_type": "stream",
          "text": [
            "[nltk_data] Downloading package punkt to /root/nltk_data...\n",
            "[nltk_data]   Package punkt is already up-to-date!\n",
            "[nltk_data] Downloading package averaged_perceptron_tagger to\n",
            "[nltk_data]     /root/nltk_data...\n",
            "[nltk_data]   Package averaged_perceptron_tagger is already up-to-\n",
            "[nltk_data]       date!\n"
          ],
          "name": "stdout"
        },
        {
          "output_type": "execute_result",
          "data": {
            "text/plain": [
              "True"
            ]
          },
          "metadata": {
            "tags": []
          },
          "execution_count": 72
        }
      ]
    },
    {
      "cell_type": "code",
      "metadata": {
        "id": "KiEMd7t4zfb0",
        "colab_type": "code",
        "outputId": "de95a627-8759-453e-8aa1-82a590d9c6e6",
        "colab": {
          "base_uri": "https://localhost:8080/",
          "height": 35
        }
      },
      "source": [
        "sentence=\"홍길동이는 오늘 멀티캠퍼스에 지각했습니다\"\n",
        "pos_tag(word_tokenize(sentence)) # 토큰화, 품사태깅"
      ],
      "execution_count": 73,
      "outputs": [
        {
          "output_type": "execute_result",
          "data": {
            "text/plain": [
              "[('홍길동이는', 'JJ'), ('오늘', 'NNP'), ('멀티캠퍼스에', 'NNP'), ('지각했습니다', 'NN')]"
            ]
          },
          "metadata": {
            "tags": []
          },
          "execution_count": 73
        }
      ]
    },
    {
      "cell_type": "code",
      "metadata": {
        "id": "i95exOO2zoWr",
        "colab_type": "code",
        "outputId": "0427d370-0164-48f2-dc98-0bfe88f4d0e8",
        "colab": {
          "base_uri": "https://localhost:8080/",
          "height": 35
        }
      },
      "source": [
        "sentence=\"James is working Samsung in Suwon\"\n",
        "sentence=pos_tag(word_tokenize(sentence))\n",
        "print(sentence)"
      ],
      "execution_count": 74,
      "outputs": [
        {
          "output_type": "stream",
          "text": [
            "[('James', 'NNP'), ('is', 'VBZ'), ('working', 'VBG'), ('Samsung', 'NNP'), ('in', 'IN'), ('Suwon', 'NNP')]\n"
          ],
          "name": "stdout"
        }
      ]
    },
    {
      "cell_type": "code",
      "metadata": {
        "id": "eQazwOTY0clo",
        "colab_type": "code",
        "outputId": "5c53a489-2def-4c3a-bb32-0fc36d72b41d",
        "colab": {
          "base_uri": "https://localhost:8080/",
          "height": 125
        }
      },
      "source": [
        "import nltk\n",
        "nltk.download('maxent_ne_chunker')\n",
        "nltk.download('words')"
      ],
      "execution_count": 75,
      "outputs": [
        {
          "output_type": "stream",
          "text": [
            "[nltk_data] Downloading package maxent_ne_chunker to\n",
            "[nltk_data]     /root/nltk_data...\n",
            "[nltk_data]   Package maxent_ne_chunker is already up-to-date!\n",
            "[nltk_data] Downloading package words to /root/nltk_data...\n",
            "[nltk_data]   Package words is already up-to-date!\n"
          ],
          "name": "stdout"
        },
        {
          "output_type": "execute_result",
          "data": {
            "text/plain": [
              "True"
            ]
          },
          "metadata": {
            "tags": []
          },
          "execution_count": 75
        }
      ]
    },
    {
      "cell_type": "code",
      "metadata": {
        "id": "BXhSAh200QBZ",
        "colab_type": "code",
        "colab": {}
      },
      "source": [
        "ne_chunk(sentence) # 개체 유형 출력\n",
        "# 출력 결과 : Tree('S', [Tree('PERSON', [('James', 'NNP')]), ('is', 'VBZ'), ('working', 'VBG'), Tree('PERSON', [('Samsung', 'NNP')]), ('in', 'IN'), Tree('GPE', [('Suwon', 'NNP')])])"
      ],
      "execution_count": 0,
      "outputs": []
    },
    {
      "cell_type": "markdown",
      "metadata": {
        "id": "2YpzYOZh2I-I",
        "colab_type": "text"
      },
      "source": [
        "개체명 태깅 : \n",
        "https://raw.githubusercontent.com/Franck-Dernoncourt/NeuroNER/master/neuroner/data/conll2003/en/train.txt  \n",
        "데이터를 가져와서 개체명을 직접 줄 수 있음"
      ]
    },
    {
      "cell_type": "markdown",
      "metadata": {
        "id": "FlEbGgl7J7z7",
        "colab_type": "text"
      },
      "source": [
        "## LSTM을 이용한 분류 실습"
      ]
    },
    {
      "cell_type": "code",
      "metadata": {
        "id": "ODi1Dgcs0KyZ",
        "colab_type": "code",
        "colab": {}
      },
      "source": [
        "from keras.datasets import reuters"
      ],
      "execution_count": 0,
      "outputs": []
    },
    {
      "cell_type": "code",
      "metadata": {
        "id": "MJU6_sEfZB8X",
        "colab_type": "code",
        "colab": {
          "base_uri": "https://localhost:8080/",
          "height": 53
        },
        "outputId": "467622ca-72e9-4577-d4b7-caa01a7ec6cc"
      },
      "source": [
        "import numpy as np\n",
        "# save np.load\n",
        "np_load_old = np.load\n",
        "\n",
        "# modify the default parameters of np.load\n",
        "np.load = lambda *a,**k: np_load_old(*a, allow_pickle=True, **k)\n",
        "\n",
        "# call load_data with allow_pickle implicitly set to true\n",
        "(xtrain, ytrain),(xtest, ytest) = reuters.load_data(num_words=None, test_split=0.2) \n",
        "# num_words=1000은 1000등 안에 있는 단어들만 가져와라\n",
        "\n",
        "# restore np.load for future normal usage\n",
        "np.load = np_load_old"
      ],
      "execution_count": 10,
      "outputs": [
        {
          "output_type": "stream",
          "text": [
            "Downloading data from https://s3.amazonaws.com/text-datasets/reuters.npz\n",
            "2113536/2110848 [==============================] - 2s 1us/step\n"
          ],
          "name": "stdout"
        }
      ]
    },
    {
      "cell_type": "code",
      "metadata": {
        "id": "HZCBp-Jl3giP",
        "colab_type": "code",
        "outputId": "5a59c7c1-0e9e-4b2b-b9a9-aed39e74751f",
        "colab": {
          "base_uri": "https://localhost:8080/",
          "height": 1000
        }
      },
      "source": [
        "xtrain[0]\n",
        "# 단어들의 빈도에 따라 인덱스가 부여가 된 상태임\n",
        "# 1 => 등장 빈도수가 1등\n",
        "# 27595 => 등장 빈도수가 27595 등\n",
        "# ex) The ... ... ...\n",
        "\n",
        "len(xtrain) # 8982개의 뉴스기사\n",
        "xtrain[8981] "
      ],
      "execution_count": 11,
      "outputs": [
        {
          "output_type": "execute_result",
          "data": {
            "text/plain": [
              "[1,\n",
              " 227,\n",
              " 2406,\n",
              " 91,\n",
              " 21969,\n",
              " 125,\n",
              " 2855,\n",
              " 21,\n",
              " 4,\n",
              " 3976,\n",
              " 76,\n",
              " 7,\n",
              " 4,\n",
              " 757,\n",
              " 481,\n",
              " 3976,\n",
              " 790,\n",
              " 5259,\n",
              " 5654,\n",
              " 9,\n",
              " 111,\n",
              " 149,\n",
              " 8,\n",
              " 7,\n",
              " 10,\n",
              " 76,\n",
              " 223,\n",
              " 51,\n",
              " 4,\n",
              " 417,\n",
              " 8,\n",
              " 1047,\n",
              " 91,\n",
              " 6917,\n",
              " 1688,\n",
              " 340,\n",
              " 7,\n",
              " 194,\n",
              " 9411,\n",
              " 6,\n",
              " 1894,\n",
              " 21,\n",
              " 127,\n",
              " 2151,\n",
              " 2394,\n",
              " 1456,\n",
              " 6,\n",
              " 3034,\n",
              " 4,\n",
              " 329,\n",
              " 433,\n",
              " 7,\n",
              " 65,\n",
              " 87,\n",
              " 1127,\n",
              " 10,\n",
              " 8219,\n",
              " 1475,\n",
              " 290,\n",
              " 9,\n",
              " 21,\n",
              " 567,\n",
              " 16,\n",
              " 1926,\n",
              " 24,\n",
              " 4,\n",
              " 76,\n",
              " 209,\n",
              " 30,\n",
              " 4033,\n",
              " 6655,\n",
              " 5654,\n",
              " 8,\n",
              " 4,\n",
              " 60,\n",
              " 8,\n",
              " 4,\n",
              " 966,\n",
              " 308,\n",
              " 40,\n",
              " 2575,\n",
              " 129,\n",
              " 15562,\n",
              " 295,\n",
              " 277,\n",
              " 1071,\n",
              " 9,\n",
              " 24,\n",
              " 286,\n",
              " 2114,\n",
              " 234,\n",
              " 222,\n",
              " 9,\n",
              " 4,\n",
              " 906,\n",
              " 3994,\n",
              " 8519,\n",
              " 114,\n",
              " 5758,\n",
              " 1752,\n",
              " 7,\n",
              " 4,\n",
              " 113,\n",
              " 17,\n",
              " 12]"
            ]
          },
          "metadata": {
            "tags": []
          },
          "execution_count": 11
        }
      ]
    },
    {
      "cell_type": "code",
      "metadata": {
        "id": "dYFMRsJE4vlF",
        "colab_type": "code",
        "outputId": "01b24a4d-f756-490f-fe72-c61b48c31e88",
        "colab": {
          "base_uri": "https://localhost:8080/",
          "height": 35
        }
      },
      "source": [
        "xtest[0]\n",
        "len(xtest) # 2246"
      ],
      "execution_count": 12,
      "outputs": [
        {
          "output_type": "execute_result",
          "data": {
            "text/plain": [
              "2246"
            ]
          },
          "metadata": {
            "tags": []
          },
          "execution_count": 12
        }
      ]
    },
    {
      "cell_type": "code",
      "metadata": {
        "id": "wGCNljZs5yTA",
        "colab_type": "code",
        "outputId": "dbcc036b-2546-4e1d-c675-8d341472efe9",
        "colab": {
          "base_uri": "https://localhost:8080/",
          "height": 35
        }
      },
      "source": [
        "ytrain[0]\n",
        "# xtrain[0]"
      ],
      "execution_count": 13,
      "outputs": [
        {
          "output_type": "execute_result",
          "data": {
            "text/plain": [
              "3"
            ]
          },
          "metadata": {
            "tags": []
          },
          "execution_count": 13
        }
      ]
    },
    {
      "cell_type": "code",
      "metadata": {
        "id": "QcESIyMr56It",
        "colab_type": "code",
        "outputId": "f5a43374-c0cf-414b-a786-1f9513ff07ab",
        "colab": {
          "base_uri": "https://localhost:8080/",
          "height": 35
        }
      },
      "source": [
        "# 뉴스 카테고리는 46개로 분류\n",
        "max(ytrain)+1 "
      ],
      "execution_count": 14,
      "outputs": [
        {
          "output_type": "execute_result",
          "data": {
            "text/plain": [
              "46"
            ]
          },
          "metadata": {
            "tags": []
          },
          "execution_count": 14
        }
      ]
    },
    {
      "cell_type": "code",
      "metadata": {
        "id": "XBTX7pzr6Fwa",
        "colab_type": "code",
        "outputId": "e387155a-e7ce-4a16-c8d1-f5eb6e0b8125",
        "colab": {
          "base_uri": "https://localhost:8080/",
          "height": 35
        }
      },
      "source": [
        "len(xtrain) # 8982\n",
        "len(xtest) #2246\n",
        "num_classes=max(ytrain)+1\n",
        "num_classes # 카테고리 수 "
      ],
      "execution_count": 15,
      "outputs": [
        {
          "output_type": "execute_result",
          "data": {
            "text/plain": [
              "46"
            ]
          },
          "metadata": {
            "tags": []
          },
          "execution_count": 15
        }
      ]
    },
    {
      "cell_type": "code",
      "metadata": {
        "id": "CzLTlcn_9yI2",
        "colab_type": "code",
        "outputId": "6bed6958-f3fa-429b-acaf-b277b1a8498e",
        "colab": {
          "base_uri": "https://localhost:8080/",
          "height": 53
        }
      },
      "source": [
        "print(max(len(line) for line in xtrain)) # 최대 뉴스기사 길이\n",
        "sum(map(len, xtrain)) # 뉴스기사 길이에 대한 전체 합 (전체 뉴스에 대한 총 단어의 개수)\n",
        "sum(map(len, xtrain)) / len(xtrain) # 평균 뉴스기사 길이 145"
      ],
      "execution_count": 16,
      "outputs": [
        {
          "output_type": "stream",
          "text": [
            "2376\n"
          ],
          "name": "stdout"
        },
        {
          "output_type": "execute_result",
          "data": {
            "text/plain": [
              "145.5398574927633"
            ]
          },
          "metadata": {
            "tags": []
          },
          "execution_count": 16
        }
      ]
    },
    {
      "cell_type": "code",
      "metadata": {
        "id": "5GTn71Lx-KZ7",
        "colab_type": "code",
        "outputId": "e175dacd-c805-4e66-c53f-0b6c73822d4f",
        "colab": {
          "base_uri": "https://localhost:8080/",
          "height": 593
        }
      },
      "source": [
        "%matplotlib inline\n",
        "import matplotlib.pyplot as plt\n",
        "plt.hist([len(s) for s in xtrain], bins=50)\n",
        "# 각 뉴스기사의 단어가 1000미만이 기사가 대부분"
      ],
      "execution_count": 17,
      "outputs": [
        {
          "output_type": "execute_result",
          "data": {
            "text/plain": [
              "(array([2.292e+03, 2.917e+03, 1.098e+03, 8.240e+02, 4.880e+02, 3.410e+02,\n",
              "        2.480e+02, 1.640e+02, 1.160e+02, 1.180e+02, 7.600e+01, 5.900e+01,\n",
              "        6.400e+01, 4.300e+01, 4.700e+01, 2.800e+01, 2.500e+01, 1.500e+01,\n",
              "        1.000e+01, 1.000e+00, 2.000e+00, 2.000e+00, 1.000e+00, 0.000e+00,\n",
              "        0.000e+00, 0.000e+00, 0.000e+00, 1.000e+00, 0.000e+00, 0.000e+00,\n",
              "        0.000e+00, 0.000e+00, 0.000e+00, 0.000e+00, 0.000e+00, 0.000e+00,\n",
              "        0.000e+00, 0.000e+00, 0.000e+00, 0.000e+00, 0.000e+00, 0.000e+00,\n",
              "        0.000e+00, 0.000e+00, 0.000e+00, 0.000e+00, 0.000e+00, 1.000e+00,\n",
              "        0.000e+00, 1.000e+00]),\n",
              " array([  13.  ,   60.26,  107.52,  154.78,  202.04,  249.3 ,  296.56,\n",
              "         343.82,  391.08,  438.34,  485.6 ,  532.86,  580.12,  627.38,\n",
              "         674.64,  721.9 ,  769.16,  816.42,  863.68,  910.94,  958.2 ,\n",
              "        1005.46, 1052.72, 1099.98, 1147.24, 1194.5 , 1241.76, 1289.02,\n",
              "        1336.28, 1383.54, 1430.8 , 1478.06, 1525.32, 1572.58, 1619.84,\n",
              "        1667.1 , 1714.36, 1761.62, 1808.88, 1856.14, 1903.4 , 1950.66,\n",
              "        1997.92, 2045.18, 2092.44, 2139.7 , 2186.96, 2234.22, 2281.48,\n",
              "        2328.74, 2376.  ]),\n",
              " <a list of 50 Patch objects>)"
            ]
          },
          "metadata": {
            "tags": []
          },
          "execution_count": 17
        },
        {
          "output_type": "display_data",
          "data": {
            "image/png": "[encoded data removed]",
            "text/plain": [
              "<Figure size 432x288 with 1 Axes>"
            ]
          },
          "metadata": {
            "tags": []
          }
        }
      ]
    },
    {
      "cell_type": "code",
      "metadata": {
        "id": "nmlHla-m_kfN",
        "colab_type": "code",
        "colab": {}
      },
      "source": [
        "# 각각의 뉴스가 해당하는 카테고리 시각화\n",
        "import seaborn as sns"
      ],
      "execution_count": 0,
      "outputs": []
    },
    {
      "cell_type": "code",
      "metadata": {
        "id": "HQdZKJC4ACgg",
        "colab_type": "code",
        "outputId": "59a0008b-cce9-4491-ed70-df947991404f",
        "colab": {
          "base_uri": "https://localhost:8080/",
          "height": 287
        }
      },
      "source": [
        "sns.countplot(ytrain)"
      ],
      "execution_count": 19,
      "outputs": [
        {
          "output_type": "execute_result",
          "data": {
            "text/plain": [
              "<matplotlib.axes._subplots.AxesSubplot at 0x7fae91dfe048>"
            ]
          },
          "metadata": {
            "tags": []
          },
          "execution_count": 19
        },
        {
          "output_type": "display_data",
          "data": {
            "image/png": "[encoded data removed]",
            "text/plain": [
              "<Figure size 432x288 with 1 Axes>"
            ]
          },
          "metadata": {
            "tags": []
          }
        }
      ]
    },
    {
      "cell_type": "code",
      "metadata": {
        "id": "4RSi8uHeAaWE",
        "colab_type": "code",
        "outputId": "05579c88-aff2-43c6-cb06-ac8127a43491",
        "colab": {
          "base_uri": "https://localhost:8080/",
          "height": 161
        }
      },
      "source": [
        "np.unique(ytrain, return_counts=True)"
      ],
      "execution_count": 20,
      "outputs": [
        {
          "output_type": "execute_result",
          "data": {
            "text/plain": [
              "(array([ 0,  1,  2,  3,  4,  5,  6,  7,  8,  9, 10, 11, 12, 13, 14, 15, 16,\n",
              "        17, 18, 19, 20, 21, 22, 23, 24, 25, 26, 27, 28, 29, 30, 31, 32, 33,\n",
              "        34, 35, 36, 37, 38, 39, 40, 41, 42, 43, 44, 45]),\n",
              " array([  55,  432,   74, 3159, 1949,   17,   48,   16,  139,  101,  124,\n",
              "         390,   49,  172,   26,   20,  444,   39,   66,  549,  269,  100,\n",
              "          15,   41,   62,   92,   24,   15,   48,   19,   45,   39,   32,\n",
              "          11,   50,   10,   49,   19,   19,   24,   36,   30,   13,   21,\n",
              "          12,   18]))"
            ]
          },
          "metadata": {
            "tags": []
          },
          "execution_count": 20
        }
      ]
    },
    {
      "cell_type": "code",
      "metadata": {
        "id": "O4MK2weqAg7T",
        "colab_type": "code",
        "colab": {}
      },
      "source": [
        "unique_elements, counts_elements=np.unique(ytrain, return_counts=True)"
      ],
      "execution_count": 0,
      "outputs": []
    },
    {
      "cell_type": "code",
      "metadata": {
        "id": "ecUxtb7yBNQ8",
        "colab_type": "code",
        "outputId": "f2eda1c5-c08b-4f3a-dca8-0da083219c9f",
        "colab": {
          "base_uri": "https://localhost:8080/",
          "height": 107
        }
      },
      "source": [
        "unique_elements\n",
        "counts_elements"
      ],
      "execution_count": 22,
      "outputs": [
        {
          "output_type": "execute_result",
          "data": {
            "text/plain": [
              "array([  55,  432,   74, 3159, 1949,   17,   48,   16,  139,  101,  124,\n",
              "        390,   49,  172,   26,   20,  444,   39,   66,  549,  269,  100,\n",
              "         15,   41,   62,   92,   24,   15,   48,   19,   45,   39,   32,\n",
              "         11,   50,   10,   49,   19,   19,   24,   36,   30,   13,   21,\n",
              "         12,   18])"
            ]
          },
          "metadata": {
            "tags": []
          },
          "execution_count": 22
        }
      ]
    },
    {
      "cell_type": "code",
      "metadata": {
        "id": "6xt3KQ1TBQJh",
        "colab_type": "code",
        "outputId": "dad0d351-db74-480e-8d58-f8dad60bb304",
        "colab": {
          "base_uri": "https://localhost:8080/",
          "height": 845
        }
      },
      "source": [
        "dict(zip(unique_elements, counts_elements))\n",
        "# np.asarray((unique_elements, counts_elements))"
      ],
      "execution_count": 23,
      "outputs": [
        {
          "output_type": "execute_result",
          "data": {
            "text/plain": [
              "{0: 55,\n",
              " 1: 432,\n",
              " 2: 74,\n",
              " 3: 3159,\n",
              " 4: 1949,\n",
              " 5: 17,\n",
              " 6: 48,\n",
              " 7: 16,\n",
              " 8: 139,\n",
              " 9: 101,\n",
              " 10: 124,\n",
              " 11: 390,\n",
              " 12: 49,\n",
              " 13: 172,\n",
              " 14: 26,\n",
              " 15: 20,\n",
              " 16: 444,\n",
              " 17: 39,\n",
              " 18: 66,\n",
              " 19: 549,\n",
              " 20: 269,\n",
              " 21: 100,\n",
              " 22: 15,\n",
              " 23: 41,\n",
              " 24: 62,\n",
              " 25: 92,\n",
              " 26: 24,\n",
              " 27: 15,\n",
              " 28: 48,\n",
              " 29: 19,\n",
              " 30: 45,\n",
              " 31: 39,\n",
              " 32: 32,\n",
              " 33: 11,\n",
              " 34: 50,\n",
              " 35: 10,\n",
              " 36: 49,\n",
              " 37: 19,\n",
              " 38: 19,\n",
              " 39: 24,\n",
              " 40: 36,\n",
              " 41: 30,\n",
              " 42: 13,\n",
              " 43: 21,\n",
              " 44: 12,\n",
              " 45: 18}"
            ]
          },
          "metadata": {
            "tags": []
          },
          "execution_count": 23
        }
      ]
    },
    {
      "cell_type": "code",
      "metadata": {
        "id": "4H799KneBaj6",
        "colab_type": "code",
        "outputId": "3fb48519-ca04-4559-ad06-87ebe5854298",
        "colab": {
          "base_uri": "https://localhost:8080/",
          "height": 1000
        }
      },
      "source": [
        "word_index=reuters.get_word_index() # 빈도수에 따라서 인덱스가 부여됨, 값이 작을수록 빈도수가 높은 단어\n",
        "word_index"
      ],
      "execution_count": 24,
      "outputs": [
        {
          "output_type": "stream",
          "text": [
            "Downloading data from https://s3.amazonaws.com/text-datasets/reuters_word_index.json\n",
            "557056/550378 [==============================] - 1s 2us/step\n"
          ],
          "name": "stdout"
        },
        {
          "output_type": "execute_result",
          "data": {
            "text/plain": [
              "{'mdbl': 10996,\n",
              " 'fawc': 16260,\n",
              " 'degussa': 12089,\n",
              " 'woods': 8803,\n",
              " 'hanging': 13796,\n",
              " 'localized': 20672,\n",
              " 'sation': 20673,\n",
              " 'chanthaburi': 20675,\n",
              " 'refunding': 10997,\n",
              " 'hermann': 8804,\n",
              " 'passsengers': 20676,\n",
              " 'stipulate': 20677,\n",
              " 'heublein': 8352,\n",
              " 'screaming': 20713,\n",
              " 'tcby': 16261,\n",
              " 'four': 185,\n",
              " 'grains': 1642,\n",
              " 'broiler': 20680,\n",
              " 'wooden': 12090,\n",
              " 'wednesday': 1220,\n",
              " 'highveld': 13797,\n",
              " 'duffour': 7593,\n",
              " '0053': 20681,\n",
              " 'elections': 3914,\n",
              " '270': 2563,\n",
              " '271': 3551,\n",
              " '272': 5113,\n",
              " '273': 3552,\n",
              " '274': 3400,\n",
              " 'rudman': 7975,\n",
              " '276': 3401,\n",
              " '277': 3478,\n",
              " '278': 3632,\n",
              " '279': 4309,\n",
              " 'dormancy': 9381,\n",
              " 'errors': 7247,\n",
              " 'deferred': 3086,\n",
              " 'sptnd': 20683,\n",
              " 'cooking': 8805,\n",
              " 'stratabit': 20684,\n",
              " 'designing': 16262,\n",
              " 'metalurgicos': 20685,\n",
              " 'databank': 13798,\n",
              " '300er': 20686,\n",
              " 'shocks': 20687,\n",
              " 'nawg': 7972,\n",
              " 'tnta': 20688,\n",
              " 'perforations': 20689,\n",
              " 'affiliates': 2891,\n",
              " '27p': 20690,\n",
              " 'ching': 16263,\n",
              " 'china': 595,\n",
              " 'wagyu': 16264,\n",
              " 'affiliated': 3189,\n",
              " 'chino': 16265,\n",
              " 'chinh': 16266,\n",
              " 'slickline': 20692,\n",
              " 'doldrums': 13799,\n",
              " 'kids': 12092,\n",
              " 'climbed': 3028,\n",
              " 'controversy': 6693,\n",
              " 'kidd': 20693,\n",
              " 'spotty': 12093,\n",
              " 'rebel': 12639,\n",
              " 'millimetres': 9382,\n",
              " 'golden': 4007,\n",
              " 'projection': 5689,\n",
              " 'stern': 12094,\n",
              " \"hudson's\": 7903,\n",
              " 'dna': 10066,\n",
              " 'dnc': 20695,\n",
              " 'hodler': 20696,\n",
              " 'lme': 2394,\n",
              " 'insolvancy': 20697,\n",
              " 'music': 13800,\n",
              " 'therefore': 1984,\n",
              " 'dns': 10998,\n",
              " 'distortions': 6959,\n",
              " 'thassos': 13801,\n",
              " 'populations': 20698,\n",
              " 'meteorologist': 8806,\n",
              " 'loss': 43,\n",
              " 'exco': 9383,\n",
              " 'adventist': 20813,\n",
              " 'murchison': 16267,\n",
              " 'locked': 10999,\n",
              " 'kampala': 13802,\n",
              " 'arndt': 20699,\n",
              " 'nakasone': 1267,\n",
              " 'steinweg': 20700,\n",
              " \"india's\": 3633,\n",
              " 'wang': 3029,\n",
              " 'wane': 10067,\n",
              " 'unjust': 13803,\n",
              " 'titanium': 13804,\n",
              " 'want': 850,\n",
              " 'pinto': 20701,\n",
              " \"institutes'\": 16268,\n",
              " 'absolute': 7973,\n",
              " 'travel': 4677,\n",
              " 'cutback': 6422,\n",
              " 'nazmi': 16269,\n",
              " 'modest': 1858,\n",
              " 'shopwell': 16270,\n",
              " 'sedi': 20702,\n",
              " 'adoped': 20703,\n",
              " 'tulis': 16271,\n",
              " '18th': 20704,\n",
              " \"wmc's\": 20705,\n",
              " 'menlo': 20706,\n",
              " 'reiners': 11000,\n",
              " 'farmlands': 12095,\n",
              " 'nonsensical': 20707,\n",
              " 'elisra': 20708,\n",
              " 'welcomed': 2461,\n",
              " 'peup': 20709,\n",
              " \"holiday's\": 16272,\n",
              " 'activating': 20711,\n",
              " 'avondale': 16273,\n",
              " 'interational': 16274,\n",
              " 'welcomes': 20712,\n",
              " 'fip': 16275,\n",
              " 'tailings': 11001,\n",
              " 'fit': 4205,\n",
              " 'lifeline': 16276,\n",
              " 'bringing': 1916,\n",
              " 'fix': 4819,\n",
              " '624': 6164,\n",
              " 'naturalite': 12096,\n",
              " 'wales': 6165,\n",
              " 'fin': 8807,\n",
              " 'fio': 11129,\n",
              " 'ceremenony': 20714,\n",
              " 'sovr': 20715,\n",
              " \"yeo's\": 20716,\n",
              " 'effects': 1788,\n",
              " 'sixteen': 13805,\n",
              " 'undeveloped': 8808,\n",
              " 'glutted': 13806,\n",
              " 'barton': 20717,\n",
              " 'froday': 20718,\n",
              " 'arrow': 10089,\n",
              " 'stabilises': 11002,\n",
              " 'allan': 6960,\n",
              " '374p': 20719,\n",
              " '393': 3891,\n",
              " '392': 4008,\n",
              " '391': 4206,\n",
              " '390': 3079,\n",
              " '397': 4550,\n",
              " '396': 6166,\n",
              " '395': 6423,\n",
              " '394': 4207,\n",
              " '399': 6961,\n",
              " '398': 4208,\n",
              " 'stabilised': 7595,\n",
              " 'smelters': 5114,\n",
              " 'oprah': 20720,\n",
              " 'orginially': 20721,\n",
              " \"tvx's\": 20722,\n",
              " 'ponomarev': 16278,\n",
              " 'enviroment': 20723,\n",
              " \"reeves'\": 20724,\n",
              " 'mason': 8363,\n",
              " 'encourage': 1670,\n",
              " 'adapt': 7596,\n",
              " 'abbott': 12776,\n",
              " 'stamping': 13808,\n",
              " 'colquiri': 20726,\n",
              " 'ambrit': 11003,\n",
              " 'strata': 8353,\n",
              " 'corrects': 4821,\n",
              " 'sandra': 11922,\n",
              " 'estimate': 859,\n",
              " 'universally': 20727,\n",
              " 'chlorine': 20728,\n",
              " 'competes': 16279,\n",
              " 'leiner': 10068,\n",
              " 'ministries': 8809,\n",
              " 'disturbed': 8810,\n",
              " 'competed': 13809,\n",
              " 'juergen': 8811,\n",
              " 'kfw': 13810,\n",
              " 'turben': 11004,\n",
              " 'reintroduced': 9384,\n",
              " 'maladies': 20729,\n",
              " 'chevron': 4101,\n",
              " 'lazere': 16280,\n",
              " 'antilles': 8812,\n",
              " 'dti': 11907,\n",
              " 'specially': 9070,\n",
              " 'bilzerian': 4678,\n",
              " 'bakelite': 13811,\n",
              " 'renovated': 20730,\n",
              " 'service': 568,\n",
              " 'payless': 16281,\n",
              " 'spiegler': 20731,\n",
              " 'needed': 831,\n",
              " 'wigglesworth': 16282,\n",
              " 'master': 6962,\n",
              " 'antonson': 13812,\n",
              " 'genesis': 20732,\n",
              " 'vismara': 13813,\n",
              " 'organically': 20734,\n",
              " \"accords'\": 20735,\n",
              " 'task': 5940,\n",
              " 'positively': 7974,\n",
              " 'feasibility': 3479,\n",
              " 'ahmed': 6963,\n",
              " \"suralco's\": 13814,\n",
              " 'awacs': 20736,\n",
              " 'idly': 16283,\n",
              " 'regulator': 20737,\n",
              " 'pseudorabies': 12097,\n",
              " 'staubli': 16284,\n",
              " 'nzi': 8813,\n",
              " 'feeling': 5115,\n",
              " '275': 3127,\n",
              " '6819': 20738,\n",
              " 'gorman': 16285,\n",
              " 'sustaining': 8354,\n",
              " 'spectrum': 9385,\n",
              " 'consenting': 20739,\n",
              " 'recapitalized': 12098,\n",
              " 'sailed': 11562,\n",
              " 'dozen': 7597,\n",
              " 'affairs': 1985,\n",
              " 'courier': 2253,\n",
              " 'kremlin': 8355,\n",
              " 'shipments': 895,\n",
              " \"aquino's\": 16286,\n",
              " 'committing': 10070,\n",
              " 'sugarcane': 5293,\n",
              " 'diminishing': 9386,\n",
              " 'vexing': 16287,\n",
              " 'simplify': 11005,\n",
              " 'mouth': 6167,\n",
              " 'steinhardt': 7248,\n",
              " 'conceded': 8814,\n",
              " 'bradford': 9387,\n",
              " 'singer': 7976,\n",
              " '5602': 20740,\n",
              " \"1987's\": 13816,\n",
              " 'tech': 4950,\n",
              " 'teck': 6424,\n",
              " 'majv': 20741,\n",
              " 'saying': 666,\n",
              " 'dickey': 16477,\n",
              " 'sweetner': 20742,\n",
              " 'teresa': 21149,\n",
              " 'ulcer': 20743,\n",
              " 'cheaply': 13817,\n",
              " 'thai': 2361,\n",
              " 'orleans': 6964,\n",
              " 'excavator': 16290,\n",
              " 'rico': 6168,\n",
              " 'lube': 12099,\n",
              " 'rick': 13818,\n",
              " 'rich': 4679,\n",
              " 'kerna': 13819,\n",
              " 'rice': 950,\n",
              " 'rica': 4209,\n",
              " 'plate': 5503,\n",
              " 'platt': 16291,\n",
              " 'altogether': 8356,\n",
              " 'jaguar': 8815,\n",
              " 'dynair': 20744,\n",
              " 'patch': 8816,\n",
              " 'ldp': 2892,\n",
              " 'boarded': 13820,\n",
              " 'precluding': 16292,\n",
              " 'clarified': 11006,\n",
              " 'sensitivity': 16293,\n",
              " 'alternative': 1511,\n",
              " 'clarifies': 11007,\n",
              " 'lots': 5116,\n",
              " 'irs': 7598,\n",
              " 'irv': 20745,\n",
              " 'iri': 13821,\n",
              " 'ira': 13822,\n",
              " 'timber': 5690,\n",
              " 'ire': 20746,\n",
              " 'discipline': 5219,\n",
              " 'extend': 1937,\n",
              " 'nature': 3634,\n",
              " \"amb's\": 16295,\n",
              " 'dunhill': 16296,\n",
              " 'extent': 2142,\n",
              " 'restrcitions': 20747,\n",
              " 'heating': 2396,\n",
              " \"mannesmann's\": 11008,\n",
              " 'outsanding': 20748,\n",
              " 'multimillions': 20749,\n",
              " 'sarcinelli': 13824,\n",
              " 'southeastern': 6694,\n",
              " 'eradicate': 10071,\n",
              " 'libyan': 9388,\n",
              " 'foreclosing': 20750,\n",
              " 'maclaine': 12101,\n",
              " 'fra': 20751,\n",
              " 'union': 353,\n",
              " 'frn': 11009,\n",
              " 'much': 386,\n",
              " 'fry': 12102,\n",
              " 'mothball': 20752,\n",
              " 'chlorazepate': 10072,\n",
              " 'dxns': 12103,\n",
              " 'toyko': 19981,\n",
              " 'spit': 20753,\n",
              " '007050': 16297,\n",
              " 'freehold': 16298,\n",
              " 'davy': 13825,\n",
              " 'dave': 11010,\n",
              " 'spie': 12177,\n",
              " 'aguayo': 10117,\n",
              " 'wildcat': 12104,\n",
              " 'fecs': 10069,\n",
              " 'kennan': 20754,\n",
              " 'intal': 16299,\n",
              " 'contingencies': 9389,\n",
              " 'professionally': 16551,\n",
              " 'microbiological': 16300,\n",
              " 'misconstrued': 20756,\n",
              " 'k': 409,\n",
              " 'securitiesd': 20757,\n",
              " 'deferring': 16301,\n",
              " 'kohl': 5941,\n",
              " 'conditioned': 3030,\n",
              " 'fnhb': 20758,\n",
              " \"october's\": 16302,\n",
              " 'memorial': 13954,\n",
              " 'democracies': 6965,\n",
              " 'conformed': 27520,\n",
              " 'split': 464,\n",
              " \"bond's\": 12105,\n",
              " 'thinly': 11112,\n",
              " 'dunkirk': 16515,\n",
              " 'cavanaugh': 16303,\n",
              " \"securities'\": 13827,\n",
              " 'marches': 21345,\n",
              " 'issam': 16304,\n",
              " 'workforce': 2020,\n",
              " 'meinert': 12106,\n",
              " 'boiler': 13828,\n",
              " \"bp's\": 5294,\n",
              " 'torpedoed': 16305,\n",
              " 'indidate': 20762,\n",
              " 'downwardly': 13829,\n",
              " 'viviez': 20763,\n",
              " 'vladiminovich': 20764,\n",
              " 'academic': 16306,\n",
              " 'architecural': 20765,\n",
              " 'corporate': 1117,\n",
              " 'appropriately': 16307,\n",
              " 'teicc': 20766,\n",
              " \"hanover's\": 20767,\n",
              " 'aristech': 8817,\n",
              " 'portrayed': 20768,\n",
              " 'raffineries': 21383,\n",
              " 'hai': 20770,\n",
              " 'hal': 7599,\n",
              " 'ham': 13830,\n",
              " 'han': 10073,\n",
              " 'e15b': 20771,\n",
              " 'had': 61,\n",
              " 'hay': 20772,\n",
              " 'botchwey': 13831,\n",
              " 'haq': 10074,\n",
              " 'has': 37,\n",
              " 'hat': 13832,\n",
              " 'hav': 20773,\n",
              " 'fortin': 20774,\n",
              " 'municipal': 8818,\n",
              " 'osman': 20775,\n",
              " 'fsical': 20776,\n",
              " 'elders': 3480,\n",
              " 'survival': 12107,\n",
              " 'unequivocally': 16308,\n",
              " 'objective': 2519,\n",
              " 'indicative': 6695,\n",
              " 'shadow': 10075,\n",
              " 'riskiness': 21411,\n",
              " 'positiive': 20778,\n",
              " \"american's\": 10076,\n",
              " 'alick': 16309,\n",
              " 'harima': 16310,\n",
              " 'alice': 12108,\n",
              " 'altschul': 20779,\n",
              " 'festivities': 16311,\n",
              " 'medecines': 20780,\n",
              " 'beneficial': 2942,\n",
              " 'yoweri': 12109,\n",
              " 'crowd': 13833,\n",
              " 'crowe': 9390,\n",
              " 'crown': 3553,\n",
              " 'topping': 13679,\n",
              " 'captive': 8819,\n",
              " 'billboard': 12110,\n",
              " 'fiduciary': 6169,\n",
              " 'bottom': 3402,\n",
              " 'plucked': 20782,\n",
              " 'locksmithing': 20783,\n",
              " 'ecopetrol': 9391,\n",
              " 'pipestone': 24018,\n",
              " \"growers'\": 5505,\n",
              " 'borrows': 20785,\n",
              " 'eduard': 16312,\n",
              " 'venpres': 13834,\n",
              " 'bamboo': 16313,\n",
              " 'foolish': 13835,\n",
              " 'uruguyan': 20786,\n",
              " 'officeholders': 20787,\n",
              " 'economiques': 20788,\n",
              " 'aden': 16314,\n",
              " 'maxwell': 4822,\n",
              " 'marshall': 4680,\n",
              " 'honeymoon': 16315,\n",
              " 'administer': 16316,\n",
              " 'shoots': 20790,\n",
              " 'rubbertech': 16317,\n",
              " 'johsen': 16318,\n",
              " 'reciprocity': 10077,\n",
              " 'fabric': 13836,\n",
              " 'suffice': 20791,\n",
              " 'spokemsan': 20792,\n",
              " \"sonora's\": 20793,\n",
              " '5865': 16319,\n",
              " \"systems'\": 16320,\n",
              " 'perfumes': 20794,\n",
              " 'halycon': 20795,\n",
              " 'nonvoting': 20796,\n",
              " 'safeguard': 7250,\n",
              " 'sawdust': 21538,\n",
              " \"else's\": 20797,\n",
              " 'arrays': 13837,\n",
              " 'aza': 20798,\n",
              " 'smasher': 20799,\n",
              " 'complications': 12111,\n",
              " 'pesos': 1813,\n",
              " 'relabelling': 20800,\n",
              " 'passenger': 3722,\n",
              " \"avon's\": 12112,\n",
              " 'megahertz': 20801,\n",
              " 'mirror': 10683,\n",
              " 'minas': 8357,\n",
              " 'bourdain': 16322,\n",
              " 'crownx': 20802,\n",
              " 'eventual': 6425,\n",
              " 'crowns': 1207,\n",
              " 'role': 1369,\n",
              " 'obliges': 20803,\n",
              " 'rolf': 16323,\n",
              " 'vegetative': 13838,\n",
              " 'rolm': 20804,\n",
              " 'roll': 4419,\n",
              " 'intend': 2463,\n",
              " 'palms': 16324,\n",
              " 'denys': 19255,\n",
              " 'transported': 13839,\n",
              " 'moresby': 20805,\n",
              " 'devon': 16325,\n",
              " 'intent': 1351,\n",
              " \"camco's\": 20806,\n",
              " 'variable': 5942,\n",
              " 'transporter': 20807,\n",
              " 'danske': 16326,\n",
              " 'friedhelm': 13840,\n",
              " 'hawker': 8358,\n",
              " \"sand's\": 17774,\n",
              " 'preseving': 20808,\n",
              " '80386': 12113,\n",
              " 'bnls': 16328,\n",
              " 'ordination': 19984,\n",
              " 'overturned': 11011,\n",
              " 'erred': 16329,\n",
              " 'cincinnati': 6696,\n",
              " 'corps': 16710,\n",
              " 'whoever': 20809,\n",
              " 'osp': 16330,\n",
              " 'osr': 13841,\n",
              " 'ost': 12114,\n",
              " 'chair': 16331,\n",
              " '690': 5647,\n",
              " 'grapples': 20810,\n",
              " 'megawatts': 13842,\n",
              " 'photocopiers': 20811,\n",
              " 'sconninx': 20812,\n",
              " 'circumstances': 2274,\n",
              " 'oversight': 13843,\n",
              " \"paradyne's\": 20814,\n",
              " '691': 6363,\n",
              " 'paychecks': 20815,\n",
              " \"stadelmann's\": 13844,\n",
              " 'choice': 3241,\n",
              " 'vastagh': 11012,\n",
              " 'embark': 8820,\n",
              " 'gloomy': 9392,\n",
              " 'stays': 9393,\n",
              " 'exact': 4009,\n",
              " 'minute': 5117,\n",
              " 'kittiwake': 11892,\n",
              " 'picul': 20816,\n",
              " 'skewed': 20817,\n",
              " 'cooke': 11013,\n",
              " 'defaults': 10078,\n",
              " 'reimpose': 11014,\n",
              " 'hindered': 9394,\n",
              " 'lengthened': 20818,\n",
              " 'chopping': 16333,\n",
              " 'mckiernan': 13845,\n",
              " 'collaspe': 20819,\n",
              " 'corazon': 7251,\n",
              " 'antwerp': 7600,\n",
              " 'abdullah': 13846,\n",
              " 'goldston': 13847,\n",
              " '300': 442,\n",
              " 'cassa': 20821,\n",
              " 'casse': 20822,\n",
              " '695': 4081,\n",
              " 'ground': 2979,\n",
              " 'boost': 839,\n",
              " 'azusa': 16334,\n",
              " 'drafted': 9395,\n",
              " '303': 4823,\n",
              " 'climbs': 13848,\n",
              " 'honour': 7601,\n",
              " 'vanderbilt': 20823,\n",
              " '305': 3968,\n",
              " 'address': 3031,\n",
              " 'dwindling': 8821,\n",
              " 'benson': 7252,\n",
              " 'enroll': 12115,\n",
              " 'revenues': 501,\n",
              " 'impacted': 12116,\n",
              " 'queue': 20826,\n",
              " 'accomplished': 10079,\n",
              " 'throughput': 7602,\n",
              " 'influx': 9396,\n",
              " 'stockbuilding': 10080,\n",
              " 'aproximates': 20827,\n",
              " 'petroleo': 13849,\n",
              " 'sistemas': 16335,\n",
              " 'feretti': 14053,\n",
              " 'opposes': 5943,\n",
              " 'working': 882,\n",
              " 'perished': 20829,\n",
              " 'oldham': 13850,\n",
              " '27000': 20830,\n",
              " 'optimize': 19245,\n",
              " 'vigour': 20832,\n",
              " 'opposed': 1580,\n",
              " 'liberalizing': 16336,\n",
              " 'wvz': 20833,\n",
              " 'dampness': 20834,\n",
              " 'approving': 13851,\n",
              " 'sierra': 13496,\n",
              " 'entrepot': 20835,\n",
              " 'currency': 224,\n",
              " 'originally': 1499,\n",
              " 'tindemans': 20837,\n",
              " 'valorem': 16337,\n",
              " 'following': 477,\n",
              " 'fossen': 20838,\n",
              " 'locke': 11016,\n",
              " 'employess': 20839,\n",
              " 'rotberg': 12117,\n",
              " 'parachute': 16338,\n",
              " 'locks': 11017,\n",
              " 'incremental': 12255,\n",
              " 'woolowrth': 16339,\n",
              " 'listens': 20841,\n",
              " 'litre': 7253,\n",
              " 'edouard': 3554,\n",
              " 'ounce': 1377,\n",
              " 'nicanor': 20843,\n",
              " 'sucocitrico': 20844,\n",
              " 'minicomputers': 16340,\n",
              " \"silva's\": 16341,\n",
              " 'restitutions': 11018,\n",
              " 'custer': 16342,\n",
              " '3rd': 2590,\n",
              " 'fueled': 10081,\n",
              " 'trydahl': 20845,\n",
              " 'aice': 11019,\n",
              " 'harmon': 12118,\n",
              " 'conscious': 10082,\n",
              " 'herbicidesand': 20846,\n",
              " 'subdivisions': 20847,\n",
              " \"veslefrikk's\": 20848,\n",
              " 'swollen': 11020,\n",
              " 'pulled': 7978,\n",
              " 'tilney': 20849,\n",
              " 'years': 203,\n",
              " 'structuring': 20850,\n",
              " 'episodes': 20851,\n",
              " 'sportscene': 16343,\n",
              " \"northair's\": 16344,\n",
              " 'jig': 20852,\n",
              " 'jin': 20853,\n",
              " 'jim': 3403,\n",
              " 'troubles': 8359,\n",
              " 'workforces': 13852,\n",
              " 'suspension': 2362,\n",
              " 'troubled': 3892,\n",
              " 'fondiaria': 16345,\n",
              " 'modestly': 6697,\n",
              " 'recipients': 12119,\n",
              " 'civilian': 7979,\n",
              " 'indigenous': 13853,\n",
              " 'overpowering': 20854,\n",
              " 'drilling': 1051,\n",
              " 'sorted': 16346,\n",
              " 'lichtenstein': 16347,\n",
              " 'bedevil': 20855,\n",
              " 'dispite': 20856,\n",
              " 'battleships': 16843,\n",
              " 'instability': 4824,\n",
              " 'quarter': 95,\n",
              " 'salado': 20857,\n",
              " 'honduras': 5692,\n",
              " \"chevron's\": 13855,\n",
              " \"lazere's\": 12273,\n",
              " 'receipt': 2660,\n",
              " 'sponsor': 8360,\n",
              " 'entering': 4825,\n",
              " \"kcbt's\": 16349,\n",
              " 'nowicki': 19987,\n",
              " 'salads': 13856,\n",
              " 'augar': 16351,\n",
              " '797': 7980,\n",
              " '796': 7254,\n",
              " '795': 8361,\n",
              " '794': 5295,\n",
              " '793': 5118,\n",
              " '792': 6170,\n",
              " '791': 5296,\n",
              " '790': 4826,\n",
              " \"nikko's\": 20858,\n",
              " 'unsaleable': 20859,\n",
              " '799': 5720,\n",
              " '798': 5693,\n",
              " 'seriously': 2143,\n",
              " 'trauma': 16352,\n",
              " 'tvbh': 20860,\n",
              " 'macedon': 20861,\n",
              " 'disintegrated': 21906,\n",
              " 'adddition': 21909,\n",
              " 'incentives': 2244,\n",
              " 'complicated': 5944,\n",
              " 'reevaluating': 20864,\n",
              " 'thatching': 21921,\n",
              " 'brasil': 7981,\n",
              " '79p': 20865,\n",
              " 'wrong': 4951,\n",
              " 'initiate': 8822,\n",
              " 'aboard': 16353,\n",
              " 'saving': 7255,\n",
              " 'spoken': 8823,\n",
              " 'parkinson': 16364,\n",
              " 'one': 65,\n",
              " 'ont': 20867,\n",
              " 'concert': 7256,\n",
              " \"boston's\": 16354,\n",
              " 'stifled': 13859,\n",
              " 'types': 4622,\n",
              " 'lingering': 20868,\n",
              " 'surges': 16356,\n",
              " 'hurdman': 20869,\n",
              " 'herds': 16357,\n",
              " 'absorbs': 14114,\n",
              " 'surged': 4681,\n",
              " 'dalkon': 14211,\n",
              " 'crossroads': 13860,\n",
              " 'shakeup': 20870,\n",
              " 'disasterous': 20871,\n",
              " 'illness': 11021,\n",
              " 'turned': 3242,\n",
              " 'locations': 3801,\n",
              " 'tyranite': 12120,\n",
              " 'minesweepers': 13861,\n",
              " 'turner': 7257,\n",
              " 'borough': 20872,\n",
              " 'underlines': 12358,\n",
              " \"bancorporation's\": 20873,\n",
              " 'fashionable': 20874,\n",
              " \"ae's\": 20875,\n",
              " 'dilutions': 16358,\n",
              " 'goodman': 9472,\n",
              " 'unlawfully': 10510,\n",
              " 'mayer': 16359,\n",
              " 'printer': 16360,\n",
              " 'offload': 20877,\n",
              " 'opposite': 13862,\n",
              " 'buffer': 738,\n",
              " 'printed': 9398,\n",
              " 'pequiven': 16361,\n",
              " 'panoche': 13863,\n",
              " 'knowingly': 20878,\n",
              " 'ecusta': 16362,\n",
              " 'thsl': 20879,\n",
              " 'phil': 8825,\n",
              " 'jitters': 13864,\n",
              " 'touche': 16363,\n",
              " 'jittery': 20881,\n",
              " 'friction': 3291,\n",
              " 'fecal': 16365,\n",
              " 'resurgance': 22068,\n",
              " 'heeding': 20882,\n",
              " 'soviets': 2363,\n",
              " 'imagined': 16366,\n",
              " 'transact': 16367,\n",
              " 'califoirnia': 20883,\n",
              " \"chrysler's\": 9399,\n",
              " 'respecitvely': 16368,\n",
              " 'presse': 16369,\n",
              " 'euromarket': 10084,\n",
              " 'guarded': 12121,\n",
              " 'satisfacotry': 16371,\n",
              " 'authroization': 20884,\n",
              " 'simplistic': 20885,\n",
              " 'monde': 20886,\n",
              " 'awaiting': 4102,\n",
              " 'recombinant': 13865,\n",
              " 'refinancement': 20887,\n",
              " 'comserv': 20888,\n",
              " 'kitakyushu': 20889,\n",
              " 'pima': 16372,\n",
              " 'basle': 11022,\n",
              " '6250': 20891,\n",
              " 'choudhury': 16373,\n",
              " 'vision': 8826,\n",
              " 'interruptible': 20892,\n",
              " 'weatherford': 13866,\n",
              " '832': 7982,\n",
              " '833': 5694,\n",
              " '830': 4420,\n",
              " '831': 5119,\n",
              " '836': 5297,\n",
              " '837': 4553,\n",
              " '834': 6172,\n",
              " '835': 4952,\n",
              " 'alarming': 22144,\n",
              " '838': 5695,\n",
              " '839': 6173,\n",
              " '524p': 20893,\n",
              " 'sponsorship': 20894,\n",
              " 'vendex': 12122,\n",
              " \"amsouth's\": 20895,\n",
              " 'kilometer': 20896,\n",
              " 'enjoys': 10086,\n",
              " 'illiberal': 20897,\n",
              " 'punta': 6174,\n",
              " 'punte': 20898,\n",
              " 'girozentrale': 10087,\n",
              " 'missstatements': 20899,\n",
              " 'marietta': 10088,\n",
              " 'awards': 6175,\n",
              " 'concentrated': 3635,\n",
              " '83p': 20900,\n",
              " 'developpement': 13867,\n",
              " 'rhodes': 13868,\n",
              " 'matheson': 5696,\n",
              " '1720': 20901,\n",
              " 'paring': 20902,\n",
              " 's': 35,\n",
              " 'concentrates': 4953,\n",
              " \"can's\": 16374,\n",
              " 'polysaturated': 22183,\n",
              " 'parini': 20903,\n",
              " 'baden': 13869,\n",
              " 'bader': 20904,\n",
              " 'buoyancy': 12123,\n",
              " 'erdem': 20905,\n",
              " 'properites': 16375,\n",
              " 'comparitive': 20906,\n",
              " 'practises': 12124,\n",
              " 'collides': 20907,\n",
              " 'west': 189,\n",
              " 'wess': 20908,\n",
              " 'collided': 13870,\n",
              " 'practised': 20909,\n",
              " \"amalgamated's\": 20910,\n",
              " 'motives': 20911,\n",
              " 'wants': 1378,\n",
              " 'formed': 1273,\n",
              " 'readings': 20912,\n",
              " 'geothermal': 12125,\n",
              " 'tightened': 7315,\n",
              " \"d'or\": 11023,\n",
              " 'former': 1109,\n",
              " 'venezulean': 20913,\n",
              " 'curd': 19935,\n",
              " 'squeezes': 12126,\n",
              " 'newspaper': 1019,\n",
              " 'situation': 817,\n",
              " 'ivey': 13871,\n",
              " 'engaged': 3636,\n",
              " 'dubious': 13872,\n",
              " 'cayacq': 17061,\n",
              " 'cobol': 20916,\n",
              " 'limping': 20917,\n",
              " 'technology': 883,\n",
              " 'koerner': 20919,\n",
              " 'debilitating': 16376,\n",
              " 'verified': 7983,\n",
              " 'otto': 4010,\n",
              " '7770': 20920,\n",
              " 'emulsions': 16377,\n",
              " \"onic's\": 16378,\n",
              " 'slate': 9075,\n",
              " 'wires': 20921,\n",
              " 'edged': 5506,\n",
              " 'assigns': 20922,\n",
              " 'singapore': 1341,\n",
              " 'deflate': 20923,\n",
              " \"strategy's\": 20924,\n",
              " 'walesa': 16379,\n",
              " 'advertisement': 4554,\n",
              " 'luyten': 20925,\n",
              " 'shrortly': 20926,\n",
              " 'corpoartion': 20927,\n",
              " 'preferance': 22290,\n",
              " 'tracking': 16380,\n",
              " 'sunnyvale': 13874,\n",
              " 'colorants': 20928,\n",
              " 'persistently': 16381,\n",
              " \"officers'\": 16382,\n",
              " \"his's\": 20929,\n",
              " 'being': 367,\n",
              " 'divestitures': 7259,\n",
              " 'steamer': 20930,\n",
              " 'rover': 20931,\n",
              " 'grounded': 8362,\n",
              " \"businessmen's\": 16383,\n",
              " 'cyanidation': 16384,\n",
              " 'overthrow': 20932,\n",
              " 'partnerhip': 20933,\n",
              " 'sumt': 16385,\n",
              " 'sums': 8827,\n",
              " 'oelmuehle': 16386,\n",
              " 'unveil': 16387,\n",
              " 'gestures': 13875,\n",
              " 'penta': 20934,\n",
              " 'traffic': 2544,\n",
              " 'preference': 2428,\n",
              " 'sumi': 20935,\n",
              " 'world': 166,\n",
              " 'postal': 9400,\n",
              " 'bced': 16388,\n",
              " 'dornbush': 12128,\n",
              " 'confine': 14215,\n",
              " '2555': 20936,\n",
              " \"zambia's\": 5945,\n",
              " 'superiority': 20937,\n",
              " 'militate': 20938,\n",
              " 'satisfactory': 2395,\n",
              " 'superintendent': 20939,\n",
              " 'tvx': 5946,\n",
              " 'tvt': 16389,\n",
              " 'magma': 6698,\n",
              " 'diving': 20940,\n",
              " 'tvb': 15548,\n",
              " 'seaman': 13876,\n",
              " 'matsunaga': 11025,\n",
              " '919': 4827,\n",
              " '918': 5298,\n",
              " 'refundable': 17070,\n",
              " '914': 5947,\n",
              " '917': 7260,\n",
              " '916': 6699,\n",
              " '911': 5507,\n",
              " '910': 4828,\n",
              " 'restoring': 10213,\n",
              " '912': 4555,\n",
              " 'squabble': 20942,\n",
              " 'retains': 7261,\n",
              " \"partner's\": 20943,\n",
              " 'leadership': 5300,\n",
              " 'graaf': 11026,\n",
              " 'spacelab': 20944,\n",
              " 'thailand': 1800,\n",
              " 'graan': 9402,\n",
              " 'exasperating': 20945,\n",
              " 'hartmarx': 12129,\n",
              " 'frights': 16390,\n",
              " 'niall': 20946,\n",
              " 'johnston': 11027,\n",
              " '91p': 16391,\n",
              " 'sensitively': 16392,\n",
              " 'porsche': 6016,\n",
              " 'prepares': 15494,\n",
              " 'lively': 12130,\n",
              " 'stoppages': 10686,\n",
              " \"associated's\": 16394,\n",
              " 'pivot': 12131,\n",
              " 'series': 1037,\n",
              " 'sese': 24050,\n",
              " 'bubble': 7604,\n",
              " 'trusses': 16395,\n",
              " 'interestate': 20949,\n",
              " 'continents': 20950,\n",
              " 'societal': 20951,\n",
              " 'with': 28,\n",
              " 'pull': 6176,\n",
              " 'rush': 6700,\n",
              " 'monopoly': 6222,\n",
              " 'operationally': 20953,\n",
              " 'dirty': 20954,\n",
              " 'abuses': 10090,\n",
              " 'prudhoe': 7262,\n",
              " 'pulp': 5949,\n",
              " 'rust': 16396,\n",
              " 'hellman': 20955,\n",
              " 'amdec': 20956,\n",
              " 'australasian': 16397,\n",
              " 'watches': 13878,\n",
              " 'hypertension': 20957,\n",
              " \"hemdale's\": 20958,\n",
              " 'formulation': 16398,\n",
              " 'watched': 7605,\n",
              " 'jargon': 20959,\n",
              " 'cream': 13879,\n",
              " 'ideally': 9404,\n",
              " 'ryavec': 11028,\n",
              " 'microoganisms': 20960,\n",
              " 'indemnify': 13880,\n",
              " 'wincenty': 20961,\n",
              " 'waving': 20962,\n",
              " \"multifood's\": 20963,\n",
              " 'midges': 20964,\n",
              " 'natalie': 11029,\n",
              " 'crosbie': 13881,\n",
              " 'posible': 20965,\n",
              " 'omnibus': 13882,\n",
              " 'assetsof': 20966,\n",
              " 'tricks': 13883,\n",
              " 'rs': 16399,\n",
              " 'kilogram': 20967,\n",
              " 'pruning': 25363,\n",
              " 'dyer': 13884,\n",
              " 'dyes': 20968,\n",
              " 'legislatures': 20969,\n",
              " 'scm': 16400,\n",
              " 'sci': 9405,\n",
              " 'riedel': 20970,\n",
              " 'ceramic': 16401,\n",
              " 'unitholders': 6701,\n",
              " 'scb': 13885,\n",
              " 'dn11': 20971,\n",
              " 'conditionality': 20972,\n",
              " \"stock's\": 13807,\n",
              " 'masland': 20973,\n",
              " 'causes': 7606,\n",
              " 'riots': 10091,\n",
              " 'norf': 20974,\n",
              " 'nord': 9406,\n",
              " 'midwest': 3893,\n",
              " 'tamils': 13886,\n",
              " 'ofthe': 16402,\n",
              " \"colombia's\": 3421,\n",
              " '24th': 11030,\n",
              " 'sant': 20975,\n",
              " 'moines': 10092,\n",
              " 'electrotechnical': 22577,\n",
              " 'proceeded': 24534,\n",
              " 'sanz': 20976,\n",
              " 'insufficiently': 13887,\n",
              " 'sang': 20977,\n",
              " 'sand': 5950,\n",
              " 'bracho': 16404,\n",
              " 'small': 805,\n",
              " 'workloads': 20978,\n",
              " 'sank': 6702,\n",
              " 'kemper': 20979,\n",
              " 'abbreviated': 16405,\n",
              " 'quicker': 13888,\n",
              " '199': 3802,\n",
              " '198': 3243,\n",
              " '195': 2661,\n",
              " '194': 3080,\n",
              " '197': 4310,\n",
              " '196': 3894,\n",
              " '191': 2850,\n",
              " '190': 2199,\n",
              " '193': 3481,\n",
              " '192': 3350,\n",
              " 'past': 582,\n",
              " 'fractionation': 20980,\n",
              " 'displays': 20981,\n",
              " 'pass': 3081,\n",
              " 'investment': 202,\n",
              " 'quals': 27062,\n",
              " 'quicken': 16406,\n",
              " \"centronic's\": 20983,\n",
              " 'menswear': 20984,\n",
              " 'clock': 16407,\n",
              " 'teape': 20985,\n",
              " 'teapa': 20986,\n",
              " 'prevailed': 10093,\n",
              " 'hebei': 9407,\n",
              " ...}"
            ]
          },
          "metadata": {
            "tags": []
          },
          "execution_count": 24
        }
      ]
    },
    {
      "cell_type": "code",
      "metadata": {
        "id": "QS_nBryQCGzI",
        "colab_type": "code",
        "colab": {}
      },
      "source": [
        "# 빈도수가 높은 순서대로 출력할 수 있는 딕셔너리 생성\n",
        "index_to_word={}\n",
        "for key, value in word_index.items():\n",
        "  index_to_word[value]=key"
      ],
      "execution_count": 0,
      "outputs": []
    },
    {
      "cell_type": "code",
      "metadata": {
        "id": "60kAxsd9Cl1c",
        "colab_type": "code",
        "outputId": "7bdd7806-abe6-42e4-caf9-de0c217150bc",
        "colab": {
          "base_uri": "https://localhost:8080/",
          "height": 35
        }
      },
      "source": [
        "index_to_word[2]"
      ],
      "execution_count": 26,
      "outputs": [
        {
          "output_type": "execute_result",
          "data": {
            "text/plain": [
              "'of'"
            ]
          },
          "metadata": {
            "tags": []
          },
          "execution_count": 26
        }
      ]
    },
    {
      "cell_type": "code",
      "metadata": {
        "id": "w7taFUZ4C9yI",
        "colab_type": "code",
        "outputId": "57e0a805-8feb-4e59-85f5-5bcb37251220",
        "colab": {
          "base_uri": "https://localhost:8080/",
          "height": 55
        }
      },
      "source": [
        "# 뉴스기사 원문 복원\n",
        "print(\" \".join([index_to_word[x] for x in xtrain[1]]))"
      ],
      "execution_count": 27,
      "outputs": [
        {
          "output_type": "stream",
          "text": [
            "the termination payment airport takes 6 visibility geological 3 6 602 begin up said fully bank expects commodity total is giant a recreation this takes leroy series termination payment airport mln a for capital 1 pre 50 american east said in council takes leroy recommend's france a but u any 4 s 1st losses pct dlrs\n"
          ],
          "name": "stdout"
        }
      ]
    },
    {
      "cell_type": "markdown",
      "metadata": {
        "id": "siXKc1QnKhsE",
        "colab_type": "text"
      },
      "source": [
        "## LSTM을 이용한 뉴스 분류"
      ]
    },
    {
      "cell_type": "code",
      "metadata": {
        "id": "kksYL8NjK6uD",
        "colab_type": "code",
        "colab": {}
      },
      "source": [
        "np_load_old = np.load\n",
        "# modify the default parameters of np.load\n",
        "np.load = lambda *a,**k: np_load_old(*a, allow_pickle=True, **k)\n",
        "\n",
        "# call load_data with allow_pickle implicitly set to true\n",
        "(xtrain, ytrain), (xtest, ytest) = reuters.load_data(num_words=1000, test_split=0.2)\n",
        "# 단어 등장 빈도수가 1000등 안에 있는 단어들 대상\n",
        "\n",
        "# restore np.load for future normal usage\n",
        "np.load = np_load_old"
      ],
      "execution_count": 0,
      "outputs": []
    },
    {
      "cell_type": "code",
      "metadata": {
        "id": "wmkgCoMzDWcn",
        "colab_type": "code",
        "colab": {}
      },
      "source": [
        "# 단어 등장 빈도수가 1000등 안에 있는 단어들 대상\n",
        "max_len=100 # 100개 => 뉴스에서 단어의 개수가 100개 넘으면 100개 저장, 부족하면 0으로 채우자\n",
        "\n",
        "from keras.preprocessing import sequence\n",
        "xtrain=sequence.pad_sequences(xtrain, maxlen=max_len)\n",
        "xtest=sequence.pad_sequences(xtest, maxlen=max_len)"
      ],
      "execution_count": 0,
      "outputs": []
    },
    {
      "cell_type": "code",
      "metadata": {
        "id": "mFNwAyGXGP-X",
        "colab_type": "code",
        "colab": {}
      },
      "source": [
        "from keras.models import Sequential\n",
        "from keras.layers import Dense, LSTM, Embedding\n",
        "from keras.preprocessing import sequence\n",
        "from keras.utils import np_utils"
      ],
      "execution_count": 0,
      "outputs": []
    },
    {
      "cell_type": "code",
      "metadata": {
        "id": "_it1llv9G0AQ",
        "colab_type": "code",
        "outputId": "f54288a8-8dd2-42e3-83ae-24ddff290646",
        "colab": {
          "base_uri": "https://localhost:8080/",
          "height": 143
        }
      },
      "source": [
        "# ytrain, ytest 원핫인코딩 변환\n",
        "ytrain=np_utils.to_categorical(ytrain)\n",
        "ytrain"
      ],
      "execution_count": 80,
      "outputs": [
        {
          "output_type": "execute_result",
          "data": {
            "text/plain": [
              "array([[0., 0., 0., ..., 0., 0., 0.],\n",
              "       [0., 0., 0., ..., 0., 0., 0.],\n",
              "       [0., 0., 0., ..., 0., 0., 0.],\n",
              "       ...,\n",
              "       [0., 0., 0., ..., 0., 0., 0.],\n",
              "       [0., 0., 0., ..., 0., 0., 0.],\n",
              "       [0., 0., 0., ..., 0., 0., 0.]], dtype=float32)"
            ]
          },
          "metadata": {
            "tags": []
          },
          "execution_count": 80
        }
      ]
    },
    {
      "cell_type": "code",
      "metadata": {
        "id": "fokXQGgmHjtE",
        "colab_type": "code",
        "outputId": "5262e115-55a6-4941-d9d8-543a846eac78",
        "colab": {
          "base_uri": "https://localhost:8080/",
          "height": 143
        }
      },
      "source": [
        "ytest=np_utils.to_categorical(ytest)\n",
        "ytest"
      ],
      "execution_count": 81,
      "outputs": [
        {
          "output_type": "execute_result",
          "data": {
            "text/plain": [
              "array([[0., 0., 0., ..., 0., 0., 0.],\n",
              "       [0., 0., 0., ..., 0., 0., 0.],\n",
              "       [0., 1., 0., ..., 0., 0., 0.],\n",
              "       ...,\n",
              "       [0., 0., 0., ..., 0., 0., 0.],\n",
              "       [0., 0., 0., ..., 0., 0., 0.],\n",
              "       [0., 0., 0., ..., 0., 0., 0.]], dtype=float32)"
            ]
          },
          "metadata": {
            "tags": []
          },
          "execution_count": 81
        }
      ]
    },
    {
      "cell_type": "code",
      "metadata": {
        "id": "cwQkRSwQHtrW",
        "colab_type": "code",
        "colab": {
          "base_uri": "https://localhost:8080/",
          "height": 163
        },
        "outputId": "92569b37-85ec-4249-ee4e-676a97e2d2dc"
      },
      "source": [
        "model = Sequential()\n",
        "model.add(Embedding(1000, 128)) \n",
        "#                  (단어벡터수, 임베딩 벡터의 차원)\n",
        "model.add(LSTM(128))\n",
        "model.add(Dense(46, activation=\"softmax\"))"
      ],
      "execution_count": 33,
      "outputs": [
        {
          "output_type": "stream",
          "text": [
            "WARNING: Logging before flag parsing goes to stderr.\n",
            "W0828 23:38:48.583770 140389552650112 deprecation_wrapper.py:119] From /usr/local/lib/python3.6/dist-packages/keras/backend/tensorflow_backend.py:74: The name tf.get_default_graph is deprecated. Please use tf.compat.v1.get_default_graph instead.\n",
            "\n",
            "W0828 23:38:48.625336 140389552650112 deprecation_wrapper.py:119] From /usr/local/lib/python3.6/dist-packages/keras/backend/tensorflow_backend.py:517: The name tf.placeholder is deprecated. Please use tf.compat.v1.placeholder instead.\n",
            "\n",
            "W0828 23:38:48.633245 140389552650112 deprecation_wrapper.py:119] From /usr/local/lib/python3.6/dist-packages/keras/backend/tensorflow_backend.py:4138: The name tf.random_uniform is deprecated. Please use tf.random.uniform instead.\n",
            "\n"
          ],
          "name": "stderr"
        }
      ]
    },
    {
      "cell_type": "code",
      "metadata": {
        "id": "DlJ89Ci1Iwsh",
        "colab_type": "code",
        "colab": {
          "base_uri": "https://localhost:8080/",
          "height": 109
        },
        "outputId": "7a461103-3787-48da-8e46-c2f54915c50d"
      },
      "source": [
        "model.compile(loss='categorical_crossentropy', optimizer='adam', metrics=['accuracy'])"
      ],
      "execution_count": 34,
      "outputs": [
        {
          "output_type": "stream",
          "text": [
            "W0828 23:38:53.154918 140389552650112 deprecation_wrapper.py:119] From /usr/local/lib/python3.6/dist-packages/keras/optimizers.py:790: The name tf.train.Optimizer is deprecated. Please use tf.compat.v1.train.Optimizer instead.\n",
            "\n",
            "W0828 23:38:53.183097 140389552650112 deprecation_wrapper.py:119] From /usr/local/lib/python3.6/dist-packages/keras/backend/tensorflow_backend.py:3295: The name tf.log is deprecated. Please use tf.math.log instead.\n",
            "\n"
          ],
          "name": "stderr"
        }
      ]
    },
    {
      "cell_type": "code",
      "metadata": {
        "id": "2_ElPpMzI-bS",
        "colab_type": "code",
        "outputId": "7f95e187-d220-431d-a815-c047a78a12ff",
        "colab": {
          "base_uri": "https://localhost:8080/",
          "height": 865
        }
      },
      "source": [
        "history=model.fit(xtrain, ytrain, batch_size=100, epochs=20, validation_data=(xtest,ytest))"
      ],
      "execution_count": 35,
      "outputs": [
        {
          "output_type": "stream",
          "text": [
            "W0828 23:38:56.376614 140389552650112 deprecation.py:323] From /usr/local/lib/python3.6/dist-packages/tensorflow/python/ops/math_grad.py:1250: add_dispatch_support.<locals>.wrapper (from tensorflow.python.ops.array_ops) is deprecated and will be removed in a future version.\n",
            "Instructions for updating:\n",
            "Use tf.where in 2.0, which has the same broadcast rule as np.where\n",
            "W0828 23:38:57.055773 140389552650112 deprecation_wrapper.py:119] From /usr/local/lib/python3.6/dist-packages/keras/backend/tensorflow_backend.py:986: The name tf.assign_add is deprecated. Please use tf.compat.v1.assign_add instead.\n",
            "\n"
          ],
          "name": "stderr"
        },
        {
          "output_type": "stream",
          "text": [
            "Train on 8982 samples, validate on 2246 samples\n",
            "Epoch 1/20\n",
            "8982/8982 [==============================] - 16s 2ms/step - loss: 2.5571 - acc: 0.3566 - val_loss: 2.0867 - val_acc: 0.4889\n",
            "Epoch 2/20\n",
            "8982/8982 [==============================] - 11s 1ms/step - loss: 2.0270 - acc: 0.4970 - val_loss: 1.9853 - val_acc: 0.5102\n",
            "Epoch 3/20\n",
            "8982/8982 [==============================] - 11s 1ms/step - loss: 1.9339 - acc: 0.5198 - val_loss: 1.7865 - val_acc: 0.5606\n",
            "Epoch 4/20\n",
            "8982/8982 [==============================] - 12s 1ms/step - loss: 1.7389 - acc: 0.5625 - val_loss: 1.7095 - val_acc: 0.5708\n",
            "Epoch 5/20\n",
            "8982/8982 [==============================] - 11s 1ms/step - loss: 1.6105 - acc: 0.5847 - val_loss: 1.6503 - val_acc: 0.5819\n",
            "Epoch 6/20\n",
            "8982/8982 [==============================] - 12s 1ms/step - loss: 1.5246 - acc: 0.6092 - val_loss: 1.5951 - val_acc: 0.6015\n",
            "Epoch 7/20\n",
            "8982/8982 [==============================] - 11s 1ms/step - loss: 1.4502 - acc: 0.6312 - val_loss: 1.5216 - val_acc: 0.6224\n",
            "Epoch 8/20\n",
            "8982/8982 [==============================] - 11s 1ms/step - loss: 1.3703 - acc: 0.6556 - val_loss: 1.4553 - val_acc: 0.6429\n",
            "Epoch 9/20\n",
            "8982/8982 [==============================] - 11s 1ms/step - loss: 1.2667 - acc: 0.6860 - val_loss: 1.3651 - val_acc: 0.6545\n",
            "Epoch 10/20\n",
            "8982/8982 [==============================] - 11s 1ms/step - loss: 1.1808 - acc: 0.7031 - val_loss: 1.3438 - val_acc: 0.6514\n",
            "Epoch 11/20\n",
            "8982/8982 [==============================] - 11s 1ms/step - loss: 1.1190 - acc: 0.7175 - val_loss: 1.2848 - val_acc: 0.6772\n",
            "Epoch 12/20\n",
            "8982/8982 [==============================] - 11s 1ms/step - loss: 1.0587 - acc: 0.7356 - val_loss: 1.2721 - val_acc: 0.6763\n",
            "Epoch 13/20\n",
            "8982/8982 [==============================] - 11s 1ms/step - loss: 1.0183 - acc: 0.7406 - val_loss: 1.2594 - val_acc: 0.6919\n",
            "Epoch 14/20\n",
            "8982/8982 [==============================] - 11s 1ms/step - loss: 0.9650 - acc: 0.7537 - val_loss: 1.2463 - val_acc: 0.6946\n",
            "Epoch 15/20\n",
            "8982/8982 [==============================] - 11s 1ms/step - loss: 0.9107 - acc: 0.7665 - val_loss: 1.2347 - val_acc: 0.6986\n",
            "Epoch 16/20\n",
            "8982/8982 [==============================] - 11s 1ms/step - loss: 0.8667 - acc: 0.7754 - val_loss: 1.2349 - val_acc: 0.6977\n",
            "Epoch 17/20\n",
            "8982/8982 [==============================] - 11s 1ms/step - loss: 0.8170 - acc: 0.7905 - val_loss: 1.2284 - val_acc: 0.7053\n",
            "Epoch 18/20\n",
            "8982/8982 [==============================] - 11s 1ms/step - loss: 0.7646 - acc: 0.8071 - val_loss: 1.2628 - val_acc: 0.6990\n",
            "Epoch 19/20\n",
            "8982/8982 [==============================] - 11s 1ms/step - loss: 0.7491 - acc: 0.8110 - val_loss: 1.2070 - val_acc: 0.7204\n",
            "Epoch 20/20\n",
            "8982/8982 [==============================] - 11s 1ms/step - loss: 0.7003 - acc: 0.8211 - val_loss: 1.1956 - val_acc: 0.7168\n"
          ],
          "name": "stdout"
        }
      ]
    },
    {
      "cell_type": "code",
      "metadata": {
        "id": "2n8HE3TRJnbN",
        "colab_type": "code",
        "outputId": "a41d0ade-c821-488f-fce7-4e521e9da353",
        "colab": {
          "base_uri": "https://localhost:8080/",
          "height": 53
        }
      },
      "source": [
        "print(\"테스트 정확도:\", model.evaluate(xtest,ytest)[1])"
      ],
      "execution_count": 36,
      "outputs": [
        {
          "output_type": "stream",
          "text": [
            "2246/2246 [==============================] - 2s 915us/step\n",
            "테스트 정확도: 0.7168299199106007\n"
          ],
          "name": "stdout"
        }
      ]
    },
    {
      "cell_type": "code",
      "metadata": {
        "id": "VPjs5BIoc4Fs",
        "colab_type": "code",
        "colab": {}
      },
      "source": [
        "import matplotlib.pyplot as plt"
      ],
      "execution_count": 0,
      "outputs": []
    },
    {
      "cell_type": "code",
      "metadata": {
        "id": "-IQ0xDpZJzmn",
        "colab_type": "code",
        "outputId": "8b12fd75-0a50-4f38-e96e-905f66efc1fa",
        "colab": {
          "base_uri": "https://localhost:8080/",
          "height": 269
        }
      },
      "source": [
        "epochs=range(1, len(history.history['acc'])+1)\n",
        "plt.plot(epochs, history.history['loss'])\n",
        "plt.plot(epochs, history.history['val_loss'])\n",
        "plt.legend(['train','test'], loc='upper right')\n",
        "plt.show()"
      ],
      "execution_count": 38,
      "outputs": [
        {
          "output_type": "display_data",
          "data": {
            "image/png": "[encoded data removed]",
            "text/plain": [
              "<Figure size 432x288 with 1 Axes>"
            ]
          },
          "metadata": {
            "tags": []
          }
        }
      ]
    },
    {
      "cell_type": "markdown",
      "metadata": {
        "id": "9HQHTnY14z7B",
        "colab_type": "text"
      },
      "source": [
        "## LSTM 기반 네이버 영화 리뷰 감성 분류기"
      ]
    },
    {
      "cell_type": "code",
      "metadata": {
        "id": "WOMsolQzTqZP",
        "colab_type": "code",
        "outputId": "44135a8f-d061-4ab8-babd-08eb029dfc88",
        "colab": {
          "base_uri": "https://localhost:8080/",
          "height": 53
        }
      },
      "source": [
        "import pandas as pd\n",
        "trainData=pd.read_table(\"/content/drive/My Drive/빅데이터(딥러닝) 활용 AI 설계/빅데이터 활용_머신러닝/Data/data/nsmc-master/ratings_train.txt\")"
      ],
      "execution_count": 82,
      "outputs": [
        {
          "output_type": "stream",
          "text": [
            "/usr/local/lib/python3.6/dist-packages/ipykernel_launcher.py:2: FutureWarning: read_table is deprecated, use read_csv instead, passing sep='\\t'.\n",
            "  \n"
          ],
          "name": "stderr"
        }
      ]
    },
    {
      "cell_type": "code",
      "metadata": {
        "id": "7lvzN_Ucg3wC",
        "colab_type": "code",
        "outputId": "4ee02b31-9bd2-4f0e-8c62-b84085ad65ff",
        "colab": {
          "base_uri": "https://localhost:8080/",
          "height": 35
        }
      },
      "source": [
        "len(trainData)"
      ],
      "execution_count": 83,
      "outputs": [
        {
          "output_type": "execute_result",
          "data": {
            "text/plain": [
              "150000"
            ]
          },
          "metadata": {
            "tags": []
          },
          "execution_count": 83
        }
      ]
    },
    {
      "cell_type": "code",
      "metadata": {
        "id": "6m--Lb8Vg5ps",
        "colab_type": "code",
        "outputId": "7d992f07-76c7-45a2-d620-d07ac286f075",
        "colab": {
          "base_uri": "https://localhost:8080/",
          "height": 1000
        }
      },
      "source": [
        "trainData"
      ],
      "execution_count": 84,
      "outputs": [
        {
          "output_type": "execute_result",
          "data": {
            "text/html": [
              "<div>\n",
              "<style scoped>\n",
              "    .dataframe tbody tr th:only-of-type {\n",
              "        vertical-align: middle;\n",
              "    }\n",
              "\n",
              "    .dataframe tbody tr th {\n",
              "        vertical-align: top;\n",
              "    }\n",
              "\n",
              "    .dataframe thead th {\n",
              "        text-align: right;\n",
              "    }\n",
              "</style>\n",
              "<table border=\"1\" class=\"dataframe\">\n",
              "  <thead>\n",
              "    <tr style=\"text-align: right;\">\n",
              "      <th></th>\n",
              "      <th>id</th>\n",
              "      <th>document</th>\n",
              "      <th>label</th>\n",
              "    </tr>\n",
              "  </thead>\n",
              "  <tbody>\n",
              "    <tr>\n",
              "      <th>0</th>\n",
              "      <td>9976970</td>\n",
              "      <td>아 더빙.. 진짜 짜증나네요 목소리</td>\n",
              "      <td>0</td>\n",
              "    </tr>\n",
              "    <tr>\n",
              "      <th>1</th>\n",
              "      <td>3819312</td>\n",
              "      <td>흠...포스터보고 초딩영화줄....오버연기조차 가볍지 않구나</td>\n",
              "      <td>1</td>\n",
              "    </tr>\n",
              "    <tr>\n",
              "      <th>2</th>\n",
              "      <td>10265843</td>\n",
              "      <td>너무재밓었다그래서보는것을추천한다</td>\n",
              "      <td>0</td>\n",
              "    </tr>\n",
              "    <tr>\n",
              "      <th>3</th>\n",
              "      <td>9045019</td>\n",
              "      <td>교도소 이야기구먼 ..솔직히 재미는 없다..평점 조정</td>\n",
              "      <td>0</td>\n",
              "    </tr>\n",
              "    <tr>\n",
              "      <th>4</th>\n",
              "      <td>6483659</td>\n",
              "      <td>사이몬페그의 익살스런 연기가 돋보였던 영화!스파이더맨에서 늙어보이기만 했던 커스틴 ...</td>\n",
              "      <td>1</td>\n",
              "    </tr>\n",
              "    <tr>\n",
              "      <th>5</th>\n",
              "      <td>5403919</td>\n",
              "      <td>막 걸음마 뗀 3세부터 초등학교 1학년생인 8살용영화.ㅋㅋㅋ...별반개도 아까움.</td>\n",
              "      <td>0</td>\n",
              "    </tr>\n",
              "    <tr>\n",
              "      <th>6</th>\n",
              "      <td>7797314</td>\n",
              "      <td>원작의 긴장감을 제대로 살려내지못했다.</td>\n",
              "      <td>0</td>\n",
              "    </tr>\n",
              "    <tr>\n",
              "      <th>7</th>\n",
              "      <td>9443947</td>\n",
              "      <td>별 반개도 아깝다 욕나온다 이응경 길용우 연기생활이몇년인지..정말 발로해도 그것보단...</td>\n",
              "      <td>0</td>\n",
              "    </tr>\n",
              "    <tr>\n",
              "      <th>8</th>\n",
              "      <td>7156791</td>\n",
              "      <td>액션이 없는데도 재미 있는 몇안되는 영화</td>\n",
              "      <td>1</td>\n",
              "    </tr>\n",
              "    <tr>\n",
              "      <th>9</th>\n",
              "      <td>5912145</td>\n",
              "      <td>왜케 평점이 낮은건데? 꽤 볼만한데.. 헐리우드식 화려함에만 너무 길들여져 있나?</td>\n",
              "      <td>1</td>\n",
              "    </tr>\n",
              "    <tr>\n",
              "      <th>10</th>\n",
              "      <td>9008700</td>\n",
              "      <td>걍인피니트가짱이다.진짜짱이다♥</td>\n",
              "      <td>1</td>\n",
              "    </tr>\n",
              "    <tr>\n",
              "      <th>11</th>\n",
              "      <td>10217543</td>\n",
              "      <td>볼때마다 눈물나서 죽겠다90년대의 향수자극!!허진호는 감성절제멜로의 달인이다~</td>\n",
              "      <td>1</td>\n",
              "    </tr>\n",
              "    <tr>\n",
              "      <th>12</th>\n",
              "      <td>5957425</td>\n",
              "      <td>울면서 손들고 횡단보도 건널때 뛰쳐나올뻔 이범수 연기 드럽게못해</td>\n",
              "      <td>0</td>\n",
              "    </tr>\n",
              "    <tr>\n",
              "      <th>13</th>\n",
              "      <td>8628627</td>\n",
              "      <td>담백하고 깔끔해서 좋다. 신문기사로만 보다 보면 자꾸 잊어버린다. 그들도 사람이었다...</td>\n",
              "      <td>1</td>\n",
              "    </tr>\n",
              "    <tr>\n",
              "      <th>14</th>\n",
              "      <td>9864035</td>\n",
              "      <td>취향은 존중한다지만 진짜 내생에 극장에서 본 영화중 가장 노잼 노감동임 스토리도 어...</td>\n",
              "      <td>0</td>\n",
              "    </tr>\n",
              "    <tr>\n",
              "      <th>15</th>\n",
              "      <td>6852435</td>\n",
              "      <td>ㄱ냥 매번 긴장되고 재밋음ㅠㅠ</td>\n",
              "      <td>1</td>\n",
              "    </tr>\n",
              "    <tr>\n",
              "      <th>16</th>\n",
              "      <td>9143163</td>\n",
              "      <td>참 사람들 웃긴게 바스코가 이기면 락스코라고 까고바비가 이기면 아이돌이라고 깐다.그...</td>\n",
              "      <td>1</td>\n",
              "    </tr>\n",
              "    <tr>\n",
              "      <th>17</th>\n",
              "      <td>4891476</td>\n",
              "      <td>굿바이 레닌 표절인것은 이해하는데 왜 뒤로 갈수록 재미없어지냐</td>\n",
              "      <td>0</td>\n",
              "    </tr>\n",
              "    <tr>\n",
              "      <th>18</th>\n",
              "      <td>7465483</td>\n",
              "      <td>이건 정말 깨알 캐스팅과 질퍽하지않은 산뜻한 내용구성이 잘 버무러진 깨알일드!!♥</td>\n",
              "      <td>1</td>\n",
              "    </tr>\n",
              "    <tr>\n",
              "      <th>19</th>\n",
              "      <td>3989148</td>\n",
              "      <td>약탈자를 위한 변명, 이라. 저놈들은 착한놈들 절대 아닌걸요.</td>\n",
              "      <td>1</td>\n",
              "    </tr>\n",
              "    <tr>\n",
              "      <th>20</th>\n",
              "      <td>4581211</td>\n",
              "      <td>나름 심오한 뜻도 있는 듯. 그냥 학생이 선생과 놀아나는 영화는 절대 아님</td>\n",
              "      <td>1</td>\n",
              "    </tr>\n",
              "    <tr>\n",
              "      <th>21</th>\n",
              "      <td>2718894</td>\n",
              "      <td>보면서 웃지 않는 건 불가능하다</td>\n",
              "      <td>1</td>\n",
              "    </tr>\n",
              "    <tr>\n",
              "      <th>22</th>\n",
              "      <td>9705777</td>\n",
              "      <td>재미없다 지루하고. 같은 음식 영화인데도 바베트의 만찬하고 넘 차이남....바베트의...</td>\n",
              "      <td>0</td>\n",
              "    </tr>\n",
              "    <tr>\n",
              "      <th>23</th>\n",
              "      <td>471131</td>\n",
              "      <td>절대 평범한 영화가 아닌 수작이라는걸 말씀드립니다.</td>\n",
              "      <td>1</td>\n",
              "    </tr>\n",
              "    <tr>\n",
              "      <th>24</th>\n",
              "      <td>8480268</td>\n",
              "      <td>주제는 좋은데 중반부터 지루하다</td>\n",
              "      <td>0</td>\n",
              "    </tr>\n",
              "    <tr>\n",
              "      <th>25</th>\n",
              "      <td>4254115</td>\n",
              "      <td>다 짤랐을꺼야. 그래서 납득할 수 없었던거야.. 그럴꺼야.. 꼭 그랬던걸꺼야..</td>\n",
              "      <td>0</td>\n",
              "    </tr>\n",
              "    <tr>\n",
              "      <th>26</th>\n",
              "      <td>7295746</td>\n",
              "      <td>kl2g 고추를 털어버려야 할텐데</td>\n",
              "      <td>1</td>\n",
              "    </tr>\n",
              "    <tr>\n",
              "      <th>27</th>\n",
              "      <td>5457633</td>\n",
              "      <td>카밀라벨 발연기</td>\n",
              "      <td>0</td>\n",
              "    </tr>\n",
              "    <tr>\n",
              "      <th>28</th>\n",
              "      <td>6091784</td>\n",
              "      <td>재밋는뎅</td>\n",
              "      <td>1</td>\n",
              "    </tr>\n",
              "    <tr>\n",
              "      <th>29</th>\n",
              "      <td>8322926</td>\n",
              "      <td>센스있는 연출력..탁월한 캐스팅..90년대의 향수.. 그래서 9점..</td>\n",
              "      <td>1</td>\n",
              "    </tr>\n",
              "    <tr>\n",
              "      <th>...</th>\n",
              "      <td>...</td>\n",
              "      <td>...</td>\n",
              "      <td>...</td>\n",
              "    </tr>\n",
              "    <tr>\n",
              "      <th>149970</th>\n",
              "      <td>9307870</td>\n",
              "      <td>한번더보고싶은영화 너무좋음</td>\n",
              "      <td>1</td>\n",
              "    </tr>\n",
              "    <tr>\n",
              "      <th>149971</th>\n",
              "      <td>5109463</td>\n",
              "      <td>완전 고현정의 미친 연기 감동</td>\n",
              "      <td>1</td>\n",
              "    </tr>\n",
              "    <tr>\n",
              "      <th>149972</th>\n",
              "      <td>3488317</td>\n",
              "      <td>사랑이라는 감정에 빠진 적이 있던가 반문하게 만드는 걸작.</td>\n",
              "      <td>1</td>\n",
              "    </tr>\n",
              "    <tr>\n",
              "      <th>149973</th>\n",
              "      <td>4433006</td>\n",
              "      <td>명감독의 지휘 아래 카리스마 빛나는 당대 톱배우들의 암살 대결이 흥미롭게 펼쳐진다</td>\n",
              "      <td>1</td>\n",
              "    </tr>\n",
              "    <tr>\n",
              "      <th>149974</th>\n",
              "      <td>2602545</td>\n",
              "      <td>베트남 전통복장 말고는 볼게 없다.</td>\n",
              "      <td>0</td>\n",
              "    </tr>\n",
              "    <tr>\n",
              "      <th>149975</th>\n",
              "      <td>5993657</td>\n",
              "      <td>무지 자극적 에로틱 드라마!!</td>\n",
              "      <td>1</td>\n",
              "    </tr>\n",
              "    <tr>\n",
              "      <th>149976</th>\n",
              "      <td>9811006</td>\n",
              "      <td>일본은 한국전쟁에 참전한적도 없고 2차세계대전이후 완전 패망했다가 한국전쟁 때 군수...</td>\n",
              "      <td>0</td>\n",
              "    </tr>\n",
              "    <tr>\n",
              "      <th>149977</th>\n",
              "      <td>5183925</td>\n",
              "      <td>무슨말이 더 필요한가..</td>\n",
              "      <td>1</td>\n",
              "    </tr>\n",
              "    <tr>\n",
              "      <th>149978</th>\n",
              "      <td>6798178</td>\n",
              "      <td>그리 만족스럽진못했어도 7점은 나와야되는것같아 10점줌. 주인공들연기도 훌륭했고 내...</td>\n",
              "      <td>1</td>\n",
              "    </tr>\n",
              "    <tr>\n",
              "      <th>149979</th>\n",
              "      <td>4059827</td>\n",
              "      <td>배우들이 아깝다</td>\n",
              "      <td>0</td>\n",
              "    </tr>\n",
              "    <tr>\n",
              "      <th>149980</th>\n",
              "      <td>8115087</td>\n",
              "      <td>아, 진짜 웃긴다...프랑스 영화 정말 싫어했었는데 이 영화는 열외~</td>\n",
              "      <td>1</td>\n",
              "    </tr>\n",
              "    <tr>\n",
              "      <th>149981</th>\n",
              "      <td>9633559</td>\n",
              "      <td>시간이 아깝다. 어린 여주의 연기는 인상적이었고 나중이 기대되어서 좋았고 남주 여주...</td>\n",
              "      <td>0</td>\n",
              "    </tr>\n",
              "    <tr>\n",
              "      <th>149982</th>\n",
              "      <td>9845927</td>\n",
              "      <td>평점너무낮아서 십점줌ㅋㅋㅋㅋ난진짜재밌던데 이런가벼운영화도 한번씩보면좋을듯</td>\n",
              "      <td>1</td>\n",
              "    </tr>\n",
              "    <tr>\n",
              "      <th>149983</th>\n",
              "      <td>6455011</td>\n",
              "      <td>그냥생각없이 평점좀 쓰지마 OOO들아 두 배우의연기가 너무맘에 들었다</td>\n",
              "      <td>1</td>\n",
              "    </tr>\n",
              "    <tr>\n",
              "      <th>149984</th>\n",
              "      <td>3687312</td>\n",
              "      <td>수술할정도로 아파본사람들만이 제대로 동감할수 있는영화..삶의 소중함.과 고마움...</td>\n",
              "      <td>1</td>\n",
              "    </tr>\n",
              "    <tr>\n",
              "      <th>149985</th>\n",
              "      <td>4111621</td>\n",
              "      <td>해석하기 나름인 패륜영화. 그래도 이건 아니잖니.</td>\n",
              "      <td>0</td>\n",
              "    </tr>\n",
              "    <tr>\n",
              "      <th>149986</th>\n",
              "      <td>9962459</td>\n",
              "      <td>1점도아깝다진짜 개빡친다 내아까운시간</td>\n",
              "      <td>0</td>\n",
              "    </tr>\n",
              "    <tr>\n",
              "      <th>149987</th>\n",
              "      <td>7669621</td>\n",
              "      <td>재미있어요^^</td>\n",
              "      <td>1</td>\n",
              "    </tr>\n",
              "    <tr>\n",
              "      <th>149988</th>\n",
              "      <td>8832485</td>\n",
              "      <td>와~ 이런 것도 영화라고... 차라리 뮤직비디오를 만드는 게 나을 뻔</td>\n",
              "      <td>0</td>\n",
              "    </tr>\n",
              "    <tr>\n",
              "      <th>149989</th>\n",
              "      <td>10095032</td>\n",
              "      <td>아직 척편이여서 그런지 모르겠지만 내용 이해 불가50가지 그림자가 뭔지 모르겠습니다</td>\n",
              "      <td>0</td>\n",
              "    </tr>\n",
              "    <tr>\n",
              "      <th>149990</th>\n",
              "      <td>6373651</td>\n",
              "      <td>이걸 영화라고 찎었냐?</td>\n",
              "      <td>0</td>\n",
              "    </tr>\n",
              "    <tr>\n",
              "      <th>149991</th>\n",
              "      <td>9492905</td>\n",
              "      <td>http://blog.naver.com/oroblast/220215679580 나쁜...</td>\n",
              "      <td>1</td>\n",
              "    </tr>\n",
              "    <tr>\n",
              "      <th>149992</th>\n",
              "      <td>9335962</td>\n",
              "      <td>공포나 재난영화가 아니라 아예 대놓고 비급 크리쳐개그물임ㅋㅋ 음악 완전 흥겹다ㅋ 5...</td>\n",
              "      <td>0</td>\n",
              "    </tr>\n",
              "    <tr>\n",
              "      <th>149993</th>\n",
              "      <td>10020916</td>\n",
              "      <td>For Carl.칼 세이건으로 시작해서 칼 세이건으로 끝난다.</td>\n",
              "      <td>1</td>\n",
              "    </tr>\n",
              "    <tr>\n",
              "      <th>149994</th>\n",
              "      <td>9458520</td>\n",
              "      <td>디케이드 다음에 더블 다음에 오즈인데 더블은 조금밖에 안나오네요.</td>\n",
              "      <td>1</td>\n",
              "    </tr>\n",
              "    <tr>\n",
              "      <th>149995</th>\n",
              "      <td>6222902</td>\n",
              "      <td>인간이 문제지.. 소는 뭔죄인가..</td>\n",
              "      <td>0</td>\n",
              "    </tr>\n",
              "    <tr>\n",
              "      <th>149996</th>\n",
              "      <td>8549745</td>\n",
              "      <td>평점이 너무 낮아서...</td>\n",
              "      <td>1</td>\n",
              "    </tr>\n",
              "    <tr>\n",
              "      <th>149997</th>\n",
              "      <td>9311800</td>\n",
              "      <td>이게 뭐요? 한국인은 거들먹거리고 필리핀 혼혈은 착하다?</td>\n",
              "      <td>0</td>\n",
              "    </tr>\n",
              "    <tr>\n",
              "      <th>149998</th>\n",
              "      <td>2376369</td>\n",
              "      <td>청춘 영화의 최고봉.방황과 우울했던 날들의 자화상</td>\n",
              "      <td>1</td>\n",
              "    </tr>\n",
              "    <tr>\n",
              "      <th>149999</th>\n",
              "      <td>9619869</td>\n",
              "      <td>한국 영화 최초로 수간하는 내용이 담긴 영화</td>\n",
              "      <td>0</td>\n",
              "    </tr>\n",
              "  </tbody>\n",
              "</table>\n",
              "<p>150000 rows × 3 columns</p>\n",
              "</div>"
            ],
            "text/plain": [
              "              id                                           document  label\n",
              "0        9976970                                아 더빙.. 진짜 짜증나네요 목소리      0\n",
              "1        3819312                  흠...포스터보고 초딩영화줄....오버연기조차 가볍지 않구나      1\n",
              "2       10265843                                  너무재밓었다그래서보는것을추천한다      0\n",
              "3        9045019                      교도소 이야기구먼 ..솔직히 재미는 없다..평점 조정      0\n",
              "4        6483659  사이몬페그의 익살스런 연기가 돋보였던 영화!스파이더맨에서 늙어보이기만 했던 커스틴 ...      1\n",
              "5        5403919      막 걸음마 뗀 3세부터 초등학교 1학년생인 8살용영화.ㅋㅋㅋ...별반개도 아까움.      0\n",
              "6        7797314                              원작의 긴장감을 제대로 살려내지못했다.      0\n",
              "7        9443947  별 반개도 아깝다 욕나온다 이응경 길용우 연기생활이몇년인지..정말 발로해도 그것보단...      0\n",
              "8        7156791                             액션이 없는데도 재미 있는 몇안되는 영화      1\n",
              "9        5912145      왜케 평점이 낮은건데? 꽤 볼만한데.. 헐리우드식 화려함에만 너무 길들여져 있나?      1\n",
              "10       9008700                                   걍인피니트가짱이다.진짜짱이다♥      1\n",
              "11      10217543        볼때마다 눈물나서 죽겠다90년대의 향수자극!!허진호는 감성절제멜로의 달인이다~      1\n",
              "12       5957425                울면서 손들고 횡단보도 건널때 뛰쳐나올뻔 이범수 연기 드럽게못해      0\n",
              "13       8628627  담백하고 깔끔해서 좋다. 신문기사로만 보다 보면 자꾸 잊어버린다. 그들도 사람이었다...      1\n",
              "14       9864035  취향은 존중한다지만 진짜 내생에 극장에서 본 영화중 가장 노잼 노감동임 스토리도 어...      0\n",
              "15       6852435                                   ㄱ냥 매번 긴장되고 재밋음ㅠㅠ      1\n",
              "16       9143163  참 사람들 웃긴게 바스코가 이기면 락스코라고 까고바비가 이기면 아이돌이라고 깐다.그...      1\n",
              "17       4891476                 굿바이 레닌 표절인것은 이해하는데 왜 뒤로 갈수록 재미없어지냐      0\n",
              "18       7465483      이건 정말 깨알 캐스팅과 질퍽하지않은 산뜻한 내용구성이 잘 버무러진 깨알일드!!♥      1\n",
              "19       3989148                 약탈자를 위한 변명, 이라. 저놈들은 착한놈들 절대 아닌걸요.      1\n",
              "20       4581211          나름 심오한 뜻도 있는 듯. 그냥 학생이 선생과 놀아나는 영화는 절대 아님      1\n",
              "21       2718894                                  보면서 웃지 않는 건 불가능하다      1\n",
              "22       9705777  재미없다 지루하고. 같은 음식 영화인데도 바베트의 만찬하고 넘 차이남....바베트의...      0\n",
              "23        471131                       절대 평범한 영화가 아닌 수작이라는걸 말씀드립니다.      1\n",
              "24       8480268                                  주제는 좋은데 중반부터 지루하다      0\n",
              "25       4254115       다 짤랐을꺼야. 그래서 납득할 수 없었던거야.. 그럴꺼야.. 꼭 그랬던걸꺼야..      0\n",
              "26       7295746                                 kl2g 고추를 털어버려야 할텐데      1\n",
              "27       5457633                                           카밀라벨 발연기      0\n",
              "28       6091784                                               재밋는뎅      1\n",
              "29       8322926             센스있는 연출력..탁월한 캐스팅..90년대의 향수.. 그래서 9점..      1\n",
              "...          ...                                                ...    ...\n",
              "149970   9307870                                     한번더보고싶은영화 너무좋음      1\n",
              "149971   5109463                                   완전 고현정의 미친 연기 감동      1\n",
              "149972   3488317                   사랑이라는 감정에 빠진 적이 있던가 반문하게 만드는 걸작.      1\n",
              "149973   4433006      명감독의 지휘 아래 카리스마 빛나는 당대 톱배우들의 암살 대결이 흥미롭게 펼쳐진다      1\n",
              "149974   2602545                                베트남 전통복장 말고는 볼게 없다.      0\n",
              "149975   5993657                                   무지 자극적 에로틱 드라마!!      1\n",
              "149976   9811006  일본은 한국전쟁에 참전한적도 없고 2차세계대전이후 완전 패망했다가 한국전쟁 때 군수...      0\n",
              "149977   5183925                                      무슨말이 더 필요한가..      1\n",
              "149978   6798178  그리 만족스럽진못했어도 7점은 나와야되는것같아 10점줌. 주인공들연기도 훌륭했고 내...      1\n",
              "149979   4059827                                           배우들이 아깝다      0\n",
              "149980   8115087             아, 진짜 웃긴다...프랑스 영화 정말 싫어했었는데 이 영화는 열외~      1\n",
              "149981   9633559  시간이 아깝다. 어린 여주의 연기는 인상적이었고 나중이 기대되어서 좋았고 남주 여주...      0\n",
              "149982   9845927           평점너무낮아서 십점줌ㅋㅋㅋㅋ난진짜재밌던데 이런가벼운영화도 한번씩보면좋을듯      1\n",
              "149983   6455011             그냥생각없이 평점좀 쓰지마 OOO들아 두 배우의연기가 너무맘에 들었다      1\n",
              "149984   3687312     수술할정도로 아파본사람들만이 제대로 동감할수 있는영화..삶의 소중함.과 고마움...      1\n",
              "149985   4111621                        해석하기 나름인 패륜영화. 그래도 이건 아니잖니.      0\n",
              "149986   9962459                               1점도아깝다진짜 개빡친다 내아까운시간      0\n",
              "149987   7669621                                            재미있어요^^      1\n",
              "149988   8832485             와~ 이런 것도 영화라고... 차라리 뮤직비디오를 만드는 게 나을 뻔      0\n",
              "149989  10095032     아직 척편이여서 그런지 모르겠지만 내용 이해 불가50가지 그림자가 뭔지 모르겠습니다      0\n",
              "149990   6373651                                       이걸 영화라고 찎었냐?      0\n",
              "149991   9492905  http://blog.naver.com/oroblast/220215679580 나쁜...      1\n",
              "149992   9335962  공포나 재난영화가 아니라 아예 대놓고 비급 크리쳐개그물임ㅋㅋ 음악 완전 흥겹다ㅋ 5...      0\n",
              "149993  10020916                 For Carl.칼 세이건으로 시작해서 칼 세이건으로 끝난다.      1\n",
              "149994   9458520               디케이드 다음에 더블 다음에 오즈인데 더블은 조금밖에 안나오네요.      1\n",
              "149995   6222902                                인간이 문제지.. 소는 뭔죄인가..      0\n",
              "149996   8549745                                      평점이 너무 낮아서...      1\n",
              "149997   9311800                    이게 뭐요? 한국인은 거들먹거리고 필리핀 혼혈은 착하다?      0\n",
              "149998   2376369                        청춘 영화의 최고봉.방황과 우울했던 날들의 자화상      1\n",
              "149999   9619869                           한국 영화 최초로 수간하는 내용이 담긴 영화      0\n",
              "\n",
              "[150000 rows x 3 columns]"
            ]
          },
          "metadata": {
            "tags": []
          },
          "execution_count": 84
        }
      ]
    },
    {
      "cell_type": "code",
      "metadata": {
        "id": "DCLXqrXVg7B7",
        "colab_type": "code",
        "outputId": "59320367-f4ca-4e6f-aa7a-f3b082a71135",
        "colab": {
          "base_uri": "https://localhost:8080/",
          "height": 53
        }
      },
      "source": [
        "testData=pd.read_table(\"/content/drive/My Drive/빅데이터(딥러닝) 활용 AI 설계/빅데이터 활용_머신러닝/Data/data/nsmc-master/ratings_test.txt\")"
      ],
      "execution_count": 85,
      "outputs": [
        {
          "output_type": "stream",
          "text": [
            "/usr/local/lib/python3.6/dist-packages/ipykernel_launcher.py:1: FutureWarning: read_table is deprecated, use read_csv instead, passing sep='\\t'.\n",
            "  \"\"\"Entry point for launching an IPython kernel.\n"
          ],
          "name": "stderr"
        }
      ]
    },
    {
      "cell_type": "code",
      "metadata": {
        "id": "kFug45NdhOhZ",
        "colab_type": "code",
        "outputId": "3245e2be-388c-46c0-9956-d779a1dc44e8",
        "colab": {
          "base_uri": "https://localhost:8080/",
          "height": 35
        }
      },
      "source": [
        "len(testData)"
      ],
      "execution_count": 86,
      "outputs": [
        {
          "output_type": "execute_result",
          "data": {
            "text/plain": [
              "50000"
            ]
          },
          "metadata": {
            "tags": []
          },
          "execution_count": 86
        }
      ]
    },
    {
      "cell_type": "code",
      "metadata": {
        "id": "VAOKTCMNhc4B",
        "colab_type": "code",
        "outputId": "88c363b2-d76f-46c1-afaa-4f65aad2f69d",
        "colab": {
          "base_uri": "https://localhost:8080/",
          "height": 283
        }
      },
      "source": [
        "%matplotlib inline\n",
        "import matplotlib.pyplot as plt\n",
        "trainData['label'].value_counts().plot(kind='bar')"
      ],
      "execution_count": 87,
      "outputs": [
        {
          "output_type": "execute_result",
          "data": {
            "text/plain": [
              "<matplotlib.axes._subplots.AxesSubplot at 0x7fadfc0835c0>"
            ]
          },
          "metadata": {
            "tags": []
          },
          "execution_count": 87
        },
        {
          "output_type": "display_data",
          "data": {
            "image/png": "[encoded data removed]",
            "text/plain": [
              "<Figure size 432x288 with 1 Axes>"
            ]
          },
          "metadata": {
            "tags": []
          }
        }
      ]
    },
    {
      "cell_type": "code",
      "metadata": {
        "id": "DP4WVv1DjJD7",
        "colab_type": "code",
        "outputId": "8fcdf98b-cf47-48c3-aad0-225042123583",
        "colab": {
          "base_uri": "https://localhost:8080/",
          "height": 111
        }
      },
      "source": [
        "#trainData.groupby('label').size()\n",
        "trainData.groupby(\"label\").size().reset_index(name='count')"
      ],
      "execution_count": 88,
      "outputs": [
        {
          "output_type": "execute_result",
          "data": {
            "text/html": [
              "<div>\n",
              "<style scoped>\n",
              "    .dataframe tbody tr th:only-of-type {\n",
              "        vertical-align: middle;\n",
              "    }\n",
              "\n",
              "    .dataframe tbody tr th {\n",
              "        vertical-align: top;\n",
              "    }\n",
              "\n",
              "    .dataframe thead th {\n",
              "        text-align: right;\n",
              "    }\n",
              "</style>\n",
              "<table border=\"1\" class=\"dataframe\">\n",
              "  <thead>\n",
              "    <tr style=\"text-align: right;\">\n",
              "      <th></th>\n",
              "      <th>label</th>\n",
              "      <th>count</th>\n",
              "    </tr>\n",
              "  </thead>\n",
              "  <tbody>\n",
              "    <tr>\n",
              "      <th>0</th>\n",
              "      <td>0</td>\n",
              "      <td>75173</td>\n",
              "    </tr>\n",
              "    <tr>\n",
              "      <th>1</th>\n",
              "      <td>1</td>\n",
              "      <td>74827</td>\n",
              "    </tr>\n",
              "  </tbody>\n",
              "</table>\n",
              "</div>"
            ],
            "text/plain": [
              "   label  count\n",
              "0      0  75173\n",
              "1      1  74827"
            ]
          },
          "metadata": {
            "tags": []
          },
          "execution_count": 88
        }
      ]
    },
    {
      "cell_type": "code",
      "metadata": {
        "id": "wJwWr8GEjcgt",
        "colab_type": "code",
        "outputId": "b636c356-db46-42ac-fc99-bce3d29ae3d6",
        "colab": {
          "base_uri": "https://localhost:8080/",
          "height": 35
        }
      },
      "source": [
        "# 리뷰 중에 null이 있는지 확인?\n",
        "trainData.isnull().values.any()"
      ],
      "execution_count": 89,
      "outputs": [
        {
          "output_type": "execute_result",
          "data": {
            "text/plain": [
              "True"
            ]
          },
          "metadata": {
            "tags": []
          },
          "execution_count": 89
        }
      ]
    },
    {
      "cell_type": "code",
      "metadata": {
        "id": "iMYMV03Yjwzh",
        "colab_type": "code",
        "outputId": "aa556deb-4538-4f42-9fa6-de38758932f0",
        "colab": {
          "base_uri": "https://localhost:8080/",
          "height": 89
        }
      },
      "source": [
        "# 컬럼 단위로 null 개수\n",
        "trainData.isnull().sum()"
      ],
      "execution_count": 90,
      "outputs": [
        {
          "output_type": "execute_result",
          "data": {
            "text/plain": [
              "id          0\n",
              "document    5\n",
              "label       0\n",
              "dtype: int64"
            ]
          },
          "metadata": {
            "tags": []
          },
          "execution_count": 90
        }
      ]
    },
    {
      "cell_type": "code",
      "metadata": {
        "id": "jliuPnnekI6x",
        "colab_type": "code",
        "outputId": "35b844eb-e35a-4d73-9064-e03956dae920",
        "colab": {
          "base_uri": "https://localhost:8080/",
          "height": 204
        }
      },
      "source": [
        "# 리뷰가 null인 데이터 출력\n",
        "# trainData[trainData[\"document\"].isnull()==True]\n",
        "trainData[trainData.document.isnull()]"
      ],
      "execution_count": 91,
      "outputs": [
        {
          "output_type": "execute_result",
          "data": {
            "text/html": [
              "<div>\n",
              "<style scoped>\n",
              "    .dataframe tbody tr th:only-of-type {\n",
              "        vertical-align: middle;\n",
              "    }\n",
              "\n",
              "    .dataframe tbody tr th {\n",
              "        vertical-align: top;\n",
              "    }\n",
              "\n",
              "    .dataframe thead th {\n",
              "        text-align: right;\n",
              "    }\n",
              "</style>\n",
              "<table border=\"1\" class=\"dataframe\">\n",
              "  <thead>\n",
              "    <tr style=\"text-align: right;\">\n",
              "      <th></th>\n",
              "      <th>id</th>\n",
              "      <th>document</th>\n",
              "      <th>label</th>\n",
              "    </tr>\n",
              "  </thead>\n",
              "  <tbody>\n",
              "    <tr>\n",
              "      <th>25857</th>\n",
              "      <td>2172111</td>\n",
              "      <td>NaN</td>\n",
              "      <td>1</td>\n",
              "    </tr>\n",
              "    <tr>\n",
              "      <th>55737</th>\n",
              "      <td>6369843</td>\n",
              "      <td>NaN</td>\n",
              "      <td>1</td>\n",
              "    </tr>\n",
              "    <tr>\n",
              "      <th>110014</th>\n",
              "      <td>1034280</td>\n",
              "      <td>NaN</td>\n",
              "      <td>0</td>\n",
              "    </tr>\n",
              "    <tr>\n",
              "      <th>126782</th>\n",
              "      <td>5942978</td>\n",
              "      <td>NaN</td>\n",
              "      <td>0</td>\n",
              "    </tr>\n",
              "    <tr>\n",
              "      <th>140721</th>\n",
              "      <td>1034283</td>\n",
              "      <td>NaN</td>\n",
              "      <td>0</td>\n",
              "    </tr>\n",
              "  </tbody>\n",
              "</table>\n",
              "</div>"
            ],
            "text/plain": [
              "             id document  label\n",
              "25857   2172111      NaN      1\n",
              "55737   6369843      NaN      1\n",
              "110014  1034280      NaN      0\n",
              "126782  5942978      NaN      0\n",
              "140721  1034283      NaN      0"
            ]
          },
          "metadata": {
            "tags": []
          },
          "execution_count": 91
        }
      ]
    },
    {
      "cell_type": "code",
      "metadata": {
        "id": "KN9yqpbPkZKi",
        "colab_type": "code",
        "outputId": "ab6a0698-89fb-409f-d8ac-73f426655a29",
        "colab": {
          "base_uri": "https://localhost:8080/",
          "height": 35
        }
      },
      "source": [
        "trainData=trainData.dropna(how='any') # null 값이 있는 행 제거\n",
        "trainData[trainData.document.isnull()]\n",
        "len(trainData)"
      ],
      "execution_count": 92,
      "outputs": [
        {
          "output_type": "execute_result",
          "data": {
            "text/plain": [
              "149995"
            ]
          },
          "metadata": {
            "tags": []
          },
          "execution_count": 92
        }
      ]
    },
    {
      "cell_type": "code",
      "metadata": {
        "id": "tkRuGLirqJyJ",
        "colab_type": "code",
        "outputId": "67df2fa6-8382-47d6-db7d-9113580fb416",
        "colab": {
          "base_uri": "https://localhost:8080/",
          "height": 35
        }
      },
      "source": [
        "#1. 영어 제거(정규표현식) -> [a-zA-Z], sub, replace\n",
        "import re\n",
        "text=\"do!! you expec... To~ read~, ~!! ??@\"\n",
        "# 공백, 영문자를 제외하고 모두 제거\n",
        "# re.sub(정규식,바꾸려고 하는 문자 ,text)\n",
        "re.sub('[^a-zA-Z ]',\"\",text)"
      ],
      "execution_count": 93,
      "outputs": [
        {
          "output_type": "execute_result",
          "data": {
            "text/plain": [
              "'do you expec To read  '"
            ]
          },
          "metadata": {
            "tags": []
          },
          "execution_count": 93
        }
      ]
    },
    {
      "cell_type": "code",
      "metadata": {
        "id": "UMgwC-PJuAKv",
        "colab_type": "code",
        "outputId": "9706164f-3640-442d-ea6e-50e536baab75",
        "colab": {
          "base_uri": "https://localhost:8080/",
          "height": 312
        }
      },
      "source": [
        "# ㄱ ~ ㅎ : 유니코드\n",
        "# ㅏ ~ ㅣ : 유니코드\n",
        "# 한글만 남기기 \n",
        "trainData['document']=trainData['document'].str.replace(\"[^ㄱ-ㅎㅏ-ㅣ가-힣 ]\",\"\")\n",
        "# trainData['documnet']\n",
        "trainData[:5]"
      ],
      "execution_count": 94,
      "outputs": [
        {
          "output_type": "stream",
          "text": [
            "/usr/local/lib/python3.6/dist-packages/ipykernel_launcher.py:1: SettingWithCopyWarning: \n",
            "A value is trying to be set on a copy of a slice from a DataFrame.\n",
            "Try using .loc[row_indexer,col_indexer] = value instead\n",
            "\n",
            "See the caveats in the documentation: http://pandas.pydata.org/pandas-docs/stable/indexing.html#indexing-view-versus-copy\n",
            "  \"\"\"Entry point for launching an IPython kernel.\n"
          ],
          "name": "stderr"
        },
        {
          "output_type": "execute_result",
          "data": {
            "text/html": [
              "<div>\n",
              "<style scoped>\n",
              "    .dataframe tbody tr th:only-of-type {\n",
              "        vertical-align: middle;\n",
              "    }\n",
              "\n",
              "    .dataframe tbody tr th {\n",
              "        vertical-align: top;\n",
              "    }\n",
              "\n",
              "    .dataframe thead th {\n",
              "        text-align: right;\n",
              "    }\n",
              "</style>\n",
              "<table border=\"1\" class=\"dataframe\">\n",
              "  <thead>\n",
              "    <tr style=\"text-align: right;\">\n",
              "      <th></th>\n",
              "      <th>id</th>\n",
              "      <th>document</th>\n",
              "      <th>label</th>\n",
              "    </tr>\n",
              "  </thead>\n",
              "  <tbody>\n",
              "    <tr>\n",
              "      <th>0</th>\n",
              "      <td>9976970</td>\n",
              "      <td>아 더빙 진짜 짜증나네요 목소리</td>\n",
              "      <td>0</td>\n",
              "    </tr>\n",
              "    <tr>\n",
              "      <th>1</th>\n",
              "      <td>3819312</td>\n",
              "      <td>흠포스터보고 초딩영화줄오버연기조차 가볍지 않구나</td>\n",
              "      <td>1</td>\n",
              "    </tr>\n",
              "    <tr>\n",
              "      <th>2</th>\n",
              "      <td>10265843</td>\n",
              "      <td>너무재밓었다그래서보는것을추천한다</td>\n",
              "      <td>0</td>\n",
              "    </tr>\n",
              "    <tr>\n",
              "      <th>3</th>\n",
              "      <td>9045019</td>\n",
              "      <td>교도소 이야기구먼 솔직히 재미는 없다평점 조정</td>\n",
              "      <td>0</td>\n",
              "    </tr>\n",
              "    <tr>\n",
              "      <th>4</th>\n",
              "      <td>6483659</td>\n",
              "      <td>사이몬페그의 익살스런 연기가 돋보였던 영화스파이더맨에서 늙어보이기만 했던 커스틴 던...</td>\n",
              "      <td>1</td>\n",
              "    </tr>\n",
              "  </tbody>\n",
              "</table>\n",
              "</div>"
            ],
            "text/plain": [
              "         id                                           document  label\n",
              "0   9976970                                  아 더빙 진짜 짜증나네요 목소리      0\n",
              "1   3819312                         흠포스터보고 초딩영화줄오버연기조차 가볍지 않구나      1\n",
              "2  10265843                                  너무재밓었다그래서보는것을추천한다      0\n",
              "3   9045019                          교도소 이야기구먼 솔직히 재미는 없다평점 조정      0\n",
              "4   6483659  사이몬페그의 익살스런 연기가 돋보였던 영화스파이더맨에서 늙어보이기만 했던 커스틴 던...      1"
            ]
          },
          "metadata": {
            "tags": []
          },
          "execution_count": 94
        }
      ]
    },
    {
      "cell_type": "code",
      "metadata": {
        "id": "6WVlpcqv2csB",
        "colab_type": "code",
        "colab": {}
      },
      "source": [
        "!apt-get update\n",
        "\n",
        "!apt-get install g++ openjdk-8-jdk python-dev python3-dev\n",
        "\n",
        "!pip3 install JPype1-py3\n",
        "\n",
        "!pip3 install konlpy\n",
        "\n",
        "!JAVA_HOME=\"/usr/lib/jvm/java-8-openjdk-amd64\""
      ],
      "execution_count": 0,
      "outputs": []
    },
    {
      "cell_type": "code",
      "metadata": {
        "id": "fTd1XiR8wJwN",
        "colab_type": "code",
        "outputId": "8e036f30-4c55-4347-b9fc-978e5d451aea",
        "colab": {
          "base_uri": "https://localhost:8080/",
          "height": 161
        }
      },
      "source": [
        "pip install konlpy"
      ],
      "execution_count": 53,
      "outputs": [
        {
          "output_type": "stream",
          "text": [
            "Collecting konlpy\n",
            "\u001b[?25l  Downloading https://files.pythonhosted.org/packages/e5/3d/4e983cd98d87b50b2ab0387d73fa946f745aa8164e8888a714d5129f9765/konlpy-0.5.1-py2.py3-none-any.whl (19.4MB)\n",
            "\u001b[K     |████████████████████████████████| 19.4MB 1.3MB/s \n",
            "\u001b[?25hCollecting JPype1>=0.5.7 (from konlpy)\n",
            "\u001b[?25l  Downloading https://files.pythonhosted.org/packages/07/09/e19ce27d41d4f66d73ac5b6c6a188c51b506f56c7bfbe6c1491db2d15995/JPype1-0.7.0-cp36-cp36m-manylinux2010_x86_64.whl (2.7MB)\n",
            "\u001b[K     |████████████████████████████████| 2.7MB 35.1MB/s \n",
            "\u001b[?25hInstalling collected packages: JPype1, konlpy\n",
            "Successfully installed JPype1-0.7.0 konlpy-0.5.1\n"
          ],
          "name": "stdout"
        }
      ]
    },
    {
      "cell_type": "code",
      "metadata": {
        "id": "ACzX0GlHu1QW",
        "colab_type": "code",
        "outputId": "e11e04ca-61e3-49e9-f3ef-10a52ccea38c",
        "colab": {
          "base_uri": "https://localhost:8080/",
          "height": 35
        }
      },
      "source": [
        "import konlpy\n",
        "from konlpy.tag import Okt # Twitter\n",
        "okt=Okt()\n",
        "okt.morphs(\"포스터보고 초딩영화줄오버연기조차 가볍지 않구나\")"
      ],
      "execution_count": 95,
      "outputs": [
        {
          "output_type": "execute_result",
          "data": {
            "text/plain": [
              "['포스터', '보고', '초딩', '영화', '줄', '오버', '연기', '조차', '가볍지', '않구나']"
            ]
          },
          "metadata": {
            "tags": []
          },
          "execution_count": 95
        }
      ]
    },
    {
      "cell_type": "code",
      "metadata": {
        "id": "8KdFo34IwHsr",
        "colab_type": "code",
        "outputId": "df41be50-a21f-449f-ce96-e526a92c9683",
        "colab": {
          "base_uri": "https://localhost:8080/",
          "height": 35
        }
      },
      "source": [
        "okt.morphs(\"포스터보고 초딩영화줄오버연기조차 가볍지 않구나\", stem=True)"
      ],
      "execution_count": 96,
      "outputs": [
        {
          "output_type": "execute_result",
          "data": {
            "text/plain": [
              "['포스터', '보고', '초딩', '영화', '줄', '오버', '연기', '조차', '가볍다', '않다']"
            ]
          },
          "metadata": {
            "tags": []
          },
          "execution_count": 96
        }
      ]
    },
    {
      "cell_type": "code",
      "metadata": {
        "id": "HMTkP1t-wYSO",
        "colab_type": "code",
        "colab": {}
      },
      "source": [
        "stopwords=['의','가','이','은','하다','한','와','에','으로','자','과','도','걍','잘','좀','는','들','을','를','것','나']"
      ],
      "execution_count": 0,
      "outputs": []
    },
    {
      "cell_type": "code",
      "metadata": {
        "id": "SKpXwIqZxCUK",
        "colab_type": "code",
        "outputId": "d88c91a6-bbcf-4c48-f0b7-b164c5f6ec4b",
        "colab": {
          "base_uri": "https://localhost:8080/",
          "height": 35
        }
      },
      "source": [
        "okt.morphs(\"에이 이런 것도 영화냐? 차라리 집에서 티브이나 보겠다\", stem=True)"
      ],
      "execution_count": 98,
      "outputs": [
        {
          "output_type": "execute_result",
          "data": {
            "text/plain": [
              "['에이', '이렇다', '것', '도', '영화', '냐', '?', '차라리', '집', '에서', '티브이', '나', '보다']"
            ]
          },
          "metadata": {
            "tags": []
          },
          "execution_count": 98
        }
      ]
    },
    {
      "cell_type": "code",
      "metadata": {
        "id": "BdYW9-AIuQVn",
        "colab_type": "code",
        "outputId": "8a8a2cbd-d2d7-43f2-ff52-7c06bfd25361",
        "colab": {
          "base_uri": "https://localhost:8080/",
          "height": 35
        }
      },
      "source": [
        "len(trainData)"
      ],
      "execution_count": 58,
      "outputs": [
        {
          "output_type": "execute_result",
          "data": {
            "text/plain": [
              "149995"
            ]
          },
          "metadata": {
            "tags": []
          },
          "execution_count": 58
        }
      ]
    },
    {
      "cell_type": "code",
      "metadata": {
        "id": "9v97UklWx9AP",
        "colab_type": "code",
        "colab": {}
      },
      "source": [
        "xtrain = []\n",
        "\n",
        "for sentence in trainData['document']:\n",
        "    tempx = []\n",
        "    tempx = okt.morphs(sentence, stem=True)\n",
        "    tempx = [word for word in tempx if not word in stopwords]\n",
        "    xtrain.append(tempx)"
      ],
      "execution_count": 0,
      "outputs": []
    },
    {
      "cell_type": "code",
      "metadata": {
        "id": "gY8NbThCzC9Z",
        "colab_type": "code",
        "colab": {}
      },
      "source": [
        "# test 데이터에 대해서도 동일한 전처리 과정 수행\n",
        "testData=trainData.dropna(how='any') # null 값이 있는 행 제거\n",
        "testData[trainData.document.isnull()]\n",
        "testData['document']=testData['document'].str.replace(\"[^ㄱ-ㅎㅏ-ㅣ가-힣 ]\",\"\")\n",
        "\n",
        "xtest=[]\n",
        "for sentence in testData['document']:\n",
        "  tempx=[]\n",
        "  tempx=okt.morphs(sentence, stem=True)\n",
        "  tempx=[word for word in tempx if not word in stopwords]\n",
        "  xtest.append(tempx)"
      ],
      "execution_count": 0,
      "outputs": []
    },
    {
      "cell_type": "code",
      "metadata": {
        "id": "6mikc1_yz4CK",
        "colab_type": "code",
        "colab": {}
      },
      "source": [
        "from keras.preprocessing.text import Tokenizer\n",
        "tokenizer=Tokenizer(num_words=30000)\n",
        "tokenizer.fit_on_texts(xtrain)\n",
        "xtrain=tokenizer.texts_to_sequences(xtrain)\n",
        "xtest=tokenizer.texts_to_sequences(xtest)"
      ],
      "execution_count": 0,
      "outputs": []
    },
    {
      "cell_type": "code",
      "metadata": {
        "id": "RpX8BDQ31gcB",
        "colab_type": "code",
        "outputId": "7b2bff88-33e9-4db0-a225-eb414daefc17",
        "colab": {
          "base_uri": "https://localhost:8080/",
          "height": 269
        }
      },
      "source": [
        "# 리뷰 단어 최대 길이\n",
        "# 리뷰 평균 길이\n",
        "\n",
        "max(len(line) for line in xtrain) # 리뷰 최대 길이\n",
        "sum(map(len, xtrain)) / len(xtrain) # 평균 길이\n",
        "# 시각화 확인\n",
        "plt.hist([len(s) for s in xtrain], bins=50)\n",
        "plt.show()\n",
        "\n",
        "# LSTM 영화 리뷰 감성 분석기 제작 "
      ],
      "execution_count": 102,
      "outputs": [
        {
          "output_type": "display_data",
          "data": {
            "image/png": "[encoded data removed]",
            "text/plain": [
              "<Figure size 432x288 with 1 Axes>"
            ]
          },
          "metadata": {
            "tags": []
          }
        }
      ]
    },
    {
      "cell_type": "code",
      "metadata": {
        "id": "7q_gYhHcBYK-",
        "colab_type": "code",
        "colab": {}
      },
      "source": [
        "ytrain=trainData[\"label\"]\n",
        "ytest=testData[\"label\"]"
      ],
      "execution_count": 0,
      "outputs": []
    },
    {
      "cell_type": "code",
      "metadata": {
        "id": "cRa1dH6qIc9b",
        "colab_type": "code",
        "colab": {}
      },
      "source": [
        "from keras.layers import *\n",
        "from keras.models import Sequential\n",
        "from keras.preprocessing.sequence import pad_sequences"
      ],
      "execution_count": 0,
      "outputs": []
    },
    {
      "cell_type": "code",
      "metadata": {
        "id": "EHfsDv4BIjqG",
        "colab_type": "code",
        "colab": {}
      },
      "source": [
        "maxLen=30 # 데이터 최대 길이를 30으로 설정\n",
        "xtrain=pad_sequences(xtrain, maxlen=maxLen)\n",
        "xtest=pad_sequences(xtest, maxlen=maxLen)"
      ],
      "execution_count": 0,
      "outputs": []
    },
    {
      "cell_type": "code",
      "metadata": {
        "id": "xrPR59H6IdHr",
        "colab_type": "code",
        "colab": {}
      },
      "source": [
        "model=Sequential()\n",
        "model.add(Embedding(30000,100))\n",
        "model.add(LSTM(128))\n",
        "model.add(Dense(1,activation='sigmoid'))\n",
        "model.compile(optimizer='rmsprop', loss='binary_crossentropy', metrics=[\"accuracy\"])"
      ],
      "execution_count": 0,
      "outputs": []
    },
    {
      "cell_type": "code",
      "metadata": {
        "id": "uf5arSPhIrhl",
        "colab_type": "code",
        "outputId": "7d1da198-e299-4ae3-843e-ac8f11ed835c",
        "colab": {
          "base_uri": "https://localhost:8080/",
          "height": 179
        }
      },
      "source": [
        "history = model.fit(xtrain, ytrain, epochs=4, batch_size=60, validation_split=0.2)"
      ],
      "execution_count": 107,
      "outputs": [
        {
          "output_type": "stream",
          "text": [
            "Train on 119996 samples, validate on 29999 samples\n",
            "Epoch 1/4\n",
            "119996/119996 [==============================] - 86s 718us/step - loss: 0.3888 - acc: 0.8234 - val_loss: 0.3509 - val_acc: 0.8424\n",
            "Epoch 2/4\n",
            "119996/119996 [==============================] - 84s 704us/step - loss: 0.3291 - acc: 0.8551 - val_loss: 0.3380 - val_acc: 0.8502\n",
            "Epoch 3/4\n",
            "119996/119996 [==============================] - 84s 701us/step - loss: 0.3030 - acc: 0.8699 - val_loss: 0.3318 - val_acc: 0.8560\n",
            "Epoch 4/4\n",
            "119996/119996 [==============================] - 84s 696us/step - loss: 0.2812 - acc: 0.8823 - val_loss: 0.3294 - val_acc: 0.8582\n"
          ],
          "name": "stdout"
        }
      ]
    },
    {
      "cell_type": "code",
      "metadata": {
        "id": "1iXs5aTRIucs",
        "colab_type": "code",
        "colab": {
          "base_uri": "https://localhost:8080/",
          "height": 53
        },
        "outputId": "bc1636fb-8dd0-4b86-b787-c8af87069655"
      },
      "source": [
        "model.evaluate(xtest, ytest)[1]"
      ],
      "execution_count": 108,
      "outputs": [
        {
          "output_type": "stream",
          "text": [
            "149995/149995 [==============================] - 45s 298us/step\n"
          ],
          "name": "stdout"
        },
        {
          "output_type": "execute_result",
          "data": {
            "text/plain": [
              "0.8857495249857557"
            ]
          },
          "metadata": {
            "tags": []
          },
          "execution_count": 108
        }
      ]
    },
    {
      "cell_type": "code",
      "metadata": {
        "id": "-ny4_BlAHax0",
        "colab_type": "code",
        "colab": {
          "base_uri": "https://localhost:8080/",
          "height": 305
        },
        "outputId": "b7667a74-d56c-4b7f-984f-99445646685b"
      },
      "source": [
        "history.history"
      ],
      "execution_count": 109,
      "outputs": [
        {
          "output_type": "execute_result",
          "data": {
            "text/plain": [
              "{'acc': [0.8234274491055289,\n",
              "  0.8551201719161474,\n",
              "  0.8699289979312876,\n",
              "  0.8823210766837694],\n",
              " 'loss': [0.38884845275676877,\n",
              "  0.329053972650468,\n",
              "  0.302970749165516,\n",
              "  0.2811581276511406],\n",
              " 'val_acc': [0.84236141320145,\n",
              "  0.8502283424646673,\n",
              "  0.8559952010241797,\n",
              "  0.858161940078401],\n",
              " 'val_loss': [0.35092998058614167,\n",
              "  0.3379544793363372,\n",
              "  0.3318421336097588,\n",
              "  0.3294086625233957]}"
            ]
          },
          "metadata": {
            "tags": []
          },
          "execution_count": 109
        }
      ]
    },
    {
      "cell_type": "code",
      "metadata": {
        "id": "mEOXYLcTd1kT",
        "colab_type": "code",
        "colab": {
          "base_uri": "https://localhost:8080/",
          "height": 269
        },
        "outputId": "5e43dab5-fcb9-4348-d67e-392721c3a52d"
      },
      "source": [
        "epochs = range(1, len(history.history[\"acc\"])+1)\n",
        "plt.plot(epochs, history.history[\"loss\"], label=\"train\")\n",
        "plt.plot(epochs, history.history[\"val_loss\"], label=\"test\")\n",
        "plt.legend(loc=\"upper right\")\n",
        "plt.show()"
      ],
      "execution_count": 110,
      "outputs": [
        {
          "output_type": "display_data",
          "data": {
            "image/png": "[encoded data removed]",
            "text/plain": [
              "<Figure size 432x288 with 1 Axes>"
            ]
          },
          "metadata": {
            "tags": []
          }
        }
      ]
    },
    {
      "cell_type": "markdown",
      "metadata": {
        "id": "f5PVCTacIw1x",
        "colab_type": "text"
      },
      "source": [
        "### IMDB 캐글 영화 리뷰 데이터 -> LSTM으로 구현"
      ]
    },
    {
      "cell_type": "code",
      "metadata": {
        "id": "n_Bprj8GIuPn",
        "colab_type": "code",
        "colab": {}
      },
      "source": [
        "from keras.datasets import imdb\n",
        "(xtrain, ytrain),(xtest, ytest)=imdb.load_data(num_words=10000)\n",
        "# 데이터 확인\n",
        "\n",
        "# 훈련시 빈도 순위가 5000 이상인 단어들만 사용\n",
        "(xtrain, ytrain),(xtest, ytest)=imdb.load_data(num_words=5000)\n",
        "# maxLen=500 지정"
      ],
      "execution_count": 0,
      "outputs": []
    }
  ]
}