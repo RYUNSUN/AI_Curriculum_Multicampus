{
 "cells": [
  {
   "cell_type": "code",
   "execution_count": 28,
   "metadata": {},
   "outputs": [],
   "source": [
    "import numpy as np\n",
    "import pandas as pd\n",
    "import seaborn as sns\n",
    "import matplotlib.pyplot as plt\n",
    "sns.set(rc={\"axes.facecolor\":\"white\", \"axes.edgecolor\":\"black\"})\n",
    "import re"
   ]
  },
  {
   "cell_type": "code",
   "execution_count": 242,
   "metadata": {},
   "outputs": [],
   "source": [
    "train=pd.read_csv(\"train.csv\")\n",
    "test=pd.read_csv(\"test.csv\")"
   ]
  },
  {
   "cell_type": "code",
   "execution_count": 243,
   "metadata": {},
   "outputs": [
    {
     "name": "stdout",
     "output_type": "stream",
     "text": [
      "0                                Braund, Mr. Owen Harris\n",
      "1      Cumings, Mrs. John Bradley (Florence Briggs Th...\n",
      "2                                 Heikkinen, Miss. Laina\n",
      "3           Futrelle, Mrs. Jacques Heath (Lily May Peel)\n",
      "4                               Allen, Mr. William Henry\n",
      "5                                       Moran, Mr. James\n",
      "6                                McCarthy, Mr. Timothy J\n",
      "7                         Palsson, Master. Gosta Leonard\n",
      "8      Johnson, Mrs. Oscar W (Elisabeth Vilhelmina Berg)\n",
      "9                    Nasser, Mrs. Nicholas (Adele Achem)\n",
      "10                       Sandstrom, Miss. Marguerite Rut\n",
      "11                              Bonnell, Miss. Elizabeth\n",
      "12                        Saundercock, Mr. William Henry\n",
      "13                           Andersson, Mr. Anders Johan\n",
      "14                  Vestrom, Miss. Hulda Amanda Adolfina\n",
      "15                      Hewlett, Mrs. (Mary D Kingcome) \n",
      "16                                  Rice, Master. Eugene\n",
      "17                          Williams, Mr. Charles Eugene\n",
      "18     Vander Planke, Mrs. Julius (Emelia Maria Vande...\n",
      "19                               Masselmani, Mrs. Fatima\n",
      "20                                  Fynney, Mr. Joseph J\n",
      "21                                 Beesley, Mr. Lawrence\n",
      "22                           McGowan, Miss. Anna \"Annie\"\n",
      "23                          Sloper, Mr. William Thompson\n",
      "24                         Palsson, Miss. Torborg Danira\n",
      "25     Asplund, Mrs. Carl Oscar (Selma Augusta Emilia...\n",
      "26                               Emir, Mr. Farred Chehab\n",
      "27                        Fortune, Mr. Charles Alexander\n",
      "28                         O'Dwyer, Miss. Ellen \"Nellie\"\n",
      "29                                   Todoroff, Mr. Lalio\n",
      "                             ...                        \n",
      "861                          Giles, Mr. Frederick Edward\n",
      "862    Swift, Mrs. Frederick Joel (Margaret Welles Ba...\n",
      "863                    Sage, Miss. Dorothy Edith \"Dolly\"\n",
      "864                               Gill, Mr. John William\n",
      "865                             Bystrom, Mrs. (Karolina)\n",
      "866                         Duran y More, Miss. Asuncion\n",
      "867                 Roebling, Mr. Washington Augustus II\n",
      "868                          van Melkebeke, Mr. Philemon\n",
      "869                      Johnson, Master. Harold Theodor\n",
      "870                                    Balkic, Mr. Cerin\n",
      "871     Beckwith, Mrs. Richard Leonard (Sallie Monypeny)\n",
      "872                             Carlsson, Mr. Frans Olof\n",
      "873                          Vander Cruyssen, Mr. Victor\n",
      "874                Abelson, Mrs. Samuel (Hannah Wizosky)\n",
      "875                     Najib, Miss. Adele Kiamie \"Jane\"\n",
      "876                        Gustafsson, Mr. Alfred Ossian\n",
      "877                                 Petroff, Mr. Nedelio\n",
      "878                                   Laleff, Mr. Kristo\n",
      "879        Potter, Mrs. Thomas Jr (Lily Alexenia Wilson)\n",
      "880         Shelley, Mrs. William (Imanita Parrish Hall)\n",
      "881                                   Markun, Mr. Johann\n",
      "882                         Dahlberg, Miss. Gerda Ulrika\n",
      "883                        Banfield, Mr. Frederick James\n",
      "884                               Sutehall, Mr. Henry Jr\n",
      "885                 Rice, Mrs. William (Margaret Norton)\n",
      "886                                Montvila, Rev. Juozas\n",
      "887                         Graham, Miss. Margaret Edith\n",
      "888             Johnston, Miss. Catherine Helen \"Carrie\"\n",
      "889                                Behr, Mr. Karl Howell\n",
      "890                                  Dooley, Mr. Patrick\n",
      "Name: Name, Length: 891, dtype: object\n",
      "0                                       Kelly, Mr. James\n",
      "1                       Wilkes, Mrs. James (Ellen Needs)\n",
      "2                              Myles, Mr. Thomas Francis\n",
      "3                                       Wirz, Mr. Albert\n",
      "4           Hirvonen, Mrs. Alexander (Helga E Lindqvist)\n",
      "5                             Svensson, Mr. Johan Cervin\n",
      "6                                   Connolly, Miss. Kate\n",
      "7                           Caldwell, Mr. Albert Francis\n",
      "8              Abrahim, Mrs. Joseph (Sophie Halaut Easu)\n",
      "9                                Davies, Mr. John Samuel\n",
      "10                                      Ilieff, Mr. Ylio\n",
      "11                            Jones, Mr. Charles Cresson\n",
      "12         Snyder, Mrs. John Pillsbury (Nelle Stevenson)\n",
      "13                                  Howard, Mr. Benjamin\n",
      "14     Chaffee, Mrs. Herbert Fuller (Carrie Constance...\n",
      "15         del Carlo, Mrs. Sebastiano (Argenia Genovesi)\n",
      "16                                     Keane, Mr. Daniel\n",
      "17                                     Assaf, Mr. Gerios\n",
      "18                          Ilmakangas, Miss. Ida Livija\n",
      "19                 Assaf Khalil, Mrs. Mariana (Miriam\")\"\n",
      "20                                Rothschild, Mr. Martin\n",
      "21                             Olsen, Master. Artur Karl\n",
      "22                  Flegenheim, Mrs. Alfred (Antoinette)\n",
      "23                       Williams, Mr. Richard Norris II\n",
      "24       Ryerson, Mrs. Arthur Larned (Emily Maria Borie)\n",
      "25                               Robins, Mr. Alexander A\n",
      "26                          Ostby, Miss. Helene Ragnhild\n",
      "27                                     Daher, Mr. Shedid\n",
      "28                               Brady, Mr. John Bertram\n",
      "29                                     Samaan, Mr. Elias\n",
      "                             ...                        \n",
      "388                                 Canavan, Mr. Patrick\n",
      "389                          Palsson, Master. Paul Folke\n",
      "390                           Payne, Mr. Vivian Ponsonby\n",
      "391       Lines, Mrs. Ernest H (Elizabeth Lindsey James)\n",
      "392                        Abbott, Master. Eugene Joseph\n",
      "393                                 Gilbert, Mr. William\n",
      "394                             Kink-Heilmann, Mr. Anton\n",
      "395       Smith, Mrs. Lucien Philip (Mary Eloise Hughes)\n",
      "396                                 Colbert, Mr. Patrick\n",
      "397    Frolicher-Stehli, Mrs. Maxmillian (Margaretha ...\n",
      "398                       Larsson-Rondberg, Mr. Edvard A\n",
      "399                             Conlon, Mr. Thomas Henry\n",
      "400                              Bonnell, Miss. Caroline\n",
      "401                                      Gale, Mr. Harry\n",
      "402                       Gibson, Miss. Dorothy Winifred\n",
      "403                               Carrau, Mr. Jose Pedro\n",
      "404                         Frauenthal, Mr. Isaac Gerald\n",
      "405         Nourney, Mr. Alfred (Baron von Drachstedt\")\"\n",
      "406                            Ware, Mr. William Jeffery\n",
      "407                           Widener, Mr. George Dunton\n",
      "408                      Riordan, Miss. Johanna Hannah\"\"\n",
      "409                            Peacock, Miss. Treasteall\n",
      "410                               Naughton, Miss. Hannah\n",
      "411      Minahan, Mrs. William Edward (Lillian E Thorpe)\n",
      "412                       Henriksson, Miss. Jenny Lovisa\n",
      "413                                   Spector, Mr. Woolf\n",
      "414                         Oliva y Ocana, Dona. Fermina\n",
      "415                         Saether, Mr. Simon Sivertsen\n",
      "416                                  Ware, Mr. Frederick\n",
      "417                             Peter, Master. Michael J\n",
      "Name: Name, Length: 418, dtype: object\n"
     ]
    }
   ],
   "source": [
    "train_test_data=[train,test] # train, test를 합친 리스트 출력\n",
    "train_test_data\n",
    "for data in train_test_data:\n",
    "    print(data['Name'])"
   ]
  },
  {
   "cell_type": "markdown",
   "metadata": {},
   "source": [
    "#### 정규표현식 사용 -> 호칭 추출 -> 호칭별 건수 출력\n",
    "#### 1번 문제\n",
    "#### 출력 예시(train, test)\n",
    "#### Mr   500\n",
    "#### Miss 200\n",
    "#### ...\n",
    "#### Sir  1 "
   ]
  },
  {
   "cell_type": "code",
   "execution_count": 194,
   "metadata": {
    "scrolled": true
   },
   "outputs": [
    {
     "data": {
      "text/plain": [
       "Mr                          517\n",
       "Miss                        182\n",
       "Mrs                         124\n",
       "Master                       40\n",
       "Dr                            7\n",
       "Rev                           6\n",
       "Col                           2\n",
       "Mlle                          2\n",
       "Major                         2\n",
       "Sir                           1\n",
       "Capt                          1\n",
       "Jonkheer                      1\n",
       "Lady                          1\n",
       "the Countess                  1\n",
       "Ms                            1\n",
       "Don                           1\n",
       "Mrs. Martin (Elizabeth L      1\n",
       "Mme                           1\n",
       "Name: Title, dtype: int64"
      ]
     },
     "execution_count": 194,
     "metadata": {},
     "output_type": "execute_result"
    }
   ],
   "source": [
    "title=[]\n",
    "for data in train_test_data:\n",
    "    title.append(data['Name'].str.extract('[,] (.+)[.]'))\n",
    "train['Title']=title[0]\n",
    "test['Title']=title[1]\n",
    "train['Title'].value_counts()\n",
    "test['Title'].value_counts()"
   ]
  },
  {
   "cell_type": "code",
   "execution_count": 257,
   "metadata": {},
   "outputs": [
    {
     "name": "stdout",
     "output_type": "stream",
     "text": [
      "Mr                          517\n",
      "Miss                        182\n",
      "Mrs                         124\n",
      "Master                       40\n",
      "Dr                            7\n",
      "Rev                           6\n",
      "Col                           2\n",
      "Mlle                          2\n",
      "Major                         2\n",
      "Sir                           1\n",
      "Capt                          1\n",
      "Jonkheer                      1\n",
      "Lady                          1\n",
      "the Countess                  1\n",
      "Ms                            1\n",
      "Don                           1\n",
      "Mrs. Martin (Elizabeth L      1\n",
      "Mme                           1\n",
      "Name: Title, dtype: int64\n",
      "Mr        240\n",
      "Miss       78\n",
      "Mrs        72\n",
      "Master     21\n",
      "Rev         2\n",
      "Col         2\n",
      "Ms          1\n",
      "Dona        1\n",
      "Dr          1\n",
      "Name: Title, dtype: int64\n"
     ]
    }
   ],
   "source": [
    "for data in train_test_data:\n",
    "    data['Title']=data['Name'].str.extract('[,] (.+)[.]')\n",
    "    print(data['Title'].value_counts())"
   ]
  },
  {
   "cell_type": "markdown",
   "metadata": {},
   "source": [
    "#### 2번 문제\n",
    "#### 원핫인코딩을 위해 수치로 변환\n",
    "#### Mr:0, Miss:1, Mrs:2. 나머지는 모두 3으로 처리\n",
    "#### 별도의 컬럼을 추가해서 저장\n",
    "#### 카페에 제출..(오늘)"
   ]
  },
  {
   "cell_type": "code",
   "execution_count": 205,
   "metadata": {},
   "outputs": [],
   "source": [
    "train['Title_Code']=np.where(train['Title']=='Mr',0,\n",
    "                             np.where(train['Title']=='Miss',1,\n",
    "                                         np.where(train['Title']=='Mrs',2,3)))"
   ]
  },
  {
   "cell_type": "code",
   "execution_count": 206,
   "metadata": {},
   "outputs": [],
   "source": [
    "test['Title_Code']=np.where(test['Title']=='Mr',0,\n",
    "                            np.where(test['Title']=='Miss',1,\n",
    "                                         np.where(test['Title']=='Mrs',2,3)))"
   ]
  }
 ],
 "metadata": {
  "kernelspec": {
   "display_name": "Python 3",
   "language": "python",
   "name": "python3"
  },
  "language_info": {
   "codemirror_mode": {
    "name": "ipython",
    "version": 3
   },
   "file_extension": ".py",
   "mimetype": "text/x-python",
   "name": "python",
   "nbconvert_exporter": "python",
   "pygments_lexer": "ipython3",
   "version": "3.7.3"
  }
 },
 "nbformat": 4,
 "nbformat_minor": 2
}
