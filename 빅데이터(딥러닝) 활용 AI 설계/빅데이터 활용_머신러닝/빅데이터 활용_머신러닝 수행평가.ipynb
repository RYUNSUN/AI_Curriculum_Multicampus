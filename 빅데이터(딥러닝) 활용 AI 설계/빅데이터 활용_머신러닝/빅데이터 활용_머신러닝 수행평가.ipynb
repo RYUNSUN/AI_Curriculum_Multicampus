{
 "cells": [
  {
   "cell_type": "markdown",
   "metadata": {},
   "source": [
    "### [Scikitlearn을 활용한 머신러닝]\n",
    "#### 1.위 문장을 모두 수행한 후, 아래와 같은 요구사항을 구현하시오."
   ]
  },
  {
   "cell_type": "code",
   "execution_count": null,
   "metadata": {},
   "outputs": [],
   "source": [
    "import pandas as pd\n",
    "import seaborn as sns\n",
    "tips = sns.load_dataset(\"tips\") "
   ]
  },
  {
   "cell_type": "markdown",
   "metadata": {},
   "source": [
    "1) tips의 'sex‘ 컬럼의 타입을 문자열로 변환한 다음, info함수를 호출하여 결과를 확인하시오."
   ]
  },
  {
   "cell_type": "code",
   "execution_count": 23,
   "metadata": {},
   "outputs": [
    {
     "name": "stdout",
     "output_type": "stream",
     "text": [
      "<class 'pandas.core.frame.DataFrame'>\n",
      "RangeIndex: 244 entries, 0 to 243\n",
      "Data columns (total 7 columns):\n",
      "total_bill    244 non-null float64\n",
      "tip           244 non-null object\n",
      "sex           244 non-null object\n",
      "smoker        244 non-null category\n",
      "day           244 non-null category\n",
      "time          244 non-null category\n",
      "size          244 non-null int64\n",
      "dtypes: category(3), float64(1), int64(1), object(2)\n",
      "memory usage: 8.8+ KB\n"
     ]
    }
   ],
   "source": [
    "tips.info()"
   ]
  },
  {
   "cell_type": "code",
   "execution_count": 15,
   "metadata": {
    "scrolled": true
   },
   "outputs": [
    {
     "name": "stdout",
     "output_type": "stream",
     "text": [
      "<class 'pandas.core.frame.DataFrame'>\n",
      "RangeIndex: 244 entries, 0 to 243\n",
      "Data columns (total 7 columns):\n",
      "total_bill    244 non-null float64\n",
      "tip           244 non-null float64\n",
      "sex           244 non-null object\n",
      "smoker        244 non-null category\n",
      "day           244 non-null category\n",
      "time          244 non-null category\n",
      "size          244 non-null int64\n",
      "dtypes: category(3), float64(2), int64(1), object(1)\n",
      "memory usage: 8.8+ KB\n"
     ]
    }
   ],
   "source": [
    "tips['sex']=tips['sex'].astype(str)\n",
    "tips.info()"
   ]
  },
  {
   "cell_type": "markdown",
   "metadata": {},
   "source": [
    "2) tips의 1,3,5,7번 index행에 저장된 tip 컬럼의 값을 모두 ‘missing'으로 변경하시오"
   ]
  },
  {
   "cell_type": "code",
   "execution_count": 22,
   "metadata": {},
   "outputs": [
    {
     "data": {
      "text/html": [
       "<div>\n",
       "<style scoped>\n",
       "    .dataframe tbody tr th:only-of-type {\n",
       "        vertical-align: middle;\n",
       "    }\n",
       "\n",
       "    .dataframe tbody tr th {\n",
       "        vertical-align: top;\n",
       "    }\n",
       "\n",
       "    .dataframe thead th {\n",
       "        text-align: right;\n",
       "    }\n",
       "</style>\n",
       "<table border=\"1\" class=\"dataframe\">\n",
       "  <thead>\n",
       "    <tr style=\"text-align: right;\">\n",
       "      <th></th>\n",
       "      <th>total_bill</th>\n",
       "      <th>tip</th>\n",
       "      <th>sex</th>\n",
       "      <th>smoker</th>\n",
       "      <th>day</th>\n",
       "      <th>time</th>\n",
       "      <th>size</th>\n",
       "    </tr>\n",
       "  </thead>\n",
       "  <tbody>\n",
       "    <tr>\n",
       "      <th>1</th>\n",
       "      <td>10.34</td>\n",
       "      <td>missing</td>\n",
       "      <td>Male</td>\n",
       "      <td>No</td>\n",
       "      <td>Sun</td>\n",
       "      <td>Dinner</td>\n",
       "      <td>3</td>\n",
       "    </tr>\n",
       "    <tr>\n",
       "      <th>3</th>\n",
       "      <td>23.68</td>\n",
       "      <td>missing</td>\n",
       "      <td>Male</td>\n",
       "      <td>No</td>\n",
       "      <td>Sun</td>\n",
       "      <td>Dinner</td>\n",
       "      <td>2</td>\n",
       "    </tr>\n",
       "    <tr>\n",
       "      <th>5</th>\n",
       "      <td>25.29</td>\n",
       "      <td>missing</td>\n",
       "      <td>Male</td>\n",
       "      <td>No</td>\n",
       "      <td>Sun</td>\n",
       "      <td>Dinner</td>\n",
       "      <td>4</td>\n",
       "    </tr>\n",
       "    <tr>\n",
       "      <th>7</th>\n",
       "      <td>26.88</td>\n",
       "      <td>missing</td>\n",
       "      <td>Male</td>\n",
       "      <td>No</td>\n",
       "      <td>Sun</td>\n",
       "      <td>Dinner</td>\n",
       "      <td>4</td>\n",
       "    </tr>\n",
       "  </tbody>\n",
       "</table>\n",
       "</div>"
      ],
      "text/plain": [
       "   total_bill      tip   sex smoker  day    time  size\n",
       "1       10.34  missing  Male     No  Sun  Dinner     3\n",
       "3       23.68  missing  Male     No  Sun  Dinner     2\n",
       "5       25.29  missing  Male     No  Sun  Dinner     4\n",
       "7       26.88  missing  Male     No  Sun  Dinner     4"
      ]
     },
     "execution_count": 22,
     "metadata": {},
     "output_type": "execute_result"
    }
   ],
   "source": [
    "tips.loc[[1,3,5,7],'tip']='missing'\n",
    "tips.loc[[1,3,5,7],]"
   ]
  },
  {
   "cell_type": "markdown",
   "metadata": {},
   "source": [
    "3) scikitlearn에 있는 preprocessing 모듈중 표준화 및 정규화와 관련된 함수를 모두 기술하시오     \n",
    "1) 정규화\n",
    "   - MinMaxScaler(X) : 최대값이 각각 1, 최소값이 0이 되도록 변환\n",
    "   - minmax_scale(X) : 최대값이 각각 1, 최소값이 0이 되도록 변환\n",
    "   \n",
    "2) 표준화 \n",
    "   - StandardScaler(X): 평균이 0과 표준편차가 1이 되도록 변환.\n",
    "   - RobustScaler(X): 중앙값(median)이 0, IQR(interquartile range)이 1이 되도록 변환."
   ]
  },
  {
   "cell_type": "markdown",
   "metadata": {},
   "source": [
    "#### 2. 표준화와 정규화의 차이점을 설명하시오.  \n",
    "- 표준화 :각 데이터가 평균으로부터 얼마나 떨어져있는지 나타내는 값  \n",
    "값의 스케일이 다른 두개의 변수가 있을 때, 이 변수들의 스케일 차이를 제거해주는 효과가 있음  \n",
    "각 요소의 값에서 평균을 뺀 다음 표준편차로 나누어줌\n",
    "          \n",
    "- 정규화 : 데이터의 상대적 크기에 대한 영향을 줄이기 위해 데이터 범위를 0~1로 변환하여 데이터 분포를 조정  \n",
    "(해당 값-최소값) / (최대값-최소값)을 해주면 됨"
   ]
  },
  {
   "cell_type": "markdown",
   "metadata": {},
   "source": [
    "#### 3. 데이터 분석을 위해 필요로 하는 라이브러리 및 용도를 기술하시오  \n",
    "1) Numpy\n",
    "   - 빠르고 효율적인 다차원 배열 객체 ndarray\n",
    "   - 배열 원소를 다루거나 배열 간의 수학 계산을 수행하는 함수\n",
    "   - 디스크로부터 배열 기반의 데이터를 읽거나 쓸 수 있는 도구\n",
    "   - 선형대수 계산, 푸리에 변환, 난수 발생기\n",
    "   - 파이썬과 C,C++ 그리고 포트란 코드를 통합하는 도구  \n",
    " \n",
    "2) Pandas  \n",
    "   - 구조화된 데이터를 빠르고 쉬우면서도 다양한 형식으로 가공할 수 있는 풍부한 자료 구조와 함수를 제공\n",
    "    \n",
    "3) matplotlib\n",
    "   - 그래프나 2차원 데이터 시각화를 생성하는 라이브러리\n",
    "   - IPython에서 matplotlib으로 생성한 그래프는 그래프 윈도우에 있는 툴바로 특정부분을 확대하거나 그래프의 여기저기를 인터랙티브하게 살펴볼 수 있음\n",
    "     \n",
    "4) IPython\n",
    "   - 표준 과학계산용 파이썬 도구 모음에 포함된 컴포넌트이며, 인터랙티브하고 강력한 생산적인 환경 제공\n",
    "   - 파이썬 코드를 작성하고 테스트하고 디버깅을 할 수 있는 향상된 파이썬 셸 제공\n",
    "   - 실행, 디버깅, 테스트 같은 파이썬을 필요로 하는 작업 대부분 수행\n",
    " \n",
    "5) SciPy\n",
    "   - 과학계산 컴퓨팅 영역의 여러 기본 문제를 다루는 패키지 모음\n",
    "    "
   ]
  },
  {
   "cell_type": "markdown",
   "metadata": {},
   "source": [
    "### [Azure 머신러닝을 활용한 기계학습]\n",
    "#### 1. 분산과 공분산의 차이점을 설명하시오  \n",
    "   - 분산 :  변수의 흩어진 정도를 나타내는 값  \n",
    "  편차(개별값-평균값)의 제곱의 산술적인 평균   \n",
    "   - 공분산 : 2개의 확률변수의 상관정도를 나타내는 값   \n",
    "  두 변수간 평균적인 편차의 곱  "
   ]
  },
  {
   "cell_type": "markdown",
   "metadata": {},
   "source": [
    "#### 2. gapminder = pd.read_csv('../data/gapminder.tsv', sep='\\t')  \n",
    "위 코드를 수행한 후, gapmider 변수에 저장된 컬럼 중 'year' 컬럼을 기준으로 'lifeExp' 컬럼값에 대한 평균을 구하고자 한다."
   ]
  },
  {
   "cell_type": "code",
   "execution_count": 31,
   "metadata": {},
   "outputs": [
    {
     "data": {
      "text/plain": [
       "year\n",
       "1952    49.057620\n",
       "1957    51.507401\n",
       "1962    53.609249\n",
       "1967    55.678290\n",
       "1972    57.647386\n",
       "1977    59.570157\n",
       "1982    61.533197\n",
       "1987    63.212613\n",
       "1992    64.160338\n",
       "1997    65.014676\n",
       "2002    65.694923\n",
       "2007    67.007423\n",
       "Name: lifeExp, dtype: float64"
      ]
     },
     "execution_count": 31,
     "metadata": {},
     "output_type": "execute_result"
    }
   ],
   "source": [
    "gapminder = pd.read_csv('data/gapminder.tsv', sep='\\t')  \n",
    "lifeExp_mean=gapminder.groupby('year').lifeExp.mean()\n",
    "lifeExp_mean"
   ]
  },
  {
   "cell_type": "markdown",
   "metadata": {},
   "source": [
    "#### 3. 머신러닝 학습 방법의 종류에 대해 나열하고, 설명하시오  \n",
    "머신러닝 : 어떤 데이터를 분류하거나 값을 예측하는 것  \n",
    "1) 지도학습 : 정답(label)이 주어진 상태에서 컴퓨터를 학습시키는 것  \n",
    "지도학습은 크게 분류와 회귀로 나누어짐  \n",
    "1-1) 분류(classification)  \n",
    "- 이진 분류 : 어떤 데이터에 대해 두 가지 중 하나로 분류할 수 있는 것\n",
    "- 다중 분류 : 어떤 데이터에 대해 여러 값 중 하나로 분류할 수 있는 것  \n",
    "\n",
    "1-2) 회귀(regression)\n",
    "- 어떤 데이터들의 특징(feature)을 토대로 값을 예측하는 것  \n",
    "- 주로 어떤 패턴이나 트렌드, 경향을 예측할 때 사용  \n",
    "\n",
    "2) 비지도학습 : 정답(label)을 따로 알려주지 않은 상태에서 컴퓨터를 학습시키는 것  \n",
    "평가되어 있지 않은 데이터로부터 숨어있는 패턴이나 형태를 찾아야함  \n",
    "비지도 학습은 대표적으로 군집화(Clustering)이 있으며, 이외에도 차원축소(Dimentionality Reduction), Hidden Markov Model 등이 있음  \n",
    "\n",
    "3) 강화학습 : 에이전트(agent)가 주어진 환경(state)에 대해 어떤 행동(action)을 취하는 것이 최적인지를 학습시키는 방식. 행동을 취할 때마다 외부 환경에서 보상(reward)이 주어지는데, 이러한 보상을 최대화하는 방향으로 학습이 진행  \n",
    "강화학습의 대표적인 알고리즘으로는 Q-Learning이 있고, 딥러닝과 결합하여 DQN 방법으로도 사용됨"
   ]
  },
  {
   "cell_type": "markdown",
   "metadata": {},
   "source": [
    "#### 4. 그룹화와 관련된 함수 및 형식을 기술하시오\n",
    "1) 피봇테이블 : 데이터 열 중에서 두 개의 열을 각각 행 인덱스, 열 인덱스로 사용하며 데이터를 조회하여 펼쳐놓은 것\n",
    "   - DataFrame.pivot(index=None, columns=None, values=None)\n",
    "   - pandas.pivot_table(data, values=None, index=None, columns=None, aggfunc='mean', fill_value=None, margins=False, dropna=True, margins_name='All')\n",
    "    \n",
    "2) groupby : 데이터를 그룹 별로 분류하는 역할\n",
    "   - DataFrame.groupby(by=None,by=None, axis=0, level=None, as_index=True, sort=True, group_keys=True, squeeze=False, observed=False, **kwargs)"
   ]
  }
 ],
 "metadata": {
  "kernelspec": {
   "display_name": "Python 3",
   "language": "python",
   "name": "python3"
  },
  "language_info": {
   "codemirror_mode": {
    "name": "ipython",
    "version": 3
   },
   "file_extension": ".py",
   "mimetype": "text/x-python",
   "name": "python",
   "nbconvert_exporter": "python",
   "pygments_lexer": "ipython3",
   "version": "3.7.3"
  }
 },
 "nbformat": 4,
 "nbformat_minor": 2
}
